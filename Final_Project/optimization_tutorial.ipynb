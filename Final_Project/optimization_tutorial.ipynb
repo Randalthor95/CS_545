{
 "cells": [
  {
   "cell_type": "code",
   "execution_count": 1,
   "metadata": {
    "collapsed": false,
    "jupyter": {
     "outputs_hidden": false
    }
   },
   "outputs": [],
   "source": [
    "%matplotlib inline"
   ]
  },
  {
   "cell_type": "markdown",
   "metadata": {},
   "source": [
    "\n",
    "`Learn the Basics <intro.html>`_ ||\n",
    "`Quickstart <quickstart_tutorial.html>`_ ||\n",
    "`Tensors <tensorqs_tutorial.html>`_ ||\n",
    "`Datasets & DataLoaders <data_tutorial.html>`_ ||\n",
    "`Transforms <transforms_tutorial.html>`_ ||\n",
    "`Build Model <buildmodel_tutorial.html>`_ ||\n",
    "`Autograd <autogradqs_tutorial.html>`_ ||\n",
    "**Optimization** ||\n",
    "`Save & Load Model <saveloadrun_tutorial.html>`_\n",
    "\n",
    "Optimizing Model Parameters\n",
    "===========================\n",
    "\n",
    "Now that we have a model and data it's time to train, validate and test our model by optimizing its parameters on\n",
    "our data. Training a model is an iterative process; in each iteration (called an *epoch*) the model makes a guess about the output, calculates\n",
    "the error in its guess (*loss*), collects the derivatives of the error with respect to its parameters (as we saw in\n",
    "the `previous section  <autograd_tutorial.html>`_), and **optimizes** these parameters using gradient descent. For a more\n",
    "detailed walkthrough of this process, check out this video on `backpropagation from 3Blue1Brown <https://www.youtube.com/watch?v=tIeHLnjs5U8>`__.\n",
    "\n",
    "Prerequisite Code\n",
    "-----------------\n",
    "We load the code from the previous sections on `Datasets & DataLoaders <data_tutorial.html>`_\n",
    "and `Build Model  <buildmodel_tutorial.html>`_.\n",
    "\n"
   ]
  },
  {
   "cell_type": "code",
   "execution_count": 2,
   "metadata": {
    "collapsed": false,
    "jupyter": {
     "outputs_hidden": false
    }
   },
   "outputs": [],
   "source": [
    "import torch\n",
    "from torch import nn\n",
    "from torch.utils.data import DataLoader\n",
    "from torchvision import datasets\n",
    "from torchvision.transforms import ToTensor, Lambda\n",
    "\n",
    "training_data = datasets.FashionMNIST(\n",
    "    root=\"data\",\n",
    "    train=True,\n",
    "    download=True,\n",
    "    transform=ToTensor()\n",
    ")\n",
    "\n",
    "test_data = datasets.FashionMNIST(\n",
    "    root=\"data\",\n",
    "    train=False,\n",
    "    download=True,\n",
    "    transform=ToTensor()\n",
    ")\n",
    "\n",
    "train_dataloader = DataLoader(training_data, batch_size=64)\n",
    "test_dataloader = DataLoader(test_data, batch_size=64)\n",
    "\n",
    "class NeuralNetwork(nn.Module):\n",
    "    def __init__(self):\n",
    "        super(NeuralNetwork, self).__init__()\n",
    "        self.flatten = nn.Flatten()\n",
    "        self.linear_relu_stack = nn.Sequential(\n",
    "            nn.Linear(28*28, 512),\n",
    "            nn.ReLU(),\n",
    "            nn.Linear(512, 512),\n",
    "            nn.ReLU(),\n",
    "            nn.Linear(512, 10),\n",
    "        )\n",
    "\n",
    "    def forward(self, x):\n",
    "        x = self.flatten(x)\n",
    "        logits = self.linear_relu_stack(x)\n",
    "        return logits\n",
    "\n",
    "model = NeuralNetwork()"
   ]
  },
  {
   "cell_type": "markdown",
   "metadata": {},
   "source": [
    "Hyperparameters\n",
    "-----------------\n",
    "\n",
    "Hyperparameters are adjustable parameters that let you control the model optimization process.\n",
    "Different hyperparameter values can impact model training and convergence rates\n",
    "(`read more <https://pytorch.org/tutorials/beginner/hyperparameter_tuning_tutorial.html>`__ about hyperparameter tuning)\n",
    "\n",
    "We define the following hyperparameters for training:\n",
    " - **Number of Epochs** - the number times to iterate over the dataset\n",
    " - **Batch Size** - the number of data samples propagated through the network before the parameters are updated\n",
    " - **Learning Rate** - how much to update models parameters at each batch/epoch. Smaller values yield slow learning speed, while large values may result in unpredictable behavior during training.\n",
    "\n",
    "\n"
   ]
  },
  {
   "cell_type": "code",
   "execution_count": 4,
   "metadata": {
    "collapsed": false,
    "jupyter": {
     "outputs_hidden": false
    }
   },
   "outputs": [],
   "source": [
    "learning_rate = 1e-3\n",
    "batch_size = 64\n",
    "epochs = 5"
   ]
  },
  {
   "cell_type": "markdown",
   "metadata": {},
   "source": [
    "Optimization Loop\n",
    "-----------------\n",
    "\n",
    "Once we set our hyperparameters, we can then train and optimize our model with an optimization loop. Each\n",
    "iteration of the optimization loop is called an **epoch**.\n",
    "\n",
    "Each epoch consists of two main parts:\n",
    " - **The Train Loop** - iterate over the training dataset and try to converge to optimal parameters.\n",
    " - **The Validation/Test Loop** - iterate over the test dataset to check if model performance is improving.\n",
    "\n",
    "Let's briefly familiarize ourselves with some of the concepts used in the training loop. Jump ahead to\n",
    "see the `full-impl-label` of the optimization loop.\n",
    "\n",
    "Loss Function\n",
    "~~~~~~~~~~~~~~~~~\n",
    "\n",
    "When presented with some training data, our untrained network is likely not to give the correct\n",
    "answer. **Loss function** measures the degree of dissimilarity of obtained result to the target value,\n",
    "and it is the loss function that we want to minimize during training. To calculate the loss we make a\n",
    "prediction using the inputs of our given data sample and compare it against the true data label value.\n",
    "\n",
    "Common loss functions include `nn.MSELoss <https://pytorch.org/docs/stable/generated/torch.nn.MSELoss.html#torch.nn.MSELoss>`_ (Mean Square Error) for regression tasks, and\n",
    "`nn.NLLLoss <https://pytorch.org/docs/stable/generated/torch.nn.NLLLoss.html#torch.nn.NLLLoss>`_ (Negative Log Likelihood) for classification.\n",
    "`nn.CrossEntropyLoss <https://pytorch.org/docs/stable/generated/torch.nn.CrossEntropyLoss.html#torch.nn.CrossEntropyLoss>`_ combines ``nn.LogSoftmax`` and ``nn.NLLLoss``.\n",
    "\n",
    "We pass our model's output logits to ``nn.CrossEntropyLoss``, which will normalize the logits and compute the prediction error.\n",
    "\n"
   ]
  },
  {
   "cell_type": "code",
   "execution_count": 5,
   "metadata": {
    "collapsed": false,
    "jupyter": {
     "outputs_hidden": false
    }
   },
   "outputs": [],
   "source": [
    "# Initialize the loss function\n",
    "loss_fn = nn.CrossEntropyLoss()"
   ]
  },
  {
   "cell_type": "markdown",
   "metadata": {},
   "source": [
    "Optimizer\n",
    "~~~~~~~~~~~~~~~~~\n",
    "\n",
    "Optimization is the process of adjusting model parameters to reduce model error in each training step. **Optimization algorithms** define how this process is performed (in this example we use Stochastic Gradient Descent).\n",
    "All optimization logic is encapsulated in  the ``optimizer`` object. Here, we use the SGD optimizer; additionally, there are many `different optimizers <https://pytorch.org/docs/stable/optim.html>`_\n",
    "available in PyTorch such as ADAM and RMSProp, that work better for different kinds of models and data.\n",
    "\n",
    "We initialize the optimizer by registering the model's parameters that need to be trained, and passing in the learning rate hyperparameter.\n",
    "\n"
   ]
  },
  {
   "cell_type": "code",
   "execution_count": 6,
   "metadata": {
    "collapsed": false,
    "jupyter": {
     "outputs_hidden": false
    }
   },
   "outputs": [],
   "source": [
    "optimizer = torch.optim.SGD(model.parameters(), lr=learning_rate)"
   ]
  },
  {
   "cell_type": "markdown",
   "metadata": {},
   "source": [
    "Inside the training loop, optimization happens in three steps:\n",
    " * Call ``optimizer.zero_grad()`` to reset the gradients of model parameters. Gradients by default add up; to prevent double-counting, we explicitly zero them at each iteration.\n",
    " * Backpropagate the prediction loss with a call to ``loss.backwards()``. PyTorch deposits the gradients of the loss w.r.t. each parameter.\n",
    " * Once we have our gradients, we call ``optimizer.step()`` to adjust the parameters by the gradients collected in the backward pass.\n",
    "\n"
   ]
  },
  {
   "cell_type": "markdown",
   "metadata": {},
   "source": [
    "\n",
    "Full Implementation\n",
    "-----------------------\n",
    "We define ``train_loop`` that loops over our optimization code, and ``test_loop`` that\n",
    "evaluates the model's performance against our test data.\n",
    "\n"
   ]
  },
  {
   "cell_type": "code",
   "execution_count": 7,
   "metadata": {
    "tags": []
   },
   "outputs": [],
   "source": [
    "def train_loop(dataloader, model, loss_fn, optimizer):\n",
    "    size = len(dataloader.dataset)\n",
    "    for batch, (X, y) in enumerate(dataloader):\n",
    "        # Compute prediction and loss\n",
    "        pred = model(X)\n",
    "        loss = loss_fn(pred, y)\n",
    "\n",
    "        # Backpropagation\n",
    "        optimizer.zero_grad()\n",
    "        loss.backward()\n",
    "        optimizer.step()\n",
    "\n",
    "        if batch % 100 == 0:\n",
    "            loss, current = loss.item(), batch * len(X)\n",
    "            print(f\"loss: {loss:>7f}  [{current:>5d}/{size:>5d}]\")\n",
    "\n",
    "\n",
    "def test_loop(dataloader, model, loss_fn):\n",
    "    size = len(dataloader.dataset)\n",
    "    num_batches = len(dataloader)\n",
    "    test_loss, correct = 0, 0\n",
    "\n",
    "    with torch.no_grad():\n",
    "        for X, y in dataloader:\n",
    "            pred = model(X)\n",
    "            test_loss += loss_fn(pred, y).item()\n",
    "            correct += (pred.argmax(1) == y).type(torch.float).sum().item()\n",
    "\n",
    "    test_loss /= num_batches\n",
    "    correct /= size\n",
    "    print(f\"Test Error: \\n Accuracy: {(100*correct):>0.1f}%, Avg loss: {test_loss:>8f} \\n\")"
   ]
  },
  {
   "cell_type": "markdown",
   "metadata": {},
   "source": [
    "We initialize the loss function and optimizer, and pass it to ``train_loop`` and ``test_loop``.\n",
    "Feel free to increase the number of epochs to track the model's improving performance.\n",
    "\n"
   ]
  },
  {
   "cell_type": "code",
   "execution_count": 8,
   "metadata": {
    "collapsed": false,
    "jupyter": {
     "outputs_hidden": false
    }
   },
   "outputs": [
    {
     "name": "stdout",
     "output_type": "stream",
     "text": [
      "Epoch 1\n",
      "-------------------------------\n",
      "loss: 2.301192  [    0/60000]\n",
      "loss: 2.291870  [ 6400/60000]\n",
      "loss: 2.267225  [12800/60000]\n",
      "loss: 2.256837  [19200/60000]\n",
      "loss: 2.247471  [25600/60000]\n",
      "loss: 2.213288  [32000/60000]\n",
      "loss: 2.220196  [38400/60000]\n",
      "loss: 2.180941  [44800/60000]\n",
      "loss: 2.181216  [51200/60000]\n",
      "loss: 2.144115  [57600/60000]\n",
      "Test Error: \n",
      " Accuracy: 39.7%, Avg loss: 2.140866 \n",
      "\n",
      "Epoch 2\n",
      "-------------------------------\n",
      "loss: 2.159224  [    0/60000]\n",
      "loss: 2.145896  [ 6400/60000]\n",
      "loss: 2.088303  [12800/60000]\n",
      "loss: 2.094687  [19200/60000]\n",
      "loss: 2.044646  [25600/60000]\n",
      "loss: 1.986732  [32000/60000]\n",
      "loss: 2.008529  [38400/60000]\n",
      "loss: 1.925996  [44800/60000]\n",
      "loss: 1.945562  [51200/60000]\n",
      "loss: 1.856763  [57600/60000]\n",
      "Test Error: \n",
      " Accuracy: 53.0%, Avg loss: 1.864538 \n",
      "\n",
      "Epoch 3\n",
      "-------------------------------\n",
      "loss: 1.909214  [    0/60000]\n",
      "loss: 1.873868  [ 6400/60000]\n",
      "loss: 1.761197  [12800/60000]\n",
      "loss: 1.792504  [19200/60000]\n",
      "loss: 1.676590  [25600/60000]\n",
      "loss: 1.644246  [32000/60000]\n",
      "loss: 1.656581  [38400/60000]\n",
      "loss: 1.557165  [44800/60000]\n",
      "loss: 1.604508  [51200/60000]\n",
      "loss: 1.482177  [57600/60000]\n",
      "Test Error: \n",
      " Accuracy: 60.1%, Avg loss: 1.505864 \n",
      "\n",
      "Epoch 4\n",
      "-------------------------------\n",
      "loss: 1.584038  [    0/60000]\n",
      "loss: 1.538984  [ 6400/60000]\n",
      "loss: 1.395604  [12800/60000]\n",
      "loss: 1.459298  [19200/60000]\n",
      "loss: 1.337822  [25600/60000]\n",
      "loss: 1.351534  [32000/60000]\n",
      "loss: 1.353846  [38400/60000]\n",
      "loss: 1.273408  [44800/60000]\n",
      "loss: 1.327677  [51200/60000]\n",
      "loss: 1.218414  [57600/60000]\n",
      "Test Error: \n",
      " Accuracy: 63.2%, Avg loss: 1.245451 \n",
      "\n",
      "Epoch 5\n",
      "-------------------------------\n",
      "loss: 1.330353  [    0/60000]\n",
      "loss: 1.299346  [ 6400/60000]\n",
      "loss: 1.140882  [12800/60000]\n",
      "loss: 1.241003  [19200/60000]\n",
      "loss: 1.118279  [25600/60000]\n",
      "loss: 1.156935  [32000/60000]\n",
      "loss: 1.164760  [38400/60000]\n",
      "loss: 1.095823  [44800/60000]\n",
      "loss: 1.152605  [51200/60000]\n",
      "loss: 1.059057  [57600/60000]\n",
      "Test Error: \n",
      " Accuracy: 64.8%, Avg loss: 1.082164 \n",
      "\n",
      "Epoch 6\n",
      "-------------------------------\n",
      "loss: 1.158190  [    0/60000]\n",
      "loss: 1.146253  [ 6400/60000]\n",
      "loss: 0.974259  [12800/60000]\n",
      "loss: 1.102944  [19200/60000]\n",
      "loss: 0.983042  [25600/60000]\n",
      "loss: 1.023719  [32000/60000]\n",
      "loss: 1.044572  [38400/60000]\n",
      "loss: 0.983421  [44800/60000]\n",
      "loss: 1.038682  [51200/60000]\n",
      "loss: 0.956421  [57600/60000]\n",
      "Test Error: \n",
      " Accuracy: 65.7%, Avg loss: 0.975943 \n",
      "\n",
      "Epoch 7\n",
      "-------------------------------\n",
      "loss: 1.038500  [    0/60000]\n",
      "loss: 1.046857  [ 6400/60000]\n",
      "loss: 0.860758  [12800/60000]\n",
      "loss: 1.010525  [19200/60000]\n",
      "loss: 0.897967  [25600/60000]\n",
      "loss: 0.929248  [32000/60000]\n",
      "loss: 0.964995  [38400/60000]\n",
      "loss: 0.911291  [44800/60000]\n",
      "loss: 0.960088  [51200/60000]\n",
      "loss: 0.887131  [57600/60000]\n",
      "Test Error: \n",
      " Accuracy: 67.3%, Avg loss: 0.903543 \n",
      "\n",
      "Epoch 8\n",
      "-------------------------------\n",
      "loss: 0.951549  [    0/60000]\n",
      "loss: 0.978590  [ 6400/60000]\n",
      "loss: 0.780102  [12800/60000]\n",
      "loss: 0.945533  [19200/60000]\n",
      "loss: 0.841475  [25600/60000]\n",
      "loss: 0.860052  [32000/60000]\n",
      "loss: 0.908962  [38400/60000]\n",
      "loss: 0.863460  [44800/60000]\n",
      "loss: 0.903704  [51200/60000]\n",
      "loss: 0.837644  [57600/60000]\n",
      "Test Error: \n",
      " Accuracy: 68.3%, Avg loss: 0.851531 \n",
      "\n",
      "Epoch 9\n",
      "-------------------------------\n",
      "loss: 0.885377  [    0/60000]\n",
      "loss: 0.928161  [ 6400/60000]\n",
      "loss: 0.720007  [12800/60000]\n",
      "loss: 0.897853  [19200/60000]\n",
      "loss: 0.801243  [25600/60000]\n",
      "loss: 0.808048  [32000/60000]\n",
      "loss: 0.866757  [38400/60000]\n",
      "loss: 0.830226  [44800/60000]\n",
      "loss: 0.861311  [51200/60000]\n",
      "loss: 0.800225  [57600/60000]\n",
      "Test Error: \n",
      " Accuracy: 69.5%, Avg loss: 0.812212 \n",
      "\n",
      "Epoch 10\n",
      "-------------------------------\n",
      "loss: 0.832828  [    0/60000]\n",
      "loss: 0.888343  [ 6400/60000]\n",
      "loss: 0.673242  [12800/60000]\n",
      "loss: 0.861571  [19200/60000]\n",
      "loss: 0.770642  [25600/60000]\n",
      "loss: 0.768046  [32000/60000]\n",
      "loss: 0.832998  [38400/60000]\n",
      "loss: 0.805877  [44800/60000]\n",
      "loss: 0.828057  [51200/60000]\n",
      "loss: 0.770761  [57600/60000]\n",
      "Test Error: \n",
      " Accuracy: 71.1%, Avg loss: 0.781032 \n",
      "\n",
      "Done!\n"
     ]
    }
   ],
   "source": [
    "loss_fn = nn.CrossEntropyLoss()\n",
    "optimizer = torch.optim.SGD(model.parameters(), lr=learning_rate)\n",
    "\n",
    "epochs = 10\n",
    "for t in range(epochs):\n",
    "    print(f\"Epoch {t+1}\\n-------------------------------\")\n",
    "    train_loop(train_dataloader, model, loss_fn, optimizer)\n",
    "    test_loop(test_dataloader, model, loss_fn)\n",
    "print(\"Done!\")"
   ]
  },
  {
   "cell_type": "markdown",
   "metadata": {},
   "source": [
    "Further Reading\n",
    "-----------------------\n",
    "- `Loss Functions <https://pytorch.org/docs/stable/nn.html#loss-functions>`_\n",
    "- `torch.optim <https://pytorch.org/docs/stable/optim.html>`_\n",
    "- `Warmstart Training a Model <https://pytorch.org/tutorials/recipes/recipes/warmstarting_model_using_parameters_from_a_different_model.html>`_\n",
    "\n",
    "\n"
   ]
  }
 ],
 "metadata": {
  "kernelspec": {
   "display_name": "fp",
   "language": "python",
   "name": "fp"
  },
  "language_info": {
   "codemirror_mode": {
    "name": "ipython",
    "version": 3
   },
   "file_extension": ".py",
   "mimetype": "text/x-python",
   "name": "python",
   "nbconvert_exporter": "python",
   "pygments_lexer": "ipython3",
   "version": "3.9.7"
  }
 },
 "nbformat": 4,
 "nbformat_minor": 4
}
