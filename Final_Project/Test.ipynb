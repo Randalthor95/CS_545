{
 "cells": [
  {
   "cell_type": "code",
   "execution_count": 2,
   "id": "ff227eb5-aa75-43cc-a156-01f052299576",
   "metadata": {},
   "outputs": [],
   "source": [
    "%matplotlib inline"
   ]
  },
  {
   "cell_type": "code",
   "execution_count": 3,
   "id": "10659f7f-3867-4987-a15e-f9188774ac63",
   "metadata": {},
   "outputs": [],
   "source": [
    "import torch\n",
    "import os\n",
    "from torch.utils.data import Dataset\n",
    "from torchvision import datasets, transforms\n",
    "from torchvision.transforms import ToTensor\n",
    "from torch import nn\n",
    "from torch.utils.data import DataLoader\n",
    "import matplotlib.pyplot as plt\n",
    "import pandas as pd\n",
    "import numpy as np\n",
    "import finalprojectneuralnetworks as fpnn\n",
    "import csv\n",
    "import time"
   ]
  },
  {
   "cell_type": "code",
   "execution_count": 4,
   "id": "4db8f1e0-4c84-4ad5-907c-08eb6235def6",
   "metadata": {},
   "outputs": [],
   "source": [
    "n = 5  # number of samples/batch size\n",
    "l = 5  # sentence len\n",
    "d = 3  # embedding dimension\n",
    "rand_arr = torch.rand(n, l, d)"
   ]
  },
  {
   "cell_type": "code",
   "execution_count": 20,
   "id": "244cf131-3622-45b1-b7a6-56bdc90ebc48",
   "metadata": {},
   "outputs": [
    {
     "name": "stdout",
     "output_type": "stream",
     "text": [
      "Conv1d(14, 1, kernel_size=(3,), stride=(1,))\n",
      "tensor([[[ 0.2434,  0.6700, -1.5260, -1.3552,  2.4210,  2.4489],\n",
      "         [ 1.0339, -1.0488,  0.7828,  0.1098, -0.0363, -0.9292],\n",
      "         [ 0.3242,  2.1173, -0.3560,  0.4761,  0.7926,  0.2639],\n",
      "         [ 0.6318,  0.2998, -0.2186, -0.0905, -1.1615,  0.5274],\n",
      "         [ 0.2178,  0.9863, -0.5302,  0.6395, -0.7568,  2.3764],\n",
      "         [-0.8403,  0.5006, -0.4381, -1.3179, -0.8031, -0.1904],\n",
      "         [-0.2018,  0.4241, -0.7361,  1.3735, -0.3006, -0.4835],\n",
      "         [ 0.6823, -0.1138,  2.0399, -0.0825,  1.0852,  1.1199],\n",
      "         [ 0.1147, -1.0152,  0.2094,  0.7352, -0.8724,  2.1491],\n",
      "         [ 0.1408, -0.7772, -0.2995, -2.8030, -0.9285,  1.0446],\n",
      "         [ 1.4547, -1.9193,  1.4620, -1.7156,  0.1719, -1.4470],\n",
      "         [ 0.0739,  0.8648,  0.5493, -0.4098, -0.0687, -0.9357],\n",
      "         [-1.3554, -0.1672, -0.9019,  0.0776, -1.0804, -1.0511],\n",
      "         [-0.9489,  0.0374,  0.5131, -1.2114, -0.6684,  0.3062]]])\n",
      "tensor([[[-0.1131, -1.3296, -0.3818,  0.9713]]], grad_fn=<SqueezeBackward1>)\n"
     ]
    }
   ],
   "source": [
    "m = nn.Conv1d(14, 1, 3, stride=1, padding=0)\n",
    "print(m)\n",
    "input = torch.randn(6, 14).T\n",
    "input = input.unsqueeze(0)\n",
    "print(input)\n",
    "output = m(input)\n",
    "print(output)"
   ]
  },
  {
   "cell_type": "code",
   "execution_count": 28,
   "id": "e3bc407d-ce1c-43e2-bc4c-45c84c38c2a3",
   "metadata": {},
   "outputs": [
    {
     "name": "stdout",
     "output_type": "stream",
     "text": [
      "       AF3       F7       F3      FC5       T7       P7      O1       O2  \\\n",
      "0  4309.74  4052.82  4285.13  4155.38  4369.23  4646.67  4100.0  4649.74   \n",
      "\n",
      "        P8       T8      FC6       F4       F8      AF4  eyeDetection  \n",
      "0  4221.54  4230.26  4206.15  4292.82  4598.97  4362.56             0  \n",
      "\n",
      "size:  15\n",
      "           AF3       F7       F3      FC5       T7       P7       O1       O2  \\\n",
      "0      4309.74  4052.82  4285.13  4155.38  4369.23  4646.67  4100.00  4649.74   \n",
      "1      4313.33  4015.38  4269.74  4119.49  4323.59  4604.10  4052.82  4616.92   \n",
      "2      4310.77  4019.49  4266.67  4120.00  4355.38  4609.23  4058.46  4613.85   \n",
      "3      4327.69  4022.56  4280.51  4135.90  4352.82  4616.92  4076.41  4640.00   \n",
      "4      4297.95  3998.97  4252.31  4123.59  4350.77  4628.72  4056.92  4609.74   \n",
      "...        ...      ...      ...      ...      ...      ...      ...      ...   \n",
      "11979  4277.44  3992.82  4250.26  4117.44  4334.87  4620.51  4072.31  4613.85   \n",
      "11980  4267.18  4012.31  4247.69  4123.08  4343.59  4617.95  4056.41  4583.59   \n",
      "11981  4340.00  3976.41  4270.77  4131.79  4318.97  4614.87  4080.00  4607.69   \n",
      "11982  4278.97  3992.31  4250.26  4113.33  4329.23  4615.38  4076.92  4622.05   \n",
      "11983  4270.26  4002.56  4245.64  4117.95  4356.92  4624.62  4069.23  4608.72   \n",
      "\n",
      "            P8       T8      FC6       F4       F8      AF4  eyeDetection  \n",
      "0      4221.54  4230.26  4206.15  4292.82  4598.97  4362.56             0  \n",
      "1      4196.41  4231.79  4203.08  4289.74  4609.74  4385.64             0  \n",
      "2      4183.08  4235.38  4208.21  4288.72  4616.92  4381.54             1  \n",
      "3      4224.62  4253.33  4215.90  4297.44  4623.08  4389.74             1  \n",
      "4      4203.59  4231.28  4208.21  4265.13  4592.82  4346.67             0  \n",
      "...        ...      ...      ...      ...      ...      ...           ...  \n",
      "11979  4187.18  4217.95  4190.26  4271.28  4574.87  4348.72             0  \n",
      "11980  4178.97  4223.08  4180.51  4260.00  4585.64  4326.67             0  \n",
      "11981  4191.79  4224.62  4172.31  4289.74  4620.00  4402.56             1  \n",
      "11982  4204.10  4220.51  4191.79  4273.33  4576.92  4316.41             0  \n",
      "11983  4195.90  4228.72  4192.31  4254.87  4592.82  4327.69             0  \n",
      "\n",
      "[11984 rows x 15 columns]\n"
     ]
    }
   ],
   "source": [
    "root_dir = \"D:\\College\\CS_545\\Final_Project\"\n",
    "# root_directory = \"/s/chopin/l/grad/acf003/CS_545\"\n",
    "\n",
    "csv_file = \"EEG_Eye_State_Train.csv\"\n",
    "\n",
    "labels = pd.read_csv(os.path.join(root_dir, csv_file), delimiter=\",\", nrows=1)\n",
    "print(labels)\n",
    "print()\n",
    "print('size: ', labels.size)\n",
    "\n",
    "eeg_data = pd.read_csv(\n",
    "    os.path.join(root_dir, csv_file), delimiter=\",\", usecols=range(labels.size)\n",
    ")\n",
    "print(eeg_data)"
   ]
  },
  {
   "cell_type": "code",
   "execution_count": null,
   "id": "03fdd98d-f67c-4907-8171-a0f882b271f2",
   "metadata": {},
   "outputs": [],
   "source": []
  }
 ],
 "metadata": {
  "kernelspec": {
   "display_name": "fp",
   "language": "python",
   "name": "fp"
  },
  "language_info": {
   "codemirror_mode": {
    "name": "ipython",
    "version": 3
   },
   "file_extension": ".py",
   "mimetype": "text/x-python",
   "name": "python",
   "nbconvert_exporter": "python",
   "pygments_lexer": "ipython3",
   "version": "3.9.7"
  }
 },
 "nbformat": 4,
 "nbformat_minor": 5
}
