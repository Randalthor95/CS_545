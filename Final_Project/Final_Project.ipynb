{
 "cells": [
  {
   "cell_type": "code",
   "execution_count": 1,
   "id": "4833c0e9-8ae8-465b-85e1-199b2fde95e8",
   "metadata": {},
   "outputs": [],
   "source": [
    "%matplotlib inline"
   ]
  },
  {
   "cell_type": "code",
   "execution_count": 2,
   "id": "06380f89-5ed1-4bdb-88aa-6e40752cd429",
   "metadata": {},
   "outputs": [],
   "source": [
    "import torch\n",
    "import os\n",
    "from torch.utils.data import Dataset\n",
    "from torchvision import datasets, transforms\n",
    "from torchvision.transforms import ToTensor\n",
    "from torch import nn\n",
    "from torch.utils.data import DataLoader\n",
    "import matplotlib.pyplot as plt\n",
    "import pandas as pd\n",
    "import numpy as np\n",
    "import finalprojectneuralnetworks as fpnn\n",
    "import csv"
   ]
  },
  {
   "cell_type": "code",
   "execution_count": 3,
   "id": "15cb17fd-ffc7-4d37-ac25-3aae79c663ba",
   "metadata": {},
   "outputs": [],
   "source": [
    "# root_directory = 'D:\\College\\CS_545\\Final_Project'\n",
    "# fp_csv_file = 'EEG_Eye_State.csv'\n",
    "# train_fraction = 0.8\n",
    "# validate_fraction = 0.1\n",
    "# X = pd.read_csv(os.path.join(root_directory,fp_csv_file), delimiter=',', usecols=range(15)).dropna(axis=0).to_numpy()\n",
    "# n_samples = X.shape[0]\n",
    "# rows = np.arange(n_samples)\n",
    "# np.random.shuffle(rows)\n",
    "\n",
    "# n_train = round(n_samples * train_fraction)\n",
    "# n_validate = round(n_samples * validate_fraction)\n",
    "\n",
    "# col_labels = [\"AF3\",\"F7\",\"F3\",\"FC5\",\"T7\",\"P7\",\"O1\",\"O2\",\"P8\",\"T8\",\"FC6\",\"F4\",\"F8\",\"AF4\",\"eyeDetection\"]\n",
    "# Xtrain = X[rows[:n_train], :]\n",
    "# Xvalidate = X[rows[n_train:n_train + n_validate], :]\n",
    "# Xtest = X[rows[n_train + n_validate:], :]\n",
    "# Xtrain = pd.DataFrame(Xtrain, columns = col_labels)\n",
    "# Xvalidate = pd.DataFrame(Xvalidate, columns = col_labels)\n",
    "# Xtest = pd.DataFrame(Xtest, columns = col_labels)\n",
    "# Xtrain = Xtrain.astype({\"eyeDetection\": int})\n",
    "# Xvalidate = Xvalidate.astype({\"eyeDetection\": int})\n",
    "# Xtest = Xtest.astype({\"eyeDetection\": int})\n",
    "# print(Xtrain.iloc[0])\n",
    "# print( type(X))\n",
    "# Xtrain.to_csv(\"EEG_Eye_State_Train.csv\", encoding='utf-8', index_label=False, index=False, quoting=csv.QUOTE_NONNUMERIC )\n",
    "# Xvalidate.to_csv(\"EEG_Eye_State_Validate.csv\", encoding='utf-8', index_label=False, index=False, quoting=csv.QUOTE_NONNUMERIC )\n",
    "# Xtest.to_csv(\"EEG_Eye_State_Test.csv\", encoding='utf-8', index_label=False, index=False, quoting=csv.QUOTE_NONNUMERIC )"
   ]
  },
  {
   "cell_type": "code",
   "execution_count": 4,
   "id": "d7cd30c5-198b-40d2-9aec-530ad16176c8",
   "metadata": {},
   "outputs": [
    {
     "name": "stdout",
     "output_type": "stream",
     "text": [
      "AF3             4309.74\n",
      "F7              4052.82\n",
      "F3              4285.13\n",
      "FC5             4155.38\n",
      "T7              4369.23\n",
      "P7              4646.67\n",
      "O1              4100.00\n",
      "O2              4649.74\n",
      "P8              4221.54\n",
      "T8              4230.26\n",
      "FC6             4206.15\n",
      "F4              4292.82\n",
      "F8              4598.97\n",
      "AF4             4362.56\n",
      "eyeDetection       0.00\n",
      "Name: 0, dtype: float64\n",
      "0\n",
      "[[4309.74 4052.82 4285.13 4155.38 4369.23 4646.67 4100.   4649.74 4221.54\n",
      "  4230.26 4206.15 4292.82 4598.97 4362.56]]\n"
     ]
    },
    {
     "data": {
      "text/plain": [
       "(11984, 15)"
      ]
     },
     "execution_count": 4,
     "metadata": {},
     "output_type": "execute_result"
    }
   ],
   "source": [
    "\n",
    "\n",
    "root_directory = 'D:\\College\\CS_545\\Final_Project'\n",
    "fp_csv_file = 'EEG_Eye_State_Train.csv'\n",
    "eeg_data = pd.read_csv(os.path.join(root_directory,fp_csv_file), delimiter=',', usecols=range(15)).dropna(axis=0)\n",
    "\n",
    "print(eeg_data.iloc[0, :])\n",
    "open_or_closed = eeg_data.iloc[0, 14]\n",
    "channel_data = eeg_data.iloc[0, 0:14]\n",
    "channel_data = np.array([channel_data])\n",
    "channel_data = channel_data.astype('float').reshape(-1, 14)\n",
    "print(open_or_closed)\n",
    "print(channel_data)\n",
    "eeg_data.shape"
   ]
  },
  {
   "cell_type": "code",
   "execution_count": 5,
   "id": "119f4621-52e5-4ddf-a93e-f4a4c2f024a0",
   "metadata": {},
   "outputs": [
    {
     "name": "stdout",
     "output_type": "stream",
     "text": [
      "11984\n"
     ]
    },
    {
     "data": {
      "text/plain": [
       "{'open_or_closed': 0,\n",
       " 'channel_data': array([[4309.74, 4052.82, 4285.13, 4155.38, 4369.23, 4646.67, 4100.  ,\n",
       "         4649.74, 4221.54, 4230.26, 4206.15, 4292.82, 4598.97, 4362.56]])}"
      ]
     },
     "execution_count": 5,
     "metadata": {},
     "output_type": "execute_result"
    }
   ],
   "source": [
    "dataset =  fpnn.FinalProjectEEGDataset(fp_csv_file, root_directory)\n",
    "print(dataset.__len__())\n",
    "dataset.__getitem__(0)"
   ]
  },
  {
   "cell_type": "code",
   "execution_count": 6,
   "id": "7ed06399-df32-4408-9a99-48363f8f47f3",
   "metadata": {},
   "outputs": [
    {
     "name": "stdout",
     "output_type": "stream",
     "text": [
      "Using cpu device\n"
     ]
    }
   ],
   "source": [
    "device = 'cuda' if torch.cuda.is_available() else 'cpu'\n",
    "print('Using {} device'.format(device))"
   ]
  },
  {
   "cell_type": "code",
   "execution_count": 9,
   "id": "70548b27-d691-4a00-9a64-f8a00c3d417b",
   "metadata": {},
   "outputs": [
    {
     "name": "stdout",
     "output_type": "stream",
     "text": [
      "i == 0\n",
      "NeuralNetwork(\n",
      "  (flatten): Flatten(start_dim=1, end_dim=-1)\n",
      "  (linear_relu_stack): Sequential(\n",
      "    (Linear0): Linear(in_features=784, out_features=512, bias=True)\n",
      "    (ReLU0): ReLU()\n",
      "    (Linear1): Linear(in_features=512, out_features=512, bias=True)\n",
      "    (ReLU1): ReLU()\n",
      "    (Linear2): Linear(in_features=512, out_features=10, bias=True)\n",
      "  )\n",
      ")\n"
     ]
    }
   ],
   "source": [
    "model = fpnn.NeuralNetwork(28*28, [512, 512], 10).to(device)\n",
    "print(model)"
   ]
  },
  {
   "cell_type": "code",
   "execution_count": 13,
   "id": "df4c8acd-6d44-415a-8612-31dcd11de2ab",
   "metadata": {},
   "outputs": [
    {
     "name": "stdout",
     "output_type": "stream",
     "text": [
      "tensor([[-0.0176, -0.0112, -0.0960,  0.0021,  0.0300, -0.1167,  0.0058, -0.0881,\n",
      "         -0.0791,  0.1758]], grad_fn=<AddmmBackward>)\n",
      "Predicted class: tensor([9])\n"
     ]
    }
   ],
   "source": [
    "X = torch.rand(1, 28, 28, device=device)\n",
    "logits = model(X)\n",
    "print(logits)\n",
    "pred_probab = nn.Softmax(dim=1)(logits)\n",
    "y_pred = pred_probab.argmax(1)\n",
    "print(f\"Predicted class: {y_pred}\")"
   ]
  },
  {
   "cell_type": "code",
   "execution_count": null,
   "id": "444d5625-18b2-4d05-ac0e-707e36e86feb",
   "metadata": {},
   "outputs": [],
   "source": []
  }
 ],
 "metadata": {
  "kernelspec": {
   "display_name": "fp",
   "language": "python",
   "name": "fp"
  },
  "language_info": {
   "codemirror_mode": {
    "name": "ipython",
    "version": 3
   },
   "file_extension": ".py",
   "mimetype": "text/x-python",
   "name": "python",
   "nbconvert_exporter": "python",
   "pygments_lexer": "ipython3",
   "version": "3.9.7"
  }
 },
 "nbformat": 4,
 "nbformat_minor": 5
}
