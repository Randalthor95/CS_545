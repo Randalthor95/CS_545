{
 "cells": [
  {
   "cell_type": "markdown",
   "metadata": {},
   "source": [
    "# Quiz 1: CS545 Fall 2021"
   ]
  },
  {
   "cell_type": "markdown",
   "metadata": {},
   "source": [
    "### Type your name here:    Anthony (Tony) Feudale"
   ]
  },
  {
   "cell_type": "markdown",
   "metadata": {
    "ExecuteTime": {
     "end_time": "2021-07-15T21:27:55.545924Z",
     "start_time": "2021-07-15T21:27:55.531888Z"
    }
   },
   "source": [
    "Type the AI and Machine Learning course names or numbers that you have taken and the semester and year.  Format them as a bulleted list, as shown. if you have taken relevant courses at other colleges, describe them here.\n",
    "\n",
    "For example:\n",
    "\n",
    "* CDS-341, Fall 2016, Machine Learn & Data Analyt. I from Lebanon Valley College (Concepts and practice in extracting knowledge from data.  Use data to train a model to predict, to classify, and to discover associations. Performance metrics are used to assess a model, and to construct better models. Primarily in R.\n",
    "* CDS-500, Spring 2017, Independent Study on AI from Lebanon Valley College. Basics of AI following Artificial Intelligence: A Modern Approach by Stuart J. Russell and Peter Norvig. Coursework in C++"
   ]
  },
  {
   "cell_type": "markdown",
   "metadata": {},
   "source": [
    "Have you used jupyter notebooks before? If yes, please briefly describe what you used them for.\n",
    "\n",
    "    Yes. Primarily for school work. I have used them at work occasionally too for training purposes. I also attended JupyterCon a few years ago in NYC."
   ]
  },
  {
   "cell_type": "markdown",
   "metadata": {},
   "source": [
    "Which editor do you like to use for writing python code?\n",
    "\n",
    "   I like PyCharm, JetBrains rules."
   ]
  },
  {
   "cell_type": "markdown",
   "metadata": {},
   "source": [
    "Edit the following list by deleting python packages that you have not used. Add others with which you are familiar.\n",
    "* numpy\n",
    "* matplotlib\n",
    "* scipy\n",
    "* simpy\n",
    "* random"
   ]
  },
  {
   "cell_type": "markdown",
   "metadata": {},
   "source": [
    "Complete the following Latex expressions for the derivatives of functions $g$, $h$, and $k$ with respect to $x$.\n",
    "\n",
    "$$\n",
    "\\DeclareMathOperator{\\sech}{sech}\n",
    "\\begin{align*}\n",
    "f(x) &= x^2  \\\\\n",
    "\\frac{\\partial f(x)}{\\partial x} &= 2x \\\\\n",
    "~ \\\\\n",
    "g(x) &= \\frac{1}{1 + e^{-ax}}\\\\\n",
    "\\frac{\\partial g(x)}{\\partial x} &= \\frac{ae^{-ax}}{(e^{-ax} + 1)^2} \\\\\n",
    "~ \\\\\n",
    "h(x) &= \\tanh(42 x)\\\\\n",
    "\\frac{\\partial h(x)}{\\partial x} &= 42\\sech^2(42x) \\\\\n",
    "~ \\\\\n",
    "k(x) &= (t - \\tanh(z x))^2\\\\\n",
    "\\frac{\\partial k(x)}{\\partial x} &= -2z\\sech^2(zx)(t-\\tanh(zx))\n",
    "\\end{align*}\n",
    "$$\n",
    "\n",
    "\n"
   ]
  },
  {
   "cell_type": "markdown",
   "metadata": {},
   "source": [
    "Add a code cell and in it type python statements to define the two matrices, $A$ and $B$, as `numpy` arrays, print them, and print their shapes.\n",
    "\n",
    "$$ A = \\begin{bmatrix} 1 & 2 & 3\\\\ 4 & 5 & 6 \\end{bmatrix} \\;\\;\\; \\text{ and } \\;\\;\\; B = \\begin{bmatrix} 10 & 20 \\\\ 30 & 40 \\\\ 50 & 60 \\end{bmatrix} $$"
   ]
  },
  {
   "cell_type": "code",
   "execution_count": 8,
   "metadata": {},
   "outputs": [
    {
     "name": "stdout",
     "output_type": "stream",
     "text": [
      "Array A: \n",
      " [[1 2 3]\n",
      " [4 5 6]]\n",
      "Shape of A: \n",
      " (2, 3) \n",
      "\n",
      "Array B: \n",
      " [[10 20]\n",
      " [30 40]\n",
      " [50 60]]\n",
      "Shape of B: \n",
      " (3, 2) \n",
      "\n"
     ]
    }
   ],
   "source": [
    "import numpy as np\n",
    "\n",
    "A = np.array([[1,2,3], [4,5,6]])\n",
    "B = np.array([[10,20], [30,40], [50,60]])\n",
    "\n",
    "print('Array A:','\\n',A)\n",
    "print('Shape of A:','\\n',A.shape, '\\n')\n",
    "print('Array B:','\\n',B)\n",
    "print('Shape of B:','\\n',B.shape, '\\n')"
   ]
  },
  {
   "cell_type": "markdown",
   "metadata": {},
   "source": [
    "Add another code cell here and write python statements to multiply $A$ and $B$ and print the answer. "
   ]
  },
  {
   "cell_type": "code",
   "execution_count": 9,
   "metadata": {},
   "outputs": [
    {
     "name": "stdout",
     "output_type": "stream",
     "text": [
      "[[220 280]\n",
      " [490 640]]\n"
     ]
    }
   ],
   "source": [
    "print(A@B)"
   ]
  },
  {
   "cell_type": "markdown",
   "metadata": {},
   "source": [
    "Add a code cell and write python statements that show\n",
    "$$ (A B)^T = B^T A^T$$"
   ]
  },
  {
   "cell_type": "code",
   "execution_count": 16,
   "metadata": {},
   "outputs": [
    {
     "name": "stdout",
     "output_type": "stream",
     "text": [
      "(AB)^T\n",
      "[[220 490]\n",
      " [280 640]]\n",
      "\n",
      "B^T * A^T\n",
      "[[220 490]\n",
      " [280 640]]\n"
     ]
    }
   ],
   "source": [
    "print('(AB)^T')\n",
    "print(np.transpose(A@B))\n",
    "print()\n",
    "print('B^T * A^T')\n",
    "print(np.transpose(B)@np.transpose(A))"
   ]
  },
  {
   "cell_type": "markdown",
   "metadata": {},
   "source": [
    "In another code cell, define a numpy array in variable $x$ of 20 values equally spaced from $-10$ to 10 using `np.linspace`.  Then plot $\\tanh(x)$ versus $x$ using the `matplotlib` package."
   ]
  },
  {
   "cell_type": "code",
   "execution_count": 26,
   "metadata": {},
   "outputs": [
    {
     "data": {
      "text/plain": [
       "<matplotlib.legend.Legend at 0x1542d168970>"
      ]
     },
     "execution_count": 26,
     "metadata": {},
     "output_type": "execute_result"
    },
    {
     "data": {
      "image/png": "[encoded data removed]",
      "text/plain": [
       "<Figure size 432x288 with 1 Axes>"
      ]
     },
     "metadata": {
      "needs_background": "light"
     },
     "output_type": "display_data"
    }
   ],
   "source": [
    "import matplotlib.pyplot as plt\n",
    "x = np.linspace(-10, 10, 20)\n",
    "\n",
    "plt.plot(x, label='x')\n",
    "plt.plot(np.tanh(x), label='tanh(x)')\n",
    "plt.legend()"
   ]
  },
  {
   "cell_type": "markdown",
   "metadata": {},
   "source": [
    "The following code cell defines a list of integers.  Write one line of python that uses a list comprehension to square each value of the original list."
   ]
  },
  {
   "cell_type": "code",
   "execution_count": 28,
   "metadata": {},
   "outputs": [
    {
     "data": {
      "text/plain": [
       "([1, 5, 15, 3, -42], [1, 25, 225, 9, 1764])"
      ]
     },
     "execution_count": 28,
     "metadata": {},
     "output_type": "execute_result"
    }
   ],
   "source": [
    "x = [1, 5, 15, 3, -42]\n",
    "x_squared = [y**2 for y in x]\n",
    "x, x_squared"
   ]
  },
  {
   "cell_type": "markdown",
   "metadata": {},
   "source": [
    "In another code cell, use `np.stack` and the transpose operator to combine `x` and `x_squared` into one `numpy` array of two columns with the first value in each row from `x` and the second value in the same row the value of `x` squared. Display the result."
   ]
  },
  {
   "cell_type": "code",
   "execution_count": 41,
   "metadata": {},
   "outputs": [
    {
     "name": "stdout",
     "output_type": "stream",
     "text": [
      "[[   1    1]\n",
      " [   5   25]\n",
      " [  15  225]\n",
      " [   3    9]\n",
      " [ -42 1764]]\n"
     ]
    }
   ],
   "source": [
    "stack = np.transpose(np.stack((x, x_squared)))\n",
    "print(stack)"
   ]
  },
  {
   "cell_type": "markdown",
   "metadata": {},
   "source": [
    "In another code cell, make a plot of `x_squared` values versus `x` values, using the 'o' style."
   ]
  },
  {
   "cell_type": "code",
   "execution_count": 48,
   "metadata": {},
   "outputs": [
    {
     "data": {
      "text/plain": [
       "Text(0, 0.5, 'x_squared')"
      ]
     },
     "execution_count": 48,
     "metadata": {},
     "output_type": "execute_result"
    },
    {
     "data": {
      "image/png": "[encoded data removed]",
      "text/plain": [
       "<Figure size 432x288 with 1 Axes>"
      ]
     },
     "metadata": {
      "needs_background": "light"
     },
     "output_type": "display_data"
    }
   ],
   "source": [
    "# plt.plot(x, 'o', label='x')\n",
    "# plt.plot(x_squared, 'o', label='x_quared')\n",
    "# plt.legend()\n",
    "plt.plot(x, x_squared, 'o')\n",
    "plt.xlabel('x')\n",
    "plt.ylabel('x_squared')"
   ]
  },
  {
   "cell_type": "markdown",
   "metadata": {},
   "source": [
    "How many hours did it take you to complete this quiz?  \n",
    "\n",
    "1.5 hours"
   ]
  },
  {
   "cell_type": "markdown",
   "metadata": {},
   "source": [
    "**When you are done, save this notebook and submit it through our course Canvas webpage.**"
   ]
  }
 ],
 "metadata": {
  "kernelspec": {
   "display_name": "ml",
   "language": "python",
   "name": "ml"
  },
  "language_info": {
   "codemirror_mode": {
    "name": "ipython",
    "version": 3
   },
   "file_extension": ".py",
   "mimetype": "text/x-python",
   "name": "python",
   "nbconvert_exporter": "python",
   "pygments_lexer": "ipython3",
   "version": "3.9.6"
  },
  "toc": {
   "base_numbering": 1,
   "nav_menu": {},
   "number_sections": false,
   "sideBar": true,
   "skip_h1_title": false,
   "title_cell": "Table of Contents",
   "title_sidebar": "Contents",
   "toc_cell": false,
   "toc_position": {},
   "toc_section_display": true,
   "toc_window_display": true
  }
 },
 "nbformat": 4,
 "nbformat_minor": 4
}
