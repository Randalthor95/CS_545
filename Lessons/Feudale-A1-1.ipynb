{
 "cells": [
  {
   "cell_type": "markdown",
   "metadata": {},
   "source": [
    "# A1: Three-Layer Neural Network"
   ]
  },
  {
   "cell_type": "markdown",
   "metadata": {
    "toc": true
   },
   "source": [
    "<h1>Table of Contents<span class=\"tocSkip\"></span></h1>\n",
    "<div class=\"toc\"><ul class=\"toc-item\"><li><span><a href=\"#Requirements\" data-toc-modified-id=\"Requirements-1\">Requirements</a></span></li><li><span><a href=\"#Example-Results\" data-toc-modified-id=\"Example-Results-2\">Example Results</a></span></li><li><span><a href=\"#Discussion\" data-toc-modified-id=\"Discussion-3\">Discussion</a></span></li></ul></div>"
   ]
  },
  {
   "cell_type": "markdown",
   "metadata": {},
   "source": [
    "## Requirements"
   ]
  },
  {
   "cell_type": "markdown",
   "metadata": {},
   "source": [
    "In this assignment, you will start with code from lecture notes 04 and add code to do the following.\n",
    "\n",
    "* Add another hidden layer, for a total of two hidden layers.  This layer will use a weight matrix named `U`.  Its outputs will be named `Zu` and the outputs of the second hidden layer will be changed to `Zv`.\n",
    "* Define function `forward` that returns the output of all of the layers in the neural network for all samples in `X`. `X` is assumed to be standardized and have the initial column of constant 1 values.\n",
    "\n",
    "      def forward(X, U, V, W):\n",
    "          .\n",
    "          .\n",
    "          .\n",
    "          Y = . . . # output of neural network for all rows in X\n",
    "          return Zu, Zv, Y\n",
    "      \n",
    "* Define function `gradient` that returns the gradients of the mean squared error with respect to each of the three weight matrices. `X` and `T` are assumed to be standardized and `X` has the initial column of 1's.\n",
    "\n",
    "      def gradient(X, T, Zu, Zv, Y, U, V, W):\n",
    "          .\n",
    "          .\n",
    "          .\n",
    "          return grad_wrt_U, grad_wrt_V, grad_wrt_W\n",
    "          \n",
    "* Define function `train` that returns the resulting values of `U`, `V`, and `W` and the standardization parameters.  Arguments are unstandardized `X` and `T`, the number of units in the two hidden layers, the number of epochs and the learning rate, which is the same value for all layers. This function standardizes `X` and `T`, initializes `U`, `V` and `W` to uniformly distributed random values between -1 and 1, and `U`, `V` and `W` for `n_epochs` times as shown in lecture notes 04.  This function must call `forward`, `gradient` and `addOnes`.\n",
    "\n",
    "      def train(X, T, n_units_U, n_units_V, n_epochs, rho):\n",
    "          .\n",
    "          .\n",
    "          .\n",
    "          return U, V, W, X_means, X_stds, T_means, T_stds\n",
    "          \n",
    "* Define function `use` that accepts unstandardized `X`, standardization parameters, and weight matrices `U`, `V`, and `W` and returns the unstandardized output.\n",
    "\n",
    "      def use(X, X_means, X_stds, T_means, T_stds, U, V, W):\n",
    "          .\n",
    "          .\n",
    "          .\n",
    "          Y = ....\n",
    "          return Y"
   ]
  },
  {
   "cell_type": "markdown",
   "metadata": {},
   "source": [
    "## Example Results"
   ]
  },
  {
   "cell_type": "code",
   "execution_count": 1,
   "metadata": {},
   "outputs": [],
   "source": [
    "import numpy as np\n",
    "import matplotlib.pyplot as plt\n",
    "%matplotlib inline\n",
    "\n",
    "def addOnes(X):\n",
    "    return np.insert(X, 0, 1, axis=1)\n",
    "\n",
    "def rmse(T, Y, Tstds):\n",
    "    error = (T - Y) * Tstds \n",
    "    return np.sqrt(np.mean(error ** 2))"
   ]
  },
  {
   "cell_type": "markdown",
   "metadata": {},
   "source": [
    "Add code cells here to define the functions above.  Once these are correctly defined, the following cells should run and produce similar results as those here."
   ]
  },
  {
   "cell_type": "code",
   "execution_count": 2,
   "metadata": {},
   "outputs": [],
   "source": [
    "def forward(X, U, V, W):\n",
    "    #TODO X -> U -> Zu -> V -> Zv -> W -> Y\n",
    "    Zu = np.tanh(X @ U)\n",
    "    Zu1 = addOnes(Zu)\n",
    "    Zv = np.tanh(Zu1 @ V)\n",
    "    Zv1 = addOnes(Zv)\n",
    "    Y = Zv1 @ W\n",
    "    return Zu, Zv, Y"
   ]
  },
  {
   "cell_type": "code",
   "execution_count": 3,
   "metadata": {},
   "outputs": [],
   "source": [
    "def gradient(X, T, Zu, Zv, Y, U, V, W):\n",
    "    #TODO\n",
    "    Dw = T - Y\n",
    "    Dv = Dw @ W[1:, :].T * (1 - Zv**2)\n",
    "    Du = Dv @ V[1:, :].T * (1 - Zu**2)\n",
    "    Zv1 = addOnes(Zv)\n",
    "    grad_wrt_W = - Zv1.T @ Dw\n",
    "    Zu1 = addOnes(Zu)\n",
    "    grad_wrt_V = - Zu1.T @ Dv\n",
    "    grad_wrt_U = - X.T @ Du\n",
    "    \n",
    "    return grad_wrt_U, grad_wrt_V, grad_wrt_W"
   ]
  },
  {
   "cell_type": "code",
   "execution_count": 4,
   "metadata": {},
   "outputs": [],
   "source": [
    "def train(X, T, n_units_U, n_units_V, n_epochs, rho):\n",
    "    #TODO\n",
    "    X_means = X.mean(axis=0)\n",
    "    X_stds = X.std(axis=0)\n",
    "    T_means = T.mean(axis=0)\n",
    "    T_stds = T.std(axis=0)\n",
    "\n",
    "    XS = (X - X_means) / X_stds\n",
    "    TS = (T - T_means) / T_stds\n",
    "    \n",
    "    XS1 = addOnes(XS)\n",
    "    TS1 = addOnes(TS)\n",
    "    n_samples, n_outputs = T.shape\n",
    "#     rho = rho / (n_samples * n_outputs)\n",
    "    U = np.random.uniform(-1, 1, size=(1 + XS.shape[1], n_units_U)) / np.sqrt(XS1.shape[1])\n",
    "    V = np.random.uniform(-1, 1, size=(1 + n_units_U, n_units_V)) / np.sqrt(n_units_U + 1)\n",
    "    W = np.random.uniform(-1, 1, size=(1 + n_units_V, n_outputs)) / np.sqrt(n_units_V + 1)\n",
    "    \n",
    "    for epoch in range(n_epochs):\n",
    "        Zu, Zv, Y = forward(XS1, U, V, W)\n",
    "        grad_wrt_U, grad_wrt_V, grad_wrt_W = gradient(XS1, TS, Zu, Zv, Y, U, V, W)\n",
    "        \n",
    "        # Take step down the gradient\n",
    "        W = W - rho * grad_wrt_W\n",
    "        V = V - rho * grad_wrt_V\n",
    "        U = U - rho * grad_wrt_U  \n",
    "#         if epoch % 2000 == 0 or epoch == n_epochs - 1:\n",
    "#             print('W: ', grad_wrt_W[0])\n",
    "    return U, V, W, X_means, X_stds, T_means, T_stds"
   ]
  },
  {
   "cell_type": "code",
   "execution_count": 5,
   "metadata": {},
   "outputs": [],
   "source": [
    "def use(X, X_means, X_stds, T_means, T_stds, U, V, W):\n",
    "    #TODO: outputs = train()->(addOnes(), forward(), gradient())\n",
    "    #TODO use(outputs)\n",
    "    # Needs the t_means to unstandarize the outputs as the matrix is trained on standarized data\n",
    "    # and will produce standarized results which must be unstandardized to be meaningful\n",
    "    XtrainS = (X - X_means) / X_stds\n",
    "    XtrainS1 = addOnes(XtrainS)\n",
    "    Zu, Zv, Y = forward(XtrainS1, U, V, W)\n",
    "    Y = Y * T_stds + T_means\n",
    "    return Y"
   ]
  },
  {
   "cell_type": "code",
   "execution_count": 6,
   "metadata": {},
   "outputs": [],
   "source": [
    "Xtrain = np.arange(4).reshape(-1, 1)\n",
    "Ttrain = Xtrain ** 2\n",
    "\n",
    "Xtest = Xtrain + 0.5\n",
    "Ttest = Xtest ** 2"
   ]
  },
  {
   "cell_type": "code",
   "execution_count": 7,
   "metadata": {},
   "outputs": [],
   "source": [
    "U = np.array([[1, 2, 3], [4, 5, 6]])  # 2 x 3 matrix, for 2 inputs (include constant 1) and 3 units\n",
    "V = np.array([[-1, 3], [1, 3], [-2, 1], [2, -4]]) # 2 x 3 matrix, for 3 inputs (include constant 1) and 2 units\n",
    "W = np.array([[-1], [2], [3]])  # 3 x 1 matrix, for 3 inputs (include constant 1) and 1 ounit"
   ]
  },
  {
   "cell_type": "code",
   "execution_count": 8,
   "metadata": {},
   "outputs": [],
   "source": [
    "X_means = np.mean(Xtrain, axis=0)\n",
    "X_stds = np.std(Xtrain, axis=0)\n",
    "Xtrain_st = (Xtrain - X_means) / X_stds"
   ]
  },
  {
   "cell_type": "code",
   "execution_count": 9,
   "metadata": {},
   "outputs": [
    {
     "name": "stdout",
     "output_type": "stream",
     "text": [
      "Zu =  [[-0.99967774 -0.99983726 -0.99991782]\n",
      " [-0.65775956 -0.23177837  0.3065367 ]\n",
      " [ 0.99246605  0.99958165  0.99997685]\n",
      " [ 0.9999941   0.99999995  1.        ]]\n",
      "Zv =  [[-9.64016194e-01  9.95062648e-01]\n",
      " [-5.23485834e-01 -4.06326878e-01]\n",
      " [-6.74345774e-03  9.94823310e-01]\n",
      " [-5.79521329e-06  9.95054578e-01]]\n",
      "Y =  [[ 0.05715556]\n",
      " [-3.2659523 ]\n",
      " [ 1.97098301]\n",
      " [ 1.98515214]]\n"
     ]
    }
   ],
   "source": [
    "Zu, Zv, Y = forward(addOnes(Xtrain_st), U, V, W)\n",
    "print('Zu = ', Zu)\n",
    "print('Zv = ', Zv)\n",
    "print('Y = ', Y)"
   ]
  },
  {
   "cell_type": "code",
   "execution_count": 10,
   "metadata": {},
   "outputs": [
    {
     "name": "stdout",
     "output_type": "stream",
     "text": [
      "grad_wrt_U =  [[-12.92244218   0.95763799  16.44936549]\n",
      " [  5.83033911  -0.43361979  -7.35611199]]\n",
      "grad_wrt_V =  [[ 0.92812794 -6.29102685]\n",
      " [ 6.74349351  4.24106248]\n",
      " [ 5.19130234  1.51895191]\n",
      " [ 3.19836999 -1.92147926]]\n",
      "grad_wrt_W =  [[0.74733841]\n",
      " [0.30431595]\n",
      " [4.31908649]]\n"
     ]
    }
   ],
   "source": [
    "T_means = np.mean(Ttrain, axis=0)\n",
    "T_stds = np.std(Ttrain, axis=0)\n",
    "Ttrain_st = (Ttrain - T_means) / T_stds\n",
    "# grad_wrt_U, grad_wrt_V, grad_wrt_W = gradient(Xtrain_st, Ttrain_st, Zu, Zv, Y, U, V, W)\n",
    "grad_wrt_U, grad_wrt_V, grad_wrt_W = gradient(addOnes(Xtrain_st), Ttrain_st, Zu, Zv, Y, U, V, W)\n",
    "print('grad_wrt_U = ', grad_wrt_U)\n",
    "print('grad_wrt_V = ', grad_wrt_V)\n",
    "print('grad_wrt_W = ', grad_wrt_W)"
   ]
  },
  {
   "cell_type": "code",
   "execution_count": 11,
   "metadata": {},
   "outputs": [
    {
     "data": {
      "text/plain": [
       "array([[ 3.70004445],\n",
       "       [-7.93083306],\n",
       "       [10.39844055],\n",
       "       [10.44803251]])"
      ]
     },
     "execution_count": 11,
     "metadata": {},
     "output_type": "execute_result"
    }
   ],
   "source": [
    "Y = use(Xtrain, X_means, X_stds, T_means, T_stds, U, V, W)\n",
    "Y"
   ]
  },
  {
   "cell_type": "markdown",
   "metadata": {},
   "source": [
    "Here is another example that just shows the final results of training."
   ]
  },
  {
   "cell_type": "code",
   "execution_count": 12,
   "metadata": {},
   "outputs": [],
   "source": [
    "n = 30\n",
    "Xtrain = np.linspace(0., 20.0, n).reshape((n, 1)) - 10\n",
    "Ttrain = 0.2 + 0.05 * (Xtrain + 10) + 0.4 * np.sin(Xtrain + 10) + 0.2 * np.random.normal(size=(n, 1))\n",
    "\n",
    "Xtest = Xtrain + 0.1 * np.random.normal(size=(n, 1))\n",
    "Ttest = 0.2 + 0.05 * (Xtest + 10) + 0.4 * np.sin(Xtest + 10) + 0.2 * np.random.normal(size=(n, 1))"
   ]
  },
  {
   "cell_type": "code",
   "execution_count": 13,
   "metadata": {},
   "outputs": [],
   "source": [
    "U, V, W, X_means, X_stds, T_means, T_stds = train(Xtrain, Ttrain, 5, 5, 100, 0.01)"
   ]
  },
  {
   "cell_type": "code",
   "execution_count": null,
   "metadata": {},
   "outputs": [],
   "source": [
    "Y = use(Xtrain, X_means, X_stds, T_means, T_stds, U, V, W)"
   ]
  },
  {
   "cell_type": "code",
   "execution_count": null,
   "metadata": {},
   "outputs": [],
   "source": [
    "plt.plot(Xtrain, Ttrain)\n",
    "plt.plot(Xtrain, Y);"
   ]
  },
  {
   "cell_type": "code",
   "execution_count": null,
   "metadata": {
    "scrolled": true
   },
   "outputs": [],
   "source": [
    "U, V, W, X_means, X_stds, T_means, T_stds = train(Xtrain, Ttrain, 5, 5, 10000, 0.01)\n",
    "Y = use(Xtrain, X_means, X_stds, T_means, T_stds, U, V, W)\n",
    "plt.plot(Xtrain, Ttrain, label='Train')\n",
    "plt.plot(Xtrain, Y, label='Test')\n",
    "plt.legend();"
   ]
  },
  {
   "cell_type": "code",
   "execution_count": null,
   "metadata": {},
   "outputs": [],
   "source": [
    "n = 40\n",
    "Xtrain = np.linspace(0., 20.0, n).reshape((n, 1)) - 10\n",
    "Ttrain = 0.2 + 0.05 * (Xtrain + 10) + 0.4 * np.sin(Xtrain + 10) + 0.2 * np.random.normal(size=(n, 1))\n",
    "\n",
    "Xtest = Xtrain + 0.1 * np.random.normal(size=(n, 1))\n",
    "Ttest = 0.2 + 0.05 * (Xtest + 10) + 0.4 * np.sin(Xtest + 10) + 0.2 * np.random.normal(size=(n, 1))\n",
    "print('Xtrain.shape =', Xtrain.shape, 'Xtest.shape =', Xtest.shape, 'Ttrain.shape =', Ttrain.shape, 'Ttest.shape =', Ttest.shape)\n",
    "print('Xtrain: ', Xtrain[:10])\n",
    "print('Ttrain: ',Ttrain[:10])"
   ]
  },
  {
   "cell_type": "code",
   "execution_count": null,
   "metadata": {},
   "outputs": [],
   "source": [
    "U, V, W, X_means, X_stds, T_means, T_stds = train(Xtrain, Ttrain, 5, 5, 100, 0.01)"
   ]
  },
  {
   "cell_type": "code",
   "execution_count": 19,
   "metadata": {},
   "outputs": [],
   "source": [
    "Y = use(Xtrain, X_means, X_stds, T_means, T_stds, U, V, W)"
   ]
  },
  {
   "cell_type": "code",
   "execution_count": 20,
   "metadata": {},
   "outputs": [
    {
     "data": {
      "image/png": "[encoded data removed]",
      "text/plain": [
       "<Figure size 432x288 with 1 Axes>"
      ]
     },
     "metadata": {
      "needs_background": "light"
     },
     "output_type": "display_data"
    }
   ],
   "source": [
    "plt.plot(Xtrain, Ttrain)\n",
    "plt.plot(Xtrain, Y);"
   ]
  },
  {
   "cell_type": "code",
   "execution_count": 21,
   "metadata": {},
   "outputs": [
    {
     "data": {
      "image/png": "[encoded data removed]",
      "text/plain": [
       "<Figure size 432x288 with 1 Axes>"
      ]
     },
     "metadata": {
      "needs_background": "light"
     },
     "output_type": "display_data"
    }
   ],
   "source": [
    "U, V, W, X_means, X_stds, T_means, T_stds = train(Xtrain, Ttrain, 5, 5, 10000, 0.01)\n",
    "Y = use(Xtrain, X_means, X_stds, T_means, T_stds, U, V, W)\n",
    "plt.plot(Xtrain, Ttrain, label='Train')\n",
    "plt.plot(Xtrain, Y, label='Test')\n",
    "plt.legend();"
   ]
  },
  {
   "cell_type": "markdown",
   "metadata": {},
   "source": [
    "## Discussion"
   ]
  },
  {
   "cell_type": "markdown",
   "metadata": {},
   "source": [
    "My initial difficulties were  in simply understanding precisely what was required for each function and how each function fit together with the others. I found it helpful to read the descriptions thouroughly, examine the parameters and outputs of each function, and to then rewrite what each function was supposed to do along with some implementation details in a comment in each function definition code cell. The use function in particular took some thinking. The presence of the t_means and t_stds threw me off for awhile until I went back and reviewed the class lecture and recalled Chuck's statement that the producded Y values from the network are standardized from T and need to be unstandardized to be meaningful. The coding itself was rather straight forward once I understood what precisely was supposed to be done. The only notable exception to that was determining the value of rho. Despite having the gradient, use, and forward functions all correct the train function did not seem to be actually training. The predicitions its matrices produced were poor. I did some debugging and noticed that the values for U, V, and W were being adjusted throughout the runs but this didn't seemed to make them more accurate. I stared at my code for awhile and noticed that I had adjusted my rho value like so (rho_h = rho_h / (n_samples * n_outputs)). I did this because Chuck has done so in his code. I was unsure why this was being done and removed it. After some discussion I relized this had been done to try and find a good rho value based on the data. The rho value supplied was already pretty good, hence why doing it gave poor results,  After this the model trained properly. I tried some different n's to ensure I had not improperly hardcoded any dimensions and it all seems to be working. "
   ]
  },
  {
   "cell_type": "markdown",
   "metadata": {},
   "source": [
    "# Grading\n",
    "\n",
    "<font color='red'>*A1grader.tar will be available Friday.*</font>\n",
    "\n",
    "Your notebook will be run and graded automatically. Test this grading process by first downloading [A1grader.tar](http://www.cs.colostate.edu/~anderson/cs545/notebooks/A1grader.tar) and extract `A1grader.py` from it. Run the code in the following cell to demonstrate an example grading session.  The remaining 10 points will be based on your discussion of this assignment.\n",
    "\n",
    "A different, but similar, grading script will be used to grade your checked-in notebook. It will include additional tests. You should design and perform additional tests on all of your functions to be sure they run correctly before checking in your notebook.  \n",
    "\n",
    "For the grading script to run correctly, you must first name this notebook as 'Lastname-A1.ipynb' with 'Lastname' being your last name, and then save this notebook."
   ]
  },
  {
   "cell_type": "code",
   "execution_count": 22,
   "metadata": {},
   "outputs": [
    {
     "ename": "Exception",
     "evalue": "File `'A1grader.py'` not found.",
     "output_type": "error",
     "traceback": [
      "\u001b[1;31m---------------------------------------------------------------------------\u001b[0m",
      "\u001b[1;31mOSError\u001b[0m                                   Traceback (most recent call last)",
      "\u001b[1;32m~\\anaconda3\\envs\\ml_assignments\\lib\\site-packages\\IPython\\core\\magics\\execution.py\u001b[0m in \u001b[0;36mrun\u001b[1;34m(self, parameter_s, runner, file_finder)\u001b[0m\n\u001b[0;32m    702\u001b[0m             \u001b[0mfpath\u001b[0m \u001b[1;33m=\u001b[0m \u001b[0marg_lst\u001b[0m\u001b[1;33m[\u001b[0m\u001b[1;36m0\u001b[0m\u001b[1;33m]\u001b[0m\u001b[1;33m\u001b[0m\u001b[1;33m\u001b[0m\u001b[0m\n\u001b[1;32m--> 703\u001b[1;33m             \u001b[0mfilename\u001b[0m \u001b[1;33m=\u001b[0m \u001b[0mfile_finder\u001b[0m\u001b[1;33m(\u001b[0m\u001b[0mfpath\u001b[0m\u001b[1;33m)\u001b[0m\u001b[1;33m\u001b[0m\u001b[1;33m\u001b[0m\u001b[0m\n\u001b[0m\u001b[0;32m    704\u001b[0m         \u001b[1;32mexcept\u001b[0m \u001b[0mIndexError\u001b[0m\u001b[1;33m:\u001b[0m\u001b[1;33m\u001b[0m\u001b[1;33m\u001b[0m\u001b[0m\n",
      "\u001b[1;32m~\\anaconda3\\envs\\ml_assignments\\lib\\site-packages\\IPython\\utils\\path.py\u001b[0m in \u001b[0;36mget_py_filename\u001b[1;34m(name, force_win32)\u001b[0m\n\u001b[0;32m    108\u001b[0m     \u001b[1;32melse\u001b[0m\u001b[1;33m:\u001b[0m\u001b[1;33m\u001b[0m\u001b[1;33m\u001b[0m\u001b[0m\n\u001b[1;32m--> 109\u001b[1;33m         \u001b[1;32mraise\u001b[0m \u001b[0mIOError\u001b[0m\u001b[1;33m(\u001b[0m\u001b[1;34m'File `%r` not found.'\u001b[0m \u001b[1;33m%\u001b[0m \u001b[0mname\u001b[0m\u001b[1;33m)\u001b[0m\u001b[1;33m\u001b[0m\u001b[1;33m\u001b[0m\u001b[0m\n\u001b[0m\u001b[0;32m    110\u001b[0m \u001b[1;33m\u001b[0m\u001b[0m\n",
      "\u001b[1;31mOSError\u001b[0m: File `'A1grader.py'` not found.",
      "\nDuring handling of the above exception, another exception occurred:\n",
      "\u001b[1;31mException\u001b[0m                                 Traceback (most recent call last)",
      "\u001b[1;32m~\\AppData\\Local\\Temp/ipykernel_14732/680184457.py\u001b[0m in \u001b[0;36m<module>\u001b[1;34m\u001b[0m\n\u001b[1;32m----> 1\u001b[1;33m \u001b[0mget_ipython\u001b[0m\u001b[1;33m(\u001b[0m\u001b[1;33m)\u001b[0m\u001b[1;33m.\u001b[0m\u001b[0mrun_line_magic\u001b[0m\u001b[1;33m(\u001b[0m\u001b[1;34m'run'\u001b[0m\u001b[1;33m,\u001b[0m \u001b[1;34m'-i A1grader.py'\u001b[0m\u001b[1;33m)\u001b[0m\u001b[1;33m\u001b[0m\u001b[1;33m\u001b[0m\u001b[0m\n\u001b[0m",
      "\u001b[1;32m~\\anaconda3\\envs\\ml_assignments\\lib\\site-packages\\IPython\\core\\interactiveshell.py\u001b[0m in \u001b[0;36mrun_line_magic\u001b[1;34m(self, magic_name, line, _stack_depth)\u001b[0m\n\u001b[0;32m   2346\u001b[0m                 \u001b[0mkwargs\u001b[0m\u001b[1;33m[\u001b[0m\u001b[1;34m'local_ns'\u001b[0m\u001b[1;33m]\u001b[0m \u001b[1;33m=\u001b[0m \u001b[0mself\u001b[0m\u001b[1;33m.\u001b[0m\u001b[0mget_local_scope\u001b[0m\u001b[1;33m(\u001b[0m\u001b[0mstack_depth\u001b[0m\u001b[1;33m)\u001b[0m\u001b[1;33m\u001b[0m\u001b[1;33m\u001b[0m\u001b[0m\n\u001b[0;32m   2347\u001b[0m             \u001b[1;32mwith\u001b[0m \u001b[0mself\u001b[0m\u001b[1;33m.\u001b[0m\u001b[0mbuiltin_trap\u001b[0m\u001b[1;33m:\u001b[0m\u001b[1;33m\u001b[0m\u001b[1;33m\u001b[0m\u001b[0m\n\u001b[1;32m-> 2348\u001b[1;33m                 \u001b[0mresult\u001b[0m \u001b[1;33m=\u001b[0m \u001b[0mfn\u001b[0m\u001b[1;33m(\u001b[0m\u001b[1;33m*\u001b[0m\u001b[0margs\u001b[0m\u001b[1;33m,\u001b[0m \u001b[1;33m**\u001b[0m\u001b[0mkwargs\u001b[0m\u001b[1;33m)\u001b[0m\u001b[1;33m\u001b[0m\u001b[1;33m\u001b[0m\u001b[0m\n\u001b[0m\u001b[0;32m   2349\u001b[0m             \u001b[1;32mreturn\u001b[0m \u001b[0mresult\u001b[0m\u001b[1;33m\u001b[0m\u001b[1;33m\u001b[0m\u001b[0m\n\u001b[0;32m   2350\u001b[0m \u001b[1;33m\u001b[0m\u001b[0m\n",
      "\u001b[1;32m~\\anaconda3\\envs\\ml_assignments\\lib\\site-packages\\decorator.py\u001b[0m in \u001b[0;36mfun\u001b[1;34m(*args, **kw)\u001b[0m\n\u001b[0;32m    230\u001b[0m             \u001b[1;32mif\u001b[0m \u001b[1;32mnot\u001b[0m \u001b[0mkwsyntax\u001b[0m\u001b[1;33m:\u001b[0m\u001b[1;33m\u001b[0m\u001b[1;33m\u001b[0m\u001b[0m\n\u001b[0;32m    231\u001b[0m                 \u001b[0margs\u001b[0m\u001b[1;33m,\u001b[0m \u001b[0mkw\u001b[0m \u001b[1;33m=\u001b[0m \u001b[0mfix\u001b[0m\u001b[1;33m(\u001b[0m\u001b[0margs\u001b[0m\u001b[1;33m,\u001b[0m \u001b[0mkw\u001b[0m\u001b[1;33m,\u001b[0m \u001b[0msig\u001b[0m\u001b[1;33m)\u001b[0m\u001b[1;33m\u001b[0m\u001b[1;33m\u001b[0m\u001b[0m\n\u001b[1;32m--> 232\u001b[1;33m             \u001b[1;32mreturn\u001b[0m \u001b[0mcaller\u001b[0m\u001b[1;33m(\u001b[0m\u001b[0mfunc\u001b[0m\u001b[1;33m,\u001b[0m \u001b[1;33m*\u001b[0m\u001b[1;33m(\u001b[0m\u001b[0mextras\u001b[0m \u001b[1;33m+\u001b[0m \u001b[0margs\u001b[0m\u001b[1;33m)\u001b[0m\u001b[1;33m,\u001b[0m \u001b[1;33m**\u001b[0m\u001b[0mkw\u001b[0m\u001b[1;33m)\u001b[0m\u001b[1;33m\u001b[0m\u001b[1;33m\u001b[0m\u001b[0m\n\u001b[0m\u001b[0;32m    233\u001b[0m     \u001b[0mfun\u001b[0m\u001b[1;33m.\u001b[0m\u001b[0m__name__\u001b[0m \u001b[1;33m=\u001b[0m \u001b[0mfunc\u001b[0m\u001b[1;33m.\u001b[0m\u001b[0m__name__\u001b[0m\u001b[1;33m\u001b[0m\u001b[1;33m\u001b[0m\u001b[0m\n\u001b[0;32m    234\u001b[0m     \u001b[0mfun\u001b[0m\u001b[1;33m.\u001b[0m\u001b[0m__doc__\u001b[0m \u001b[1;33m=\u001b[0m \u001b[0mfunc\u001b[0m\u001b[1;33m.\u001b[0m\u001b[0m__doc__\u001b[0m\u001b[1;33m\u001b[0m\u001b[1;33m\u001b[0m\u001b[0m\n",
      "\u001b[1;32m~\\anaconda3\\envs\\ml_assignments\\lib\\site-packages\\IPython\\core\\magic.py\u001b[0m in \u001b[0;36m<lambda>\u001b[1;34m(f, *a, **k)\u001b[0m\n\u001b[0;32m    185\u001b[0m     \u001b[1;31m# but it's overkill for just that one bit of state.\u001b[0m\u001b[1;33m\u001b[0m\u001b[1;33m\u001b[0m\u001b[0m\n\u001b[0;32m    186\u001b[0m     \u001b[1;32mdef\u001b[0m \u001b[0mmagic_deco\u001b[0m\u001b[1;33m(\u001b[0m\u001b[0marg\u001b[0m\u001b[1;33m)\u001b[0m\u001b[1;33m:\u001b[0m\u001b[1;33m\u001b[0m\u001b[1;33m\u001b[0m\u001b[0m\n\u001b[1;32m--> 187\u001b[1;33m         \u001b[0mcall\u001b[0m \u001b[1;33m=\u001b[0m \u001b[1;32mlambda\u001b[0m \u001b[0mf\u001b[0m\u001b[1;33m,\u001b[0m \u001b[1;33m*\u001b[0m\u001b[0ma\u001b[0m\u001b[1;33m,\u001b[0m \u001b[1;33m**\u001b[0m\u001b[0mk\u001b[0m\u001b[1;33m:\u001b[0m \u001b[0mf\u001b[0m\u001b[1;33m(\u001b[0m\u001b[1;33m*\u001b[0m\u001b[0ma\u001b[0m\u001b[1;33m,\u001b[0m \u001b[1;33m**\u001b[0m\u001b[0mk\u001b[0m\u001b[1;33m)\u001b[0m\u001b[1;33m\u001b[0m\u001b[1;33m\u001b[0m\u001b[0m\n\u001b[0m\u001b[0;32m    188\u001b[0m \u001b[1;33m\u001b[0m\u001b[0m\n\u001b[0;32m    189\u001b[0m         \u001b[1;32mif\u001b[0m \u001b[0mcallable\u001b[0m\u001b[1;33m(\u001b[0m\u001b[0marg\u001b[0m\u001b[1;33m)\u001b[0m\u001b[1;33m:\u001b[0m\u001b[1;33m\u001b[0m\u001b[1;33m\u001b[0m\u001b[0m\n",
      "\u001b[1;32m~\\anaconda3\\envs\\ml_assignments\\lib\\site-packages\\IPython\\core\\magics\\execution.py\u001b[0m in \u001b[0;36mrun\u001b[1;34m(self, parameter_s, runner, file_finder)\u001b[0m\n\u001b[0;32m    712\u001b[0m             \u001b[1;32mif\u001b[0m \u001b[0mos\u001b[0m\u001b[1;33m.\u001b[0m\u001b[0mname\u001b[0m \u001b[1;33m==\u001b[0m \u001b[1;34m'nt'\u001b[0m \u001b[1;32mand\u001b[0m \u001b[0mre\u001b[0m\u001b[1;33m.\u001b[0m\u001b[0mmatch\u001b[0m\u001b[1;33m(\u001b[0m\u001b[1;34mr\"^'.*'$\"\u001b[0m\u001b[1;33m,\u001b[0m\u001b[0mfpath\u001b[0m\u001b[1;33m)\u001b[0m\u001b[1;33m:\u001b[0m\u001b[1;33m\u001b[0m\u001b[1;33m\u001b[0m\u001b[0m\n\u001b[0;32m    713\u001b[0m                 \u001b[0mwarn\u001b[0m\u001b[1;33m(\u001b[0m\u001b[1;34m'For Windows, use double quotes to wrap a filename: %run \"mypath\\\\myfile.py\"'\u001b[0m\u001b[1;33m)\u001b[0m\u001b[1;33m\u001b[0m\u001b[1;33m\u001b[0m\u001b[0m\n\u001b[1;32m--> 714\u001b[1;33m             \u001b[1;32mraise\u001b[0m \u001b[0mException\u001b[0m\u001b[1;33m(\u001b[0m\u001b[0mmsg\u001b[0m\u001b[1;33m)\u001b[0m\u001b[1;33m\u001b[0m\u001b[1;33m\u001b[0m\u001b[0m\n\u001b[0m\u001b[0;32m    715\u001b[0m         \u001b[1;32mexcept\u001b[0m \u001b[0mTypeError\u001b[0m\u001b[1;33m:\u001b[0m\u001b[1;33m\u001b[0m\u001b[1;33m\u001b[0m\u001b[0m\n\u001b[0;32m    716\u001b[0m             \u001b[1;32mif\u001b[0m \u001b[0mfpath\u001b[0m \u001b[1;32min\u001b[0m \u001b[0msys\u001b[0m\u001b[1;33m.\u001b[0m\u001b[0mmeta_path\u001b[0m\u001b[1;33m:\u001b[0m\u001b[1;33m\u001b[0m\u001b[1;33m\u001b[0m\u001b[0m\n",
      "\u001b[1;31mException\u001b[0m: File `'A1grader.py'` not found."
     ]
    }
   ],
   "source": [
    "%run -i A1grader.py"
   ]
  },
  {
   "cell_type": "markdown",
   "metadata": {},
   "source": [
    "# Extra Credit\n",
    "\n",
    "Apply your multilayer neural network code to a regression problem using data that you choose \n",
    "from the [UCI Machine Learning Repository](http://archive.ics.uci.edu/ml/datasets.php). Pick a dataset that\n",
    "is listed as being appropriate for regression."
   ]
  },
  {
   "cell_type": "markdown",
   "metadata": {},
   "source": [
    "I chose the Wine Quality dataset:\n",
    "http://archive.ics.uci.edu/ml/datasets/Wine+Quality\n",
    "\n",
    "I did so because it was setup for regression and because I recently visited the Finger Lakes in upstate New York, which is known for producing good wine. I had the option of either the red wine or white wine dataset within these. I chose white because the Finger Lakes are known for their Reislings.\n",
    "\n",
    "I started by importing the data and getting it cleaned up. I had to play around with it to get it into a shape amenable to training and testing. I decided to take a look at residual sugar predicting quality first. I seperated this into training and test data, and ran it through the model twice. It did an ok job at predicting quality, but there didn't seem to be a huge correlation between the two to begin with. \n",
    "I then tried using alcohol level and after that total sulphur dioxide to predict quality. Again, both did an OK job predicting. The higher alcohol levels did seem to be a slightly better predictor of quality (I wonder why?) then any of the other predictors I tried, so fitting to this seemed to be yield a better result."
   ]
  },
  {
   "cell_type": "code",
   "execution_count": null,
   "metadata": {},
   "outputs": [],
   "source": [
    "import pandas"
   ]
  },
  {
   "cell_type": "code",
   "execution_count": null,
   "metadata": {},
   "outputs": [],
   "source": [
    "data = pandas.read_csv('winequality-white.csv', delimiter=';', usecols=range(12))\n",
    "data = data.dropna(axis=0)\n",
    "data.shape"
   ]
  },
  {
   "cell_type": "code",
   "execution_count": null,
   "metadata": {},
   "outputs": [],
   "source": [
    "data['residual sugar'][:10]"
   ]
  },
  {
   "cell_type": "code",
   "execution_count": null,
   "metadata": {},
   "outputs": [],
   "source": [
    "data['quality'][:10]"
   ]
  },
  {
   "cell_type": "code",
   "execution_count": null,
   "metadata": {},
   "outputs": [],
   "source": [
    "X_Wine = data['residual sugar']\n",
    "T_Wine = data['quality']\n",
    "print(X_Wine.shape)\n",
    "X = np.array(X_Wine[:100]).reshape((-1, 1))\n",
    "T = np.array(T_Wine[:100]).reshape((-1, 1))"
   ]
  },
  {
   "cell_type": "code",
   "execution_count": null,
   "metadata": {},
   "outputs": [],
   "source": [
    "training_fraction = 0.8\n",
    "n_rows = X[:100].shape[0]\n",
    "row_indices = np.arange(n_rows)\n",
    "np.random.shuffle(row_indices)\n",
    "n_train = round(n_rows * training_fraction)\n",
    "n_test = n_rows - n_train\n",
    "\n",
    "Xtrain = X[row_indices[:n_train], :]\n",
    "Ttrain = T[row_indices[:n_train], :]\n",
    "Xtest = X[row_indices[n_train:], :]\n",
    "Ttest = T[row_indices[n_train:], :]\n",
    "\n",
    "print('Xtrain.shape =', Xtrain.shape, 'Xtest.shape =', Xtest.shape, 'Ttrain.shape =', Ttrain.shape, 'Ttest.shape =', Ttest.shape)\n",
    "print('Xtrain: ', Xtrain[:10])\n",
    "print('Ttrain: ',Ttrain[:10])"
   ]
  },
  {
   "cell_type": "code",
   "execution_count": null,
   "metadata": {},
   "outputs": [],
   "source": [
    "U, V, W, X_means, X_stds, T_means, T_stds = train(Xtrain, Ttrain, 5, 5, 100, 0.01)\n",
    "Y = use(Xtrain, X_means, X_stds, T_means, T_stds, U, V, W)"
   ]
  },
  {
   "cell_type": "code",
   "execution_count": null,
   "metadata": {},
   "outputs": [],
   "source": [
    "plt.plot(Xtrain, Ttrain, 'o')\n",
    "plt.plot(Xtrain, Y, 'o');"
   ]
  },
  {
   "cell_type": "code",
   "execution_count": null,
   "metadata": {},
   "outputs": [],
   "source": [
    "U, V, W, X_means, X_stds, T_means, T_stds = train(Xtrain, Ttrain, 5, 5, 10000, 0.01)\n",
    "Y = use(Xtrain, X_means, X_stds, T_means, T_stds, U, V, W)\n",
    "plt.plot(Xtrain, Ttrain, 'o', label='Train')\n",
    "plt.plot(Xtrain, Y, 'o', label='Test')\n",
    "plt.legend();"
   ]
  },
  {
   "cell_type": "code",
   "execution_count": null,
   "metadata": {},
   "outputs": [],
   "source": [
    "X_Wine = data['alcohol']\n",
    "T_Wine = data['quality']\n",
    "print(X_Wine.shape)\n",
    "X = np.array(X_Wine[:100]).reshape((-1, 1))\n",
    "T = np.array(T_Wine[:100]).reshape((-1, 1))"
   ]
  },
  {
   "cell_type": "code",
   "execution_count": null,
   "metadata": {},
   "outputs": [],
   "source": [
    "training_fraction = 0.8\n",
    "n_rows = X[:100].shape[0]\n",
    "row_indices = np.arange(n_rows)\n",
    "np.random.shuffle(row_indices)\n",
    "n_train = round(n_rows * training_fraction)\n",
    "n_test = n_rows - n_train\n",
    "\n",
    "Xtrain = X[row_indices[:n_train], :]\n",
    "Ttrain = T[row_indices[:n_train], :]\n",
    "Xtest = X[row_indices[n_train:], :]\n",
    "Ttest = T[row_indices[n_train:], :]"
   ]
  },
  {
   "cell_type": "code",
   "execution_count": null,
   "metadata": {},
   "outputs": [],
   "source": [
    "U, V, W, X_means, X_stds, T_means, T_stds = train(Xtrain, Ttrain, 5, 5, 100, 0.01)\n",
    "Y = use(Xtrain, X_means, X_stds, T_means, T_stds, U, V, W)"
   ]
  },
  {
   "cell_type": "code",
   "execution_count": null,
   "metadata": {},
   "outputs": [],
   "source": [
    "plt.plot(Xtrain, Ttrain, 'o')\n",
    "plt.plot(Xtrain, Y, 'o');"
   ]
  },
  {
   "cell_type": "code",
   "execution_count": null,
   "metadata": {},
   "outputs": [],
   "source": [
    "U, V, W, X_means, X_stds, T_means, T_stds = train(Xtrain, Ttrain, 5, 5, 10000, 0.01)\n",
    "Y = use(Xtrain, X_means, X_stds, T_means, T_stds, U, V, W)\n",
    "plt.plot(Xtrain, Ttrain, 'o', label='Train')\n",
    "plt.plot(Xtrain, Y, 'o', label='Test')\n",
    "plt.legend();"
   ]
  },
  {
   "cell_type": "code",
   "execution_count": null,
   "metadata": {},
   "outputs": [],
   "source": [
    "X_Wine = data['total sulfur dioxide']\n",
    "T_Wine = data['quality']\n",
    "print(X_Wine.shape)\n",
    "X = np.array(X_Wine[:100]).reshape((-1, 1))\n",
    "T = np.array(T_Wine[:100]).reshape((-1, 1))\n",
    "training_fraction = 0.8\n",
    "n_rows = X[:100].shape[0]\n",
    "row_indices = np.arange(n_rows)\n",
    "np.random.shuffle(row_indices)\n",
    "n_train = round(n_rows * training_fraction)\n",
    "n_test = n_rows - n_train\n",
    "\n",
    "Xtrain = X[row_indices[:n_train], :]\n",
    "Ttrain = T[row_indices[:n_train], :]\n",
    "Xtest = X[row_indices[n_train:], :]\n",
    "Ttest = T[row_indices[n_train:], :]\n",
    "\n",
    "U, V, W, X_means, X_stds, T_means, T_stds = train(Xtrain, Ttrain, 5, 5, 10000, 0.01)\n",
    "Y = use(Xtrain, X_means, X_stds, T_means, T_stds, U, V, W)\n",
    "plt.plot(Xtrain, Ttrain, 'o', label='Train')\n",
    "plt.plot(Xtrain, Y, 'o', label='Test')\n",
    "plt.legend();"
   ]
  },
  {
   "cell_type": "code",
   "execution_count": null,
   "metadata": {},
   "outputs": [],
   "source": [
    "X_Wine = data['citric acid']\n",
    "T_Wine = data['quality']\n",
    "print(X_Wine.shape)\n",
    "X = np.array(X_Wine[:100]).reshape((-1, 1))\n",
    "T = np.array(T_Wine[:100]).reshape((-1, 1))\n",
    "training_fraction = 0.8\n",
    "n_rows = X[:100].shape[0]\n",
    "row_indices = np.arange(n_rows)\n",
    "np.random.shuffle(row_indices)\n",
    "n_train = round(n_rows * training_fraction)\n",
    "n_test = n_rows - n_train\n",
    "\n",
    "Xtrain = X[row_indices[:n_train], :]\n",
    "Ttrain = T[row_indices[:n_train], :]\n",
    "Xtest = X[row_indices[n_train:], :]\n",
    "Ttest = T[row_indices[n_train:], :]\n",
    "\n",
    "U, V, W, X_means, X_stds, T_means, T_stds = train(Xtrain, Ttrain, 5, 5, 10000, 0.01)\n",
    "Y = use(Xtrain, X_means, X_stds, T_means, T_stds, U, V, W)\n",
    "plt.plot(Xtrain, Ttrain, 'o', label='Train')\n",
    "plt.plot(Xtrain, Y, 'o', label='Test')\n",
    "plt.legend();"
   ]
  },
  {
   "cell_type": "code",
   "execution_count": null,
   "metadata": {},
   "outputs": [],
   "source": []
  }
 ],
 "metadata": {
  "kernelspec": {
   "display_name": "ml_assignments",
   "language": "python",
   "name": "ml_assignments"
  },
  "language_info": {
   "codemirror_mode": {
    "name": "ipython",
    "version": 3
   },
   "file_extension": ".py",
   "mimetype": "text/x-python",
   "name": "python",
   "nbconvert_exporter": "python",
   "pygments_lexer": "ipython3",
   "version": "3.9.7"
  },
  "toc": {
   "base_numbering": 1,
   "nav_menu": {},
   "number_sections": false,
   "sideBar": true,
   "skip_h1_title": true,
   "title_cell": "Table of Contents",
   "title_sidebar": "Contents",
   "toc_cell": true,
   "toc_position": {
    "height": "calc(100% - 180px)",
    "left": "10px",
    "top": "150px",
    "width": "512px"
   },
   "toc_section_display": true,
   "toc_window_display": true
  }
 },
 "nbformat": 4,
 "nbformat_minor": 4
}
