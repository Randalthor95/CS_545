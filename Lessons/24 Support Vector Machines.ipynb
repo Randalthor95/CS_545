{
 "cells": [
  {
   "cell_type": "markdown",
   "metadata": {
    "toc": true
   },
   "source": [
    "<h1>Table of Contents<span class=\"tocSkip\"></span></h1>\n",
    "<div class=\"toc\"><ul class=\"toc-item\"><li><span><a href=\"#Large-Margin-Classifiers\" data-toc-modified-id=\"Large-Margin-Classifiers-1\"><span class=\"toc-item-num\">1&nbsp;&nbsp;</span>Large Margin Classifiers</a></span></li><li><span><a href=\"#Optimization\" data-toc-modified-id=\"Optimization-2\"><span class=\"toc-item-num\">2&nbsp;&nbsp;</span>Optimization</a></span></li><li><span><a href=\"#Using-Lagrange-Multipliers\" data-toc-modified-id=\"Using-Lagrange-Multipliers-3\"><span class=\"toc-item-num\">3&nbsp;&nbsp;</span>Using Lagrange Multipliers</a></span></li><li><span><a href=\"#Kernels\" data-toc-modified-id=\"Kernels-4\"><span class=\"toc-item-num\">4&nbsp;&nbsp;</span>Kernels</a></span></li><li><span><a href=\"#Python\" data-toc-modified-id=\"Python-5\"><span class=\"toc-item-num\">5&nbsp;&nbsp;</span>Python</a></span></li><li><span><a href=\"#Example\" data-toc-modified-id=\"Example-6\"><span class=\"toc-item-num\">6&nbsp;&nbsp;</span>Example</a></span></li></ul></div>"
   ]
  },
  {
   "cell_type": "markdown",
   "metadata": {},
   "source": [
    "$$\\newcommand{\\Rv}{\\mathbf{R}}\n",
    "\\newcommand{\\rv}{\\mathbf{r}}\n",
    "\\newcommand{\\Qv}{\\mathbf{Q}}\n",
    "\\newcommand{\\Av}{\\mathbf{A}}\n",
    "\\newcommand{\\Aiv}{\\mathbf{Ai}}\n",
    "\\newcommand{\\av}{\\mathbf{a}}\n",
    "\\newcommand{\\xv}{\\mathbf{x}}\n",
    "\\newcommand{\\Xv}{\\mathbf{X}}\n",
    "\\newcommand{\\Kv}{\\mathbf{K}}\n",
    "\\newcommand{\\yv}{\\mathbf{y}}\n",
    "\\newcommand{\\Yv}{\\mathbf{Y}}\n",
    "\\newcommand{\\zv}{\\mathbf{z}}\n",
    "\\newcommand{\\alphav}{\\mathbf{\\alpha}}\n",
    "\\newcommand{\\Wv}{\\mathbf{W}}\n",
    "\\newcommand{\\wv}{\\mathbf{w}}\n",
    "\\newcommand{\\betav}{\\mathbf{\\beta}}\n",
    "\\newcommand{\\gv}{\\mathbf{g}}\n",
    "\\newcommand{\\Hv}{\\mathbf{H}}\n",
    "\\newcommand{\\dv}{\\mathbf{d}}\n",
    "\\newcommand{\\Vv}{\\mathbf{V}}\n",
    "\\newcommand{\\vv}{\\mathbf{v}}\n",
    "\\newcommand{\\Uv}{\\mathbf{U}}\n",
    "\\newcommand{\\uv}{\\mathbf{u}}\n",
    "\\newcommand{\\tv}{\\mathbf{t}}\n",
    "\\newcommand{\\Tv}{\\mathbf{T}}\n",
    "\\newcommand{\\TDv}{\\mathbf{TD}}\n",
    "\\newcommand{\\Tiv}{\\mathbf{Ti}}\n",
    "\\newcommand{\\Sv}{\\mathbf{S}}\n",
    "\\newcommand{\\Gv}{\\mathbf{G}}\n",
    "\\newcommand{\\zv}{\\mathbf{z}}\n",
    "\\newcommand{\\Zv}{\\mathbf{Z}}\n",
    "\\newcommand{\\Norm}{\\mathcal{N}}\n",
    "\\newcommand{\\muv}{\\boldsymbol{\\mu}}\n",
    "\\newcommand{\\sigmav}{\\boldsymbol{\\sigma}}\n",
    "\\newcommand{\\phiv}{\\boldsymbol{\\phi}}\n",
    "\\newcommand{\\Phiv}{\\boldsymbol{\\Phi}}\n",
    "\\newcommand{\\Sigmav}{\\boldsymbol{\\Sigma}}\n",
    "\\newcommand{\\Lambdav}{\\boldsymbol{\\Lambda}}\n",
    "\\newcommand{\\half}{\\frac{1}{2}}\n",
    "\\newcommand{\\argmax}[1]{\\underset{#1}{\\operatorname{argmax}}}\n",
    "\\newcommand{\\argmin}[1]{\\underset{#1}{\\operatorname{argmin}}}\n",
    "\\newcommand{\\dimensionbar}[1]{\\underset{#1}{\\operatorname{|}}}\n",
    "\\newcommand{\\grad}{\\mathbf{\\nabla}}\n",
    "\\newcommand{\\ebx}[1]{e^{\\betav_{#1}^T \\xv_n}}\n",
    "\\newcommand{\\eby}[1]{e^{y_{n,#1}}}\n",
    "\\newcommand{\\Tiv}{\\mathbf{Ti}}\n",
    "\\newcommand{\\Fv}{\\mathbf{F}}\n",
    "\\newcommand{\\ones}[1]{\\mathbf{1}_{#1}}\n",
    "$$"
   ]
  },
  {
   "cell_type": "markdown",
   "metadata": {},
   "source": [
    "<font size=5>Support Vector Machines</font>"
   ]
  },
  {
   "cell_type": "markdown",
   "metadata": {},
   "source": [
    "## Large Margin Classifiers"
   ]
  },
  {
   "cell_type": "markdown",
   "metadata": {},
   "source": [
    "Say we want to classify sample $\\xv_n$ as class $t_n$, where $t_n$ is\n",
    "either $-1$ or $1$.  Let's use a linear classifier defined by weights\n",
    "$\\wv$ plus the bias weight $b$.  But, to allow our classification\n",
    "decisions to be nonlinear in the inputs $\\xv_n$, we will transform the\n",
    "inputs with basis functions $\\phi(\\xv_n)$.\n",
    "\n",
    "For this two-class classification problem, using target value $t_n$\n",
    "of either $-1$ or $1$ for a sample $\\xv_n$, $\\xv_n$ is classified correctly by a linear\n",
    "classifier if $t_n (\\wv^T  \\phi(\\xv_n) + b)  > 0$.\n",
    "\n",
    "![image](http://www.cs.colostate.edu/~anderson/cs545/notebooks/largemargin1.png)\n",
    "\n",
    "Many differents lines will correctly separate these samples. To\n",
    "minimize the chance of misclassifying future data, we will prefer the one for which the smallest\n",
    "perpendicular distance to a training sample is maximized.\n",
    "\n",
    "What is the perpendicular distance, $r$, from the line to a sample,  $\\xv$?  \n",
    "\n",
    "![image](http://www.cs.colostate.edu/~anderson/cs545/notebooks/perpdistance.png)\n",
    "\n",
    "\n",
    "$$\n",
    "    \\begin{align*}\n",
    "      \\xv &= \\vv + r\\frac{\\wv}{||\\wv||} \\\\\n",
    "      \\wv^T (\\xv) + b &= \\wv^T (\\vv  +  r\\frac{\\wv}{||\\wv||}) +b\\\\\n",
    "      \\wv^T \\xv + b &= \\wv^T \\vv + b + \\wv^T r\\frac{\\wv}{||\\wv||} \\\\\n",
    "      y(x) &= 0  + r \\frac{\\wv^T \\wv}{||\\wv||} \\\\\n",
    "      y(x) &= r \\frac{||\\wv||^2}{||\\wv||} \\\\\n",
    "      r  &=  \\frac{y(x)}{||\\wv||} \n",
    "    \\end{align*}\n",
    "$$"
   ]
  },
  {
   "cell_type": "markdown",
   "metadata": {},
   "source": [
    "## Optimization"
   ]
  },
  {
   "cell_type": "markdown",
   "metadata": {},
   "source": [
    "For a correctly classified sample, $\\xv_n$, $t_n y(\\xv_n) >  0$, so the distance of the sample to the boundary is $\\frac{t_n\n",
    "y(\\xv_n)}{||\\wv||}$.\n",
    "\n",
    "So, what we want is\n",
    "\n",
    "$$\n",
    "    \\begin{align*}\n",
    "      \\argmax{\\wv,b} \\left ( \\min_n \\frac{t_n y(\\xv_n)}{||\\wv||} \\right)\\\\\n",
    " =    \\argmax{\\wv,b} \\left ( \\frac{1}{||\\wv||} \\min_n\\; t_n y(\\xv_n) \\right)\n",
    "    \\end{align*}\n",
    "$$\n",
    "\n",
    "This is difficult. Must simplify. Notice that\n",
    "\n",
    "$$\n",
    "      \\begin{align*}\n",
    "        \\frac{t_n y(\\xv_n)}{||\\wv||} &= \\frac{t_n (\\wv^T \\phi(\\xv_n) + b)}{||\\wv||}\\\\\n",
    "        & = \\frac{t_n (c \\wv^T \\phi(\\xv_n) + c b)}{||c\\wv||}\n",
    "      \\end{align*}\n",
    "$$\n",
    "\n",
    "for any $c$. \n",
    "Let's choose a $c$ for which $t (\\wv^T \\phi(\\xv)+ b) = 1$ (once $c$ is absorbed into\n",
    "$\\wv$ and $b$) for the sample $\\xv$ that is closest to the boundary. So $t_n (\\wv^T \\phi(\\xv_n)+ b) \\ge 1$ for all $n$.\n",
    "\n",
    "Now our optimization problem is\n",
    "\n",
    "$$\n",
    "    \\begin{align*}\n",
    "&   \\argmax{\\wv,b} \\left ( \\frac{1}{||\\wv_n||} \\min_n\\; t_n y(\\xv_n) \\right) \\\\\n",
    "&=  \\argmax{\\wv,b} \\left ( \\frac{1}{||\\wv_n||} \\cdot 1 \\right) \\\\\n",
    "&=  \\argmin{\\wv,b} \\left ( ||\\wv_n||\\right) \\\\\n",
    "&=  \\argmin{\\wv,b} \\frac{1}{2} ||\\wv||^2\n",
    "    \\end{align*}\n",
    "$$\n",
    "\n",
    "with the constraint that $t_n(\\wv^T \\phi(\\xv_n) + b) \\ge 1$.\n",
    "\n",
    "Can use algorithms designed for quadratic optimization subject to linear constraints to\n",
    "find optimum $\\wv$, but the following steps usually result in faster solutions."
   ]
  },
  {
   "cell_type": "markdown",
   "metadata": {},
   "source": [
    "## Using Lagrange Multipliers"
   ]
  },
  {
   "cell_type": "markdown",
   "metadata": {},
   "source": [
    "Use Lagrange multipliers, $\\av=\\{\\alpha_1,\\ldots,\\alpha_N\\}$,\n",
    "to include the constraints in the optimization problem. \n",
    "\n",
    "$$\n",
    "    \\begin{align*}\n",
    "L(\\wv,b,\\av) &= \\frac{1}{2} ||\\wv||^2 - \\sum_{n=1}^N \\alpha_n (t_n (\\wv^T\n",
    "\\phi(\\xv_n) + b) - 1)\\\\\n",
    "\\text{We want } & \\argmax{\\av} \\; \\argmin{\\wv,b}\\; L(\\wv,b,\\av)\n",
    "    \\end{align*}\n",
    "$$\n",
    "\n",
    "\n",
    "How can we optimize this?\n",
    "\n",
    "Yep, gradients!\n",
    "\n",
    "First work on inner part ($\\argmin{~}$)\n",
    "\n",
    "$$\n",
    "    \\begin{align*}\n",
    "\\frac{\\partial L} {\\partial \\wv}  &= \\wv - \\sum_{n=1}^N \\alpha_n t_n \\phi(\\xv_n) = 0\\\\\n",
    "\\wv & = \\sum_{n=1}^N \\alpha_n t_n \\phi(\\xv_n)\n",
    "    \\end{align*}\n",
    "$$\n",
    "\n",
    "and\n",
    "\n",
    "$$\n",
    "    \\begin{align*}\n",
    "\\frac{\\partial L} {\\partial b}  = - &\\sum_{n=1}^N \\alpha_n t_n  = 0\\\\\n",
    "&  \\sum_{n=1}^N \\alpha_n t_n  = 0\n",
    "    \\end{align*}\n",
    "$$\n",
    "\n",
    "\n",
    "Substituting these results into $L$ (after some algebraic\n",
    "simplifications) replaces $\\wv$ and $b$ with expressions involving $\\alpha_n$:\n",
    "\n",
    "$$\n",
    "      \\begin{align*}\n",
    "        L(\\wv,b,\\av) &= \\frac{1}{2} \\wv^T \\wv - \\sum_{n=1}^N \\alpha_n (t_n (\\wv^T\n",
    "        \\phi(\\xv_n) + b) - 1)\\\\\n",
    "        &=  \\frac{1}{2} \\wv^T \\wv - \\sum_{n=1}^N \\alpha_n t_n (\\wv^T\n",
    "        \\phi(\\xv_n) + b)  + \\sum_{n=1}^N \\alpha_n\\\\\n",
    "        &= \\frac{1}{2} \\wv^T \\wv - \\wv^T \\sum_{n=1}^N \\alpha_n t_n\n",
    "        \\phi(\\xv_n) - b \\sum_{n=1}^N \\alpha_n t_n  + \\sum_{n=1}^N \\alpha_n\\\\\n",
    "        &=  \\frac{1}{2} \\wv^T \\wv - \\wv^T \\wv  + \\sum_{n=1}^N \\alpha_n\n",
    "        \\;\\;\\;\\;\\;\\;\\;\\;\\;\\;\\text{(substitution happens here)}\\\\\n",
    "        &=   -\\frac{1}{2} \\wv^T \\wv + \\sum_{n=1}^N \\alpha_n\\\\\n",
    "        &=  \\sum_{n=1}^N \\alpha_n   -\\frac{1}{2} \\wv^T \\wv  \\\\\n",
    "        &=  \\sum_{n=1}^N \\alpha_n   -\\frac{1}{2} \\sum_{n=1}^N \\sum_{m=1}^N \\alpha_n\n",
    "        \\alpha_m t_n t_m \\phi(\\xv_n)^T \\phi(\\xv_m)\n",
    "        \\;\\;\\;\\;\\;\\;\\;\\;\\;\\;\\text{(and again, here)}\n",
    "      \\end{align*}\n",
    "$$\n",
    "\n",
    "such that $\\alpha_n \\ge 0$ and $\\sum_{n=1}^N \\alpha_n t_n = 0$.\n",
    "\n",
    "Can optimize (incorrectly) by simply climbing the gradient with respect to $\\av$ and\n",
    "force all $\\alpha_n \\ge 0$.\n",
    "\n",
    "$$\n",
    "    \\begin{align*}\n",
    "      \\frac{\\partial L(\\wv,b,\\av)}{\\partial \\alpha_k} &=  1 -\n",
    "      \\sum_{n=1}^N \\alpha_n t_n t_k \\phi(\\xv_n)^T\n",
    "      \\phi(\\xv_k)\n",
    "    \\end{align*}\n",
    "$$\n",
    "\n",
    "Based on current $\\av$ values, we can calculate $\\wv = \\sum_{n=1}^N\n",
    "\\alpha_n t_n \\phi(\\xv_n)$, and make predictions with  $y(\\xv) = \\wv^T \\phi(\\xv) + b$\n",
    "\n",
    "But, what is $b$? Can show that solution $\\av$ guarantees that\n",
    "\n",
    "$$\n",
    "    \\begin{align*}\n",
    "      \\alpha_n &\\ge 0\\\\\n",
    "      t_n y(\\xv_n) - 1 &\\ge 0\\\\\n",
    "      \\alpha_n (t_n y(\\xv_n) - 1) &= 0\n",
    "    \\end{align*}\n",
    "$$\n",
    "\n",
    "So, for every sample, either $\\alpha_n = 0$ or $t_n y(\\xv_n) = 1$.  \n",
    "\n",
    "All samples for which $\\alpha_n > 0$ are called //support vectors//.\n",
    "\n",
    "So we can use any support vector $\\xv_n$ to find $b$.\n",
    "\n",
    "$$\n",
    "    \\begin{align*}\n",
    "      t_n y(\\xv_n) &= 1\\\\\n",
    "      t_n (\\wv^T \\phi(\\xv_n) + b)  &= 1\\\\\n",
    "      b &= \\frac{1}{t_n} - \\wv^T \\phi(\\xv_n)\n",
    "    \\end{align*}\n",
    "$$\n",
    "\n",
    "Substituting $\\wv = \\sum_{n=1}^N \\alpha_n t_n \\phi(\\xv_n)$ in, we get\n",
    "\n",
    "$$\n",
    "      b = \\frac{1}{t_n} - \\sum_{m=1}^N \\alpha_m t_m \\phi(\\xv_m)^T \\phi(\\xv_n)\n",
    "$$\n",
    "\n",
    "Finally, we can write the discriminant function, $\\delta(\\xv)$ we have found, based\n",
    "on $\\alpha$ and $b$ values.\n",
    "\n",
    "$$\n",
    "\\delta(\\xv) = \\wv^T \\phi(\\xv) + b\n",
    "$$\n",
    "\n",
    "Again, using $\\wv = \\sum_{n=1}^N \\alpha_n t_n \\phi(\\xv_n)$ in, we get\n",
    "\n",
    "$$\n",
    "\\delta(\\xv) = \\sum_{m=1}^N \\alpha_m t_m \\phi(\\xv_m)^T \\phi(\\xv) + b\n",
    "$$"
   ]
  },
  {
   "cell_type": "markdown",
   "metadata": {},
   "source": [
    "## Kernels"
   ]
  },
  {
   "cell_type": "markdown",
   "metadata": {},
   "source": [
    "We found $\\av=\\{\\alpha_1,\\ldots,\\alpha_N\\}$ that maximized\n",
    "$L$.  Many of the $\\alpha_i$'s are zero. Let $S$ be the set of\n",
    "sample indices for support vectors (the samples with $\\alpha_i >\n",
    "0$). Rather than calculating\n",
    "the weight vector $\\wv$, we can leave the summation in place.  \n",
    "\n",
    "Since\n",
    "\n",
    "$$\n",
    "    \\begin{align*}\n",
    "      \\wv &= \\sum_{s\\in S} \\alpha_s t_s \\phi(\\xv_s)\n",
    "    \\end{align*}\n",
    "$$\n",
    "\n",
    "and \n",
    "\n",
    "$$\n",
    "    \\begin{align*}\n",
    "      y(\\xv) &= \\wv^T \\phi(\\xv) + b\n",
    "    \\end{align*}\n",
    "$$\n",
    "\n",
    "we can write\n",
    "\n",
    "$$\n",
    "    \\begin{align*}\n",
    "      y(\\xv) &=  \\sum_{s\\in S} \\alpha_s t_s \\phi(\\xv_s)^T \\phi(\\xv) + b\n",
    "    \\end{align*}\n",
    "$$\n",
    "\n",
    "\n",
    "And, for $b$, for support vector $n$,\n",
    "\n",
    "$$\n",
    "    \\begin{align*}\n",
    "      b &= \\frac{1}{t_n} - \\wv^T \\phi(\\xv_n)\\\\\n",
    "      &= \\frac{1}{t_n} -  \\sum_{s\\in S} \\alpha_s t_s \\phi(\\xv_s)^T \\phi(\\xv_n)\n",
    "    \\end{align*}\n",
    "$$\n",
    "\n",
    "\n",
    "So, $\\phi(\\xv)$ only appears as a dot product with another $\\phi(\\xv)$. \n",
    "\n",
    "Key idea:  Never have to explicitly calculate the feature\n",
    "vector $\\phi(\\xv)$.  Why is this a good idea?\n",
    "\n",
    "If $\\phi(\\xv)$ is high dimensional, would be more efficient if\n",
    "we can calculate $\\phi(\\xv)^T \\phi(\\vv)$ in some way that doesn't\n",
    "require calculating $\\phi(\\xv)$.\n",
    "\n",
    "Let $k(\\xv,\\vv) = \\phi(\\xv)^T \\phi(\\vv)$.  Can we just\n",
    "calculate $k(\\xv,\\vv)$?\n",
    "\n",
    "Here is an example. Let $\\xv$ and $\\vv$ be\n",
    "two-dimensional samples.\n",
    "\n",
    "$$\n",
    "    \\begin{align*}\n",
    "      k(\\xv,\\vv) &=  (\\xv^T \\vv)^2\\\\\n",
    "      &= (x_1 v_1 + x_2 v_2)^2\\\\\n",
    "      &= x_1^2 z_1^2 + 2 x_1 v_1 x_2 v_2 + x_2^2 v_2^2\\\\\n",
    "      &= (x_1^2,\\sqrt{2}x_1 x_2, x_2^2) (v_1^2,\\sqrt{2}v_1 v_2,\n",
    "      v_2^2)^T\\\\\n",
    "      &= \\phi(\\xv)^T \\phi(\\vv)\n",
    "    \\end{align*}\n",
    "$$\n",
    "\n",
    "showing that for basis function $\\phi(\\xv) = (x_1^2, \\sqrt{2}x_1 x_2,\n",
    "x_2^2)$, we have $\\phi(\\xv)^T \\phi(\\vv) = (\\xv^T \\vv)^2$.\n",
    "\n",
    "What if $\\xv$ and $\\vv$ are 100-dimensional?\n",
    "\n",
    "The matrix composed of all $k(\\xv_n,\\xv_m)$ is called the\n",
    "kernel matrix, or the Gram matrix.   It must satisfy certain properties to be a\n",
    "valid kernel matrix, meaning one that can be formed by the dot\n",
    "product of feature vectors.  (symmetric, positive semidefinite)\n",
    "\n",
    "Can combine kernel matrices to form new ones.\n",
    "\n",
    "Another common example is the \"Gaussian\" kernel\n",
    "\n",
    "$$\n",
    "    \\begin{align*}\n",
    "      k(\\xv,\\vv) &= e^{-||\\xv-\\vv||^2 / 2\\sigma^2}\n",
    "    \\end{align*}\n",
    "$$\n",
    "\n",
    "The feature vector that corresponds to this kernel has infinite dimensionality!\n",
    "\n",
    "Can construct kernel matrices from samples with symbolic\n",
    "attributes. If $A_1$ and $A_2$ are two subsets of a given set,\n",
    "then  the following is a valid kernel function.\n",
    "\n",
    "$$\n",
    "    \\begin{align*}\n",
    "      k(A_1,A_2) &= 2^{|A_1 \\cap A_2|}\n",
    "    \\end{align*}\n",
    "$$\n",
    "\n",
    "\n",
    "Let's put this kernel to use.  Our key equations from above were\n",
    "\n",
    "$$\n",
    "    \\begin{align*}\n",
    "      \\frac{\\partial L(\\wv,b,\\av)}{\\partial \\alpha_k} &=  1 -\n",
    "      \\sum_{n=1}^N \\alpha_n t_n t_k \\phi(\\xv_n)^T\n",
    "      \\phi(\\xv_k)\\\\\n",
    "      b &= \\frac{1}{t_n} - \\sum_{m=1}^N \\alpha_m t_m \\phi(\\xv_m)^T \\phi(\\xv_n)\\\\\n",
    "      \\delta(\\xv) &= \\sum_{m=1}^N \\alpha_m t_m \\phi(\\xv_m)^T \\phi(\\xv) + b\n",
    "    \\end{align*}\n",
    "$$\n",
    "\n",
    "With the kernel matrix $K$, these become\n",
    "\n",
    "$$\n",
    "    \\begin{align*}\n",
    "      \\frac{\\partial L(\\wv,b,\\av)}{\\partial \\alpha_k} &=  1 -\n",
    "      \\sum_{n=1}^N \\alpha_n t_n t_k K(\\xv_n,\\xv_k)\\\\\n",
    "      b &= \\frac{1}{t_n} - \\sum_{m=1}^N \\alpha_m t_m K(\\xv_m,\\xv_n)\\\\\n",
    "      \\delta(\\xv) &= \\sum_{m=1}^N \\alpha_m t_m K(\\xv_m,\\xv) + b\n",
    "    \\end{align*}\n",
    "$$"
   ]
  },
  {
   "cell_type": "markdown",
   "metadata": {},
   "source": [
    "## Python"
   ]
  },
  {
   "cell_type": "markdown",
   "metadata": {},
   "source": [
    "Need brains...no, I mean, matrices.\n",
    "\n",
    "For the gradient with respect to all $\\alpha$, we have\n",
    "\n",
    "$$\n",
    "    \\begin{align*}\n",
    "      \\grad_\\alpha{L(\\wv,b,\\av)} = 1 - t_* \\cdot \n",
    "      \\sum_{n=1}^N \\alpha_n t_n K(\\xv_n,\\xv_*)\n",
    "    \\end{align*}\n",
    "$$\n",
    "\n",
    "In python, if *X* is our matrix of\n",
    "training samples, one per row, we have\n",
    "\n",
    "     for n in range(N):\n",
    "         for k in range(N):\n",
    "             K[n,k] = kernelF(X[n,:],X[k,:])\n",
    "\n",
    "With *T* being a column vector of $1$'s and $-1$'s, designating\n",
    "which of the two classes each sample belongs to, and //alpha// being a\n",
    "column vector of $\\alpha$ values for each sample, the gradient is\n",
    "written\n",
    "\n",
    "     1 - T * (alpha.T @ (T * K)).T\n",
    "\n",
    "So, a step up this gradient is\n",
    "\n",
    "     alpha = alpha + rho/N * (1 - T * (alpha.T @ (T * K)).T\n",
    "\n",
    "The value of $b$ is\n",
    "\n",
    "$$\n",
    "      b = \\frac{1}{t_n} - \\sum_{m=1}^N \\alpha_m t_m K(\\xv_m,\\xv_n)\n",
    "$$\n",
    "\n",
    "for any $n$ for which $\\alpha_n>0$.  If $i$ is the lowest such value,\n",
    "\n",
    "$$\n",
    "      b = \\frac{1}{t_i} - \\sum_{m=1}^N \\alpha_m t_m K(\\xv_m,\\xv_i)\n",
    "$$\n",
    "\n",
    "is calculated as\n",
    "\n",
    "     i = np.where(alpha>0)[0][0]\n",
    "     b = 1/T[i] - ((alpha * T).T @ K[:,i])\n",
    "\n",
    "The discriminant function is now, for input vector $\\xv$,\n",
    "\n",
    "$$\n",
    "      \\delta(\\xv) = \\sum_{m=1}^N \\alpha_m t_m K(\\xv_m,\\xv) + b\n",
    "$$\n",
    "\n",
    "is\n",
    "\n",
    "     for m in range(N):\n",
    "         Kd[m, 0] = kernelF(X[m, :], x)\n",
    "     d = ((alpha * T).T @ K[:, 0]) + b"
   ]
  },
  {
   "cell_type": "markdown",
   "metadata": {},
   "source": [
    "## Example"
   ]
  },
  {
   "cell_type": "code",
   "execution_count": 1,
   "metadata": {
    "ExecuteTime": {
     "end_time": "2021-11-16T22:11:28.967481Z",
     "start_time": "2021-11-16T22:11:28.552865Z"
    }
   },
   "outputs": [],
   "source": [
    "import numpy as np\n",
    "import matplotlib.pyplot as plt\n",
    "%matplotlib inline\n",
    "from IPython.display import display, clear_output"
   ]
  },
  {
   "cell_type": "code",
   "execution_count": 2,
   "metadata": {
    "ExecuteTime": {
     "end_time": "2021-11-16T22:11:40.578938Z",
     "start_time": "2021-11-16T22:11:40.565836Z"
    }
   },
   "outputs": [],
   "source": [
    " def svm(X, T, kernel_f, kernelName, rho, steps_per_display=10, steps=1000):\n",
    "\n",
    "    # Initialize kernel values\n",
    "    N = X.shape[0]\n",
    "    K = np.zeros((N,N))\n",
    "    for i in range(N):\n",
    "        for j in range(N):\n",
    "            K[i, j] = kernel_f(X[i, :], X[j, :])\n",
    " \n",
    "    # Initialize alpha values to 0.5\n",
    "    alpha = np.array([0.5] * N).reshape((-1, 1))\n",
    "    \n",
    "    # history vectors for plotting\n",
    "    Lds = np.zeros(steps)\n",
    "    nalphas = np.zeros(steps)\n",
    "\n",
    "    for reps in range(steps):\n",
    "        \n",
    "        dLddak = 1 - T * (alpha.T @ (T * K)).T\n",
    "        alpha += rho/N * dLddak\n",
    "\n",
    "        alpha -= rho/N * (alpha.T @ T) * T\n",
    "        \n",
    "        # Enforce constraint that all alphas are >= 0\n",
    "        alpha[alpha < 0] = 0\n",
    "\n",
    "        # When 100th rep is reached, update graphics less often\n",
    "        if reps == 200:\n",
    "            steps_per_display *= 100\n",
    "\n",
    "        TT = T @ T.T\n",
    "        aa = alpha @ alpha.T\n",
    "        s = np.sum(aa * TT * K)\n",
    "        Ld = np.sum(alpha) - 0.5 * s\n",
    "        Lds[reps] = Ld\n",
    "        nalphas[reps] = np.sum(alpha > 0)\n",
    "\n",
    "        # From here to end is all for graphic display\n",
    "        if (reps + 1) % steps_per_display == 0:\n",
    "            \n",
    "            # Make discriminant function\n",
    "            i = np.where(alpha > 0)[0][0]  #first nonzero alpha\n",
    "            betazero = 1 / T[i] - (alpha * T).T @ K[:, i]\n",
    "            \n",
    "            def disc_f(x):\n",
    "                Kdisc = np.zeros((x.shape[0] ,N))\n",
    "                for j in range(x.shape[0]):\n",
    "                    for i in range(N):\n",
    "                        Kdisc[j, i] = kernel_f(x[j: j+1,:], X[i, :])\n",
    "                return Kdisc @ (T * alpha) + betazero\n",
    "\n",
    "            xs = np.linspace(np.min(X), np.max(X), 10)\n",
    "            Xs, Ys = np.meshgrid(xs, xs)\n",
    "            points = np.vstack((Xs.flat, Ys.flat)).T\n",
    "            d = disc_f(points)\n",
    "            d.resize(Xs.shape)\n",
    "            \n",
    "            fig.clf()\n",
    "\n",
    "            plt.subplot(2, 2, 1)\n",
    "            plt.contourf(Xs, Ys, d, [-np.inf, 0, np.inf], colors=[\"red\", \"blue\"], alpha=0.3)\n",
    "            mask = alpha > 0\n",
    "            colors = [\"red\", \"blue\"]  # by class\n",
    "            if sum(mask == False) > 0:\n",
    "                rows = np.logical_and(mask == False, T < 0).flatten()\n",
    "                plt.plot(X[rows, 0], X[rows, 1], '.', color=colors[0])\n",
    "                rows = np.logical_and(mask == False, T > 0).flatten()\n",
    "                plt.plot(X[rows, 0], X[rows, 1], '.', color=colors[1])\n",
    "            rows = np.logical_and(mask, T < 0).flatten()\n",
    "            plt.plot(X[rows, 0], X[rows, 1], 'o', color=colors[0], ms=10)\n",
    "            rows = np.logical_and(mask, T > 0).flatten()\n",
    "            plt.plot(X[rows, 0], X[rows, 1], 'o', color=colors[1], ms=10)\n",
    "            plt.xlabel(\"$x_1$\")\n",
    "            plt.ylabel(\"$x_2$\")\n",
    "            plt.title(kernelName)\n",
    "            \n",
    "            plt.subplot(2, 2, 2)\n",
    "            plt.plot(Lds[:reps])\n",
    "            plt.xlabel(\"Steps\")\n",
    "            plt.ylabel(\"$L_D$\")\n",
    "\n",
    "            plt.subplot(2, 2, 3)\n",
    "            plt.plot(alpha,'o')\n",
    "            plt.ylabel('alpha')\n",
    "            plt.ylim(0,max(1.2, np.max(alpha)))\n",
    "\n",
    "            plt.subplot(2, 2, 4)\n",
    "            plt.plot(nalphas[:reps])\n",
    "            plt.xlabel(\"Steps\")\n",
    "            plt.ylabel(\"Num support vectors\")\n",
    "            plt.ylim(0, N + 2)\n",
    "            \n",
    "            plt.tight_layout()\n",
    "            \n",
    "            clear_output(wait=True)\n",
    "            display(fig)\n",
    "    \n",
    "    clear_output(wait=True)"
   ]
  },
  {
   "cell_type": "code",
   "execution_count": 3,
   "metadata": {
    "ExecuteTime": {
     "end_time": "2021-11-16T22:11:43.235695Z",
     "start_time": "2021-11-16T22:11:43.230357Z"
    }
   },
   "outputs": [],
   "source": [
    "## First class centers\n",
    "m1 = np.array([-1, -2])\n",
    "m2 = np.array([2, 3])\n",
    "\n",
    "## Second class centers\n",
    "m3 = np.array([-2, 4]) * 2\n",
    "m4 = np.array([3, 0]) * 2\n",
    "\n",
    "nTrain = 200\n",
    "\n",
    "X1 = np.vstack(( np.random.normal(0, 1, (nTrain, 2)) + m1,\n",
    "                 np.random.normal(0, 1, (nTrain, 2)) + m2))\n",
    "X2 = np.vstack(( np.random.normal(0, 1, (nTrain, 2)) + m3,\n",
    "                 np.random.normal(0, 1, (nTrain, 2)) + m4))\n",
    "X = np.vstack((X1, X2))\n",
    "T = np.array([-1] * nTrain * 2 + [1] * nTrain * 2).reshape((-1, 1))"
   ]
  },
  {
   "cell_type": "code",
   "execution_count": 21,
   "metadata": {
    "ExecuteTime": {
     "end_time": "2021-11-16T22:20:06.286442Z",
     "start_time": "2021-11-16T22:20:06.282489Z"
    }
   },
   "outputs": [],
   "source": [
    "### Kernels\n",
    "def kernel_gaussian(xi, xj):\n",
    "    return np.exp(-np.sum((xi - xj)**2) / 20.0)\n",
    "\n",
    "def kernel_linear(xi, xj):\n",
    "    return np.dot(xi, xj)\n",
    "\n",
    "def kernel_poly(xi, xj):\n",
    "    degree = 4\n",
    "    return (1 + np.dot(xi, xj)) ** degree\n",
    "    \n",
    "funcs = [kernel_linear, kernel_poly, kernel_gaussian]\n",
    "kernel_names = ['Linear Kernel', 'Degree 4 Polynomial Kernel', 'Gaussian Kernel']\n",
    "rhos = [1.e-2, 1.e-8, 1.e-1]"
   ]
  },
  {
   "cell_type": "code",
   "execution_count": 22,
   "metadata": {
    "ExecuteTime": {
     "end_time": "2021-11-16T22:20:06.566640Z",
     "start_time": "2021-11-16T22:20:06.563159Z"
    }
   },
   "outputs": [
    {
     "data": {
      "text/plain": [
       "[(0, 'Linear Kernel'),\n",
       " (1, 'Degree 4 Polynomial Kernel'),\n",
       " (2, 'Gaussian Kernel')]"
      ]
     },
     "execution_count": 22,
     "metadata": {},
     "output_type": "execute_result"
    }
   ],
   "source": [
    "[(i,k) for i, k in enumerate(kernel_names)]"
   ]
  },
  {
   "cell_type": "code",
   "execution_count": 23,
   "metadata": {
    "ExecuteTime": {
     "end_time": "2021-11-16T22:21:26.939441Z",
     "start_time": "2021-11-16T22:20:06.731540Z"
    }
   },
   "outputs": [
    {
     "data": {
      "image/png": "[encoded data removed]",
      "text/plain": [
       "<Figure size 720x720 with 4 Axes>"
      ]
     },
     "metadata": {
      "needs_background": "light"
     },
     "output_type": "display_data"
    }
   ],
   "source": [
    "kerneli = 1\n",
    "\n",
    "kernel_name = kernel_names[kerneli]\n",
    "print(\"using kernel\", kernel_name)\n",
    "\n",
    "fig = plt.figure(figsize=(10, 10))\n",
    "\n",
    "svm(X, T, funcs[kerneli], kernel_name, rhos[kerneli], steps_per_display=10, steps=10000)"
   ]
  },
  {
   "cell_type": "markdown",
   "metadata": {
    "collapsed": true
   },
   "source": [
    "The function being optimized, $L$, is a quadratic function in the parameters with constraints.  Optimization algorithms have been developed for this that are more efficient than gradient-based optimizers.  See the discussion  [here](http://stackoverflow.com/questions/17009774/quadratic-program-qp-solver-that-only-depends-on-numpy-scipy) that mentions the use of [cvxopt](http://cvxopt.org/) and [mystic](https://github.com/uqfoundation).  In fact, demonstrating how to apply these to the optimization of SVMs and comparing to the gradient approach described here, plus the use of SCG, would make a very nice project!"
   ]
  },
  {
   "cell_type": "markdown",
   "metadata": {},
   "source": [
    "We can also try the SVM implementation in the scikit-learn package.  Here is its [documentation](http://scikit-learn.org/stable/modules/generated/sklearn.svm.SVC.html)."
   ]
  },
  {
   "cell_type": "code",
   "execution_count": 24,
   "metadata": {
    "ExecuteTime": {
     "end_time": "2021-11-16T22:21:39.049579Z",
     "start_time": "2021-11-16T22:21:39.042869Z"
    }
   },
   "outputs": [
    {
     "data": {
      "text/plain": [
       "SVC(degree=4, kernel='poly')"
      ]
     },
     "execution_count": 24,
     "metadata": {},
     "output_type": "execute_result"
    }
   ],
   "source": [
    "import sklearn.svm as sksvm\n",
    "\n",
    "# model = sksvm.SVC(kernel='linear', gamma='scale')\n",
    "model = sksvm.SVC(kernel='poly', degree=4, gamma='scale')\n",
    "# model = sksvm.SVC(kernel='rbf', gamma='scale')\n",
    "\n",
    "model.fit(X, T.ravel())"
   ]
  },
  {
   "cell_type": "code",
   "execution_count": 25,
   "metadata": {
    "ExecuteTime": {
     "end_time": "2021-11-16T22:21:39.379111Z",
     "start_time": "2021-11-16T22:21:39.375607Z"
    }
   },
   "outputs": [
    {
     "data": {
      "text/plain": [
       "(43, 2)"
      ]
     },
     "execution_count": 25,
     "metadata": {},
     "output_type": "execute_result"
    }
   ],
   "source": [
    "svs = np.array(model.support_vectors_)\n",
    "svs.shape"
   ]
  },
  {
   "cell_type": "code",
   "execution_count": 26,
   "metadata": {
    "ExecuteTime": {
     "end_time": "2021-11-16T22:21:39.901796Z",
     "start_time": "2021-11-16T22:21:39.775129Z"
    }
   },
   "outputs": [
    {
     "data": {
      "image/png": "[encoded data removed]",
      "text/plain": [
       "<Figure size 576x576 with 1 Axes>"
      ]
     },
     "metadata": {
      "needs_background": "light"
     },
     "output_type": "display_data"
    }
   ],
   "source": [
    "fig = plt.figure(figsize=(8, 8))\n",
    "\n",
    "xs = np.linspace(np.min(X), np.max(X), 100)  # Only change is here\n",
    "Xs,Ys = np.meshgrid(xs, xs)\n",
    "points = np.vstack((Xs.flat, Ys.flat)).T\n",
    "d = model.predict(points)\n",
    "d.resize(Xs.shape)\n",
    "colors = ['red', 'blue']\n",
    "plt.contourf(Xs, Ys, d, [-np.inf, 0, np.inf], colors=colors, alpha=0.3)\n",
    "\n",
    "mask = (T < 0).ravel()\n",
    "plt.plot(X[mask, 0], X[mask, 1], '.', color=colors[0])\n",
    "\n",
    "mask = (T > 0).ravel()\n",
    "plt.plot(X[mask, 0], X[mask, 1], '.', color=colors[1])\n",
    "\n",
    "plt.plot(svs[:, 0], svs[:, 1], 'o', color='yellow', ms=10);"
   ]
  },
  {
   "cell_type": "code",
   "execution_count": null,
   "metadata": {},
   "outputs": [],
   "source": []
  }
 ],
 "metadata": {
  "anaconda-cloud": {},
  "kernelspec": {
   "display_name": "Python 3 (ipykernel)",
   "language": "python",
   "name": "python3"
  },
  "language_info": {
   "codemirror_mode": {
    "name": "ipython",
    "version": 3
   },
   "file_extension": ".py",
   "mimetype": "text/x-python",
   "name": "python",
   "nbconvert_exporter": "python",
   "pygments_lexer": "ipython3",
   "version": "3.8.12"
  },
  "toc": {
   "base_numbering": 1,
   "nav_menu": {},
   "number_sections": true,
   "sideBar": true,
   "skip_h1_title": false,
   "title_cell": "Table of Contents",
   "title_sidebar": "Contents",
   "toc_cell": true,
   "toc_position": {
    "height": "calc(100% - 180px)",
    "left": "10px",
    "top": "150px",
    "width": "344.446px"
   },
   "toc_section_display": true,
   "toc_window_display": false
  }
 },
 "nbformat": 4,
 "nbformat_minor": 1
}
