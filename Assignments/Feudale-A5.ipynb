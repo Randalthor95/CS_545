{
 "cells": [
  {
   "cell_type": "markdown",
   "id": "db9e155b",
   "metadata": {},
   "source": [
    "# A5 Reinforcement Learning for Marble with Variable Goal"
   ]
  },
  {
   "cell_type": "markdown",
   "id": "7b497876",
   "metadata": {},
   "source": [
    "For this assignment, start with the `19 Reinforcement Learning Modular Framework` notebook.  Recall that this code used reinforcement learning to learn to push a marble towards the goal position of 5 and keep it there.\n",
    "\n",
    "(30 points) <font color=\"red\">Modify the code</font> to allow any goal position from 1 to 9.  Modify the agent so that it includes the goal in the state, allowing the agent to learn to push the marble to any given goal.  The objective is an agent that can directly move the marble to a specified goal without any further training. Randomly set the goal to an integer from 1 to 9 at the start of each trial.\n",
    "\n",
    "(20 points) <font color='red'>Discuss</font> what you modified in the code for this assignment."
   ]
  },
  {
   "cell_type": "code",
   "execution_count": 1,
   "id": "e78c4b89-62a3-4b37-b645-3734e5c1c4e7",
   "metadata": {},
   "outputs": [],
   "source": [
    "import numpy as np\n",
    "import matplotlib.pyplot as plt\n",
    "\n",
    "%matplotlib inline\n",
    "import neuralnetworks_A4 as nn  # from A4\n",
    "\n",
    "from IPython.display import display, clear_output"
   ]
  },
  {
   "cell_type": "code",
   "execution_count": 2,
   "id": "3a0e412b-94c9-48e9-9db2-145958f4615f",
   "metadata": {
    "ExecuteTime": {
     "end_time": "2021-10-29T22:00:01.049501Z",
     "start_time": "2021-10-29T22:00:01.046168Z"
    },
    "code_folding": []
   },
   "outputs": [],
   "source": [
    "from abc import ABC, abstractmethod\n",
    "\n",
    "\n",
    "class Environment(ABC):\n",
    "    def __init__(self, valid_actions):\n",
    "        self.valid_actions = valid_actions\n",
    "\n",
    "    @abstractmethod\n",
    "    def initial_state(self):\n",
    "        return state  # the initial state\n",
    "\n",
    "    @abstractmethod\n",
    "    def next_state(self, state, action):\n",
    "        return next_state\n",
    "\n",
    "    @abstractmethod\n",
    "    def reinforcement(self, state):\n",
    "        return r  # scalar reinforcement\n",
    "\n",
    "    def terminal_state(self, state):\n",
    "        return False  # True if state is terminal state"
   ]
  },
  {
   "cell_type": "markdown",
   "id": "cc33c04a-e172-44c7-b2ed-8ce59dd41307",
   "metadata": {},
   "source": [
    "If abstract methods are not defined in a class derived from `Environment`, we cannot instantiate an instance of that class."
   ]
  },
  {
   "cell_type": "code",
   "execution_count": 3,
   "id": "1f1be537-f7da-4c12-b610-cc4eb7c371a1",
   "metadata": {
    "ExecuteTime": {
     "end_time": "2021-10-29T22:00:01.536637Z",
     "start_time": "2021-10-29T22:00:01.534309Z"
    }
   },
   "outputs": [],
   "source": [
    "class Marble(Environment):\n",
    "    def reinforcement(self, state):\n",
    "        return 1"
   ]
  },
  {
   "cell_type": "code",
   "execution_count": 4,
   "id": "e61c1922-79da-4405-bb21-4c0191270792",
   "metadata": {
    "ExecuteTime": {
     "end_time": "2021-10-29T22:00:02.139479Z",
     "start_time": "2021-10-29T22:00:02.134530Z"
    }
   },
   "outputs": [],
   "source": [
    "class Marble(Environment):\n",
    "    def __init__(self, valid_actions):\n",
    "        super().__init__(valid_actions)\n",
    "\n",
    "    def initial_state(self, goal=5):\n",
    "        return np.array([10 * np.random.uniform(), 0.0, goal])\n",
    "\n",
    "    def next_state(self, state, action):\n",
    "        \"\"\"[0] is position, s[1] is velocity. a is -1, 0 or 1\"\"\"\n",
    "        next_state = state.copy()\n",
    "        deltaT = 0.1  # Euler integration time step\n",
    "        next_state[0] += deltaT * state[1]  # Update position\n",
    "        force = action\n",
    "        mass = 0.5\n",
    "        next_state[1] += deltaT * (\n",
    "            force / mass - 0.2 * state[1]\n",
    "        )  # Update velocity. Includes friction\n",
    "\n",
    "        # Bound next position. If at limits, set velocity to 0.\n",
    "        if next_state[0] < 0:\n",
    "            next_state = [\n",
    "                0.0,\n",
    "                0.0,\n",
    "                state[2],\n",
    "            ]  # these constants as ints were causing the errors we discussed in class. I DON'T KNOW WHY!!\n",
    "        elif next_state[0] > 10:\n",
    "            next_state = [10.0, 0.0, state[2]]\n",
    "\n",
    "        return next_state\n",
    "\n",
    "    def reinforcement(self, state):\n",
    "        # goal = state[2]\n",
    "        return 0 if abs(state[0] - state[2]) < 1 else -1\n",
    "\n",
    "    def terminal_state(self, state):\n",
    "        return False"
   ]
  },
  {
   "cell_type": "code",
   "execution_count": 5,
   "id": "b4713c85-6625-4d47-9d5e-59785fc38363",
   "metadata": {
    "ExecuteTime": {
     "end_time": "2021-10-29T22:00:02.561151Z",
     "start_time": "2021-10-29T22:00:02.558733Z"
    }
   },
   "outputs": [],
   "source": [
    "marble = Marble(np.array([-1, 0, 1]))"
   ]
  },
  {
   "cell_type": "markdown",
   "id": "14a7771d-aec7-4c63-b39d-251bf1182420",
   "metadata": {},
   "source": [
    "Now we can define an abstract class for a generic `Agent`."
   ]
  },
  {
   "cell_type": "code",
   "execution_count": 6,
   "id": "5380b73d-1888-40ea-833e-9f4a2bcd5763",
   "metadata": {
    "ExecuteTime": {
     "end_time": "2021-10-29T22:00:03.244606Z",
     "start_time": "2021-10-29T22:00:03.239250Z"
    },
    "code_folding": []
   },
   "outputs": [],
   "source": [
    "class Agent(ABC):\n",
    "    def __init__(self, environment):\n",
    "        self.environment = environment\n",
    "\n",
    "    @abstractmethod\n",
    "    def make_samples(self, n_samples, epsilon):\n",
    "        return X, R, Qn, terminal_state\n",
    "\n",
    "    def update_Qn(self, X, Qn, terminal_state):\n",
    "        n_samples = X.shape[0]\n",
    "        for i in range(n_samples - 1):\n",
    "            if not terminal_state[i + 1]:\n",
    "                Qn[i] = self.use(X[i + 1])\n",
    "        return Qn\n",
    "\n",
    "    def epsilon_greedy(self, state, epsilon):\n",
    "        valid_actions = self.environment.valid_actions\n",
    "\n",
    "        if np.random.uniform() < epsilon:\n",
    "            # Random Move\n",
    "            action = np.random.choice(valid_actions)\n",
    "        else:\n",
    "            # Greedy Move\n",
    "            Qs = [\n",
    "                self.use(np.hstack((state, a)).reshape((1, -1))) for a in valid_actions\n",
    "            ]\n",
    "            ai = np.argmax(Qs)\n",
    "            action = valid_actions[ai]\n",
    "\n",
    "        return action\n",
    "\n",
    "    @abstractmethod\n",
    "    def train(self):\n",
    "        return\n",
    "\n",
    "    @abstractmethod\n",
    "    def use(self, X):\n",
    "        return  # Q values for each row of X, each consisting of state and action"
   ]
  },
  {
   "cell_type": "code",
   "execution_count": 7,
   "id": "ed982fbd-5395-43c1-b303-ba35cbd6b690",
   "metadata": {
    "ExecuteTime": {
     "end_time": "2021-10-29T22:00:03.828619Z",
     "start_time": "2021-10-29T22:00:03.816972Z"
    },
    "code_folding": []
   },
   "outputs": [],
   "source": [
    "class Qnet(Agent):\n",
    "    def __init__(\n",
    "        self,\n",
    "        environment,\n",
    "        hidden_layers,\n",
    "        X_means=None,\n",
    "        X_stds=None,\n",
    "        Q_means=None,\n",
    "        Q_stds=None,\n",
    "    ):\n",
    "        self.environment = environment\n",
    "\n",
    "        # assumes state is an np.array, passes in dummy goal\n",
    "        state_size = environment.initial_state().size\n",
    "        valid_actions = environment.valid_actions\n",
    "        action_size = 1 if valid_actions.ndim == 1 else valid_actions.shape[1]\n",
    "        self.Qnet = nn.NeuralNetwork(state_size + action_size, hidden_layers, 1)\n",
    "        if X_means:\n",
    "            self.Qnet.X_means = np.array(X_means)\n",
    "            self.Qnet.X_stds = np.array(X_stds)\n",
    "            self.Qnet.T_means = np.array(Q_means)\n",
    "            self.Qnet.T_stds = np.array(Q_stds)\n",
    "\n",
    "    def make_samples(self, n_samples, epsilon, goal):\n",
    "\n",
    "        # assumes state is an np.array\n",
    "        state_size = self.environment.initial_state(goal).size\n",
    "        valid_actions = self.environment.valid_actions\n",
    "        action_size = 1 if valid_actions.ndim == 1 else valid_actions.shape[1]\n",
    "\n",
    "        X = np.zeros((n_samples, state_size + action_size))\n",
    "        R = np.zeros((n_samples, 1))\n",
    "        Qn = np.zeros((n_samples, 1))\n",
    "        terminal_state = np.zeros((n_samples, 1), dtype=bool)  # All False values\n",
    "\n",
    "        state = self.environment.initial_state(goal)\n",
    "        state = self.environment.next_state(state, 0)  # Update state, sn from s and a\n",
    "        action = self.epsilon_greedy(state, epsilon)\n",
    "\n",
    "        # Collect data from n_samples steps\n",
    "        for step in range(n_samples):\n",
    "\n",
    "            next_state = self.environment.next_state(\n",
    "                state, action\n",
    "            )  # Update state, sn from s and a\n",
    "            r = self.environment.reinforcement(\n",
    "                state\n",
    "            )  # Calculate resulting reinforcement\n",
    "            next_action = self.epsilon_greedy(next_state, epsilon)\n",
    "            X[step, :] = np.hstack((state, action))\n",
    "            R[step, 0] = r\n",
    "            if self.environment.terminal_state(state):\n",
    "                terminal_state[step, 0] = True\n",
    "                Qn[step, 0] = 0\n",
    "            else:\n",
    "                Qn[step, 0] = self.use(np.hstack((next_state, next_action)))\n",
    "            # Advance one time step\n",
    "            state, action = next_state, next_action\n",
    "\n",
    "        return X, R, Qn, terminal_state\n",
    "\n",
    "    def update_Qn(self, X, Qn, terminal_state):\n",
    "        n_samples = X.shape[0]\n",
    "        for i in range(n_samples - 1):\n",
    "            if not terminal_state[i + 1]:\n",
    "                Qn[i] = self.use(X[i + 1])\n",
    "        return Qn\n",
    "\n",
    "    def train(\n",
    "        self,\n",
    "        n_trials,\n",
    "        n_steps_per_trial,\n",
    "        n_epochs,\n",
    "        method,\n",
    "        learning_rate,\n",
    "        gamma,\n",
    "        epsilon,\n",
    "        final_epsilon,\n",
    "        trial_callback=None,\n",
    "    ):\n",
    "\n",
    "        if trial_callback:\n",
    "            fig = plt.figure(figsize=(10, 10))\n",
    "\n",
    "        epsilon_decay = np.exp(\n",
    "            np.log(final_epsilon) / n_trials\n",
    "        )  # to produce this final value\n",
    "        print(\"epsilon_decay is\", epsilon_decay)\n",
    "        epsilon_trace = np.zeros(n_trials)\n",
    "        r_trace = np.zeros(n_trials)\n",
    "\n",
    "        for trial in range(n_trials):\n",
    "            goal = np.random.uniform(low=1, high=10, size=(1,)).astype(int)\n",
    "            X, R, Qn, terminal_state = self.make_samples(\n",
    "                n_steps_per_trial, epsilon, goal[0]\n",
    "            )\n",
    "\n",
    "            for epoch in range(n_epochs):\n",
    "                self.Qnet.train(\n",
    "                    X,\n",
    "                    R + gamma * Qn,\n",
    "                    1,\n",
    "                    method=method,\n",
    "                    learning_rate=learning_rate,\n",
    "                    batch_size=-1,\n",
    "                    verbose=False,\n",
    "                )\n",
    "                self.update_Qn(X, Qn, terminal_state)\n",
    "\n",
    "            epsilon *= epsilon_decay\n",
    "\n",
    "            # Rest is for plotting\n",
    "            epsilon_trace[trial] = epsilon\n",
    "            r_trace[trial] = np.mean(R)\n",
    "\n",
    "            if trial_callback and (\n",
    "                trial + 1 == n_trials or trial % (n_trials / 50) == 0\n",
    "            ):\n",
    "                fig.clf()\n",
    "                trial_callback(agent, trial, n_trials, X, epsilon_trace, r_trace)\n",
    "                clear_output(wait=True)\n",
    "                display(fig)\n",
    "\n",
    "        if trial_callback:\n",
    "            clear_output(wait=True)\n",
    "\n",
    "        return epsilon_trace, r_trace\n",
    "\n",
    "    def use(self, X):\n",
    "        return self.Qnet.use(X)"
   ]
  },
  {
   "cell_type": "code",
   "execution_count": 15,
   "id": "8c24eae0-cc38-43c9-8496-d2c3f4654e4b",
   "metadata": {
    "ExecuteTime": {
     "end_time": "2021-10-29T22:12:26.627651Z",
     "start_time": "2021-10-29T22:08:11.942172Z"
    },
    "lines_to_next_cell": 2,
    "tags": []
   },
   "outputs": [
    {
     "name": "stdout",
     "output_type": "stream",
     "text": [
      "epsilon_decay is 0.9977000638225533\n"
     ]
    }
   ],
   "source": [
    "marble = Marble(valid_actions=np.array([-1, 0, 1]))\n",
    "\n",
    "agent = Qnet(\n",
    "    marble,\n",
    "    hidden_layers=[20, 15, 5, 5],\n",
    "    X_means=[5, 0, 0, 5],\n",
    "    X_stds=[2, 2, 0.8, 1],\n",
    "    Q_means=[-2],\n",
    "    Q_stds=[1],\n",
    ")\n",
    "\n",
    "plt.ion()\n",
    "\n",
    "epsilon_trace, r_trace = agent.train(\n",
    "    n_trials=1000,\n",
    "    n_steps_per_trial=200,\n",
    "    n_epochs=500,\n",
    "    method=\"sgd\",\n",
    "    learning_rate=0.08,\n",
    "    gamma=0.9,\n",
    "    epsilon=1,\n",
    "    final_epsilon=0.1,\n",
    "    # trial_callback=plot_status,\n",
    ")"
   ]
  },
  {
   "cell_type": "markdown",
   "id": "8d61d733-b46c-43ae-ab94-b26a3a74f5ad",
   "metadata": {},
   "source": [
    "TODO DICUSSS CHANGES"
   ]
  },
  {
   "cell_type": "markdown",
   "id": "97a1d579-534f-4114-a590-7b72143c8807",
   "metadata": {},
   "source": [
    "(20 points) <font color='red'>Add some code</font> at the end of the notebook that applies the trained agent to the marble at goals from 1 to 9.  For each goal, start the marble at positions 0 through 10 with zero velocity and the specified goal and applies the trained agent to control the marble for 200 steps.  Calculate the distance of the final state from the goal.  Average this distance over all starting positions for the specified goal and store in a numpy array with one row for each goal and each row containing the goal and the average of distances to goal over all starting positions. Call this numpy array, `distances_to_goal`.  Plot the results of these average distances versus the goal.\n",
    "\n",
    "(10 points) <font color='red'>Explore different parameter values</font>, including the network hidden layer structure, number of trials, number of steps per trial, learning rate, number of epochs, and final epsilon value to try to get the best results for `distances_to_goal`.\n",
    "\n",
    "(20 points) <font color='red'>Discuss</font> the results, and discuss which parameter values seem to perform well."
   ]
  },
  {
   "cell_type": "code",
   "execution_count": 17,
   "id": "df822068-6fcb-4ae0-8479-272cb672a50a",
   "metadata": {
    "jupyter": {
     "source_hidden": true
    },
    "tags": []
   },
   "outputs": [
    {
     "name": "stdout",
     "output_type": "stream",
     "text": [
      "7.0853483062729055 4.0853483062729055\n"
     ]
    },
    {
     "data": {
      "text/plain": [
       "Text(0.5, 1.0, 'State Trajectories for $\\\\epsilon=0$')"
      ]
     },
     "execution_count": 17,
     "metadata": {},
     "output_type": "execute_result"
    },
    {
     "data": {
      "image/png": "[encoded data removed]",
      "text/plain": [
       "<Figure size 432x288 with 1 Axes>"
      ]
     },
     "metadata": {
      "needs_background": "light"
     },
     "output_type": "display_data"
    }
   ],
   "source": [
    "# n_steps_per_trial = 200\n",
    "# state = [6, 0, 3]  # 0 velocity\n",
    "# x_trace = np.zeros((n_steps_per_trial, 3))\n",
    "# for step in range(0, n_steps_per_trial):\n",
    "#     action = agent.epsilon_greedy(state, 0.0)  # epsilon = 0\n",
    "#     state = agent.environment.next_state(state, action)\n",
    "#     x_trace[step, :] = state\n",
    "# print(state[0], abs(state[0] - state[2]))\n",
    "# plt.plot(x_trace[:, 0], x_trace[:, 1])\n",
    "# plt.plot(x_trace[-1, 0], x_trace[-1, 1], \"ro\")\n",
    "# plt.fill_between([2, 4], [-5, -5], [5, 5], color=\"pink\", alpha=0.3)\n",
    "# plt.xlim(-1, 11)\n",
    "# plt.ylim(-5, 5)\n",
    "# plt.ylabel(\"$\\dot{x}$\")\n",
    "# plt.xlabel(\"$x$\")\n",
    "# plt.title(\"State Trajectories for $\\epsilon=0$\")"
   ]
  },
  {
   "cell_type": "code",
   "execution_count": 18,
   "id": "d6dd6d7b-a98d-4ded-bff8-da5f0da48f72",
   "metadata": {},
   "outputs": [
    {
     "name": "stdout",
     "output_type": "stream",
     "text": [
      "[(1, 5.2727272727272725), (2, 5.633313765440714), (3, 4.4192277803029665), (4, 3.6137254945567885), (5, 2.678112368178064), (6, 3.817086024953619), (7, 3.7590748300564303), (8, 3.770158487473475), (9, 4.382877796986798)]\n"
     ]
    },
    {
     "data": {
      "text/plain": [
       "Text(0.5, 1.0, 'State Trajectories for $\\\\epsilon=0$')"
      ]
     },
     "execution_count": 18,
     "metadata": {},
     "output_type": "execute_result"
    },
    {
     "data": {
      "image/png": "[encoded data removed]",
      "text/plain": [
       "<Figure size 432x288 with 1 Axes>"
      ]
     },
     "metadata": {
      "needs_background": "light"
     },
     "output_type": "display_data"
    }
   ],
   "source": [
    "n_steps = 200\n",
    "distances_to_goal = []\n",
    "for goal in range(1, 10):\n",
    "    sum_distance = 0\n",
    "    for starting_position in range(0, 11):\n",
    "        state = [starting_position, 0, goal]  # 0 velocity\n",
    "        x_trace = np.zeros((n_steps, 3))\n",
    "        for step in range(0, n_steps):\n",
    "            action = agent.epsilon_greedy(state, 0.0)  # epsilon = 0\n",
    "            state = agent.environment.next_state(state, action)\n",
    "            x_trace[step, :] = state\n",
    "        sum_distance += abs(state[0] - state[2])\n",
    "    distances_to_goal.append((goal, sum_distance / 11))\n",
    "print(distances_to_goal)\n",
    "plt.plot(x_trace[:, 0], x_trace[:, 1])\n",
    "plt.plot(x_trace[-1, 0], x_trace[-1, 1], \"ro\")\n",
    "plt.fill_between([4, 6], [-5, -5], [5, 5], color=\"pink\", alpha=0.3)\n",
    "plt.xlim(-1, 11)\n",
    "plt.ylim(-5, 5)\n",
    "plt.ylabel(\"$\\dot{x}$\")\n",
    "plt.xlabel(\"$x$\")\n",
    "plt.title(\"State Trajectories for $\\epsilon=0$\")"
   ]
  },
  {
   "cell_type": "code",
   "execution_count": 29,
   "id": "50ed4edf-3663-43e2-8908-5dec61a6ae51",
   "metadata": {
    "ExecuteTime": {
     "end_time": "2021-10-29T22:12:26.627651Z",
     "start_time": "2021-10-29T22:08:11.942172Z"
    },
    "lines_to_next_cell": 2,
    "tags": []
   },
   "outputs": [
    {
     "name": "stdout",
     "output_type": "stream",
     "text": [
      "epsilon_decay is 0.9772372209558107\n"
     ]
    }
   ],
   "source": [
    "marble = Marble(valid_actions=np.array([-1, 0, 1]))\n",
    "\n",
    "agent = Qnet(\n",
    "    marble,\n",
    "    hidden_layers=[20, 15, 5, 5],\n",
    "    X_means=[5, 0, 0, 5],\n",
    "    X_stds=[2, 2, 0.8, 1],\n",
    "    Q_means=[-2],\n",
    "    Q_stds=[1],\n",
    ")\n",
    "\n",
    "plt.ion()\n",
    "\n",
    "epsilon_trace, r_trace = agent.train(\n",
    "    n_trials=100,\n",
    "    n_steps_per_trial=200,\n",
    "    n_epochs=500,\n",
    "    method=\"sgd\",\n",
    "    learning_rate=0.01,\n",
    "    gamma=0.9,\n",
    "    epsilon=1,\n",
    "    final_epsilon=0.1,\n",
    "    # trial_callback=plot_status,\n",
    ")"
   ]
  },
  {
   "cell_type": "code",
   "execution_count": 30,
   "id": "b5dcc541-0589-47b3-8919-ad5cd21cc11c",
   "metadata": {},
   "outputs": [
    {
     "name": "stdout",
     "output_type": "stream",
     "text": [
      "[(1, 9.0), (2, 8.0), (3, 7.0), (4, 6.0), (5, 5.0), (6, 4.0), (7, 3.0), (8, 2.0), (9, 1.0)]\n"
     ]
    },
    {
     "data": {
      "text/plain": [
       "Text(0.5, 1.0, 'State Trajectories for $\\\\epsilon=0$')"
      ]
     },
     "execution_count": 30,
     "metadata": {},
     "output_type": "execute_result"
    },
    {
     "data": {
      "image/png": "[encoded data removed]",
      "text/plain": [
       "<Figure size 432x288 with 1 Axes>"
      ]
     },
     "metadata": {
      "needs_background": "light"
     },
     "output_type": "display_data"
    }
   ],
   "source": [
    "n_steps = 200\n",
    "distances_to_goal = []\n",
    "for goal in range(1, 10):\n",
    "    sum_distance = 0\n",
    "    for starting_position in range(0, 11):\n",
    "        state = [starting_position, 0, goal]  # 0 velocity\n",
    "        x_trace = np.zeros((n_steps, 3))\n",
    "        for step in range(0, n_steps):\n",
    "            action = agent.epsilon_greedy(state, 0.0)  # epsilon = 0\n",
    "            state = agent.environment.next_state(state, action)\n",
    "            x_trace[step, :] = state\n",
    "        sum_distance += abs(state[0] - state[2])\n",
    "    distances_to_goal.append((goal, sum_distance / 11))\n",
    "print(distances_to_goal)\n",
    "plt.plot(x_trace[:, 0], x_trace[:, 1])\n",
    "plt.plot(x_trace[-1, 0], x_trace[-1, 1], \"ro\")\n",
    "plt.fill_between([4, 6], [-5, -5], [5, 5], color=\"pink\", alpha=0.3)\n",
    "plt.xlim(-1, 11)\n",
    "plt.ylim(-5, 5)\n",
    "plt.ylabel(\"$\\dot{x}$\")\n",
    "plt.xlabel(\"$x$\")\n",
    "plt.title(\"State Trajectories for $\\epsilon=0$\")"
   ]
  },
  {
   "cell_type": "code",
   "execution_count": 31,
   "id": "c7d3d75a-a821-4a61-911f-707c0b52d684",
   "metadata": {
    "ExecuteTime": {
     "end_time": "2021-10-29T22:12:26.627651Z",
     "start_time": "2021-10-29T22:08:11.942172Z"
    },
    "lines_to_next_cell": 2,
    "tags": []
   },
   "outputs": [
    {
     "name": "stdout",
     "output_type": "stream",
     "text": [
      "epsilon_decay is 0.9772372209558107\n"
     ]
    }
   ],
   "source": [
    "marble = Marble(valid_actions=np.array([-1, 0, 1]))\n",
    "\n",
    "agent = Qnet(\n",
    "    marble,\n",
    "    hidden_layers=[20, 15, 5, 5],\n",
    "    X_means=[5, 0, 0, 5],\n",
    "    X_stds=[2, 2, 0.8, 1],\n",
    "    Q_means=[-2],\n",
    "    Q_stds=[1],\n",
    ")\n",
    "\n",
    "plt.ion()\n",
    "\n",
    "epsilon_trace, r_trace = agent.train(\n",
    "    n_trials=100,\n",
    "    n_steps_per_trial=200,\n",
    "    n_epochs=500,\n",
    "    method=\"sgd\",\n",
    "    learning_rate=0.005,\n",
    "    gamma=0.9,\n",
    "    epsilon=1,\n",
    "    final_epsilon=0.1,\n",
    "    # trial_callback=plot_status,\n",
    ")"
   ]
  },
  {
   "cell_type": "code",
   "execution_count": 32,
   "id": "592ddf1a-971f-4a0c-90f8-d0fac02d4b65",
   "metadata": {},
   "outputs": [
    {
     "name": "stdout",
     "output_type": "stream",
     "text": [
      "[(1, 9.0), (2, 8.0), (3, 7.0), (4, 6.0), (5, 5.0), (6, 4.0), (7, 3.0), (8, 2.0), (9, 1.0)]\n"
     ]
    },
    {
     "data": {
      "text/plain": [
       "Text(0.5, 1.0, 'State Trajectories for $\\\\epsilon=0$')"
      ]
     },
     "execution_count": 32,
     "metadata": {},
     "output_type": "execute_result"
    },
    {
     "data": {
      "image/png": "[encoded data removed]",
      "text/plain": [
       "<Figure size 432x288 with 1 Axes>"
      ]
     },
     "metadata": {
      "needs_background": "light"
     },
     "output_type": "display_data"
    }
   ],
   "source": [
    "n_steps = 200\n",
    "distances_to_goal = []\n",
    "for goal in range(1, 10):\n",
    "    sum_distance = 0\n",
    "    for starting_position in range(0, 11):\n",
    "        state = [starting_position, 0, goal]  # 0 velocity\n",
    "        x_trace = np.zeros((n_steps, 3))\n",
    "        for step in range(0, n_steps):\n",
    "            action = agent.epsilon_greedy(state, 0.0)  # epsilon = 0\n",
    "            state = agent.environment.next_state(state, action)\n",
    "            x_trace[step, :] = state\n",
    "        sum_distance += abs(state[0] - state[2])\n",
    "    distances_to_goal.append((goal, sum_distance / 11))\n",
    "print(distances_to_goal)\n",
    "plt.plot(x_trace[:, 0], x_trace[:, 1])\n",
    "plt.plot(x_trace[-1, 0], x_trace[-1, 1], \"ro\")\n",
    "plt.fill_between([4, 6], [-5, -5], [5, 5], color=\"pink\", alpha=0.3)\n",
    "plt.xlim(-1, 11)\n",
    "plt.ylim(-5, 5)\n",
    "plt.ylabel(\"$\\dot{x}$\")\n",
    "plt.xlabel(\"$x$\")\n",
    "plt.title(\"State Trajectories for $\\epsilon=0$\")"
   ]
  },
  {
   "cell_type": "code",
   "execution_count": 33,
   "id": "5cc4962f-fb1f-455e-a8f3-79097425f7be",
   "metadata": {
    "ExecuteTime": {
     "end_time": "2021-10-29T22:12:26.627651Z",
     "start_time": "2021-10-29T22:08:11.942172Z"
    },
    "lines_to_next_cell": 2,
    "tags": []
   },
   "outputs": [
    {
     "name": "stdout",
     "output_type": "stream",
     "text": [
      "epsilon_decay is 0.9772372209558107\n"
     ]
    }
   ],
   "source": [
    "marble = Marble(valid_actions=np.array([-1, 0, 1]))\n",
    "\n",
    "agent = Qnet(\n",
    "    marble,\n",
    "    hidden_layers=[10, 10],\n",
    "    X_means=[5, 0, 0, 5],\n",
    "    X_stds=[2, 2, 0.8, 1],\n",
    "    Q_means=[-2],\n",
    "    Q_stds=[1],\n",
    ")\n",
    "\n",
    "plt.ion()\n",
    "\n",
    "epsilon_trace, r_trace = agent.train(\n",
    "    n_trials=100,\n",
    "    n_steps_per_trial=200,\n",
    "    n_epochs=500,\n",
    "    method=\"sgd\",\n",
    "    learning_rate=0.02,\n",
    "    gamma=0.9,\n",
    "    epsilon=1,\n",
    "    final_epsilon=0.1,\n",
    "    # trial_callback=plot_status,\n",
    ")"
   ]
  },
  {
   "cell_type": "code",
   "execution_count": 34,
   "id": "c9d7a041-ea0f-437f-a3e0-3f5790272ba9",
   "metadata": {
    "tags": []
   },
   "outputs": [
    {
     "name": "stdout",
     "output_type": "stream",
     "text": [
      "[(1, 6.448158586912745), (2, 4.050689889117158), (3, 2.4341761685800978), (4, 0.9502409532185783), (5, 0.5926278642400233), (6, 1.6099158416620234), (7, 2.7797742882003202), (8, 3.6330557655691935), (9, 4.9130306682691165)]\n"
     ]
    },
    {
     "data": {
      "text/plain": [
       "Text(0.5, 1.0, 'State Trajectories for $\\\\epsilon=0$')"
      ]
     },
     "execution_count": 34,
     "metadata": {},
     "output_type": "execute_result"
    },
    {
     "data": {
      "image/png": "[encoded data removed]",
      "text/plain": [
       "<Figure size 432x288 with 1 Axes>"
      ]
     },
     "metadata": {
      "needs_background": "light"
     },
     "output_type": "display_data"
    }
   ],
   "source": [
    "n_steps = 200\n",
    "distances_to_goal = []\n",
    "for goal in range(1, 10):\n",
    "    sum_distance = 0\n",
    "    for starting_position in range(0, 11):\n",
    "        state = [starting_position, 0, goal]  # 0 velocity\n",
    "        x_trace = np.zeros((n_steps, 3))\n",
    "        for step in range(0, n_steps):\n",
    "            action = agent.epsilon_greedy(state, 0.0)  # epsilon = 0\n",
    "            state = agent.environment.next_state(state, action)\n",
    "            x_trace[step, :] = state\n",
    "        sum_distance += abs(state[0] - state[2])\n",
    "    distances_to_goal.append((goal, sum_distance / 11))\n",
    "print(distances_to_goal)\n",
    "plt.plot(x_trace[:, 0], x_trace[:, 1])\n",
    "plt.plot(x_trace[-1, 0], x_trace[-1, 1], \"ro\")\n",
    "plt.fill_between([4, 6], [-5, -5], [5, 5], color=\"pink\", alpha=0.3)\n",
    "plt.xlim(-1, 11)\n",
    "plt.ylim(-5, 5)\n",
    "plt.ylabel(\"$\\dot{x}$\")\n",
    "plt.xlabel(\"$x$\")\n",
    "plt.title(\"State Trajectories for $\\epsilon=0$\")"
   ]
  },
  {
   "cell_type": "code",
   "execution_count": 35,
   "id": "7adbc275-a5ef-41b5-a3ed-2ef734ce4297",
   "metadata": {
    "ExecuteTime": {
     "end_time": "2021-10-29T22:12:26.627651Z",
     "start_time": "2021-10-29T22:08:11.942172Z"
    },
    "lines_to_next_cell": 2,
    "tags": []
   },
   "outputs": [
    {
     "name": "stdout",
     "output_type": "stream",
     "text": [
      "epsilon_decay is 0.9772372209558107\n"
     ]
    }
   ],
   "source": [
    "marble = Marble(valid_actions=np.array([-1, 0, 1]))\n",
    "\n",
    "agent = Qnet(\n",
    "    marble,\n",
    "    hidden_layers=[10, 10],\n",
    "    X_means=[5, 0, 0, 5],\n",
    "    X_stds=[2, 2, 0.8, 1],\n",
    "    Q_means=[-2],\n",
    "    Q_stds=[1],\n",
    ")\n",
    "\n",
    "plt.ion()\n",
    "\n",
    "epsilon_trace, r_trace = agent.train(\n",
    "    n_trials=100,\n",
    "    n_steps_per_trial=200,\n",
    "    n_epochs=500,\n",
    "    method=\"sgd\",\n",
    "    learning_rate=0.05,\n",
    "    gamma=0.9,\n",
    "    epsilon=1,\n",
    "    final_epsilon=0.1,\n",
    "    # trial_callback=plot_status,\n",
    ")"
   ]
  },
  {
   "cell_type": "code",
   "execution_count": 36,
   "id": "8ba93934-ad53-4578-bc0a-0c7a1c105c72",
   "metadata": {
    "tags": []
   },
   "outputs": [
    {
     "name": "stdout",
     "output_type": "stream",
     "text": [
      "[(1, 9.0), (2, 8.0), (3, 7.0), (4, 6.0), (5, 5.0), (6, 4.0), (7, 3.0), (8, 2.0), (9, 1.0)]\n"
     ]
    },
    {
     "data": {
      "text/plain": [
       "Text(0.5, 1.0, 'State Trajectories for $\\\\epsilon=0$')"
      ]
     },
     "execution_count": 36,
     "metadata": {},
     "output_type": "execute_result"
    },
    {
     "data": {
      "image/png": "[encoded data removed]",
      "text/plain": [
       "<Figure size 432x288 with 1 Axes>"
      ]
     },
     "metadata": {
      "needs_background": "light"
     },
     "output_type": "display_data"
    }
   ],
   "source": [
    "n_steps = 200\n",
    "distances_to_goal = []\n",
    "for goal in range(1, 10):\n",
    "    sum_distance = 0\n",
    "    for starting_position in range(0, 11):\n",
    "        state = [starting_position, 0, goal]  # 0 velocity\n",
    "        x_trace = np.zeros((n_steps, 3))\n",
    "        for step in range(0, n_steps):\n",
    "            action = agent.epsilon_greedy(state, 0.0)  # epsilon = 0\n",
    "            state = agent.environment.next_state(state, action)\n",
    "            x_trace[step, :] = state\n",
    "        sum_distance += abs(state[0] - state[2])\n",
    "    distances_to_goal.append((goal, sum_distance / 11))\n",
    "print(distances_to_goal)\n",
    "plt.plot(x_trace[:, 0], x_trace[:, 1])\n",
    "plt.plot(x_trace[-1, 0], x_trace[-1, 1], \"ro\")\n",
    "plt.fill_between([4, 6], [-5, -5], [5, 5], color=\"pink\", alpha=0.3)\n",
    "plt.xlim(-1, 11)\n",
    "plt.ylim(-5, 5)\n",
    "plt.ylabel(\"$\\dot{x}$\")\n",
    "plt.xlabel(\"$x$\")\n",
    "plt.title(\"State Trajectories for $\\epsilon=0$\")"
   ]
  },
  {
   "cell_type": "code",
   "execution_count": 37,
   "id": "cd99e0f4-3f24-498a-88d5-41c90923f6ce",
   "metadata": {
    "ExecuteTime": {
     "end_time": "2021-10-29T22:12:26.627651Z",
     "start_time": "2021-10-29T22:08:11.942172Z"
    },
    "lines_to_next_cell": 2,
    "tags": []
   },
   "outputs": [
    {
     "name": "stdout",
     "output_type": "stream",
     "text": [
      "epsilon_decay is 0.9772372209558107\n"
     ]
    }
   ],
   "source": [
    "marble = Marble(valid_actions=np.array([-1, 0, 1]))\n",
    "\n",
    "agent = Qnet(\n",
    "    marble,\n",
    "    hidden_layers=[20, 15, 5, 5],\n",
    "    X_means=[5, 0, 0, 5],\n",
    "    X_stds=[2, 2, 0.8, 1],\n",
    "    Q_means=[-2],\n",
    "    Q_stds=[1],\n",
    ")\n",
    "\n",
    "plt.ion()\n",
    "\n",
    "epsilon_trace, r_trace = agent.train(\n",
    "    n_trials=100,\n",
    "    n_steps_per_trial=200,\n",
    "    n_epochs=500,\n",
    "    method=\"sgd\",\n",
    "    learning_rate=0.02,\n",
    "    gamma=0.9,\n",
    "    epsilon=1,\n",
    "    final_epsilon=0.1,\n",
    "    # trial_callback=plot_status,\n",
    ")"
   ]
  },
  {
   "cell_type": "code",
   "execution_count": 38,
   "id": "a3e2dbe3-a9b6-41ed-9f45-c1f2b9f17d08",
   "metadata": {
    "tags": []
   },
   "outputs": [
    {
     "name": "stdout",
     "output_type": "stream",
     "text": [
      "[(1, 8.272727272727273), (2, 5.036925352617309), (3, 2.7213803439854027), (4, 3.3002125625550076), (5, 4.437498106828461), (6, 4.909090909090909), (7, 4.818181818181818), (8, 4.363636363636363), (9, 4.545454545454546)]\n"
     ]
    },
    {
     "data": {
      "text/plain": [
       "Text(0.5, 1.0, 'State Trajectories for $\\\\epsilon=0$')"
      ]
     },
     "execution_count": 38,
     "metadata": {},
     "output_type": "execute_result"
    },
    {
     "data": {
      "image/png": "[encoded data removed]",
      "text/plain": [
       "<Figure size 432x288 with 1 Axes>"
      ]
     },
     "metadata": {
      "needs_background": "light"
     },
     "output_type": "display_data"
    }
   ],
   "source": [
    "n_steps = 200\n",
    "distances_to_goal = []\n",
    "for goal in range(1, 10):\n",
    "    sum_distance = 0\n",
    "    for starting_position in range(0, 11):\n",
    "        state = [starting_position, 0, goal]  # 0 velocity\n",
    "        x_trace = np.zeros((n_steps, 3))\n",
    "        for step in range(0, n_steps):\n",
    "            action = agent.epsilon_greedy(state, 0.0)  # epsilon = 0\n",
    "            state = agent.environment.next_state(state, action)\n",
    "            x_trace[step, :] = state\n",
    "        sum_distance += abs(state[0] - state[2])\n",
    "    distances_to_goal.append((goal, sum_distance / 11))\n",
    "print(distances_to_goal)\n",
    "plt.plot(x_trace[:, 0], x_trace[:, 1])\n",
    "plt.plot(x_trace[-1, 0], x_trace[-1, 1], \"ro\")\n",
    "plt.fill_between([4, 6], [-5, -5], [5, 5], color=\"pink\", alpha=0.3)\n",
    "plt.xlim(-1, 11)\n",
    "plt.ylim(-5, 5)\n",
    "plt.ylabel(\"$\\dot{x}$\")\n",
    "plt.xlabel(\"$x$\")\n",
    "plt.title(\"State Trajectories for $\\epsilon=0$\")"
   ]
  },
  {
   "cell_type": "code",
   "execution_count": 44,
   "id": "046e05a0-3866-4209-8ef8-33a263a7d6b6",
   "metadata": {
    "ExecuteTime": {
     "end_time": "2021-10-29T22:12:26.627651Z",
     "start_time": "2021-10-29T22:08:11.942172Z"
    },
    "lines_to_next_cell": 2,
    "tags": []
   },
   "outputs": [
    {
     "name": "stdout",
     "output_type": "stream",
     "text": [
      "epsilon_decay is 0.9772372209558107\n"
     ]
    }
   ],
   "source": [
    "marble = Marble(valid_actions=np.array([-1, 0, 1]))\n",
    "\n",
    "agent = Qnet(\n",
    "    marble,\n",
    "    hidden_layers=[10, 10],\n",
    "    X_means=[5, 0, 0, 5],\n",
    "    X_stds=[2, 2, 0.8, 1],\n",
    "    Q_means=[-2],\n",
    "    Q_stds=[1],\n",
    ")\n",
    "\n",
    "plt.ion()\n",
    "\n",
    "epsilon_trace, r_trace = agent.train(\n",
    "    n_trials=100,\n",
    "    n_steps_per_trial=200,\n",
    "    n_epochs=500,\n",
    "    method=\"sgd\",\n",
    "    learning_rate=0.02,\n",
    "    gamma=0.9,\n",
    "    epsilon=1,\n",
    "    final_epsilon=0.1,\n",
    "    # trial_callback=plot_status,\n",
    ")"
   ]
  },
  {
   "cell_type": "code",
   "execution_count": 45,
   "id": "0483d935-36b9-4354-aff5-f9d24a3d8a98",
   "metadata": {
    "tags": []
   },
   "outputs": [
    {
     "name": "stdout",
     "output_type": "stream",
     "text": [
      "[(1, 7.367398808070484), (2, 3.5725496313917735), (3, 1.9234532876589712), (4, 0.79097361553305), (5, 0.512551133790269), (6, 1.3836014320559615), (7, 2.0086405112533314), (8, 2.66853230453242), (9, 3.014603574556747)]\n"
     ]
    },
    {
     "data": {
      "text/plain": [
       "Text(0.5, 1.0, 'State Trajectories for $\\\\epsilon=0$')"
      ]
     },
     "execution_count": 45,
     "metadata": {},
     "output_type": "execute_result"
    },
    {
     "data": {
      "image/png": "[encoded data removed]",
      "text/plain": [
       "<Figure size 432x288 with 1 Axes>"
      ]
     },
     "metadata": {
      "needs_background": "light"
     },
     "output_type": "display_data"
    }
   ],
   "source": [
    "n_steps = 200\n",
    "distances_to_goal = []\n",
    "for goal in range(1, 10):\n",
    "    sum_distance = 0\n",
    "    for starting_position in range(0, 11):\n",
    "        state = [starting_position, 0, goal]  # 0 velocity\n",
    "        x_trace = np.zeros((n_steps, 3))\n",
    "        for step in range(0, n_steps):\n",
    "            action = agent.epsilon_greedy(state, 0.0)  # epsilon = 0\n",
    "            state = agent.environment.next_state(state, action)\n",
    "            x_trace[step, :] = state\n",
    "        sum_distance += abs(state[0] - state[2])\n",
    "    distances_to_goal.append((goal, sum_distance / 11))\n",
    "print(distances_to_goal)\n",
    "plt.plot(x_trace[:, 0], x_trace[:, 1])\n",
    "plt.plot(x_trace[-1, 0], x_trace[-1, 1], \"ro\")\n",
    "plt.fill_between([4, 6], [-5, -5], [5, 5], color=\"pink\", alpha=0.3)\n",
    "plt.xlim(-1, 11)\n",
    "plt.ylim(-5, 5)\n",
    "plt.ylabel(\"$\\dot{x}$\")\n",
    "plt.xlabel(\"$x$\")\n",
    "plt.title(\"State Trajectories for $\\epsilon=0$\")"
   ]
  },
  {
   "cell_type": "markdown",
   "id": "1623c4ec",
   "metadata": {
    "tags": []
   },
   "source": [
    "Your solution to this assignment will not be automatically graded.  Instead, the grade will only depend on your successful modifications to the code and your discussions."
   ]
  },
  {
   "cell_type": "markdown",
   "id": "04a8b890",
   "metadata": {},
   "source": [
    "## Extra Credit\n",
    "\n",
    "Receive 1 point of extra credit for each of these:\n",
    "\n",
    "   * Modify your solution to this assignment by creating and using a `Marble2D` class that simulates the marble moving in two-dimensions, on a plane.  Some of the current plots will not work for this case. Just show the ones that are still appropriate.\n",
    "   * Experiment with seven valid actions rather than three.  How does this change the behavior of the controlled marble?"
   ]
  }
 ],
 "metadata": {
  "kernelspec": {
   "display_name": "fp",
   "language": "python",
   "name": "fp"
  },
  "language_info": {
   "codemirror_mode": {
    "name": "ipython",
    "version": 3
   },
   "file_extension": ".py",
   "mimetype": "text/x-python",
   "name": "python",
   "nbconvert_exporter": "python",
   "pygments_lexer": "ipython3",
   "version": "3.9.7"
  },
  "toc": {
   "base_numbering": 1,
   "nav_menu": {},
   "number_sections": false,
   "sideBar": true,
   "skip_h1_title": false,
   "title_cell": "Table of Contents",
   "title_sidebar": "Contents",
   "toc_cell": false,
   "toc_position": {},
   "toc_section_display": true,
   "toc_window_display": true
  }
 },
 "nbformat": 4,
 "nbformat_minor": 5
}
