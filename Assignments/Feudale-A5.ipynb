{
 "cells": [
  {
   "cell_type": "markdown",
   "metadata": {},
   "source": [
    "$$\\newcommand{\\Rv}{\\mathbf{R}}\n",
    "\\newcommand{\\rv}{\\mathbf{r}}\n",
    "\\newcommand{\\Qv}{\\mathbf{Q}}\n",
    "\\newcommand{\\Qnv}{\\mathbf{Qn}}\n",
    "\\newcommand{\\Av}{\\mathbf{A}}\n",
    "\\newcommand{\\Aiv}{\\mathbf{Ai}}\n",
    "\\newcommand{\\av}{\\mathbf{a}}\n",
    "\\newcommand{\\xv}{\\mathbf{x}}\n",
    "\\newcommand{\\Xv}{\\mathbf{X}}\n",
    "\\newcommand{\\yv}{\\mathbf{y}}\n",
    "\\newcommand{\\Yv}{\\mathbf{Y}}\n",
    "\\newcommand{\\zv}{\\mathbf{z}}\n",
    "\\newcommand{\\av}{\\mathbf{a}}\n",
    "\\newcommand{\\Wv}{\\mathbf{W}}\n",
    "\\newcommand{\\wv}{\\mathbf{w}}\n",
    "\\newcommand{\\betav}{\\mathbf{\\beta}}\n",
    "\\newcommand{\\gv}{\\mathbf{g}}\n",
    "\\newcommand{\\Hv}{\\mathbf{H}}\n",
    "\\newcommand{\\dv}{\\mathbf{d}}\n",
    "\\newcommand{\\Vv}{\\mathbf{V}}\n",
    "\\newcommand{\\vv}{\\mathbf{v}}\n",
    "\\newcommand{\\Uv}{\\mathbf{U}}\n",
    "\\newcommand{\\uv}{\\mathbf{u}}\n",
    "\\newcommand{\\tv}{\\mathbf{t}}\n",
    "\\newcommand{\\Tv}{\\mathbf{T}}\n",
    "\\newcommand{\\TDv}{\\mathbf{TD}}\n",
    "\\newcommand{\\Tiv}{\\mathbf{Ti}}\n",
    "\\newcommand{\\Sv}{\\mathbf{S}}\n",
    "\\newcommand{\\Gv}{\\mathbf{G}}\n",
    "\\newcommand{\\zv}{\\mathbf{z}}\n",
    "\\newcommand{\\Zv}{\\mathbf{Z}}\n",
    "\\newcommand{\\Norm}{\\mathcal{N}}\n",
    "\\newcommand{\\muv}{\\boldsymbol{\\mu}}\n",
    "\\newcommand{\\sigmav}{\\boldsymbol{\\sigma}}\n",
    "\\newcommand{\\phiv}{\\boldsymbol{\\phi}}\n",
    "\\newcommand{\\Phiv}{\\boldsymbol{\\Phi}}\n",
    "\\newcommand{\\Sigmav}{\\boldsymbol{\\Sigma}}\n",
    "\\newcommand{\\Lambdav}{\\boldsymbol{\\Lambda}}\n",
    "\\newcommand{\\half}{\\frac{1}{2}}\n",
    "\\newcommand{\\argmax}[1]{\\underset{#1}{\\operatorname{argmax}}}\n",
    "\\newcommand{\\argmin}[1]{\\underset{#1}{\\operatorname{argmin}}}\n",
    "\\newcommand{\\dimensionbar}[1]{\\underset{#1}{\\operatorname{|}}}\n",
    "\\newcommand{\\grad}{\\mathbf{\\nabla}}\n",
    "\\newcommand{\\ebx}[1]{e^{\\betav_{#1}^T \\xv_n}}\n",
    "\\newcommand{\\eby}[1]{e^{y_{n,#1}}}\n",
    "\\newcommand{\\Tiv}{\\mathbf{Ti}}\n",
    "\\newcommand{\\Fv}{\\mathbf{F}}\n",
    "\\newcommand{\\ones}[1]{\\mathbf{1}_{#1}}\n",
    "$$"
   ]
  },
  {
   "cell_type": "markdown",
   "metadata": {},
   "source": [
    "# A5 Reinforcement Learning Robot"
   ]
  },
  {
   "cell_type": "markdown",
   "metadata": {},
   "source": [
    "In this assignment, you will train a neural network to approximate the Q function for a simple simulation of a two-dimensional robot.  \n",
    "\n",
    "The simulation of the robot is just a little more complicated than the dynamic marble we used in lecture. As before, we define the ```reinforcement```, ```initial_state```, and ```next_state``` functions to specify our dynamic marble problem."
   ]
  },
  {
   "cell_type": "code",
   "execution_count": 115,
   "metadata": {
    "ExecuteTime": {
     "end_time": "2021-10-27T20:05:30.834602Z",
     "start_time": "2021-10-27T20:05:30.830496Z"
    }
   },
   "outputs": [],
   "source": [
    "import numpy as np\n",
    "import matplotlib.pyplot as plt\n",
    "%matplotlib inline\n",
    "import neuralnetworks_A4 as nn\n",
    "import copy\n",
    "import sys\n",
    "from math import pi\n",
    "\n",
    "from IPython.display import display, clear_output"
   ]
  },
  {
   "cell_type": "markdown",
   "metadata": {},
   "source": [
    "First, here is a python class that defines our robot."
   ]
  },
  {
   "cell_type": "markdown",
   "metadata": {},
   "source": [
    "## The Robot"
   ]
  },
  {
   "cell_type": "code",
   "execution_count": 116,
   "metadata": {
    "ExecuteTime": {
     "end_time": "2021-10-27T20:05:31.843991Z",
     "start_time": "2021-10-27T20:05:31.824222Z"
    }
   },
   "outputs": [],
   "source": [
    "import itertools\n",
    "\n",
    "class Robot():\n",
    "\n",
    "    def __init__(self, link_lengths, rects):\n",
    "        self.n_links = len(link_lengths)\n",
    "        self.rects = rects\n",
    "        self.n_rects = len(rects)\n",
    "        self.record_angles = False\n",
    "        self.angles = []\n",
    "        self.link_lengths = np.array(link_lengths)\n",
    "        self.joint_angles = np.zeros(self.n_links)\n",
    "        self.points = [[10, 10] for _ in range(self.n_links + 1)]\n",
    "        self.lim = sum(link_lengths)\n",
    "        self.update_points()\n",
    "        self.valid_actions = np.array(list(itertools.product(*[[-0.1, 0, 0.1]] * self.n_links)))\n",
    "        self.goal_radius = 2\n",
    "        \n",
    "    def __repr__(self):\n",
    "        return f'Robot({self.link_lengths}, {self.rects}'\n",
    "\n",
    "    def set_goal(self, g):\n",
    "        self.goal = g\n",
    "        \n",
    "    def update_joints(self, joint_angles):\n",
    "        self.joint_angles = joint_angles\n",
    "        self.update_points()\n",
    "\n",
    "    def add_to_joints(self, joint_angle_deltas):\n",
    "        self.joint_angles += joint_angle_deltas\n",
    "        too_high = self.joint_angles > 2 * pi\n",
    "        self.joint_angles[too_high] = self.joint_angles[too_high] - 2 * pi\n",
    "        too_low = self.joint_angles < 0\n",
    "        self.joint_angles[too_low] = self.joint_angles[too_low] + 2 * pi\n",
    "        \n",
    "        if self.record_angles:\n",
    "            self.angles.append(self.joint_angles * 180 / pi)\n",
    "\n",
    "        self.update_points()\n",
    "\n",
    "    def update_points(self):\n",
    "        for i in range(1, self.n_links + 1):\n",
    "            self.points[i][0] = self.points[i - 1][0] + \\\n",
    "                self.link_lengths[i - 1] * \\\n",
    "                np.cos(np.sum(self.joint_angles[:i]))\n",
    "            self.points[i][1] = self.points[i - 1][1] + \\\n",
    "                self.link_lengths[i - 1] * \\\n",
    "                np.sin(np.sum(self.joint_angles[:i]))\n",
    "\n",
    "        self.end_effector = np.array(self.points[self.n_links]).T\n",
    "\n",
    "    def get_state(self):\n",
    "        return np.hstack((np.sin(self.joint_angles),\n",
    "                          np.cos(self.joint_angles)))\n",
    "\n",
    "    def plot(self, obstacles=[]):  # pragma: no cover\n",
    "        for rect in self.rects:\n",
    "            patch = plt.Rectangle(rect[:2], rect[2], rect[3])\n",
    "            plt.gca().add_patch(patch)\n",
    "\n",
    "        plt.gca().add_patch(plt.Circle(self.goal[:2], radius=self.goal_radius, fc='g'))\n",
    "\n",
    "        for i in range(self.n_links + 1):\n",
    "            if i is not self.n_links:\n",
    "                plt.plot([self.points[i][0], self.points[i + 1][0]],\n",
    "                         [self.points[i][1], self.points[i + 1][1]], 'r-')\n",
    "            plt.plot(self.points[i][0], self.points[i][1], 'k.')\n",
    "        \n",
    "        plt.axis('square')\n",
    "        plt.xlim([-1, 21])\n",
    "        plt.ylim([-1, 21])\n",
    "        # plt.pause(1e-2)\n",
    "\n",
    "    \n",
    "    def line_rect_collision(self, line, rect):\n",
    "        '''line = [x1, y1, x2, y2], rect = [rx, ry, w, h]'''    \n",
    "\n",
    "        x1, y1, x2, y2 = line\n",
    "        rx, ry, w, h = rect\n",
    "\n",
    "        if ((y1 > ry + h and y2 > ry + h) or\n",
    "            (y1 < ry and y2 < ry) or\n",
    "            (x1 > rx + w and x2 > rx + w) or\n",
    "            (x1 < rx and x2 < rx)):\n",
    "            return False\n",
    "\n",
    "        dx = x2 - x1\n",
    "\n",
    "        dy = y2 - y1\n",
    "\n",
    "        if abs(dx) > 10 * sys.float_info.min:\n",
    "            left_y = y1 + (rx - x1) / dx * dy\n",
    "        else:\n",
    "            left_y = y1\n",
    "        # print(f'left_y {left_y} ry {ry} ry+h {ry+h}')\n",
    "        if ry <= left_y <= ry + h:\n",
    "            return True\n",
    "\n",
    "        if abs(dx) > 10 * sys.float_info.min:\n",
    "            right_y = y1 + (rx + w - x1) / dx * dy\n",
    "        else:\n",
    "            right_y = y1\n",
    "        # print(f'right_y {right_y}')\n",
    "        if ry <= right_y <= ry + h:\n",
    "            return True\n",
    "\n",
    "        if abs(dy) > 10 * sys.float_info.min:\n",
    "            bottom_x = x1 + (ry - y1) / dy * dx\n",
    "        else:\n",
    "            bottom_x = x1\n",
    "        # print(f'bottom_x {bottom_x}')\n",
    "        if rx <= bottom_x <= rx + w:\n",
    "            return True\n",
    "\n",
    "        if abs(dy) > 10 * sys.float_info.min:\n",
    "            top_x = x1 + (ry + h - y1) / dy * dx\n",
    "        else:\n",
    "            top_x = x1\n",
    "\n",
    "        if rx <= top_x <= rx + w:\n",
    "            return True\n",
    "\n",
    "        return False\n",
    "\n",
    "    def collision(self):\n",
    "        for i in range(len(self.points) - 1):\n",
    "            line = self.points[i] + self.points[i + 1]\n",
    "            for rect in self.rects:\n",
    "                if self.line_rect_collision(line, rect):\n",
    "                    return True\n",
    "        return False\n",
    "\n",
    "    def illustrate(self):\n",
    "        fig = plt.figure(figsize=(8, 8))\n",
    "        self.update_joints(np.random.uniform(-pi, pi, self.n_links))\n",
    "        for i in range(100):\n",
    "            action = np.random.choice([-0.2, 0, 0.2], size=self.n_links)\n",
    "            self.add_to_joints(action)\n",
    "            fig.clf()\n",
    "            self.plot()\n",
    "            if self.collision():\n",
    "                break\n",
    "            clear_output(wait=True)\n",
    "            display(fig)\n",
    "    \n",
    "        clear_output(wait=True)"
   ]
  },
  {
   "cell_type": "markdown",
   "metadata": {},
   "source": [
    "To create an instance of our `Robot`, we first need to define a set of obstacles as rectangles.  Here is an example of one rectangle.  The range of our robot's two-dimensional space is 20 x 20.\n",
    "\n",
    "For example, here is one obstacle with lower left corner at (13, 7) and a width and height of 2."
   ]
  },
  {
   "cell_type": "code",
   "execution_count": 117,
   "metadata": {
    "ExecuteTime": {
     "end_time": "2021-10-27T20:05:33.665798Z",
     "start_time": "2021-10-27T20:05:33.663341Z"
    }
   },
   "outputs": [],
   "source": [
    "obstacles = np.array([[13, 7, 2, 2]])"
   ]
  },
  {
   "cell_type": "markdown",
   "metadata": {},
   "source": [
    "To define our robot, we provide the lengths of each link in the robot arm, and also provide the obstacles.  A three-link robot arm with lengths 4, 4, and 2 is defined here."
   ]
  },
  {
   "cell_type": "code",
   "execution_count": 147,
   "metadata": {
    "ExecuteTime": {
     "end_time": "2021-10-27T20:31:22.687949Z",
     "start_time": "2021-10-27T20:31:22.683948Z"
    }
   },
   "outputs": [
    {
     "data": {
      "text/plain": [
       "Robot([6 6], [[13  7  2  2]]"
      ]
     },
     "execution_count": 147,
     "metadata": {},
     "output_type": "execute_result"
    }
   ],
   "source": [
    "robot = Robot([6, 6], obstacles)\n",
    "robot"
   ]
  },
  {
   "cell_type": "markdown",
   "metadata": {},
   "source": [
    "Now we need to specify the goal position for the end point of our robot.  The base of our robot is always at (10, 10).  Let's set the goal to be at position (18, 5).  The end of the robot has to be within a radius of 2 of the goal position to succeed.\n"
   ]
  },
  {
   "cell_type": "code",
   "execution_count": 148,
   "metadata": {
    "ExecuteTime": {
     "end_time": "2021-10-27T20:31:25.231200Z",
     "start_time": "2021-10-27T20:31:25.228677Z"
    }
   },
   "outputs": [],
   "source": [
    "robot.set_goal( np.array([18, 5]) )"
   ]
  },
  {
   "cell_type": "markdown",
   "metadata": {},
   "source": [
    "This class includes a handy function named `illustrate` that displays the behavior of our robot."
   ]
  },
  {
   "cell_type": "code",
   "execution_count": 149,
   "metadata": {
    "ExecuteTime": {
     "end_time": "2021-10-27T20:31:33.464955Z",
     "start_time": "2021-10-27T20:31:26.228187Z"
    },
    "scrolled": false
   },
   "outputs": [
    {
     "data": {
      "image/png": "[encoded data removed]",
      "text/plain": [
       "<Figure size 576x576 with 1 Axes>"
      ]
     },
     "metadata": {
      "needs_background": "light"
     },
     "output_type": "display_data"
    }
   ],
   "source": [
    "robot.illustrate()"
   ]
  },
  {
   "cell_type": "markdown",
   "metadata": {},
   "source": [
    "The state of the robot is given by its joint angles.  To allow an angle at 360 degrees or 2$\\pi$ radians and 0 degrees of 0 radians to be treated the same by our Q network, we represent each angle by the sine and cosine of the angle.  So, for three links our state consists of three sine values followed by three cosine values.  "
   ]
  },
  {
   "cell_type": "code",
   "execution_count": 150,
   "metadata": {
    "ExecuteTime": {
     "end_time": "2021-10-27T20:31:36.099761Z",
     "start_time": "2021-10-27T20:31:36.095910Z"
    }
   },
   "outputs": [
    {
     "data": {
      "text/plain": [
       "array([-0.9995252 ,  0.6168344 ,  0.03081177, -0.78709296])"
      ]
     },
     "execution_count": 150,
     "metadata": {},
     "output_type": "execute_result"
    }
   ],
   "source": [
    "robot.get_state()"
   ]
  },
  {
   "cell_type": "markdown",
   "metadata": {},
   "source": [
    "The number of action components is two, one for each joint angle."
   ]
  },
  {
   "cell_type": "code",
   "execution_count": 151,
   "metadata": {
    "ExecuteTime": {
     "end_time": "2021-10-27T20:31:43.644446Z",
     "start_time": "2021-10-27T20:31:43.640601Z"
    }
   },
   "outputs": [
    {
     "data": {
      "text/plain": [
       "array([[-0.1, -0.1],\n",
       "       [-0.1,  0. ],\n",
       "       [-0.1,  0.1],\n",
       "       [ 0. , -0.1],\n",
       "       [ 0. ,  0. ],\n",
       "       [ 0. ,  0.1],\n",
       "       [ 0.1, -0.1],\n",
       "       [ 0.1,  0. ],\n",
       "       [ 0.1,  0.1]])"
      ]
     },
     "execution_count": 151,
     "metadata": {},
     "output_type": "execute_result"
    }
   ],
   "source": [
    "robot.valid_actions"
   ]
  },
  {
   "cell_type": "markdown",
   "metadata": {},
   "source": [
    "## Reinforcement Learning Agent"
   ]
  },
  {
   "cell_type": "code",
   "execution_count": 216,
   "metadata": {
    "ExecuteTime": {
     "end_time": "2021-10-27T21:55:04.000420Z",
     "start_time": "2021-10-27T21:55:03.989605Z"
    }
   },
   "outputs": [],
   "source": [
    "def dist(a, b):\n",
    "    return np.sqrt(np.sum((a - b)**2))\n",
    "\n",
    "def reinforcement(robot):  # next state\n",
    "    robot.goal_achieved = False\n",
    "    if robot.collided:\n",
    "        r = -1\n",
    "    else:\n",
    "        dist_to_goal = dist(robot.goal, robot.end_effector)\n",
    "        if dist_to_goal < robot.goal_radius:\n",
    "            r = 5\n",
    "            robot.goal_achieved = True\n",
    "        else:\n",
    "            # r = 0\n",
    "            r =  -dist_to_goal/ 50\n",
    "    return r\n",
    "\n",
    "def initial_state(robot):\n",
    "    # continue generating initial random joint angles until no initial collision\n",
    "    collide = True\n",
    "    while collide:\n",
    "        robot.update_joints(np.random.uniform(-pi, pi, robot.n_links))\n",
    "        collide = robot.collision()\n",
    "        robot.collided = False\n",
    "        robot.goal_achieved = False\n",
    "        state = robot.get_state()\n",
    "        return state\n",
    "\n",
    "def next_state(state, action):\n",
    "    old_state = copy.copy(state)\n",
    "    robot.add_to_joints(action)\n",
    "    state = robot.get_state()\n",
    "    robot.collided = robot.collision()\n",
    "    return state\n",
    "\n",
    "def epsilon_greedy(robot, Qnet, state, epsilon):\n",
    "    n_valid_actions = len(robot.valid_actions)\n",
    "    if np.random.uniform() < epsilon:\n",
    "        # Random Move\n",
    "        rows = np.arange(n_valid_actions)\n",
    "        actioni = np.random.randint(n_valid_actions)\n",
    "        action = robot.valid_actions[actioni]\n",
    "    else:\n",
    "        # Greedy Move\n",
    "        action_rows = np.arange(n_valid_actions)\n",
    "        np.random.shuffle(action_rows)\n",
    "        Qs = [Qnet.use(np.hstack((state, a)).reshape((1, -1))) for a in robot.valid_actions[action_rows]]\n",
    "        ai = np.argmax(Qs)\n",
    "        action = robot.valid_actions[action_rows[ai]]\n",
    "    Q = Qnet.use(np.hstack((state, action)). reshape((1, -1)))\n",
    "\n",
    "    return action, Q\n",
    "\n",
    "def make_samples(robot, Qnet, initial_state_f, next_state_f, reinforcement_f, n_samples, epsilon):\n",
    "\n",
    "    X = np.zeros((n_samples, Qnet.n_inputs))\n",
    "    R = np.zeros((n_samples, 1))\n",
    "    next_Q = np.zeros((n_samples, 1))\n",
    "    \n",
    "    robot.collided = True  # to force reset to new state in following loop\n",
    "    \n",
    "    for step in range(n_samples):\n",
    "\n",
    "        if robot.collided or robot.goal_achieved:\n",
    "            state = initial_state_f(robot)\n",
    "            state = next_state_f(state, 0)\n",
    "            action, _ = epsilon_greedy(robot, Qnet, state, epsilon)\n",
    "            \n",
    "        next_state = next_state_f(state, action)\n",
    "        r = reinforcement_f(robot)\n",
    "        next_action, Q = epsilon_greedy(robot, Qnet, next_state, epsilon)\n",
    "        X[step, :] = np.hstack((state, action))\n",
    "        R[step, 0] = r\n",
    "        next_Q[step, 0] = 0 if robot.collided or robot.goal_achieved else Q  # 0 if no future\n",
    "        state, action = next_state, next_action\n",
    "\n",
    "    return (X, R, next_Q)\n",
    "\n",
    "def setup_standardization(Qnet, Xmeans, Xstds, Tmeans, Tstds):\n",
    "    Qnet.X_means = np.array(Xmeans)\n",
    "    Qnet.X_stds = np.array(Xstds)\n",
    "    Qnet.T_means = np.array(Tmeans)\n",
    "    Qnet.T_stds = np.array(Tstds)"
   ]
  },
  {
   "cell_type": "code",
   "execution_count": null,
   "metadata": {},
   "outputs": [],
   "source": []
  },
  {
   "cell_type": "code",
   "execution_count": 217,
   "metadata": {
    "ExecuteTime": {
     "end_time": "2021-10-27T21:56:12.675597Z",
     "start_time": "2021-10-27T21:55:04.613795Z"
    },
    "scrolled": false
   },
   "outputs": [
    {
     "data": {
      "image/png": "[encoded data removed]",
      "text/plain": [
       "<Figure size 1080x360 with 5 Axes>"
      ]
     },
     "metadata": {
      "needs_background": "light"
     },
     "output_type": "display_data"
    }
   ],
   "source": [
    "fig = plt.figure(figsize=(15, 5))\n",
    "\n",
    "gamma = 0.8\n",
    "n_trials = 1000\n",
    "n_steps_per_trial = 100 \n",
    "n_epochs = 20\n",
    "learning_rate = 0.01\n",
    "epsilon = 1\n",
    "final_epsilon = 0.001\n",
    "epsilon_decay =  np.exp(np.log(final_epsilon) / (n_trials))\n",
    "\n",
    "epsilon_trace = np.zeros(n_trials)\n",
    "r_trace = np.zeros(n_trials)\n",
    "goal_reached = np.zeros(n_trials)\n",
    "collisions = np.zeros(n_trials)\n",
    "\n",
    "nh = [50, 50, 20, 10]  # hidden layers structure\n",
    "n_links = robot.n_links\n",
    "Qnet = nn.NeuralNetwork(2 * n_links + n_links, nh, 1) \n",
    "\n",
    "setup_standardization(Qnet, \n",
    "                      [0, 0] * n_links + [0] * n_links, \n",
    "                      [1, 1] * n_links + [0.01] * n_links,\n",
    "                      [0], [0.1])\n",
    "\n",
    "\n",
    "for trial in range(n_trials):\n",
    "    \n",
    "    X, R, Qn = make_samples(robot, Qnet, initial_state, next_state, reinforcement,\n",
    "                            n_steps_per_trial, epsilon)\n",
    "    \n",
    "    Qnet.train(X, R + gamma * Qn, n_epochs,  method='adam', learning_rate=learning_rate, batch_size=-1, verbose=False)\n",
    "\n",
    "    # Rest is for plotting\n",
    "    epsilon_trace[trial] = epsilon\n",
    "    epsilon *= epsilon_decay\n",
    "    r_trace[trial] = np.mean(R)\n",
    "    goal_reached[trial] = np.sum(R == 5)\n",
    "    collisions[trial] = np.sum(R == -1)\n",
    "    \n",
    "    if True and (trial + 1 == n_trials or trial % (n_trials / 20) == 0):\n",
    "        fig.clf()\n",
    "        plt.subplot(1, 4, 1)\n",
    "        robot.plot()\n",
    "        plt.axis('off')\n",
    "        plt.subplot(1, 4, 2)\n",
    "        plt.plot(r_trace[:trial])\n",
    "        plt.ylabel('reinforcement')\n",
    "        plt.xlabel('Trials')\n",
    "        plt.xlim(0, n_trials)\n",
    "        plt.subplot(1, 4, 3)\n",
    "        plt.plot(epsilon_trace[:trial])\n",
    "        plt.ylabel('$\\epsilon$')\n",
    "        plt.xlabel('Trials')\n",
    "        plt.xlim(0, n_trials)\n",
    "        plt.subplot(2, 4, 4)\n",
    "        plt.plot(goal_reached[:trial], 'g')\n",
    "        plt.ylabel('Number of GOALS')\n",
    "        plt.xlabel('Trials')\n",
    "        plt.xlim(0, n_trials)\n",
    "        plt.subplot(2, 4, 8)\n",
    "        plt.plot(collisions[:trial], 'r')\n",
    "        plt.ylabel('Number of collisions')\n",
    "        plt.xlabel('Trials')\n",
    "        plt.xlim(0, n_trials)\n",
    "        plt.tight_layout()\n",
    "        clear_output(wait=True)\n",
    "        display(fig)\n",
    "    \n",
    "clear_output(wait=True)\n"
   ]
  },
  {
   "cell_type": "code",
   "execution_count": 218,
   "metadata": {
    "ExecuteTime": {
     "end_time": "2021-10-27T21:56:34.305248Z",
     "start_time": "2021-10-27T21:56:14.795099Z"
    },
    "scrolled": false
   },
   "outputs": [
    {
     "data": {
      "image/png": "[encoded data removed]",
      "text/plain": [
       "<Figure size 360x360 with 1 Axes>"
      ]
     },
     "metadata": {
      "needs_background": "light"
     },
     "output_type": "display_data"
    }
   ],
   "source": [
    "fig = plt.figure(figsize=(5, 5))\n",
    "\n",
    "for ntrials in range(10):\n",
    "    \n",
    "    state = initial_state(robot)\n",
    "    state = next_state(state, 0)\n",
    "    action, _ = epsilon_greedy(robot, Qnet, state, 0)\n",
    "   \n",
    "    for step in range(100):\n",
    "        fig.clf()\n",
    "        robot.plot()\n",
    "        plt.axis('off')\n",
    "        state = next_state(state, action)\n",
    "        r = reinforcement(robot)\n",
    "        action, _ = epsilon_greedy(robot, Qnet, state, epsilon)\n",
    "        # print(action)\n",
    "        if robot.collided:\n",
    "            plt.text(5, 15, 'Collision!', fontsize='x-large', color='red')\n",
    "            # plt.pause(1)\n",
    "        if robot.goal_achieved:\n",
    "            plt.text(5, 15, 'GOAL!', fontsize='x-large', color='green')\n",
    "            # plt.pause(1)\n",
    "        clear_output(wait=True)\n",
    "        display(fig)\n",
    "        if robot.collided or robot.goal_achieved:\n",
    "            break\n",
    " \n",
    "clear_output(wait=True)"
   ]
  },
  {
   "cell_type": "code",
   "execution_count": null,
   "metadata": {},
   "outputs": [],
   "source": []
  },
  {
   "cell_type": "markdown",
   "metadata": {},
   "source": [
    "## Requirements"
   ]
  },
  {
   "cell_type": "markdown",
   "metadata": {},
   "source": [
    "Try various values for these parameters to try to finds ones that result in high number of successful runs to reach the goal.\n",
    "\n",
    "  * hidden layer structure\n",
    "  * n_trials\n",
    "  * n_steps_per_trial \n",
    "  * n_epochs\n",
    "  * learning_rate\n",
    "  \n",
    " You can also experiment with a different reinforcement function, but this is optional."
   ]
  },
  {
   "cell_type": "markdown",
   "metadata": {},
   "source": [
    "## Extra Credit\n",
    "\n",
    "Try each of the following modifications, each for 1 extra credit point.\n",
    "\n",
    "   * Try more links, like 3 or 4.\n",
    "   * Add one or two more obstacles.\n",
    "   * Add plotting functions to show a contour plot and surface plot of the maximum Q value over all actions for a set of joint angles for the 2 link arm.  \n",
    "   \n",
    "For each of these, try to find good parameter values for which the robot successfully learns to reach the goal reliably."
   ]
  },
  {
   "cell_type": "code",
   "execution_count": null,
   "metadata": {},
   "outputs": [],
   "source": []
  }
 ],
 "metadata": {
  "kernelspec": {
   "display_name": "Python 3 (ipykernel)",
   "language": "python",
   "name": "python3"
  },
  "language_info": {
   "codemirror_mode": {
    "name": "ipython",
    "version": 3
   },
   "file_extension": ".py",
   "mimetype": "text/x-python",
   "name": "python",
   "nbconvert_exporter": "python",
   "pygments_lexer": "ipython3",
   "version": "3.8.12"
  },
  "toc": {
   "base_numbering": 1,
   "nav_menu": {},
   "number_sections": false,
   "sideBar": true,
   "skip_h1_title": false,
   "title_cell": "Table of Contents",
   "title_sidebar": "Contents",
   "toc_cell": false,
   "toc_position": {},
   "toc_section_display": true,
   "toc_window_display": false
  }
 },
 "nbformat": 4,
 "nbformat_minor": 2
}
