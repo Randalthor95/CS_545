{
 "cells": [
  {
   "cell_type": "markdown",
   "metadata": {
    "jp-MarkdownHeadingCollapsed": true,
    "tags": [],
    "toc": true
   },
   "source": [
    "<h1>Table of Contents<span class=\"tocSkip\"></span></h1>\n",
    "<div class=\"toc\"><ul class=\"toc-item\"><li><span><a href=\"#Neural-Network-Classifier\" data-toc-modified-id=\"Neural-Network-Classifier-1\">Neural Network Classifier</a></span></li><li><span><a href=\"#Apply-NeuralNetworkClassifier-to-Handwritten-Digits\" data-toc-modified-id=\"Apply-NeuralNetworkClassifier-to-Handwritten-Digits-2\">Apply <code>NeuralNetworkClassifier</code> to Handwritten Digits</a></span></li><li><span><a href=\"#Experiments\" data-toc-modified-id=\"Experiments-3\">Experiments</a></span></li><li><span><a href=\"#Grading\" data-toc-modified-id=\"Grading-4\">Grading</a></span></li><li><span><a href=\"#Extra-Credit\" data-toc-modified-id=\"Extra-Credit-5\">Extra Credit</a></span></li></ul></div>"
   ]
  },
  {
   "cell_type": "markdown",
   "metadata": {
    "tags": []
   },
   "source": [
    "# Neural Network Classifier\n",
    "\n",
    "You may start with your `NeuralNetwork` class from A2, or start with the [implementation defined here](https://www.cs.colostate.edu/~anderson/cs545/notebooks/A2solution.tar) in which all functions meant be called by other functions in this class start with an underscore character. Implement the subclass `NeuralNetworkClassifier` that extends `NeuralNetwork` as discussed in class.  Your `NeuralNetworkClassifier` implementation should rely on inheriting functions from `NeuralNetwork` as much as possible. \n",
    "\n",
    "Your `neuralnetworks.py` file (notice it is plural) will now contain two classes, `NeuralNetwork` and `NeuralNetworkClassifier`.\n",
    "\n",
    "In `NeuralNetworkClassifier` replace the `error_f` function with one called `_neg_log_likelihood_f` and pass it instead of `error_f` into the optimization functions."
   ]
  },
  {
   "cell_type": "markdown",
   "metadata": {},
   "source": [
    "Here are some example tests."
   ]
  },
  {
   "cell_type": "code",
   "execution_count": 1,
   "metadata": {
    "ExecuteTime": {
     "end_time": "2021-09-24T18:23:36.114569Z",
     "start_time": "2021-09-24T18:23:36.106951Z"
    }
   },
   "outputs": [],
   "source": [
    "%load_ext autoreload\n",
    "%autoreload 2"
   ]
  },
  {
   "cell_type": "code",
   "execution_count": 2,
   "metadata": {
    "ExecuteTime": {
     "end_time": "2021-09-24T18:25:40.384936Z",
     "start_time": "2021-09-24T18:25:40.310801Z"
    }
   },
   "outputs": [],
   "source": [
    "import numpy as np\n",
    "import neuralnetworks as nn\n",
    "import matplotlib.pyplot as plt\n",
    "%matplotlib inline"
   ]
  },
  {
   "cell_type": "code",
   "execution_count": 3,
   "metadata": {
    "ExecuteTime": {
     "end_time": "2021-09-24T18:25:22.379902Z",
     "start_time": "2021-09-24T18:25:22.358849Z"
    }
   },
   "outputs": [
    {
     "data": {
      "text/plain": [
       "(array([[0, 0],\n",
       "        [1, 0],\n",
       "        [0, 1],\n",
       "        [1, 1]]),\n",
       " array([[0],\n",
       "        [1],\n",
       "        [1],\n",
       "        [0]]))"
      ]
     },
     "execution_count": 3,
     "metadata": {},
     "output_type": "execute_result"
    }
   ],
   "source": [
    "X = np.array([[0, 0], [1, 0], [0, 1], [1, 1]])\n",
    "T = np.array([[0], [1], [1], [0]])\n",
    "X, T"
   ]
  },
  {
   "cell_type": "code",
   "execution_count": 4,
   "metadata": {
    "ExecuteTime": {
     "end_time": "2021-09-24T18:25:22.769270Z",
     "start_time": "2021-09-24T18:25:22.746279Z"
    }
   },
   "outputs": [],
   "source": [
    "np.random.seed(111)\n",
    "nnet = nn.NeuralNetworkClassifier(2, [10], 2)"
   ]
  },
  {
   "cell_type": "code",
   "execution_count": 5,
   "metadata": {
    "ExecuteTime": {
     "end_time": "2021-09-24T18:25:23.267703Z",
     "start_time": "2021-09-24T18:25:23.245179Z"
    }
   },
   "outputs": [
    {
     "name": "stdout",
     "output_type": "stream",
     "text": [
      "NeuralNetworkClassifier(2, [10], 2)\n"
     ]
    }
   ],
   "source": [
    "print(nnet)"
   ]
  },
  {
   "cell_type": "code",
   "execution_count": 6,
   "metadata": {
    "ExecuteTime": {
     "end_time": "2021-09-24T18:25:23.656050Z",
     "start_time": "2021-09-24T18:25:23.632259Z"
    }
   },
   "outputs": [
    {
     "data": {
      "text/plain": [
       "[array([[0.35343662, 0.09761247, 0.25175879, 0.4441339 , 0.17050614,\n",
       "         0.08611927, 0.01297787, 0.24261672, 0.1378032 , 0.19494589],\n",
       "        [0.57198811, 0.13725143, 0.0468766 , 0.38659388, 0.35867477,\n",
       "         0.15834035, 0.26917306, 0.06833965, 0.04269942, 0.52006221],\n",
       "        [0.4583945 , 0.48530311, 0.47066025, 0.57212805, 0.3332892 ,\n",
       "         0.46982855, 0.24324799, 0.01584709, 0.26219591, 0.06081004]]),\n",
       " array([[0.24640112, 0.21037283],\n",
       "        [0.17043996, 0.08268264],\n",
       "        [0.30105116, 0.04162125],\n",
       "        [0.18555481, 0.14624395],\n",
       "        [0.12212025, 0.21945476],\n",
       "        [0.09733206, 0.12076903],\n",
       "        [0.09617199, 0.28559813],\n",
       "        [0.27700099, 0.24538331],\n",
       "        [0.01027463, 0.28443762],\n",
       "        [0.28656819, 0.24319635],\n",
       "        [0.14511079, 0.29148887]])]"
      ]
     },
     "execution_count": 6,
     "metadata": {},
     "output_type": "execute_result"
    }
   ],
   "source": [
    "nnet.Ws"
   ]
  },
  {
   "cell_type": "markdown",
   "metadata": {},
   "source": [
    "The `softmax` function can produce errors if the denominator is close to zero.  Here is an implentation you may use to avoid some of those errors.  This assumes you have the following import in your `neuralnetworks.py` file.\n",
    "\n",
    "`sys.float_info.epsilon` is also useful in your `_neg_log_likehood_f` function to avoid taking the `log` of zero."
   ]
  },
  {
   "cell_type": "code",
   "execution_count": 7,
   "metadata": {
    "ExecuteTime": {
     "end_time": "2021-09-24T18:25:24.837645Z",
     "start_time": "2021-09-24T18:25:24.829299Z"
    }
   },
   "outputs": [],
   "source": [
    "import sys  # for sys.float_info.epsilon "
   ]
  },
  {
   "cell_type": "code",
   "execution_count": 8,
   "metadata": {
    "ExecuteTime": {
     "end_time": "2021-09-24T18:25:25.274470Z",
     "start_time": "2021-09-24T18:25:25.249705Z"
    }
   },
   "outputs": [],
   "source": [
    "    def _softmax(self, Y):\n",
    "        '''Apply to final layer weighted sum outputs'''\n",
    "        # Trick to avoid overflow\n",
    "        maxY = Y.max()       \n",
    "        expY = np.exp(Y - maxY)\n",
    "        denom = expY.sum(1).reshape((-1, 1))\n",
    "        Y = expY / (denom + sys.float_info.epsilon)\n",
    "        return Y"
   ]
  },
  {
   "cell_type": "markdown",
   "metadata": {},
   "source": [
    "Replace the `error_f` function with `neg_log_likelihood`.  If you add some print statements in `_neg_log_likelihood` functions, you can compare your output to the following results."
   ]
  },
  {
   "cell_type": "code",
   "execution_count": 9,
   "metadata": {
    "ExecuteTime": {
     "end_time": "2021-09-24T18:25:26.072982Z",
     "start_time": "2021-09-24T18:25:26.056402Z"
    }
   },
   "outputs": [
    {
     "name": "stdout",
     "output_type": "stream",
     "text": [
      "sgd: Epoch 1 ObjectiveF=0.70718\n"
     ]
    },
    {
     "data": {
      "text/plain": [
       "NeuralNetworkClassifier(2, [10], 2)"
      ]
     },
     "execution_count": 9,
     "metadata": {},
     "output_type": "execute_result"
    }
   ],
   "source": [
    "nnet.train(X, T, n_epochs=1, method='sgd', learning_rate=0.01)"
   ]
  },
  {
   "cell_type": "code",
   "execution_count": 10,
   "metadata": {
    "ExecuteTime": {
     "end_time": "2021-09-24T18:25:26.839004Z",
     "start_time": "2021-09-24T18:25:26.830767Z"
    }
   },
   "outputs": [
    {
     "name": "stdout",
     "output_type": "stream",
     "text": [
      "NeuralNetworkClassifier(2, [10], 2)\n",
      " Trained for 1 epochs.\n",
      " Final data likelihood 0.7072.\n"
     ]
    }
   ],
   "source": [
    "print(nnet)"
   ]
  },
  {
   "cell_type": "markdown",
   "metadata": {},
   "source": [
    "Now if you comment out those print statements, you can run for more epochs without tons of output."
   ]
  },
  {
   "cell_type": "code",
   "execution_count": 11,
   "metadata": {
    "ExecuteTime": {
     "end_time": "2021-09-24T18:25:45.819326Z",
     "start_time": "2021-09-24T18:25:45.807629Z"
    }
   },
   "outputs": [],
   "source": [
    "np.random.seed(111)\n",
    "nnet = nn.NeuralNetworkClassifier(2, [10], 2)"
   ]
  },
  {
   "cell_type": "code",
   "execution_count": 12,
   "metadata": {
    "ExecuteTime": {
     "end_time": "2021-09-24T18:25:46.520206Z",
     "start_time": "2021-09-24T18:25:46.501689Z"
    }
   },
   "outputs": [
    {
     "name": "stdout",
     "output_type": "stream",
     "text": [
      "SCG: Epoch 10 ObjectiveF=0.99632\n",
      "SCG: Epoch 20 ObjectiveF=0.99996\n",
      "SCG: Epoch 30 ObjectiveF=1.00000\n"
     ]
    },
    {
     "data": {
      "text/plain": [
       "NeuralNetworkClassifier(2, [10], 2)"
      ]
     },
     "execution_count": 12,
     "metadata": {},
     "output_type": "execute_result"
    }
   ],
   "source": [
    "nnet.train(X, T, 100, method='scg')"
   ]
  },
  {
   "cell_type": "code",
   "execution_count": 13,
   "metadata": {
    "ExecuteTime": {
     "end_time": "2021-09-24T18:25:47.618829Z",
     "start_time": "2021-09-24T18:25:47.605349Z"
    }
   },
   "outputs": [
    {
     "data": {
      "text/plain": [
       "(array([[0],\n",
       "        [1],\n",
       "        [1],\n",
       "        [0]], dtype=int64),\n",
       " array([[9.99999991e-01, 9.38228261e-09],\n",
       "        [1.13209730e-08, 9.99999989e-01],\n",
       "        [8.63072013e-09, 9.99999991e-01],\n",
       "        [9.99999990e-01, 9.87925278e-09]]))"
      ]
     },
     "execution_count": 13,
     "metadata": {},
     "output_type": "execute_result"
    }
   ],
   "source": [
    "nnet.use(X)"
   ]
  },
  {
   "cell_type": "code",
   "execution_count": 14,
   "metadata": {
    "ExecuteTime": {
     "end_time": "2021-09-24T18:25:48.138607Z",
     "start_time": "2021-09-24T18:25:48.117505Z"
    }
   },
   "outputs": [],
   "source": [
    "def percent_correct(Y, T):\n",
    "    return np.mean(T == Y) * 100"
   ]
  },
  {
   "cell_type": "code",
   "execution_count": 15,
   "metadata": {
    "ExecuteTime": {
     "end_time": "2021-09-24T18:25:48.913883Z",
     "start_time": "2021-09-24T18:25:48.904446Z"
    }
   },
   "outputs": [
    {
     "name": "stdout",
     "output_type": "stream",
     "text": [
      "100.0\n",
      "[[0]\n",
      " [1]\n",
      " [1]\n",
      " [0]]\n",
      "[[0]\n",
      " [1]\n",
      " [1]\n",
      " [0]]\n"
     ]
    }
   ],
   "source": [
    "print(percent_correct(nnet.use(X)[0], T))\n",
    "print(nnet.use(X)[0])\n",
    "print(T)"
   ]
  },
  {
   "cell_type": "markdown",
   "metadata": {},
   "source": [
    "Works!  The XOR problem was used early in the history of neural networks as a problem that cannot be solved with a linear model.  Let's try it.  It turns out our neural network code can do this if we use an empty list for the hidden unit structure!"
   ]
  },
  {
   "cell_type": "code",
   "execution_count": 16,
   "metadata": {
    "ExecuteTime": {
     "end_time": "2021-09-24T18:25:49.930009Z",
     "start_time": "2021-09-24T18:25:49.919549Z"
    }
   },
   "outputs": [
    {
     "data": {
      "text/plain": [
       "NeuralNetworkClassifier(2, [], 2)"
      ]
     },
     "execution_count": 16,
     "metadata": {},
     "output_type": "execute_result"
    }
   ],
   "source": [
    "nnet = nn.NeuralNetworkClassifier(2, [], 2)\n",
    "nnet.train(X, T, 100, method='scg')"
   ]
  },
  {
   "cell_type": "code",
   "execution_count": 17,
   "metadata": {
    "ExecuteTime": {
     "end_time": "2021-09-24T18:25:50.477779Z",
     "start_time": "2021-09-24T18:25:50.450527Z"
    }
   },
   "outputs": [
    {
     "data": {
      "text/plain": [
       "(array([[0],\n",
       "        [1],\n",
       "        [0],\n",
       "        [1]], dtype=int64),\n",
       " array([[0.5, 0.5],\n",
       "        [0.5, 0.5],\n",
       "        [0.5, 0.5],\n",
       "        [0.5, 0.5]]))"
      ]
     },
     "execution_count": 17,
     "metadata": {},
     "output_type": "execute_result"
    }
   ],
   "source": [
    "nnet.use(X)"
   ]
  },
  {
   "cell_type": "code",
   "execution_count": 18,
   "metadata": {
    "ExecuteTime": {
     "end_time": "2021-09-24T18:25:51.030958Z",
     "start_time": "2021-09-24T18:25:51.003631Z"
    }
   },
   "outputs": [
    {
     "data": {
      "text/plain": [
       "50.0"
      ]
     },
     "execution_count": 18,
     "metadata": {},
     "output_type": "execute_result"
    }
   ],
   "source": [
    "percent_correct(nnet.use(X)[0], T)"
   ]
  },
  {
   "cell_type": "markdown",
   "metadata": {},
   "source": [
    "A second way to evaluate a classifier is to calculate a confusion matrix. This shows the percent accuracy for each class, and also shows which classes are predicted in error.\n",
    "\n",
    "Here is a function you can use to show a confusion matrix."
   ]
  },
  {
   "cell_type": "code",
   "execution_count": 19,
   "metadata": {
    "ExecuteTime": {
     "end_time": "2021-09-24T18:25:53.392283Z",
     "start_time": "2021-09-24T18:25:53.383369Z"
    }
   },
   "outputs": [],
   "source": [
    "import pandas\n",
    "\n",
    "def confusion_matrix(Y_classes, T):\n",
    "    class_names = np.unique(T)\n",
    "    table = []\n",
    "    for true_class in class_names:\n",
    "        row = []\n",
    "        for Y_class in class_names:\n",
    "            row.append(100 * np.mean(Y_classes[T == true_class] == Y_class))\n",
    "        table.append(row)\n",
    "    conf_matrix = pandas.DataFrame(table, index=class_names, columns=class_names)\n",
    "    # cf.style.background_gradient(cmap='Blues').format(\"{:.1f} %\")\n",
    "    print('Percent Correct')\n",
    "    return conf_matrix.style.background_gradient(cmap='Blues').format(\"{:.1f}\")"
   ]
  },
  {
   "cell_type": "code",
   "execution_count": 20,
   "metadata": {
    "ExecuteTime": {
     "end_time": "2021-09-24T18:25:54.376110Z",
     "start_time": "2021-09-24T18:25:54.361173Z"
    }
   },
   "outputs": [
    {
     "name": "stdout",
     "output_type": "stream",
     "text": [
      "Percent Correct\n"
     ]
    },
    {
     "data": {
      "text/html": [
       "<style  type=\"text/css\" >\n",
       "#T_329eb75f_1fd5_11ec_ab93_00d861bee616row0_col0,#T_329eb75f_1fd5_11ec_ab93_00d861bee616row0_col1,#T_329eb75f_1fd5_11ec_ab93_00d861bee616row1_col0,#T_329eb75f_1fd5_11ec_ab93_00d861bee616row1_col1{\n",
       "            background-color:  #f7fbff;\n",
       "            color:  #000000;\n",
       "        }</style><table id=\"T_329eb75f_1fd5_11ec_ab93_00d861bee616\" ><thead>    <tr>        <th class=\"blank level0\" ></th>        <th class=\"col_heading level0 col0\" >0</th>        <th class=\"col_heading level0 col1\" >1</th>    </tr></thead><tbody>\n",
       "                <tr>\n",
       "                        <th id=\"T_329eb75f_1fd5_11ec_ab93_00d861bee616level0_row0\" class=\"row_heading level0 row0\" >0</th>\n",
       "                        <td id=\"T_329eb75f_1fd5_11ec_ab93_00d861bee616row0_col0\" class=\"data row0 col0\" >50.0</td>\n",
       "                        <td id=\"T_329eb75f_1fd5_11ec_ab93_00d861bee616row0_col1\" class=\"data row0 col1\" >50.0</td>\n",
       "            </tr>\n",
       "            <tr>\n",
       "                        <th id=\"T_329eb75f_1fd5_11ec_ab93_00d861bee616level0_row1\" class=\"row_heading level0 row1\" >1</th>\n",
       "                        <td id=\"T_329eb75f_1fd5_11ec_ab93_00d861bee616row1_col0\" class=\"data row1 col0\" >50.0</td>\n",
       "                        <td id=\"T_329eb75f_1fd5_11ec_ab93_00d861bee616row1_col1\" class=\"data row1 col1\" >50.0</td>\n",
       "            </tr>\n",
       "    </tbody></table>"
      ],
      "text/plain": [
       "<pandas.io.formats.style.Styler at 0x1ec10117af0>"
      ]
     },
     "execution_count": 20,
     "metadata": {},
     "output_type": "execute_result"
    }
   ],
   "source": [
    "confusion_matrix(nnet.use(X)[0], T)"
   ]
  },
  {
   "cell_type": "markdown",
   "metadata": {},
   "source": [
    "# Apply `NeuralNetworkClassifier` to Handwritten Digits"
   ]
  },
  {
   "cell_type": "markdown",
   "metadata": {},
   "source": [
    "Apply your `NeuralNetworkClassifier` to the [MNIST digits dataset](http://deeplearning.net/tutorial/gettingstarted.html)."
   ]
  },
  {
   "cell_type": "code",
   "execution_count": 21,
   "metadata": {
    "ExecuteTime": {
     "end_time": "2021-09-24T18:26:20.510347Z",
     "start_time": "2021-09-24T18:26:20.498151Z"
    }
   },
   "outputs": [],
   "source": [
    "import pickle\n",
    "import gzip"
   ]
  },
  {
   "cell_type": "code",
   "execution_count": 47,
   "metadata": {
    "ExecuteTime": {
     "end_time": "2021-09-24T18:26:21.598636Z",
     "start_time": "2021-09-24T18:26:20.981257Z"
    }
   },
   "outputs": [
    {
     "name": "stdout",
     "output_type": "stream",
     "text": [
      "(50000, 784) (50000, 1) (10000, 784) (10000, 1) (10000, 784) (10000, 1)\n"
     ]
    }
   ],
   "source": [
    "with gzip.open('mnist.pkl.gz', 'rb') as f:\n",
    "    train_set, valid_set, test_set = pickle.load(f, encoding='latin1')\n",
    "\n",
    "Xtrain = train_set[0]\n",
    "Ttrain = train_set[1].reshape(-1, 1)\n",
    "\n",
    "Xval = valid_set[0]\n",
    "Tval = valid_set[1].reshape(-1, 1)\n",
    "\n",
    "Xtest = test_set[0]\n",
    "Ttest = test_set[1].reshape(-1, 1)\n",
    "\n",
    "print(Xtrain.shape, Ttrain.shape,  Xval.shape, Tval.shape,  Xtest.shape, Ttest.shape)"
   ]
  },
  {
   "cell_type": "code",
   "execution_count": 23,
   "metadata": {
    "ExecuteTime": {
     "end_time": "2021-09-24T18:26:21.609303Z",
     "start_time": "2021-09-24T18:26:21.599676Z"
    }
   },
   "outputs": [
    {
     "data": {
      "text/plain": [
       "784"
      ]
     },
     "execution_count": 23,
     "metadata": {},
     "output_type": "execute_result"
    }
   ],
   "source": [
    "28*28"
   ]
  },
  {
   "cell_type": "code",
   "execution_count": 24,
   "metadata": {},
   "outputs": [
    {
     "name": "stdout",
     "output_type": "stream",
     "text": [
      "[[5]\n",
      " [0]\n",
      " [4]\n",
      " [1]\n",
      " [9]\n",
      " [2]\n",
      " [1]\n",
      " [3]\n",
      " [1]\n",
      " [4]]\n",
      "[0 1 2 3 4 5 6 7 8 9]\n"
     ]
    }
   ],
   "source": [
    "print(Ttrain[0:10])\n",
    "print(np.unique(Ttrain))"
   ]
  },
  {
   "cell_type": "code",
   "execution_count": 25,
   "metadata": {
    "ExecuteTime": {
     "end_time": "2021-09-24T18:26:22.187860Z",
     "start_time": "2021-09-24T18:26:22.162227Z"
    }
   },
   "outputs": [],
   "source": [
    "def draw_image(image, label):\n",
    "    plt.imshow(-image.reshape(28, 28), cmap='gray')\n",
    "    plt.xticks([])\n",
    "    plt.yticks([])\n",
    "    plt.axis('off')\n",
    "    plt.title(label)"
   ]
  },
  {
   "cell_type": "code",
   "execution_count": 26,
   "metadata": {
    "ExecuteTime": {
     "end_time": "2021-09-24T18:26:24.129141Z",
     "start_time": "2021-09-24T18:26:22.682916Z"
    }
   },
   "outputs": [
    {
     "data": {
      "image/png": "[encoded data removed]",
      "text/plain": [
       "<Figure size 504x504 with 100 Axes>"
      ]
     },
     "metadata": {},
     "output_type": "display_data"
    }
   ],
   "source": [
    "plt.figure(figsize=(7, 7))\n",
    "for i in range(100):\n",
    "    plt.subplot(10, 10, i+1)\n",
    "    draw_image(Xtrain[i], Ttrain[i,0])\n",
    "plt.tight_layout()"
   ]
  },
  {
   "cell_type": "code",
   "execution_count": 27,
   "metadata": {
    "ExecuteTime": {
     "end_time": "2021-09-24T18:26:35.559448Z",
     "start_time": "2021-09-24T18:26:24.848046Z"
    }
   },
   "outputs": [
    {
     "name": "stdout",
     "output_type": "stream",
     "text": [
      "SCG: Epoch 4 ObjectiveF=0.95819\n",
      "SCG: Epoch 8 ObjectiveF=0.96994\n",
      "SCG: Epoch 12 ObjectiveF=0.97146\n",
      "SCG: Epoch 16 ObjectiveF=0.97146\n",
      "SCG: Epoch 20 ObjectiveF=0.97146\n",
      "SCG: Epoch 24 ObjectiveF=0.97273\n",
      "SCG: Epoch 28 ObjectiveF=0.97421\n",
      "SCG: Epoch 32 ObjectiveF=0.97475\n",
      "SCG: Epoch 36 ObjectiveF=0.97494\n",
      "SCG: Epoch 40 ObjectiveF=0.97496\n"
     ]
    },
    {
     "data": {
      "text/plain": [
       "NeuralNetworkClassifier(784, [], 10)"
      ]
     },
     "execution_count": 27,
     "metadata": {},
     "output_type": "execute_result"
    }
   ],
   "source": [
    "nnet = nn.NeuralNetworkClassifier(784, [], 10)\n",
    "nnet.train(Xtrain, Ttrain, n_epochs=40, method='scg')"
   ]
  },
  {
   "cell_type": "code",
   "execution_count": 28,
   "metadata": {
    "ExecuteTime": {
     "end_time": "2021-09-24T18:26:38.412114Z",
     "start_time": "2021-09-24T18:26:38.396704Z"
    }
   },
   "outputs": [
    {
     "name": "stdout",
     "output_type": "stream",
     "text": [
      "NeuralNetworkClassifier(784, [], 10)\n",
      " Trained for 40 epochs.\n",
      " Final data likelihood 0.975.\n"
     ]
    }
   ],
   "source": [
    "print(nnet)"
   ]
  },
  {
   "cell_type": "code",
   "execution_count": 29,
   "metadata": {
    "ExecuteTime": {
     "end_time": "2021-09-24T18:26:40.847453Z",
     "start_time": "2021-09-24T18:26:40.687447Z"
    }
   },
   "outputs": [
    {
     "data": {
      "text/plain": [
       "[93.138, 92.65, 92.28]"
      ]
     },
     "execution_count": 29,
     "metadata": {},
     "output_type": "execute_result"
    }
   ],
   "source": [
    "[percent_correct(nnet.use(X)[0], T) for X, T in zip([Xtrain, Xval, Xtest], [Ttrain, Tval, Ttest])]"
   ]
  },
  {
   "cell_type": "code",
   "execution_count": 30,
   "metadata": {
    "ExecuteTime": {
     "end_time": "2021-09-24T18:27:01.309178Z",
     "start_time": "2021-09-24T18:26:43.792019Z"
    }
   },
   "outputs": [
    {
     "name": "stdout",
     "output_type": "stream",
     "text": [
      "SCG: Epoch 4 ObjectiveF=0.88560\n",
      "SCG: Epoch 8 ObjectiveF=0.95820\n",
      "SCG: Epoch 12 ObjectiveF=0.97325\n",
      "SCG: Epoch 16 ObjectiveF=0.97961\n",
      "SCG: Epoch 20 ObjectiveF=0.98322\n",
      "SCG: Epoch 24 ObjectiveF=0.98575\n",
      "SCG: Epoch 28 ObjectiveF=0.98762\n",
      "SCG: Epoch 32 ObjectiveF=0.98896\n",
      "SCG: Epoch 36 ObjectiveF=0.98981\n",
      "SCG: Epoch 40 ObjectiveF=0.99067\n"
     ]
    },
    {
     "data": {
      "text/plain": [
       "NeuralNetworkClassifier(784, [20], 10)"
      ]
     },
     "execution_count": 30,
     "metadata": {},
     "output_type": "execute_result"
    }
   ],
   "source": [
    "nnet = nn.NeuralNetworkClassifier(784, [20], 10)\n",
    "nnet.train(Xtrain, Ttrain, n_epochs=40, method='scg')"
   ]
  },
  {
   "cell_type": "code",
   "execution_count": 31,
   "metadata": {
    "ExecuteTime": {
     "end_time": "2021-09-24T18:27:01.528413Z",
     "start_time": "2021-09-24T18:27:01.310339Z"
    }
   },
   "outputs": [
    {
     "data": {
      "text/plain": [
       "[97.47200000000001, 94.21000000000001, 93.62]"
      ]
     },
     "execution_count": 31,
     "metadata": {},
     "output_type": "execute_result"
    }
   ],
   "source": [
    "[percent_correct(nnet.use(X)[0], T) for X, T in zip([Xtrain, Xval, Xtest],\n",
    "                                                    [Ttrain, Tval, Ttest])]"
   ]
  },
  {
   "cell_type": "markdown",
   "metadata": {},
   "source": [
    "# Experiments\n",
    "\n",
    "For each method, try various hidden layer structures, learning rates, and numbers of epochs.  Use the validation percent accuracy to pick the best hidden layers, learning rates and numbers of epochs for each method (ignore learning rates for scg).  Report training, validation and test accuracy for your best validation results for each of the three methods.\n",
    "\n",
    "Include plots of data likelihood versus epochs, and confusion matrices, for best results for each method.\n",
    "\n",
    "Write at least 10 sentences about what you observe in the likelihood plots, the train, validation and test accuracies, and the confusion matrices."
   ]
  },
  {
   "cell_type": "code",
   "execution_count": 32,
   "metadata": {},
   "outputs": [],
   "source": [
    "def print_nn(neural_net, method, rho, final, XTrain, TTrain, XVal, TVal, XTest, TTest):\n",
    "    if method == 'scg':\n",
    "            print( 'method = ', method, '\\nnetwork structure = ', str(neural_net), '\\n')\n",
    "    else:\n",
    "        print( 'method = ', method, '\\nnetwork structure = ', str(neural_net), '\\nlearning rate = ', rho, '\\n')\n",
    "    print(['Train', 'Validate'])\n",
    "    print([percent_correct(neural_net.use(_X)[0], _T) for _X, _T in zip([XTrain, XVal],\n",
    "                                                    [TTrain, TVal])], '\\n')\n",
    "    if final:\n",
    "        print(['Test'])\n",
    "        print([percent_correct(neural_net.use(_X)[0], _T) for _X, _T in zip([XTest],\n",
    "                                                    [TTest])], '\\n')\n",
    "        display(confusion_matrix(neural_net.use(XTest)[0], TTest))\n",
    "        plt.figure()\n",
    "        plt.plot(neural_net.get_error_trace())\n",
    "        plt.xlabel('Epoch')\n",
    "        plt.ylabel('Data Likelihood');"
   ]
  },
  {
   "cell_type": "code",
   "execution_count": 36,
   "metadata": {
    "tags": []
   },
   "outputs": [
    {
     "name": "stdout",
     "output_type": "stream",
     "text": [
      "method =  sgd \n",
      "network structure =  NeuralNetworkClassifier(784, [20], 10)\n",
      " Trained for 100 epochs.\n",
      " Final data likelihood 0.8101. \n",
      "learning rate =  0.01 \n",
      "\n",
      "['Train', 'Validate']\n",
      "[25.714, 25.919999999999998] \n",
      "\n",
      "method =  adam \n",
      "network structure =  NeuralNetworkClassifier(784, [20], 10)\n",
      " Trained for 100 epochs.\n",
      " Final data likelihood 0.9811. \n",
      "learning rate =  0.01 \n",
      "\n",
      "['Train', 'Validate']\n",
      "[95.084, 93.37] \n",
      "\n",
      "method =  scg \n",
      "network structure =  NeuralNetworkClassifier(784, [20], 10)\n",
      " Trained for 100 epochs.\n",
      " Final data likelihood 0.9958. \n",
      "\n",
      "['Train', 'Validate']\n",
      "[99.198, 93.38] \n",
      "\n"
     ]
    }
   ],
   "source": [
    "n_epochs = 100\n",
    "rho = 0.01\n",
    "structure = [20]\n",
    "\n",
    "\n",
    "nnet_0_sgd = nn.NeuralNetworkClassifier(784, structure, 10)\n",
    "nnet_0_sgd.train(Xtrain, Ttrain, n_epochs, method='sgd', learning_rate=rho, verbose=False)\n",
    "print_nn(nnet_0_sgd, 'sgd', rho, False, Xtrain, Ttrain, Xval, Tval, Xtest, Ttest)\n",
    "    \n",
    "nnet_0_adam = nn.NeuralNetworkClassifier(784, structure, 10)\n",
    "nnet_0_adam.train(Xtrain, Ttrain, n_epochs, method='adam', learning_rate=rho, verbose=False)     \n",
    "print_nn(nnet_0_adam, 'adam', rho, False, Xtrain, Ttrain, Xval, Tval, Xtest, Ttest)\n",
    "\n",
    "nnet_0_scg = nn.NeuralNetworkClassifier(784, structure, 10)\n",
    "nnet_0_scg.train(Xtrain, Ttrain, n_epochs, method='scg', learning_rate=rho, verbose=False)\n",
    "print_nn(nnet_0_scg, 'scg', rho, False, Xtrain, Ttrain, Xval, Tval, Xtest, Ttest)"
   ]
  },
  {
   "cell_type": "code",
   "execution_count": 37,
   "metadata": {},
   "outputs": [
    {
     "name": "stdout",
     "output_type": "stream",
     "text": [
      "method =  sgd \n",
      "network structure =  NeuralNetworkClassifier(784, [20, 20, 10], 10)\n",
      " Trained for 500 epochs.\n",
      " Final data likelihood 0.7975. \n",
      "learning rate =  0.001 \n",
      "\n",
      "['Train', 'Validate']\n",
      "[19.656000000000002, 18.96] \n",
      "\n",
      "method =  adam \n",
      "network structure =  NeuralNetworkClassifier(784, [20, 20, 10], 10)\n",
      " Trained for 500 epochs.\n",
      " Final data likelihood 0.9411. \n",
      "learning rate =  0.001 \n",
      "\n",
      "['Train', 'Validate']\n",
      "[78.802, 74.07000000000001] \n",
      "\n",
      "method =  scg \n",
      "network structure =  NeuralNetworkClassifier(784, [20, 20, 10], 10)\n",
      " Trained for 500 epochs.\n",
      " Final data likelihood 0.9973. \n",
      "\n",
      "['Train', 'Validate']\n",
      "[99.494, 92.23] \n",
      "\n"
     ]
    }
   ],
   "source": [
    "n_epochs = 500\n",
    "rho = 0.001\n",
    "structure = [20, 20, 10]\n",
    "    \n",
    "nnet_1_sgd = nn.NeuralNetworkClassifier(784, structure, 10)\n",
    "nnet_1_sgd.train(Xtrain, Ttrain, n_epochs, method='sgd', learning_rate=rho, verbose=False)\n",
    "print_nn(nnet_1_sgd, 'sgd', rho, False, Xtrain, Ttrain, Xval, Tval, Xtest, Ttest)\n",
    "    \n",
    "nnet_1_adam = nn.NeuralNetworkClassifier(784, structure, 10)\n",
    "nnet_1_adam.train(Xtrain, Ttrain, n_epochs, method='adam', learning_rate=rho, verbose=False)     \n",
    "print_nn(nnet_1_adam, 'adam', rho, False, Xtrain, Ttrain, Xval, Tval, Xtest, Ttest)\n",
    "\n",
    "nnet_1_scg = nn.NeuralNetworkClassifier(784, structure, 10)\n",
    "nnet_1_scg.train(Xtrain, Ttrain, n_epochs, method='scg', learning_rate=rho, verbose=False)\n",
    "print_nn(nnet_1_scg, 'scg', rho, False, Xtrain, Ttrain, Xval, Tval, Xtest, Ttest)"
   ]
  },
  {
   "cell_type": "code",
   "execution_count": 38,
   "metadata": {},
   "outputs": [
    {
     "name": "stdout",
     "output_type": "stream",
     "text": [
      "method =  sgd \n",
      "network structure =  NeuralNetworkClassifier(784, [], 10)\n",
      " Trained for 50 epochs.\n",
      " Final data likelihood 0.9543. \n",
      "learning rate =  0.05 \n",
      "\n",
      "['Train', 'Validate']\n",
      "[87.178, 88.52] \n",
      "\n",
      "method =  adam \n",
      "network structure =  NeuralNetworkClassifier(784, [], 10)\n",
      " Trained for 50 epochs.\n",
      " Final data likelihood 0.02722. \n",
      "learning rate =  0.05 \n",
      "\n",
      "['Train', 'Validate']\n",
      "[10.118, 9.91] \n",
      "\n",
      "method =  scg \n",
      "network structure =  NeuralNetworkClassifier(784, [], 10)\n",
      " Trained for 50 epochs.\n",
      " Final data likelihood 0.975. \n",
      "\n",
      "['Train', 'Validate']\n",
      "[93.174, 92.75] \n",
      "\n"
     ]
    }
   ],
   "source": [
    "n_epochs = 50\n",
    "rho = 0.05\n",
    "structure = []\n",
    "    \n",
    "nnet_2_sgd = nn.NeuralNetworkClassifier(784, structure, 10)\n",
    "nnet_2_sgd.train(Xtrain, Ttrain, n_epochs, method='sgd', learning_rate=rho, verbose=False)\n",
    "print_nn(nnet_2_sgd, 'sgd', rho, False, Xtrain, Ttrain, Xval, Tval, Xtest, Ttest)\n",
    "    \n",
    "nnet_2_adam = nn.NeuralNetworkClassifier(784, structure, 10)\n",
    "nnet_2_adam.train(Xtrain, Ttrain, n_epochs, method='adam', learning_rate=rho, verbose=False)     \n",
    "print_nn(nnet_2_adam, 'adam', rho, False, Xtrain, Ttrain, Xval, Tval, Xtest, Ttest)\n",
    "\n",
    "nnet_2_scg = nn.NeuralNetworkClassifier(784, structure, 10)\n",
    "nnet_2_scg.train(Xtrain, Ttrain, n_epochs, method='scg', learning_rate=rho, verbose=False)\n",
    "print_nn(nnet_2_scg, 'scg', rho, False, Xtrain, Ttrain, Xval, Tval, Xtest, Ttest)"
   ]
  },
  {
   "cell_type": "code",
   "execution_count": 39,
   "metadata": {},
   "outputs": [
    {
     "name": "stdout",
     "output_type": "stream",
     "text": [
      "method =  sgd \n",
      "network structure =  NeuralNetworkClassifier(784, [20, 15, 10, 5], 10)\n",
      " Trained for 750 epochs.\n",
      " Final data likelihood 0.8295. \n",
      "learning rate =  0.025 \n",
      "\n",
      "['Train', 'Validate']\n",
      "[20.491999999999997, 19.93] \n",
      "\n",
      "method =  adam \n",
      "network structure =  NeuralNetworkClassifier(784, [20, 15, 10, 5], 10)\n",
      " Trained for 750 epochs.\n",
      " Final data likelihood 0.9835. \n",
      "learning rate =  0.025 \n",
      "\n",
      "['Train', 'Validate']\n",
      "[96.43599999999999, 88.2] \n",
      "\n",
      "method =  scg \n",
      "network structure =  NeuralNetworkClassifier(784, [20, 15, 10, 5], 10)\n",
      " Trained for 750 epochs.\n",
      " Final data likelihood 0.9955. \n",
      "\n",
      "['Train', 'Validate']\n",
      "[99.29400000000001, 91.64] \n",
      "\n"
     ]
    }
   ],
   "source": [
    "n_epochs = 750\n",
    "rho = 0.025\n",
    "structure = [20, 15, 10, 5 ]\n",
    "    \n",
    "nnet_3_sgd = nn.NeuralNetworkClassifier(784, structure, 10)\n",
    "nnet_3_sgd.train(Xtrain, Ttrain, n_epochs, method='sgd', learning_rate=rho, verbose=False)\n",
    "print_nn(nnet_3_sgd, 'sgd', rho, False, Xtrain, Ttrain, Xval, Tval, Xtest, Ttest)\n",
    "    \n",
    "nnet_3_adam = nn.NeuralNetworkClassifier(784, structure, 10)\n",
    "nnet_3_adam.train(Xtrain, Ttrain, n_epochs, method='adam', learning_rate=rho, verbose=False)     \n",
    "print_nn(nnet_3_adam, 'adam', rho, False, Xtrain, Ttrain, Xval, Tval, Xtest, Ttest)\n",
    "\n",
    "nnet_3_scg = nn.NeuralNetworkClassifier(784, structure, 10)\n",
    "nnet_3_scg.train(Xtrain, Ttrain, n_epochs, method='scg', learning_rate=rho, verbose=False)\n",
    "print_nn(nnet_3_scg, 'scg', rho, False, Xtrain, Ttrain, Xval, Tval, Xtest, Ttest)"
   ]
  },
  {
   "cell_type": "code",
   "execution_count": 48,
   "metadata": {
    "tags": []
   },
   "outputs": [
    {
     "name": "stdout",
     "output_type": "stream",
     "text": [
      "Best Cases\n",
      "method =  sgd \n",
      "network structure =  NeuralNetworkClassifier(784, [], 10)\n",
      " Trained for 50 epochs.\n",
      " Final data likelihood 0.9543. \n",
      "learning rate =  0.025 \n",
      "\n",
      "['Train', 'Validate']\n",
      "[87.178, 88.52] \n",
      "\n",
      "['Test']\n",
      "[87.94] \n",
      "\n",
      "Percent Correct\n"
     ]
    },
    {
     "data": {
      "text/html": [
       "<style  type=\"text/css\" >\n",
       "#T_dcb5b1ec_1fe0_11ec_b985_00d861bee616row0_col0,#T_dcb5b1ec_1fe0_11ec_b985_00d861bee616row1_col1,#T_dcb5b1ec_1fe0_11ec_b985_00d861bee616row2_col2,#T_dcb5b1ec_1fe0_11ec_b985_00d861bee616row3_col3,#T_dcb5b1ec_1fe0_11ec_b985_00d861bee616row4_col4,#T_dcb5b1ec_1fe0_11ec_b985_00d861bee616row5_col5,#T_dcb5b1ec_1fe0_11ec_b985_00d861bee616row6_col6,#T_dcb5b1ec_1fe0_11ec_b985_00d861bee616row7_col7,#T_dcb5b1ec_1fe0_11ec_b985_00d861bee616row8_col8,#T_dcb5b1ec_1fe0_11ec_b985_00d861bee616row9_col9{\n",
       "            background-color:  #08306b;\n",
       "            color:  #f1f1f1;\n",
       "        }#T_dcb5b1ec_1fe0_11ec_b985_00d861bee616row0_col1,#T_dcb5b1ec_1fe0_11ec_b985_00d861bee616row0_col2,#T_dcb5b1ec_1fe0_11ec_b985_00d861bee616row0_col3,#T_dcb5b1ec_1fe0_11ec_b985_00d861bee616row0_col4,#T_dcb5b1ec_1fe0_11ec_b985_00d861bee616row0_col7,#T_dcb5b1ec_1fe0_11ec_b985_00d861bee616row0_col8,#T_dcb5b1ec_1fe0_11ec_b985_00d861bee616row0_col9,#T_dcb5b1ec_1fe0_11ec_b985_00d861bee616row1_col0,#T_dcb5b1ec_1fe0_11ec_b985_00d861bee616row1_col2,#T_dcb5b1ec_1fe0_11ec_b985_00d861bee616row1_col4,#T_dcb5b1ec_1fe0_11ec_b985_00d861bee616row1_col5,#T_dcb5b1ec_1fe0_11ec_b985_00d861bee616row1_col6,#T_dcb5b1ec_1fe0_11ec_b985_00d861bee616row1_col7,#T_dcb5b1ec_1fe0_11ec_b985_00d861bee616row1_col9,#T_dcb5b1ec_1fe0_11ec_b985_00d861bee616row2_col5,#T_dcb5b1ec_1fe0_11ec_b985_00d861bee616row3_col4,#T_dcb5b1ec_1fe0_11ec_b985_00d861bee616row4_col0,#T_dcb5b1ec_1fe0_11ec_b985_00d861bee616row4_col2,#T_dcb5b1ec_1fe0_11ec_b985_00d861bee616row4_col3,#T_dcb5b1ec_1fe0_11ec_b985_00d861bee616row4_col5,#T_dcb5b1ec_1fe0_11ec_b985_00d861bee616row4_col8,#T_dcb5b1ec_1fe0_11ec_b985_00d861bee616row6_col3,#T_dcb5b1ec_1fe0_11ec_b985_00d861bee616row6_col7,#T_dcb5b1ec_1fe0_11ec_b985_00d861bee616row6_col8,#T_dcb5b1ec_1fe0_11ec_b985_00d861bee616row6_col9,#T_dcb5b1ec_1fe0_11ec_b985_00d861bee616row7_col0,#T_dcb5b1ec_1fe0_11ec_b985_00d861bee616row7_col5,#T_dcb5b1ec_1fe0_11ec_b985_00d861bee616row7_col6,#T_dcb5b1ec_1fe0_11ec_b985_00d861bee616row7_col8,#T_dcb5b1ec_1fe0_11ec_b985_00d861bee616row9_col2,#T_dcb5b1ec_1fe0_11ec_b985_00d861bee616row9_col6{\n",
       "            background-color:  #f7fbff;\n",
       "            color:  #000000;\n",
       "        }#T_dcb5b1ec_1fe0_11ec_b985_00d861bee616row0_col5,#T_dcb5b1ec_1fe0_11ec_b985_00d861bee616row2_col4,#T_dcb5b1ec_1fe0_11ec_b985_00d861bee616row3_col2,#T_dcb5b1ec_1fe0_11ec_b985_00d861bee616row5_col7,#T_dcb5b1ec_1fe0_11ec_b985_00d861bee616row6_col5,#T_dcb5b1ec_1fe0_11ec_b985_00d861bee616row8_col4,#T_dcb5b1ec_1fe0_11ec_b985_00d861bee616row8_col7,#T_dcb5b1ec_1fe0_11ec_b985_00d861bee616row9_col0{\n",
       "            background-color:  #f3f8fe;\n",
       "            color:  #000000;\n",
       "        }#T_dcb5b1ec_1fe0_11ec_b985_00d861bee616row0_col6,#T_dcb5b1ec_1fe0_11ec_b985_00d861bee616row2_col0,#T_dcb5b1ec_1fe0_11ec_b985_00d861bee616row4_col6,#T_dcb5b1ec_1fe0_11ec_b985_00d861bee616row5_col1{\n",
       "            background-color:  #f4f9fe;\n",
       "            color:  #000000;\n",
       "        }#T_dcb5b1ec_1fe0_11ec_b985_00d861bee616row1_col3,#T_dcb5b1ec_1fe0_11ec_b985_00d861bee616row2_col9,#T_dcb5b1ec_1fe0_11ec_b985_00d861bee616row3_col0,#T_dcb5b1ec_1fe0_11ec_b985_00d861bee616row4_col7,#T_dcb5b1ec_1fe0_11ec_b985_00d861bee616row5_col2,#T_dcb5b1ec_1fe0_11ec_b985_00d861bee616row6_col2,#T_dcb5b1ec_1fe0_11ec_b985_00d861bee616row7_col3,#T_dcb5b1ec_1fe0_11ec_b985_00d861bee616row8_col2,#T_dcb5b1ec_1fe0_11ec_b985_00d861bee616row9_col5,#T_dcb5b1ec_1fe0_11ec_b985_00d861bee616row9_col8{\n",
       "            background-color:  #f6faff;\n",
       "            color:  #000000;\n",
       "        }#T_dcb5b1ec_1fe0_11ec_b985_00d861bee616row1_col8,#T_dcb5b1ec_1fe0_11ec_b985_00d861bee616row2_col1,#T_dcb5b1ec_1fe0_11ec_b985_00d861bee616row2_col3,#T_dcb5b1ec_1fe0_11ec_b985_00d861bee616row2_col6,#T_dcb5b1ec_1fe0_11ec_b985_00d861bee616row3_col7,#T_dcb5b1ec_1fe0_11ec_b985_00d861bee616row5_col8,#T_dcb5b1ec_1fe0_11ec_b985_00d861bee616row5_col9,#T_dcb5b1ec_1fe0_11ec_b985_00d861bee616row8_col9{\n",
       "            background-color:  #f2f8fd;\n",
       "            color:  #000000;\n",
       "        }#T_dcb5b1ec_1fe0_11ec_b985_00d861bee616row2_col7,#T_dcb5b1ec_1fe0_11ec_b985_00d861bee616row3_col8,#T_dcb5b1ec_1fe0_11ec_b985_00d861bee616row5_col6{\n",
       "            background-color:  #f2f7fd;\n",
       "            color:  #000000;\n",
       "        }#T_dcb5b1ec_1fe0_11ec_b985_00d861bee616row2_col8,#T_dcb5b1ec_1fe0_11ec_b985_00d861bee616row7_col9,#T_dcb5b1ec_1fe0_11ec_b985_00d861bee616row8_col5{\n",
       "            background-color:  #edf4fc;\n",
       "            color:  #000000;\n",
       "        }#T_dcb5b1ec_1fe0_11ec_b985_00d861bee616row3_col1,#T_dcb5b1ec_1fe0_11ec_b985_00d861bee616row3_col6,#T_dcb5b1ec_1fe0_11ec_b985_00d861bee616row3_col9,#T_dcb5b1ec_1fe0_11ec_b985_00d861bee616row4_col1,#T_dcb5b1ec_1fe0_11ec_b985_00d861bee616row6_col1,#T_dcb5b1ec_1fe0_11ec_b985_00d861bee616row7_col4,#T_dcb5b1ec_1fe0_11ec_b985_00d861bee616row8_col0,#T_dcb5b1ec_1fe0_11ec_b985_00d861bee616row8_col6,#T_dcb5b1ec_1fe0_11ec_b985_00d861bee616row9_col1{\n",
       "            background-color:  #f5fafe;\n",
       "            color:  #000000;\n",
       "        }#T_dcb5b1ec_1fe0_11ec_b985_00d861bee616row3_col5,#T_dcb5b1ec_1fe0_11ec_b985_00d861bee616row8_col3{\n",
       "            background-color:  #eff6fc;\n",
       "            color:  #000000;\n",
       "        }#T_dcb5b1ec_1fe0_11ec_b985_00d861bee616row4_col9{\n",
       "            background-color:  #eef5fc;\n",
       "            color:  #000000;\n",
       "        }#T_dcb5b1ec_1fe0_11ec_b985_00d861bee616row5_col0,#T_dcb5b1ec_1fe0_11ec_b985_00d861bee616row6_col0,#T_dcb5b1ec_1fe0_11ec_b985_00d861bee616row6_col4,#T_dcb5b1ec_1fe0_11ec_b985_00d861bee616row7_col2,#T_dcb5b1ec_1fe0_11ec_b985_00d861bee616row9_col3{\n",
       "            background-color:  #f5f9fe;\n",
       "            color:  #000000;\n",
       "        }#T_dcb5b1ec_1fe0_11ec_b985_00d861bee616row5_col3{\n",
       "            background-color:  #ecf4fb;\n",
       "            color:  #000000;\n",
       "        }#T_dcb5b1ec_1fe0_11ec_b985_00d861bee616row5_col4,#T_dcb5b1ec_1fe0_11ec_b985_00d861bee616row7_col1{\n",
       "            background-color:  #f1f7fd;\n",
       "            color:  #000000;\n",
       "        }#T_dcb5b1ec_1fe0_11ec_b985_00d861bee616row8_col1,#T_dcb5b1ec_1fe0_11ec_b985_00d861bee616row9_col7{\n",
       "            background-color:  #f0f6fd;\n",
       "            color:  #000000;\n",
       "        }#T_dcb5b1ec_1fe0_11ec_b985_00d861bee616row9_col4{\n",
       "            background-color:  #eaf3fb;\n",
       "            color:  #000000;\n",
       "        }</style><table id=\"T_dcb5b1ec_1fe0_11ec_b985_00d861bee616\" ><thead>    <tr>        <th class=\"blank level0\" ></th>        <th class=\"col_heading level0 col0\" >0</th>        <th class=\"col_heading level0 col1\" >1</th>        <th class=\"col_heading level0 col2\" >2</th>        <th class=\"col_heading level0 col3\" >3</th>        <th class=\"col_heading level0 col4\" >4</th>        <th class=\"col_heading level0 col5\" >5</th>        <th class=\"col_heading level0 col6\" >6</th>        <th class=\"col_heading level0 col7\" >7</th>        <th class=\"col_heading level0 col8\" >8</th>        <th class=\"col_heading level0 col9\" >9</th>    </tr></thead><tbody>\n",
       "                <tr>\n",
       "                        <th id=\"T_dcb5b1ec_1fe0_11ec_b985_00d861bee616level0_row0\" class=\"row_heading level0 row0\" >0</th>\n",
       "                        <td id=\"T_dcb5b1ec_1fe0_11ec_b985_00d861bee616row0_col0\" class=\"data row0 col0\" >95.3</td>\n",
       "                        <td id=\"T_dcb5b1ec_1fe0_11ec_b985_00d861bee616row0_col1\" class=\"data row0 col1\" >0.0</td>\n",
       "                        <td id=\"T_dcb5b1ec_1fe0_11ec_b985_00d861bee616row0_col2\" class=\"data row0 col2\" >0.4</td>\n",
       "                        <td id=\"T_dcb5b1ec_1fe0_11ec_b985_00d861bee616row0_col3\" class=\"data row0 col3\" >0.2</td>\n",
       "                        <td id=\"T_dcb5b1ec_1fe0_11ec_b985_00d861bee616row0_col4\" class=\"data row0 col4\" >0.0</td>\n",
       "                        <td id=\"T_dcb5b1ec_1fe0_11ec_b985_00d861bee616row0_col5\" class=\"data row0 col5\" >1.7</td>\n",
       "                        <td id=\"T_dcb5b1ec_1fe0_11ec_b985_00d861bee616row0_col6\" class=\"data row0 col6\" >1.7</td>\n",
       "                        <td id=\"T_dcb5b1ec_1fe0_11ec_b985_00d861bee616row0_col7\" class=\"data row0 col7\" >0.2</td>\n",
       "                        <td id=\"T_dcb5b1ec_1fe0_11ec_b985_00d861bee616row0_col8\" class=\"data row0 col8\" >0.4</td>\n",
       "                        <td id=\"T_dcb5b1ec_1fe0_11ec_b985_00d861bee616row0_col9\" class=\"data row0 col9\" >0.0</td>\n",
       "            </tr>\n",
       "            <tr>\n",
       "                        <th id=\"T_dcb5b1ec_1fe0_11ec_b985_00d861bee616level0_row1\" class=\"row_heading level0 row1\" >1</th>\n",
       "                        <td id=\"T_dcb5b1ec_1fe0_11ec_b985_00d861bee616row1_col0\" class=\"data row1 col0\" >0.0</td>\n",
       "                        <td id=\"T_dcb5b1ec_1fe0_11ec_b985_00d861bee616row1_col1\" class=\"data row1 col1\" >96.5</td>\n",
       "                        <td id=\"T_dcb5b1ec_1fe0_11ec_b985_00d861bee616row1_col2\" class=\"data row1 col2\" >0.4</td>\n",
       "                        <td id=\"T_dcb5b1ec_1fe0_11ec_b985_00d861bee616row1_col3\" class=\"data row1 col3\" >0.4</td>\n",
       "                        <td id=\"T_dcb5b1ec_1fe0_11ec_b985_00d861bee616row1_col4\" class=\"data row1 col4\" >0.1</td>\n",
       "                        <td id=\"T_dcb5b1ec_1fe0_11ec_b985_00d861bee616row1_col5\" class=\"data row1 col5\" >0.2</td>\n",
       "                        <td id=\"T_dcb5b1ec_1fe0_11ec_b985_00d861bee616row1_col6\" class=\"data row1 col6\" >0.4</td>\n",
       "                        <td id=\"T_dcb5b1ec_1fe0_11ec_b985_00d861bee616row1_col7\" class=\"data row1 col7\" >0.0</td>\n",
       "                        <td id=\"T_dcb5b1ec_1fe0_11ec_b985_00d861bee616row1_col8\" class=\"data row1 col8\" >2.0</td>\n",
       "                        <td id=\"T_dcb5b1ec_1fe0_11ec_b985_00d861bee616row1_col9\" class=\"data row1 col9\" >0.0</td>\n",
       "            </tr>\n",
       "            <tr>\n",
       "                        <th id=\"T_dcb5b1ec_1fe0_11ec_b985_00d861bee616level0_row2\" class=\"row_heading level0 row2\" >2</th>\n",
       "                        <td id=\"T_dcb5b1ec_1fe0_11ec_b985_00d861bee616row2_col0\" class=\"data row2 col0\" >1.6</td>\n",
       "                        <td id=\"T_dcb5b1ec_1fe0_11ec_b985_00d861bee616row2_col1\" class=\"data row2 col1\" >2.3</td>\n",
       "                        <td id=\"T_dcb5b1ec_1fe0_11ec_b985_00d861bee616row2_col2\" class=\"data row2 col2\" >82.5</td>\n",
       "                        <td id=\"T_dcb5b1ec_1fe0_11ec_b985_00d861bee616row2_col3\" class=\"data row2 col3\" >2.2</td>\n",
       "                        <td id=\"T_dcb5b1ec_1fe0_11ec_b985_00d861bee616row2_col4\" class=\"data row2 col4\" >2.0</td>\n",
       "                        <td id=\"T_dcb5b1ec_1fe0_11ec_b985_00d861bee616row2_col5\" class=\"data row2 col5\" >0.0</td>\n",
       "                        <td id=\"T_dcb5b1ec_1fe0_11ec_b985_00d861bee616row2_col6\" class=\"data row2 col6\" >2.2</td>\n",
       "                        <td id=\"T_dcb5b1ec_1fe0_11ec_b985_00d861bee616row2_col7\" class=\"data row2 col7\" >2.4</td>\n",
       "                        <td id=\"T_dcb5b1ec_1fe0_11ec_b985_00d861bee616row2_col8\" class=\"data row2 col8\" >4.4</td>\n",
       "                        <td id=\"T_dcb5b1ec_1fe0_11ec_b985_00d861bee616row2_col9\" class=\"data row2 col9\" >0.4</td>\n",
       "            </tr>\n",
       "            <tr>\n",
       "                        <th id=\"T_dcb5b1ec_1fe0_11ec_b985_00d861bee616level0_row3\" class=\"row_heading level0 row3\" >3</th>\n",
       "                        <td id=\"T_dcb5b1ec_1fe0_11ec_b985_00d861bee616row3_col0\" class=\"data row3 col0\" >0.5</td>\n",
       "                        <td id=\"T_dcb5b1ec_1fe0_11ec_b985_00d861bee616row3_col1\" class=\"data row3 col1\" >1.0</td>\n",
       "                        <td id=\"T_dcb5b1ec_1fe0_11ec_b985_00d861bee616row3_col2\" class=\"data row3 col2\" >2.3</td>\n",
       "                        <td id=\"T_dcb5b1ec_1fe0_11ec_b985_00d861bee616row3_col3\" class=\"data row3 col3\" >86.4</td>\n",
       "                        <td id=\"T_dcb5b1ec_1fe0_11ec_b985_00d861bee616row3_col4\" class=\"data row3 col4\" >0.1</td>\n",
       "                        <td id=\"T_dcb5b1ec_1fe0_11ec_b985_00d861bee616row3_col5\" class=\"data row3 col5\" >3.3</td>\n",
       "                        <td id=\"T_dcb5b1ec_1fe0_11ec_b985_00d861bee616row3_col6\" class=\"data row3 col6\" >0.8</td>\n",
       "                        <td id=\"T_dcb5b1ec_1fe0_11ec_b985_00d861bee616row3_col7\" class=\"data row3 col7\" >2.4</td>\n",
       "                        <td id=\"T_dcb5b1ec_1fe0_11ec_b985_00d861bee616row3_col8\" class=\"data row3 col8\" >2.4</td>\n",
       "                        <td id=\"T_dcb5b1ec_1fe0_11ec_b985_00d861bee616row3_col9\" class=\"data row3 col9\" >0.9</td>\n",
       "            </tr>\n",
       "            <tr>\n",
       "                        <th id=\"T_dcb5b1ec_1fe0_11ec_b985_00d861bee616level0_row4\" class=\"row_heading level0 row4\" >4</th>\n",
       "                        <td id=\"T_dcb5b1ec_1fe0_11ec_b985_00d861bee616row4_col0\" class=\"data row4 col0\" >0.1</td>\n",
       "                        <td id=\"T_dcb5b1ec_1fe0_11ec_b985_00d861bee616row4_col1\" class=\"data row4 col1\" >1.1</td>\n",
       "                        <td id=\"T_dcb5b1ec_1fe0_11ec_b985_00d861bee616row4_col2\" class=\"data row4 col2\" >0.6</td>\n",
       "                        <td id=\"T_dcb5b1ec_1fe0_11ec_b985_00d861bee616row4_col3\" class=\"data row4 col3\" >0.1</td>\n",
       "                        <td id=\"T_dcb5b1ec_1fe0_11ec_b985_00d861bee616row4_col4\" class=\"data row4 col4\" >91.1</td>\n",
       "                        <td id=\"T_dcb5b1ec_1fe0_11ec_b985_00d861bee616row4_col5\" class=\"data row4 col5\" >0.2</td>\n",
       "                        <td id=\"T_dcb5b1ec_1fe0_11ec_b985_00d861bee616row4_col6\" class=\"data row4 col6\" >1.6</td>\n",
       "                        <td id=\"T_dcb5b1ec_1fe0_11ec_b985_00d861bee616row4_col7\" class=\"data row4 col7\" >0.4</td>\n",
       "                        <td id=\"T_dcb5b1ec_1fe0_11ec_b985_00d861bee616row4_col8\" class=\"data row4 col8\" >0.4</td>\n",
       "                        <td id=\"T_dcb5b1ec_1fe0_11ec_b985_00d861bee616row4_col9\" class=\"data row4 col9\" >4.3</td>\n",
       "            </tr>\n",
       "            <tr>\n",
       "                        <th id=\"T_dcb5b1ec_1fe0_11ec_b985_00d861bee616level0_row5\" class=\"row_heading level0 row5\" >5</th>\n",
       "                        <td id=\"T_dcb5b1ec_1fe0_11ec_b985_00d861bee616row5_col0\" class=\"data row5 col0\" >1.3</td>\n",
       "                        <td id=\"T_dcb5b1ec_1fe0_11ec_b985_00d861bee616row5_col1\" class=\"data row5 col1\" >1.8</td>\n",
       "                        <td id=\"T_dcb5b1ec_1fe0_11ec_b985_00d861bee616row5_col2\" class=\"data row5 col2\" >0.8</td>\n",
       "                        <td id=\"T_dcb5b1ec_1fe0_11ec_b985_00d861bee616row5_col3\" class=\"data row5 col3\" >4.9</td>\n",
       "                        <td id=\"T_dcb5b1ec_1fe0_11ec_b985_00d861bee616row5_col4\" class=\"data row5 col4\" >3.0</td>\n",
       "                        <td id=\"T_dcb5b1ec_1fe0_11ec_b985_00d861bee616row5_col5\" class=\"data row5 col5\" >79.0</td>\n",
       "                        <td id=\"T_dcb5b1ec_1fe0_11ec_b985_00d861bee616row5_col6\" class=\"data row5 col6\" >2.8</td>\n",
       "                        <td id=\"T_dcb5b1ec_1fe0_11ec_b985_00d861bee616row5_col7\" class=\"data row5 col7\" >1.9</td>\n",
       "                        <td id=\"T_dcb5b1ec_1fe0_11ec_b985_00d861bee616row5_col8\" class=\"data row5 col8\" >2.2</td>\n",
       "                        <td id=\"T_dcb5b1ec_1fe0_11ec_b985_00d861bee616row5_col9\" class=\"data row5 col9\" >2.1</td>\n",
       "            </tr>\n",
       "            <tr>\n",
       "                        <th id=\"T_dcb5b1ec_1fe0_11ec_b985_00d861bee616level0_row6\" class=\"row_heading level0 row6\" >6</th>\n",
       "                        <td id=\"T_dcb5b1ec_1fe0_11ec_b985_00d861bee616row6_col0\" class=\"data row6 col0\" >1.3</td>\n",
       "                        <td id=\"T_dcb5b1ec_1fe0_11ec_b985_00d861bee616row6_col1\" class=\"data row6 col1\" >0.9</td>\n",
       "                        <td id=\"T_dcb5b1ec_1fe0_11ec_b985_00d861bee616row6_col2\" class=\"data row6 col2\" >0.9</td>\n",
       "                        <td id=\"T_dcb5b1ec_1fe0_11ec_b985_00d861bee616row6_col3\" class=\"data row6 col3\" >0.0</td>\n",
       "                        <td id=\"T_dcb5b1ec_1fe0_11ec_b985_00d861bee616row6_col4\" class=\"data row6 col4\" >1.3</td>\n",
       "                        <td id=\"T_dcb5b1ec_1fe0_11ec_b985_00d861bee616row6_col5\" class=\"data row6 col5\" >1.8</td>\n",
       "                        <td id=\"T_dcb5b1ec_1fe0_11ec_b985_00d861bee616row6_col6\" class=\"data row6 col6\" >93.7</td>\n",
       "                        <td id=\"T_dcb5b1ec_1fe0_11ec_b985_00d861bee616row6_col7\" class=\"data row6 col7\" >0.0</td>\n",
       "                        <td id=\"T_dcb5b1ec_1fe0_11ec_b985_00d861bee616row6_col8\" class=\"data row6 col8\" >0.1</td>\n",
       "                        <td id=\"T_dcb5b1ec_1fe0_11ec_b985_00d861bee616row6_col9\" class=\"data row6 col9\" >0.0</td>\n",
       "            </tr>\n",
       "            <tr>\n",
       "                        <th id=\"T_dcb5b1ec_1fe0_11ec_b985_00d861bee616level0_row7\" class=\"row_heading level0 row7\" >7</th>\n",
       "                        <td id=\"T_dcb5b1ec_1fe0_11ec_b985_00d861bee616row7_col0\" class=\"data row7 col0\" >0.1</td>\n",
       "                        <td id=\"T_dcb5b1ec_1fe0_11ec_b985_00d861bee616row7_col1\" class=\"data row7 col1\" >3.3</td>\n",
       "                        <td id=\"T_dcb5b1ec_1fe0_11ec_b985_00d861bee616row7_col2\" class=\"data row7 col2\" >1.7</td>\n",
       "                        <td id=\"T_dcb5b1ec_1fe0_11ec_b985_00d861bee616row7_col3\" class=\"data row7 col3\" >0.6</td>\n",
       "                        <td id=\"T_dcb5b1ec_1fe0_11ec_b985_00d861bee616row7_col4\" class=\"data row7 col4\" >1.0</td>\n",
       "                        <td id=\"T_dcb5b1ec_1fe0_11ec_b985_00d861bee616row7_col5\" class=\"data row7 col5\" >0.0</td>\n",
       "                        <td id=\"T_dcb5b1ec_1fe0_11ec_b985_00d861bee616row7_col6\" class=\"data row7 col6\" >0.2</td>\n",
       "                        <td id=\"T_dcb5b1ec_1fe0_11ec_b985_00d861bee616row7_col7\" class=\"data row7 col7\" >88.3</td>\n",
       "                        <td id=\"T_dcb5b1ec_1fe0_11ec_b985_00d861bee616row7_col8\" class=\"data row7 col8\" >0.3</td>\n",
       "                        <td id=\"T_dcb5b1ec_1fe0_11ec_b985_00d861bee616row7_col9\" class=\"data row7 col9\" >4.6</td>\n",
       "            </tr>\n",
       "            <tr>\n",
       "                        <th id=\"T_dcb5b1ec_1fe0_11ec_b985_00d861bee616level0_row8\" class=\"row_heading level0 row8\" >8</th>\n",
       "                        <td id=\"T_dcb5b1ec_1fe0_11ec_b985_00d861bee616row8_col0\" class=\"data row8 col0\" >1.0</td>\n",
       "                        <td id=\"T_dcb5b1ec_1fe0_11ec_b985_00d861bee616row8_col1\" class=\"data row8 col1\" >3.7</td>\n",
       "                        <td id=\"T_dcb5b1ec_1fe0_11ec_b985_00d861bee616row8_col2\" class=\"data row8 col2\" >1.0</td>\n",
       "                        <td id=\"T_dcb5b1ec_1fe0_11ec_b985_00d861bee616row8_col3\" class=\"data row8 col3\" >3.5</td>\n",
       "                        <td id=\"T_dcb5b1ec_1fe0_11ec_b985_00d861bee616row8_col4\" class=\"data row8 col4\" >2.1</td>\n",
       "                        <td id=\"T_dcb5b1ec_1fe0_11ec_b985_00d861bee616row8_col5\" class=\"data row8 col5\" >4.2</td>\n",
       "                        <td id=\"T_dcb5b1ec_1fe0_11ec_b985_00d861bee616row8_col6\" class=\"data row8 col6\" >1.0</td>\n",
       "                        <td id=\"T_dcb5b1ec_1fe0_11ec_b985_00d861bee616row8_col7\" class=\"data row8 col7\" >1.8</td>\n",
       "                        <td id=\"T_dcb5b1ec_1fe0_11ec_b985_00d861bee616row8_col8\" class=\"data row8 col8\" >79.6</td>\n",
       "                        <td id=\"T_dcb5b1ec_1fe0_11ec_b985_00d861bee616row8_col9\" class=\"data row8 col9\" >2.1</td>\n",
       "            </tr>\n",
       "            <tr>\n",
       "                        <th id=\"T_dcb5b1ec_1fe0_11ec_b985_00d861bee616level0_row9\" class=\"row_heading level0 row9\" >9</th>\n",
       "                        <td id=\"T_dcb5b1ec_1fe0_11ec_b985_00d861bee616row9_col0\" class=\"data row9 col0\" >1.9</td>\n",
       "                        <td id=\"T_dcb5b1ec_1fe0_11ec_b985_00d861bee616row9_col1\" class=\"data row9 col1\" >1.0</td>\n",
       "                        <td id=\"T_dcb5b1ec_1fe0_11ec_b985_00d861bee616row9_col2\" class=\"data row9 col2\" >0.5</td>\n",
       "                        <td id=\"T_dcb5b1ec_1fe0_11ec_b985_00d861bee616row9_col3\" class=\"data row9 col3\" >1.2</td>\n",
       "                        <td id=\"T_dcb5b1ec_1fe0_11ec_b985_00d861bee616row9_col4\" class=\"data row9 col4\" >5.9</td>\n",
       "                        <td id=\"T_dcb5b1ec_1fe0_11ec_b985_00d861bee616row9_col5\" class=\"data row9 col5\" >0.4</td>\n",
       "                        <td id=\"T_dcb5b1ec_1fe0_11ec_b985_00d861bee616row9_col6\" class=\"data row9 col6\" >0.0</td>\n",
       "                        <td id=\"T_dcb5b1ec_1fe0_11ec_b985_00d861bee616row9_col7\" class=\"data row9 col7\" >3.4</td>\n",
       "                        <td id=\"T_dcb5b1ec_1fe0_11ec_b985_00d861bee616row9_col8\" class=\"data row9 col8\" >0.5</td>\n",
       "                        <td id=\"T_dcb5b1ec_1fe0_11ec_b985_00d861bee616row9_col9\" class=\"data row9 col9\" >85.2</td>\n",
       "            </tr>\n",
       "    </tbody></table>"
      ],
      "text/plain": [
       "<pandas.io.formats.style.Styler at 0x1ec100fb2b0>"
      ]
     },
     "metadata": {},
     "output_type": "display_data"
    },
    {
     "name": "stdout",
     "output_type": "stream",
     "text": [
      "method =  adam \n",
      "network structure =  NeuralNetworkClassifier(784, [20], 10)\n",
      " Trained for 100 epochs.\n",
      " Final data likelihood 0.9811. \n",
      "learning rate =  0.025 \n",
      "\n",
      "['Train', 'Validate']\n",
      "[95.084, 93.37] \n",
      "\n",
      "['Test']\n",
      "[92.58] \n",
      "\n",
      "Percent Correct\n"
     ]
    },
    {
     "data": {
      "text/html": [
       "<style  type=\"text/css\" >\n",
       "#T_dce96fc5_1fe0_11ec_8d56_00d861bee616row0_col0,#T_dce96fc5_1fe0_11ec_8d56_00d861bee616row1_col1,#T_dce96fc5_1fe0_11ec_8d56_00d861bee616row2_col2,#T_dce96fc5_1fe0_11ec_8d56_00d861bee616row3_col3,#T_dce96fc5_1fe0_11ec_8d56_00d861bee616row4_col4,#T_dce96fc5_1fe0_11ec_8d56_00d861bee616row5_col5,#T_dce96fc5_1fe0_11ec_8d56_00d861bee616row6_col6,#T_dce96fc5_1fe0_11ec_8d56_00d861bee616row7_col7,#T_dce96fc5_1fe0_11ec_8d56_00d861bee616row8_col8,#T_dce96fc5_1fe0_11ec_8d56_00d861bee616row9_col9{\n",
       "            background-color:  #08306b;\n",
       "            color:  #f1f1f1;\n",
       "        }#T_dce96fc5_1fe0_11ec_8d56_00d861bee616row0_col1,#T_dce96fc5_1fe0_11ec_8d56_00d861bee616row0_col2,#T_dce96fc5_1fe0_11ec_8d56_00d861bee616row0_col3,#T_dce96fc5_1fe0_11ec_8d56_00d861bee616row0_col4,#T_dce96fc5_1fe0_11ec_8d56_00d861bee616row0_col7,#T_dce96fc5_1fe0_11ec_8d56_00d861bee616row0_col8,#T_dce96fc5_1fe0_11ec_8d56_00d861bee616row0_col9,#T_dce96fc5_1fe0_11ec_8d56_00d861bee616row1_col0,#T_dce96fc5_1fe0_11ec_8d56_00d861bee616row1_col2,#T_dce96fc5_1fe0_11ec_8d56_00d861bee616row1_col3,#T_dce96fc5_1fe0_11ec_8d56_00d861bee616row1_col4,#T_dce96fc5_1fe0_11ec_8d56_00d861bee616row1_col5,#T_dce96fc5_1fe0_11ec_8d56_00d861bee616row1_col6,#T_dce96fc5_1fe0_11ec_8d56_00d861bee616row1_col7,#T_dce96fc5_1fe0_11ec_8d56_00d861bee616row1_col9,#T_dce96fc5_1fe0_11ec_8d56_00d861bee616row2_col5,#T_dce96fc5_1fe0_11ec_8d56_00d861bee616row3_col0,#T_dce96fc5_1fe0_11ec_8d56_00d861bee616row3_col1,#T_dce96fc5_1fe0_11ec_8d56_00d861bee616row3_col4,#T_dce96fc5_1fe0_11ec_8d56_00d861bee616row3_col6,#T_dce96fc5_1fe0_11ec_8d56_00d861bee616row4_col0,#T_dce96fc5_1fe0_11ec_8d56_00d861bee616row4_col1,#T_dce96fc5_1fe0_11ec_8d56_00d861bee616row4_col3,#T_dce96fc5_1fe0_11ec_8d56_00d861bee616row4_col5,#T_dce96fc5_1fe0_11ec_8d56_00d861bee616row4_col8,#T_dce96fc5_1fe0_11ec_8d56_00d861bee616row5_col1,#T_dce96fc5_1fe0_11ec_8d56_00d861bee616row5_col2,#T_dce96fc5_1fe0_11ec_8d56_00d861bee616row6_col1,#T_dce96fc5_1fe0_11ec_8d56_00d861bee616row6_col3,#T_dce96fc5_1fe0_11ec_8d56_00d861bee616row6_col7,#T_dce96fc5_1fe0_11ec_8d56_00d861bee616row6_col8,#T_dce96fc5_1fe0_11ec_8d56_00d861bee616row6_col9,#T_dce96fc5_1fe0_11ec_8d56_00d861bee616row7_col0,#T_dce96fc5_1fe0_11ec_8d56_00d861bee616row7_col4,#T_dce96fc5_1fe0_11ec_8d56_00d861bee616row7_col5,#T_dce96fc5_1fe0_11ec_8d56_00d861bee616row7_col6,#T_dce96fc5_1fe0_11ec_8d56_00d861bee616row7_col8,#T_dce96fc5_1fe0_11ec_8d56_00d861bee616row9_col2{\n",
       "            background-color:  #f7fbff;\n",
       "            color:  #000000;\n",
       "        }#T_dce96fc5_1fe0_11ec_8d56_00d861bee616row0_col5,#T_dce96fc5_1fe0_11ec_8d56_00d861bee616row1_col8,#T_dce96fc5_1fe0_11ec_8d56_00d861bee616row2_col0,#T_dce96fc5_1fe0_11ec_8d56_00d861bee616row2_col4,#T_dce96fc5_1fe0_11ec_8d56_00d861bee616row2_col6,#T_dce96fc5_1fe0_11ec_8d56_00d861bee616row2_col7,#T_dce96fc5_1fe0_11ec_8d56_00d861bee616row4_col2,#T_dce96fc5_1fe0_11ec_8d56_00d861bee616row4_col6,#T_dce96fc5_1fe0_11ec_8d56_00d861bee616row5_col0,#T_dce96fc5_1fe0_11ec_8d56_00d861bee616row6_col2,#T_dce96fc5_1fe0_11ec_8d56_00d861bee616row8_col4,#T_dce96fc5_1fe0_11ec_8d56_00d861bee616row8_col6,#T_dce96fc5_1fe0_11ec_8d56_00d861bee616row9_col0,#T_dce96fc5_1fe0_11ec_8d56_00d861bee616row9_col3,#T_dce96fc5_1fe0_11ec_8d56_00d861bee616row9_col5,#T_dce96fc5_1fe0_11ec_8d56_00d861bee616row9_col8{\n",
       "            background-color:  #f5fafe;\n",
       "            color:  #000000;\n",
       "        }#T_dce96fc5_1fe0_11ec_8d56_00d861bee616row0_col6,#T_dce96fc5_1fe0_11ec_8d56_00d861bee616row5_col4,#T_dce96fc5_1fe0_11ec_8d56_00d861bee616row5_col6,#T_dce96fc5_1fe0_11ec_8d56_00d861bee616row5_col7,#T_dce96fc5_1fe0_11ec_8d56_00d861bee616row7_col1,#T_dce96fc5_1fe0_11ec_8d56_00d861bee616row8_col7{\n",
       "            background-color:  #f5f9fe;\n",
       "            color:  #000000;\n",
       "        }#T_dce96fc5_1fe0_11ec_8d56_00d861bee616row2_col1,#T_dce96fc5_1fe0_11ec_8d56_00d861bee616row2_col9,#T_dce96fc5_1fe0_11ec_8d56_00d861bee616row3_col9,#T_dce96fc5_1fe0_11ec_8d56_00d861bee616row4_col7,#T_dce96fc5_1fe0_11ec_8d56_00d861bee616row5_col9,#T_dce96fc5_1fe0_11ec_8d56_00d861bee616row6_col0,#T_dce96fc5_1fe0_11ec_8d56_00d861bee616row6_col4,#T_dce96fc5_1fe0_11ec_8d56_00d861bee616row7_col3,#T_dce96fc5_1fe0_11ec_8d56_00d861bee616row8_col0,#T_dce96fc5_1fe0_11ec_8d56_00d861bee616row8_col1,#T_dce96fc5_1fe0_11ec_8d56_00d861bee616row8_col2,#T_dce96fc5_1fe0_11ec_8d56_00d861bee616row8_col9,#T_dce96fc5_1fe0_11ec_8d56_00d861bee616row9_col1,#T_dce96fc5_1fe0_11ec_8d56_00d861bee616row9_col6{\n",
       "            background-color:  #f6faff;\n",
       "            color:  #000000;\n",
       "        }#T_dce96fc5_1fe0_11ec_8d56_00d861bee616row2_col3,#T_dce96fc5_1fe0_11ec_8d56_00d861bee616row2_col8,#T_dce96fc5_1fe0_11ec_8d56_00d861bee616row3_col5,#T_dce96fc5_1fe0_11ec_8d56_00d861bee616row3_col7,#T_dce96fc5_1fe0_11ec_8d56_00d861bee616row6_col5,#T_dce96fc5_1fe0_11ec_8d56_00d861bee616row8_col3{\n",
       "            background-color:  #f4f9fe;\n",
       "            color:  #000000;\n",
       "        }#T_dce96fc5_1fe0_11ec_8d56_00d861bee616row3_col2,#T_dce96fc5_1fe0_11ec_8d56_00d861bee616row3_col8,#T_dce96fc5_1fe0_11ec_8d56_00d861bee616row7_col2,#T_dce96fc5_1fe0_11ec_8d56_00d861bee616row9_col7{\n",
       "            background-color:  #f3f8fe;\n",
       "            color:  #000000;\n",
       "        }#T_dce96fc5_1fe0_11ec_8d56_00d861bee616row4_col9{\n",
       "            background-color:  #f0f6fd;\n",
       "            color:  #000000;\n",
       "        }#T_dce96fc5_1fe0_11ec_8d56_00d861bee616row5_col3{\n",
       "            background-color:  #eef5fc;\n",
       "            color:  #000000;\n",
       "        }#T_dce96fc5_1fe0_11ec_8d56_00d861bee616row5_col8,#T_dce96fc5_1fe0_11ec_8d56_00d861bee616row7_col9{\n",
       "            background-color:  #f2f7fd;\n",
       "            color:  #000000;\n",
       "        }#T_dce96fc5_1fe0_11ec_8d56_00d861bee616row8_col5{\n",
       "            background-color:  #f2f8fd;\n",
       "            color:  #000000;\n",
       "        }#T_dce96fc5_1fe0_11ec_8d56_00d861bee616row9_col4{\n",
       "            background-color:  #f1f7fd;\n",
       "            color:  #000000;\n",
       "        }</style><table id=\"T_dce96fc5_1fe0_11ec_8d56_00d861bee616\" ><thead>    <tr>        <th class=\"blank level0\" ></th>        <th class=\"col_heading level0 col0\" >0</th>        <th class=\"col_heading level0 col1\" >1</th>        <th class=\"col_heading level0 col2\" >2</th>        <th class=\"col_heading level0 col3\" >3</th>        <th class=\"col_heading level0 col4\" >4</th>        <th class=\"col_heading level0 col5\" >5</th>        <th class=\"col_heading level0 col6\" >6</th>        <th class=\"col_heading level0 col7\" >7</th>        <th class=\"col_heading level0 col8\" >8</th>        <th class=\"col_heading level0 col9\" >9</th>    </tr></thead><tbody>\n",
       "                <tr>\n",
       "                        <th id=\"T_dce96fc5_1fe0_11ec_8d56_00d861bee616level0_row0\" class=\"row_heading level0 row0\" >0</th>\n",
       "                        <td id=\"T_dce96fc5_1fe0_11ec_8d56_00d861bee616row0_col0\" class=\"data row0 col0\" >96.5</td>\n",
       "                        <td id=\"T_dce96fc5_1fe0_11ec_8d56_00d861bee616row0_col1\" class=\"data row0 col1\" >0.0</td>\n",
       "                        <td id=\"T_dce96fc5_1fe0_11ec_8d56_00d861bee616row0_col2\" class=\"data row0 col2\" >0.3</td>\n",
       "                        <td id=\"T_dce96fc5_1fe0_11ec_8d56_00d861bee616row0_col3\" class=\"data row0 col3\" >0.3</td>\n",
       "                        <td id=\"T_dce96fc5_1fe0_11ec_8d56_00d861bee616row0_col4\" class=\"data row0 col4\" >0.3</td>\n",
       "                        <td id=\"T_dce96fc5_1fe0_11ec_8d56_00d861bee616row0_col5\" class=\"data row0 col5\" >0.8</td>\n",
       "                        <td id=\"T_dce96fc5_1fe0_11ec_8d56_00d861bee616row0_col6\" class=\"data row0 col6\" >1.4</td>\n",
       "                        <td id=\"T_dce96fc5_1fe0_11ec_8d56_00d861bee616row0_col7\" class=\"data row0 col7\" >0.1</td>\n",
       "                        <td id=\"T_dce96fc5_1fe0_11ec_8d56_00d861bee616row0_col8\" class=\"data row0 col8\" >0.2</td>\n",
       "                        <td id=\"T_dce96fc5_1fe0_11ec_8d56_00d861bee616row0_col9\" class=\"data row0 col9\" >0.0</td>\n",
       "            </tr>\n",
       "            <tr>\n",
       "                        <th id=\"T_dce96fc5_1fe0_11ec_8d56_00d861bee616level0_row1\" class=\"row_heading level0 row1\" >1</th>\n",
       "                        <td id=\"T_dce96fc5_1fe0_11ec_8d56_00d861bee616row1_col0\" class=\"data row1 col0\" >0.0</td>\n",
       "                        <td id=\"T_dce96fc5_1fe0_11ec_8d56_00d861bee616row1_col1\" class=\"data row1 col1\" >97.3</td>\n",
       "                        <td id=\"T_dce96fc5_1fe0_11ec_8d56_00d861bee616row1_col2\" class=\"data row1 col2\" >0.4</td>\n",
       "                        <td id=\"T_dce96fc5_1fe0_11ec_8d56_00d861bee616row1_col3\" class=\"data row1 col3\" >0.4</td>\n",
       "                        <td id=\"T_dce96fc5_1fe0_11ec_8d56_00d861bee616row1_col4\" class=\"data row1 col4\" >0.2</td>\n",
       "                        <td id=\"T_dce96fc5_1fe0_11ec_8d56_00d861bee616row1_col5\" class=\"data row1 col5\" >0.1</td>\n",
       "                        <td id=\"T_dce96fc5_1fe0_11ec_8d56_00d861bee616row1_col6\" class=\"data row1 col6\" >0.4</td>\n",
       "                        <td id=\"T_dce96fc5_1fe0_11ec_8d56_00d861bee616row1_col7\" class=\"data row1 col7\" >0.1</td>\n",
       "                        <td id=\"T_dce96fc5_1fe0_11ec_8d56_00d861bee616row1_col8\" class=\"data row1 col8\" >1.1</td>\n",
       "                        <td id=\"T_dce96fc5_1fe0_11ec_8d56_00d861bee616row1_col9\" class=\"data row1 col9\" >0.0</td>\n",
       "            </tr>\n",
       "            <tr>\n",
       "                        <th id=\"T_dce96fc5_1fe0_11ec_8d56_00d861bee616level0_row2\" class=\"row_heading level0 row2\" >2</th>\n",
       "                        <td id=\"T_dce96fc5_1fe0_11ec_8d56_00d861bee616row2_col0\" class=\"data row2 col0\" >1.0</td>\n",
       "                        <td id=\"T_dce96fc5_1fe0_11ec_8d56_00d861bee616row2_col1\" class=\"data row2 col1\" >0.4</td>\n",
       "                        <td id=\"T_dce96fc5_1fe0_11ec_8d56_00d861bee616row2_col2\" class=\"data row2 col2\" >91.7</td>\n",
       "                        <td id=\"T_dce96fc5_1fe0_11ec_8d56_00d861bee616row2_col3\" class=\"data row2 col3\" >1.6</td>\n",
       "                        <td id=\"T_dce96fc5_1fe0_11ec_8d56_00d861bee616row2_col4\" class=\"data row2 col4\" >1.2</td>\n",
       "                        <td id=\"T_dce96fc5_1fe0_11ec_8d56_00d861bee616row2_col5\" class=\"data row2 col5\" >0.3</td>\n",
       "                        <td id=\"T_dce96fc5_1fe0_11ec_8d56_00d861bee616row2_col6\" class=\"data row2 col6\" >0.9</td>\n",
       "                        <td id=\"T_dce96fc5_1fe0_11ec_8d56_00d861bee616row2_col7\" class=\"data row2 col7\" >0.9</td>\n",
       "                        <td id=\"T_dce96fc5_1fe0_11ec_8d56_00d861bee616row2_col8\" class=\"data row2 col8\" >1.6</td>\n",
       "                        <td id=\"T_dce96fc5_1fe0_11ec_8d56_00d861bee616row2_col9\" class=\"data row2 col9\" >0.5</td>\n",
       "            </tr>\n",
       "            <tr>\n",
       "                        <th id=\"T_dce96fc5_1fe0_11ec_8d56_00d861bee616level0_row3\" class=\"row_heading level0 row3\" >3</th>\n",
       "                        <td id=\"T_dce96fc5_1fe0_11ec_8d56_00d861bee616row3_col0\" class=\"data row3 col0\" >0.3</td>\n",
       "                        <td id=\"T_dce96fc5_1fe0_11ec_8d56_00d861bee616row3_col1\" class=\"data row3 col1\" >0.0</td>\n",
       "                        <td id=\"T_dce96fc5_1fe0_11ec_8d56_00d861bee616row3_col2\" class=\"data row3 col2\" >2.1</td>\n",
       "                        <td id=\"T_dce96fc5_1fe0_11ec_8d56_00d861bee616row3_col3\" class=\"data row3 col3\" >91.5</td>\n",
       "                        <td id=\"T_dce96fc5_1fe0_11ec_8d56_00d861bee616row3_col4\" class=\"data row3 col4\" >0.2</td>\n",
       "                        <td id=\"T_dce96fc5_1fe0_11ec_8d56_00d861bee616row3_col5\" class=\"data row3 col5\" >1.7</td>\n",
       "                        <td id=\"T_dce96fc5_1fe0_11ec_8d56_00d861bee616row3_col6\" class=\"data row3 col6\" >0.1</td>\n",
       "                        <td id=\"T_dce96fc5_1fe0_11ec_8d56_00d861bee616row3_col7\" class=\"data row3 col7\" >1.6</td>\n",
       "                        <td id=\"T_dce96fc5_1fe0_11ec_8d56_00d861bee616row3_col8\" class=\"data row3 col8\" >2.0</td>\n",
       "                        <td id=\"T_dce96fc5_1fe0_11ec_8d56_00d861bee616row3_col9\" class=\"data row3 col9\" >0.6</td>\n",
       "            </tr>\n",
       "            <tr>\n",
       "                        <th id=\"T_dce96fc5_1fe0_11ec_8d56_00d861bee616level0_row4\" class=\"row_heading level0 row4\" >4</th>\n",
       "                        <td id=\"T_dce96fc5_1fe0_11ec_8d56_00d861bee616row4_col0\" class=\"data row4 col0\" >0.0</td>\n",
       "                        <td id=\"T_dce96fc5_1fe0_11ec_8d56_00d861bee616row4_col1\" class=\"data row4 col1\" >0.2</td>\n",
       "                        <td id=\"T_dce96fc5_1fe0_11ec_8d56_00d861bee616row4_col2\" class=\"data row4 col2\" >1.0</td>\n",
       "                        <td id=\"T_dce96fc5_1fe0_11ec_8d56_00d861bee616row4_col3\" class=\"data row4 col3\" >0.1</td>\n",
       "                        <td id=\"T_dce96fc5_1fe0_11ec_8d56_00d861bee616row4_col4\" class=\"data row4 col4\" >93.4</td>\n",
       "                        <td id=\"T_dce96fc5_1fe0_11ec_8d56_00d861bee616row4_col5\" class=\"data row4 col5\" >0.0</td>\n",
       "                        <td id=\"T_dce96fc5_1fe0_11ec_8d56_00d861bee616row4_col6\" class=\"data row4 col6\" >1.0</td>\n",
       "                        <td id=\"T_dce96fc5_1fe0_11ec_8d56_00d861bee616row4_col7\" class=\"data row4 col7\" >0.6</td>\n",
       "                        <td id=\"T_dce96fc5_1fe0_11ec_8d56_00d861bee616row4_col8\" class=\"data row4 col8\" >0.2</td>\n",
       "                        <td id=\"T_dce96fc5_1fe0_11ec_8d56_00d861bee616row4_col9\" class=\"data row4 col9\" >3.5</td>\n",
       "            </tr>\n",
       "            <tr>\n",
       "                        <th id=\"T_dce96fc5_1fe0_11ec_8d56_00d861bee616level0_row5\" class=\"row_heading level0 row5\" >5</th>\n",
       "                        <td id=\"T_dce96fc5_1fe0_11ec_8d56_00d861bee616row5_col0\" class=\"data row5 col0\" >1.0</td>\n",
       "                        <td id=\"T_dce96fc5_1fe0_11ec_8d56_00d861bee616row5_col1\" class=\"data row5 col1\" >0.1</td>\n",
       "                        <td id=\"T_dce96fc5_1fe0_11ec_8d56_00d861bee616row5_col2\" class=\"data row5 col2\" >0.4</td>\n",
       "                        <td id=\"T_dce96fc5_1fe0_11ec_8d56_00d861bee616row5_col3\" class=\"data row5 col3\" >4.4</td>\n",
       "                        <td id=\"T_dce96fc5_1fe0_11ec_8d56_00d861bee616row5_col4\" class=\"data row5 col4\" >1.6</td>\n",
       "                        <td id=\"T_dce96fc5_1fe0_11ec_8d56_00d861bee616row5_col5\" class=\"data row5 col5\" >86.8</td>\n",
       "                        <td id=\"T_dce96fc5_1fe0_11ec_8d56_00d861bee616row5_col6\" class=\"data row5 col6\" >1.3</td>\n",
       "                        <td id=\"T_dce96fc5_1fe0_11ec_8d56_00d861bee616row5_col7\" class=\"data row5 col7\" >1.1</td>\n",
       "                        <td id=\"T_dce96fc5_1fe0_11ec_8d56_00d861bee616row5_col8\" class=\"data row5 col8\" >2.7</td>\n",
       "                        <td id=\"T_dce96fc5_1fe0_11ec_8d56_00d861bee616row5_col9\" class=\"data row5 col9\" >0.6</td>\n",
       "            </tr>\n",
       "            <tr>\n",
       "                        <th id=\"T_dce96fc5_1fe0_11ec_8d56_00d861bee616level0_row6\" class=\"row_heading level0 row6\" >6</th>\n",
       "                        <td id=\"T_dce96fc5_1fe0_11ec_8d56_00d861bee616row6_col0\" class=\"data row6 col0\" >0.7</td>\n",
       "                        <td id=\"T_dce96fc5_1fe0_11ec_8d56_00d861bee616row6_col1\" class=\"data row6 col1\" >0.3</td>\n",
       "                        <td id=\"T_dce96fc5_1fe0_11ec_8d56_00d861bee616row6_col2\" class=\"data row6 col2\" >0.9</td>\n",
       "                        <td id=\"T_dce96fc5_1fe0_11ec_8d56_00d861bee616row6_col3\" class=\"data row6 col3\" >0.1</td>\n",
       "                        <td id=\"T_dce96fc5_1fe0_11ec_8d56_00d861bee616row6_col4\" class=\"data row6 col4\" >0.8</td>\n",
       "                        <td id=\"T_dce96fc5_1fe0_11ec_8d56_00d861bee616row6_col5\" class=\"data row6 col5\" >1.6</td>\n",
       "                        <td id=\"T_dce96fc5_1fe0_11ec_8d56_00d861bee616row6_col6\" class=\"data row6 col6\" >95.2</td>\n",
       "                        <td id=\"T_dce96fc5_1fe0_11ec_8d56_00d861bee616row6_col7\" class=\"data row6 col7\" >0.0</td>\n",
       "                        <td id=\"T_dce96fc5_1fe0_11ec_8d56_00d861bee616row6_col8\" class=\"data row6 col8\" >0.3</td>\n",
       "                        <td id=\"T_dce96fc5_1fe0_11ec_8d56_00d861bee616row6_col9\" class=\"data row6 col9\" >0.0</td>\n",
       "            </tr>\n",
       "            <tr>\n",
       "                        <th id=\"T_dce96fc5_1fe0_11ec_8d56_00d861bee616level0_row7\" class=\"row_heading level0 row7\" >7</th>\n",
       "                        <td id=\"T_dce96fc5_1fe0_11ec_8d56_00d861bee616row7_col0\" class=\"data row7 col0\" >0.3</td>\n",
       "                        <td id=\"T_dce96fc5_1fe0_11ec_8d56_00d861bee616row7_col1\" class=\"data row7 col1\" >1.2</td>\n",
       "                        <td id=\"T_dce96fc5_1fe0_11ec_8d56_00d861bee616row7_col2\" class=\"data row7 col2\" >2.2</td>\n",
       "                        <td id=\"T_dce96fc5_1fe0_11ec_8d56_00d861bee616row7_col3\" class=\"data row7 col3\" >0.6</td>\n",
       "                        <td id=\"T_dce96fc5_1fe0_11ec_8d56_00d861bee616row7_col4\" class=\"data row7 col4\" >0.4</td>\n",
       "                        <td id=\"T_dce96fc5_1fe0_11ec_8d56_00d861bee616row7_col5\" class=\"data row7 col5\" >0.1</td>\n",
       "                        <td id=\"T_dce96fc5_1fe0_11ec_8d56_00d861bee616row7_col6\" class=\"data row7 col6\" >0.0</td>\n",
       "                        <td id=\"T_dce96fc5_1fe0_11ec_8d56_00d861bee616row7_col7\" class=\"data row7 col7\" >92.4</td>\n",
       "                        <td id=\"T_dce96fc5_1fe0_11ec_8d56_00d861bee616row7_col8\" class=\"data row7 col8\" >0.2</td>\n",
       "                        <td id=\"T_dce96fc5_1fe0_11ec_8d56_00d861bee616row7_col9\" class=\"data row7 col9\" >2.6</td>\n",
       "            </tr>\n",
       "            <tr>\n",
       "                        <th id=\"T_dce96fc5_1fe0_11ec_8d56_00d861bee616level0_row8\" class=\"row_heading level0 row8\" >8</th>\n",
       "                        <td id=\"T_dce96fc5_1fe0_11ec_8d56_00d861bee616row8_col0\" class=\"data row8 col0\" >0.5</td>\n",
       "                        <td id=\"T_dce96fc5_1fe0_11ec_8d56_00d861bee616row8_col1\" class=\"data row8 col1\" >0.7</td>\n",
       "                        <td id=\"T_dce96fc5_1fe0_11ec_8d56_00d861bee616row8_col2\" class=\"data row8 col2\" >0.7</td>\n",
       "                        <td id=\"T_dce96fc5_1fe0_11ec_8d56_00d861bee616row8_col3\" class=\"data row8 col3\" >1.7</td>\n",
       "                        <td id=\"T_dce96fc5_1fe0_11ec_8d56_00d861bee616row8_col4\" class=\"data row8 col4\" >1.0</td>\n",
       "                        <td id=\"T_dce96fc5_1fe0_11ec_8d56_00d861bee616row8_col5\" class=\"data row8 col5\" >2.2</td>\n",
       "                        <td id=\"T_dce96fc5_1fe0_11ec_8d56_00d861bee616row8_col6\" class=\"data row8 col6\" >1.0</td>\n",
       "                        <td id=\"T_dce96fc5_1fe0_11ec_8d56_00d861bee616row8_col7\" class=\"data row8 col7\" >1.1</td>\n",
       "                        <td id=\"T_dce96fc5_1fe0_11ec_8d56_00d861bee616row8_col8\" class=\"data row8 col8\" >90.3</td>\n",
       "                        <td id=\"T_dce96fc5_1fe0_11ec_8d56_00d861bee616row8_col9\" class=\"data row8 col9\" >0.6</td>\n",
       "            </tr>\n",
       "            <tr>\n",
       "                        <th id=\"T_dce96fc5_1fe0_11ec_8d56_00d861bee616level0_row9\" class=\"row_heading level0 row9\" >9</th>\n",
       "                        <td id=\"T_dce96fc5_1fe0_11ec_8d56_00d861bee616row9_col0\" class=\"data row9 col0\" >0.9</td>\n",
       "                        <td id=\"T_dce96fc5_1fe0_11ec_8d56_00d861bee616row9_col1\" class=\"data row9 col1\" >0.5</td>\n",
       "                        <td id=\"T_dce96fc5_1fe0_11ec_8d56_00d861bee616row9_col2\" class=\"data row9 col2\" >0.2</td>\n",
       "                        <td id=\"T_dce96fc5_1fe0_11ec_8d56_00d861bee616row9_col3\" class=\"data row9 col3\" >1.0</td>\n",
       "                        <td id=\"T_dce96fc5_1fe0_11ec_8d56_00d861bee616row9_col4\" class=\"data row9 col4\" >3.3</td>\n",
       "                        <td id=\"T_dce96fc5_1fe0_11ec_8d56_00d861bee616row9_col5\" class=\"data row9 col5\" >1.0</td>\n",
       "                        <td id=\"T_dce96fc5_1fe0_11ec_8d56_00d861bee616row9_col6\" class=\"data row9 col6\" >0.4</td>\n",
       "                        <td id=\"T_dce96fc5_1fe0_11ec_8d56_00d861bee616row9_col7\" class=\"data row9 col7\" >2.1</td>\n",
       "                        <td id=\"T_dce96fc5_1fe0_11ec_8d56_00d861bee616row9_col8\" class=\"data row9 col8\" >1.0</td>\n",
       "                        <td id=\"T_dce96fc5_1fe0_11ec_8d56_00d861bee616row9_col9\" class=\"data row9 col9\" >89.7</td>\n",
       "            </tr>\n",
       "    </tbody></table>"
      ],
      "text/plain": [
       "<pandas.io.formats.style.Styler at 0x1ec20493e20>"
      ]
     },
     "metadata": {},
     "output_type": "display_data"
    },
    {
     "name": "stdout",
     "output_type": "stream",
     "text": [
      "method =  scg \n",
      "network structure =  NeuralNetworkClassifier(784, [20], 10)\n",
      " Trained for 100 epochs.\n",
      " Final data likelihood 0.9958. \n",
      "\n",
      "['Train', 'Validate']\n",
      "[99.198, 93.38] \n",
      "\n",
      "['Test']\n",
      "[93.07] \n",
      "\n",
      "Percent Correct\n"
     ]
    },
    {
     "data": {
      "text/html": [
       "<style  type=\"text/css\" >\n",
       "#T_dd1e175e_1fe0_11ec_baf8_00d861bee616row0_col0,#T_dd1e175e_1fe0_11ec_baf8_00d861bee616row1_col1,#T_dd1e175e_1fe0_11ec_baf8_00d861bee616row2_col2,#T_dd1e175e_1fe0_11ec_baf8_00d861bee616row3_col3,#T_dd1e175e_1fe0_11ec_baf8_00d861bee616row4_col4,#T_dd1e175e_1fe0_11ec_baf8_00d861bee616row5_col5,#T_dd1e175e_1fe0_11ec_baf8_00d861bee616row6_col6,#T_dd1e175e_1fe0_11ec_baf8_00d861bee616row7_col7,#T_dd1e175e_1fe0_11ec_baf8_00d861bee616row8_col8,#T_dd1e175e_1fe0_11ec_baf8_00d861bee616row9_col9{\n",
       "            background-color:  #08306b;\n",
       "            color:  #f1f1f1;\n",
       "        }#T_dd1e175e_1fe0_11ec_baf8_00d861bee616row0_col1,#T_dd1e175e_1fe0_11ec_baf8_00d861bee616row0_col2,#T_dd1e175e_1fe0_11ec_baf8_00d861bee616row0_col3,#T_dd1e175e_1fe0_11ec_baf8_00d861bee616row0_col4,#T_dd1e175e_1fe0_11ec_baf8_00d861bee616row0_col8,#T_dd1e175e_1fe0_11ec_baf8_00d861bee616row0_col9,#T_dd1e175e_1fe0_11ec_baf8_00d861bee616row1_col0,#T_dd1e175e_1fe0_11ec_baf8_00d861bee616row1_col2,#T_dd1e175e_1fe0_11ec_baf8_00d861bee616row1_col3,#T_dd1e175e_1fe0_11ec_baf8_00d861bee616row1_col4,#T_dd1e175e_1fe0_11ec_baf8_00d861bee616row1_col5,#T_dd1e175e_1fe0_11ec_baf8_00d861bee616row1_col7,#T_dd1e175e_1fe0_11ec_baf8_00d861bee616row1_col8,#T_dd1e175e_1fe0_11ec_baf8_00d861bee616row1_col9,#T_dd1e175e_1fe0_11ec_baf8_00d861bee616row2_col9,#T_dd1e175e_1fe0_11ec_baf8_00d861bee616row3_col0,#T_dd1e175e_1fe0_11ec_baf8_00d861bee616row3_col4,#T_dd1e175e_1fe0_11ec_baf8_00d861bee616row3_col6,#T_dd1e175e_1fe0_11ec_baf8_00d861bee616row4_col0,#T_dd1e175e_1fe0_11ec_baf8_00d861bee616row4_col1,#T_dd1e175e_1fe0_11ec_baf8_00d861bee616row4_col3,#T_dd1e175e_1fe0_11ec_baf8_00d861bee616row4_col5,#T_dd1e175e_1fe0_11ec_baf8_00d861bee616row4_col8,#T_dd1e175e_1fe0_11ec_baf8_00d861bee616row5_col2,#T_dd1e175e_1fe0_11ec_baf8_00d861bee616row6_col1,#T_dd1e175e_1fe0_11ec_baf8_00d861bee616row6_col3,#T_dd1e175e_1fe0_11ec_baf8_00d861bee616row6_col7,#T_dd1e175e_1fe0_11ec_baf8_00d861bee616row6_col8,#T_dd1e175e_1fe0_11ec_baf8_00d861bee616row6_col9,#T_dd1e175e_1fe0_11ec_baf8_00d861bee616row7_col0,#T_dd1e175e_1fe0_11ec_baf8_00d861bee616row7_col5,#T_dd1e175e_1fe0_11ec_baf8_00d861bee616row7_col6,#T_dd1e175e_1fe0_11ec_baf8_00d861bee616row7_col8,#T_dd1e175e_1fe0_11ec_baf8_00d861bee616row9_col2,#T_dd1e175e_1fe0_11ec_baf8_00d861bee616row9_col6{\n",
       "            background-color:  #f7fbff;\n",
       "            color:  #000000;\n",
       "        }#T_dd1e175e_1fe0_11ec_baf8_00d861bee616row0_col5,#T_dd1e175e_1fe0_11ec_baf8_00d861bee616row2_col0,#T_dd1e175e_1fe0_11ec_baf8_00d861bee616row2_col6,#T_dd1e175e_1fe0_11ec_baf8_00d861bee616row2_col7,#T_dd1e175e_1fe0_11ec_baf8_00d861bee616row3_col7,#T_dd1e175e_1fe0_11ec_baf8_00d861bee616row3_col8,#T_dd1e175e_1fe0_11ec_baf8_00d861bee616row5_col1,#T_dd1e175e_1fe0_11ec_baf8_00d861bee616row6_col5,#T_dd1e175e_1fe0_11ec_baf8_00d861bee616row7_col1,#T_dd1e175e_1fe0_11ec_baf8_00d861bee616row8_col4,#T_dd1e175e_1fe0_11ec_baf8_00d861bee616row8_col9,#T_dd1e175e_1fe0_11ec_baf8_00d861bee616row9_col3,#T_dd1e175e_1fe0_11ec_baf8_00d861bee616row9_col5{\n",
       "            background-color:  #f5fafe;\n",
       "            color:  #000000;\n",
       "        }#T_dd1e175e_1fe0_11ec_baf8_00d861bee616row0_col6,#T_dd1e175e_1fe0_11ec_baf8_00d861bee616row0_col7,#T_dd1e175e_1fe0_11ec_baf8_00d861bee616row1_col6,#T_dd1e175e_1fe0_11ec_baf8_00d861bee616row2_col1,#T_dd1e175e_1fe0_11ec_baf8_00d861bee616row2_col4,#T_dd1e175e_1fe0_11ec_baf8_00d861bee616row2_col5,#T_dd1e175e_1fe0_11ec_baf8_00d861bee616row3_col1,#T_dd1e175e_1fe0_11ec_baf8_00d861bee616row3_col9,#T_dd1e175e_1fe0_11ec_baf8_00d861bee616row4_col2,#T_dd1e175e_1fe0_11ec_baf8_00d861bee616row4_col7,#T_dd1e175e_1fe0_11ec_baf8_00d861bee616row5_col0,#T_dd1e175e_1fe0_11ec_baf8_00d861bee616row5_col4,#T_dd1e175e_1fe0_11ec_baf8_00d861bee616row5_col6,#T_dd1e175e_1fe0_11ec_baf8_00d861bee616row5_col7,#T_dd1e175e_1fe0_11ec_baf8_00d861bee616row5_col9,#T_dd1e175e_1fe0_11ec_baf8_00d861bee616row6_col2,#T_dd1e175e_1fe0_11ec_baf8_00d861bee616row6_col4,#T_dd1e175e_1fe0_11ec_baf8_00d861bee616row7_col3,#T_dd1e175e_1fe0_11ec_baf8_00d861bee616row7_col4,#T_dd1e175e_1fe0_11ec_baf8_00d861bee616row8_col0,#T_dd1e175e_1fe0_11ec_baf8_00d861bee616row8_col1,#T_dd1e175e_1fe0_11ec_baf8_00d861bee616row8_col6,#T_dd1e175e_1fe0_11ec_baf8_00d861bee616row9_col0,#T_dd1e175e_1fe0_11ec_baf8_00d861bee616row9_col1,#T_dd1e175e_1fe0_11ec_baf8_00d861bee616row9_col8{\n",
       "            background-color:  #f6faff;\n",
       "            color:  #000000;\n",
       "        }#T_dd1e175e_1fe0_11ec_baf8_00d861bee616row2_col3,#T_dd1e175e_1fe0_11ec_baf8_00d861bee616row3_col5{\n",
       "            background-color:  #f2f7fd;\n",
       "            color:  #000000;\n",
       "        }#T_dd1e175e_1fe0_11ec_baf8_00d861bee616row2_col8,#T_dd1e175e_1fe0_11ec_baf8_00d861bee616row5_col8,#T_dd1e175e_1fe0_11ec_baf8_00d861bee616row6_col0,#T_dd1e175e_1fe0_11ec_baf8_00d861bee616row8_col5{\n",
       "            background-color:  #f4f9fe;\n",
       "            color:  #000000;\n",
       "        }#T_dd1e175e_1fe0_11ec_baf8_00d861bee616row3_col2,#T_dd1e175e_1fe0_11ec_baf8_00d861bee616row7_col9,#T_dd1e175e_1fe0_11ec_baf8_00d861bee616row9_col4,#T_dd1e175e_1fe0_11ec_baf8_00d861bee616row9_col7{\n",
       "            background-color:  #f3f8fe;\n",
       "            color:  #000000;\n",
       "        }#T_dd1e175e_1fe0_11ec_baf8_00d861bee616row4_col6,#T_dd1e175e_1fe0_11ec_baf8_00d861bee616row7_col2,#T_dd1e175e_1fe0_11ec_baf8_00d861bee616row8_col2,#T_dd1e175e_1fe0_11ec_baf8_00d861bee616row8_col7{\n",
       "            background-color:  #f5f9fe;\n",
       "            color:  #000000;\n",
       "        }#T_dd1e175e_1fe0_11ec_baf8_00d861bee616row4_col9{\n",
       "            background-color:  #f1f7fd;\n",
       "            color:  #000000;\n",
       "        }#T_dd1e175e_1fe0_11ec_baf8_00d861bee616row5_col3{\n",
       "            background-color:  #eff6fc;\n",
       "            color:  #000000;\n",
       "        }#T_dd1e175e_1fe0_11ec_baf8_00d861bee616row8_col3{\n",
       "            background-color:  #f2f8fd;\n",
       "            color:  #000000;\n",
       "        }</style><table id=\"T_dd1e175e_1fe0_11ec_baf8_00d861bee616\" ><thead>    <tr>        <th class=\"blank level0\" ></th>        <th class=\"col_heading level0 col0\" >0</th>        <th class=\"col_heading level0 col1\" >1</th>        <th class=\"col_heading level0 col2\" >2</th>        <th class=\"col_heading level0 col3\" >3</th>        <th class=\"col_heading level0 col4\" >4</th>        <th class=\"col_heading level0 col5\" >5</th>        <th class=\"col_heading level0 col6\" >6</th>        <th class=\"col_heading level0 col7\" >7</th>        <th class=\"col_heading level0 col8\" >8</th>        <th class=\"col_heading level0 col9\" >9</th>    </tr></thead><tbody>\n",
       "                <tr>\n",
       "                        <th id=\"T_dd1e175e_1fe0_11ec_baf8_00d861bee616level0_row0\" class=\"row_heading level0 row0\" >0</th>\n",
       "                        <td id=\"T_dd1e175e_1fe0_11ec_baf8_00d861bee616row0_col0\" class=\"data row0 col0\" >96.9</td>\n",
       "                        <td id=\"T_dd1e175e_1fe0_11ec_baf8_00d861bee616row0_col1\" class=\"data row0 col1\" >0.0</td>\n",
       "                        <td id=\"T_dd1e175e_1fe0_11ec_baf8_00d861bee616row0_col2\" class=\"data row0 col2\" >0.3</td>\n",
       "                        <td id=\"T_dd1e175e_1fe0_11ec_baf8_00d861bee616row0_col3\" class=\"data row0 col3\" >0.3</td>\n",
       "                        <td id=\"T_dd1e175e_1fe0_11ec_baf8_00d861bee616row0_col4\" class=\"data row0 col4\" >0.1</td>\n",
       "                        <td id=\"T_dd1e175e_1fe0_11ec_baf8_00d861bee616row0_col5\" class=\"data row0 col5\" >0.8</td>\n",
       "                        <td id=\"T_dd1e175e_1fe0_11ec_baf8_00d861bee616row0_col6\" class=\"data row0 col6\" >0.5</td>\n",
       "                        <td id=\"T_dd1e175e_1fe0_11ec_baf8_00d861bee616row0_col7\" class=\"data row0 col7\" >0.5</td>\n",
       "                        <td id=\"T_dd1e175e_1fe0_11ec_baf8_00d861bee616row0_col8\" class=\"data row0 col8\" >0.4</td>\n",
       "                        <td id=\"T_dd1e175e_1fe0_11ec_baf8_00d861bee616row0_col9\" class=\"data row0 col9\" >0.1</td>\n",
       "            </tr>\n",
       "            <tr>\n",
       "                        <th id=\"T_dd1e175e_1fe0_11ec_baf8_00d861bee616level0_row1\" class=\"row_heading level0 row1\" >1</th>\n",
       "                        <td id=\"T_dd1e175e_1fe0_11ec_baf8_00d861bee616row1_col0\" class=\"data row1 col0\" >0.0</td>\n",
       "                        <td id=\"T_dd1e175e_1fe0_11ec_baf8_00d861bee616row1_col1\" class=\"data row1 col1\" >98.0</td>\n",
       "                        <td id=\"T_dd1e175e_1fe0_11ec_baf8_00d861bee616row1_col2\" class=\"data row1 col2\" >0.4</td>\n",
       "                        <td id=\"T_dd1e175e_1fe0_11ec_baf8_00d861bee616row1_col3\" class=\"data row1 col3\" >0.1</td>\n",
       "                        <td id=\"T_dd1e175e_1fe0_11ec_baf8_00d861bee616row1_col4\" class=\"data row1 col4\" >0.0</td>\n",
       "                        <td id=\"T_dd1e175e_1fe0_11ec_baf8_00d861bee616row1_col5\" class=\"data row1 col5\" >0.3</td>\n",
       "                        <td id=\"T_dd1e175e_1fe0_11ec_baf8_00d861bee616row1_col6\" class=\"data row1 col6\" >0.5</td>\n",
       "                        <td id=\"T_dd1e175e_1fe0_11ec_baf8_00d861bee616row1_col7\" class=\"data row1 col7\" >0.1</td>\n",
       "                        <td id=\"T_dd1e175e_1fe0_11ec_baf8_00d861bee616row1_col8\" class=\"data row1 col8\" >0.6</td>\n",
       "                        <td id=\"T_dd1e175e_1fe0_11ec_baf8_00d861bee616row1_col9\" class=\"data row1 col9\" >0.1</td>\n",
       "            </tr>\n",
       "            <tr>\n",
       "                        <th id=\"T_dd1e175e_1fe0_11ec_baf8_00d861bee616level0_row2\" class=\"row_heading level0 row2\" >2</th>\n",
       "                        <td id=\"T_dd1e175e_1fe0_11ec_baf8_00d861bee616row2_col0\" class=\"data row2 col0\" >1.1</td>\n",
       "                        <td id=\"T_dd1e175e_1fe0_11ec_baf8_00d861bee616row2_col1\" class=\"data row2 col1\" >0.5</td>\n",
       "                        <td id=\"T_dd1e175e_1fe0_11ec_baf8_00d861bee616row2_col2\" class=\"data row2 col2\" >90.4</td>\n",
       "                        <td id=\"T_dd1e175e_1fe0_11ec_baf8_00d861bee616row2_col3\" class=\"data row2 col3\" >2.6</td>\n",
       "                        <td id=\"T_dd1e175e_1fe0_11ec_baf8_00d861bee616row2_col4\" class=\"data row2 col4\" >0.6</td>\n",
       "                        <td id=\"T_dd1e175e_1fe0_11ec_baf8_00d861bee616row2_col5\" class=\"data row2 col5\" >0.7</td>\n",
       "                        <td id=\"T_dd1e175e_1fe0_11ec_baf8_00d861bee616row2_col6\" class=\"data row2 col6\" >1.2</td>\n",
       "                        <td id=\"T_dd1e175e_1fe0_11ec_baf8_00d861bee616row2_col7\" class=\"data row2 col7\" >0.9</td>\n",
       "                        <td id=\"T_dd1e175e_1fe0_11ec_baf8_00d861bee616row2_col8\" class=\"data row2 col8\" >2.0</td>\n",
       "                        <td id=\"T_dd1e175e_1fe0_11ec_baf8_00d861bee616row2_col9\" class=\"data row2 col9\" >0.1</td>\n",
       "            </tr>\n",
       "            <tr>\n",
       "                        <th id=\"T_dd1e175e_1fe0_11ec_baf8_00d861bee616level0_row3\" class=\"row_heading level0 row3\" >3</th>\n",
       "                        <td id=\"T_dd1e175e_1fe0_11ec_baf8_00d861bee616row3_col0\" class=\"data row3 col0\" >0.2</td>\n",
       "                        <td id=\"T_dd1e175e_1fe0_11ec_baf8_00d861bee616row3_col1\" class=\"data row3 col1\" >0.6</td>\n",
       "                        <td id=\"T_dd1e175e_1fe0_11ec_baf8_00d861bee616row3_col2\" class=\"data row3 col2\" >2.1</td>\n",
       "                        <td id=\"T_dd1e175e_1fe0_11ec_baf8_00d861bee616row3_col3\" class=\"data row3 col3\" >91.2</td>\n",
       "                        <td id=\"T_dd1e175e_1fe0_11ec_baf8_00d861bee616row3_col4\" class=\"data row3 col4\" >0.1</td>\n",
       "                        <td id=\"T_dd1e175e_1fe0_11ec_baf8_00d861bee616row3_col5\" class=\"data row3 col5\" >2.8</td>\n",
       "                        <td id=\"T_dd1e175e_1fe0_11ec_baf8_00d861bee616row3_col6\" class=\"data row3 col6\" >0.2</td>\n",
       "                        <td id=\"T_dd1e175e_1fe0_11ec_baf8_00d861bee616row3_col7\" class=\"data row3 col7\" >1.0</td>\n",
       "                        <td id=\"T_dd1e175e_1fe0_11ec_baf8_00d861bee616row3_col8\" class=\"data row3 col8\" >1.3</td>\n",
       "                        <td id=\"T_dd1e175e_1fe0_11ec_baf8_00d861bee616row3_col9\" class=\"data row3 col9\" >0.6</td>\n",
       "            </tr>\n",
       "            <tr>\n",
       "                        <th id=\"T_dd1e175e_1fe0_11ec_baf8_00d861bee616level0_row4\" class=\"row_heading level0 row4\" >4</th>\n",
       "                        <td id=\"T_dd1e175e_1fe0_11ec_baf8_00d861bee616row4_col0\" class=\"data row4 col0\" >0.0</td>\n",
       "                        <td id=\"T_dd1e175e_1fe0_11ec_baf8_00d861bee616row4_col1\" class=\"data row4 col1\" >0.1</td>\n",
       "                        <td id=\"T_dd1e175e_1fe0_11ec_baf8_00d861bee616row4_col2\" class=\"data row4 col2\" >0.7</td>\n",
       "                        <td id=\"T_dd1e175e_1fe0_11ec_baf8_00d861bee616row4_col3\" class=\"data row4 col3\" >0.3</td>\n",
       "                        <td id=\"T_dd1e175e_1fe0_11ec_baf8_00d861bee616row4_col4\" class=\"data row4 col4\" >93.5</td>\n",
       "                        <td id=\"T_dd1e175e_1fe0_11ec_baf8_00d861bee616row4_col5\" class=\"data row4 col5\" >0.1</td>\n",
       "                        <td id=\"T_dd1e175e_1fe0_11ec_baf8_00d861bee616row4_col6\" class=\"data row4 col6\" >1.2</td>\n",
       "                        <td id=\"T_dd1e175e_1fe0_11ec_baf8_00d861bee616row4_col7\" class=\"data row4 col7\" >0.6</td>\n",
       "                        <td id=\"T_dd1e175e_1fe0_11ec_baf8_00d861bee616row4_col8\" class=\"data row4 col8\" >0.4</td>\n",
       "                        <td id=\"T_dd1e175e_1fe0_11ec_baf8_00d861bee616row4_col9\" class=\"data row4 col9\" >3.1</td>\n",
       "            </tr>\n",
       "            <tr>\n",
       "                        <th id=\"T_dd1e175e_1fe0_11ec_baf8_00d861bee616level0_row5\" class=\"row_heading level0 row5\" >5</th>\n",
       "                        <td id=\"T_dd1e175e_1fe0_11ec_baf8_00d861bee616row5_col0\" class=\"data row5 col0\" >0.4</td>\n",
       "                        <td id=\"T_dd1e175e_1fe0_11ec_baf8_00d861bee616row5_col1\" class=\"data row5 col1\" >0.8</td>\n",
       "                        <td id=\"T_dd1e175e_1fe0_11ec_baf8_00d861bee616row5_col2\" class=\"data row5 col2\" >0.6</td>\n",
       "                        <td id=\"T_dd1e175e_1fe0_11ec_baf8_00d861bee616row5_col3\" class=\"data row5 col3\" >3.7</td>\n",
       "                        <td id=\"T_dd1e175e_1fe0_11ec_baf8_00d861bee616row5_col4\" class=\"data row5 col4\" >0.7</td>\n",
       "                        <td id=\"T_dd1e175e_1fe0_11ec_baf8_00d861bee616row5_col5\" class=\"data row5 col5\" >90.0</td>\n",
       "                        <td id=\"T_dd1e175e_1fe0_11ec_baf8_00d861bee616row5_col6\" class=\"data row5 col6\" >0.6</td>\n",
       "                        <td id=\"T_dd1e175e_1fe0_11ec_baf8_00d861bee616row5_col7\" class=\"data row5 col7\" >0.7</td>\n",
       "                        <td id=\"T_dd1e175e_1fe0_11ec_baf8_00d861bee616row5_col8\" class=\"data row5 col8\" >2.0</td>\n",
       "                        <td id=\"T_dd1e175e_1fe0_11ec_baf8_00d861bee616row5_col9\" class=\"data row5 col9\" >0.6</td>\n",
       "            </tr>\n",
       "            <tr>\n",
       "                        <th id=\"T_dd1e175e_1fe0_11ec_baf8_00d861bee616level0_row6\" class=\"row_heading level0 row6\" >6</th>\n",
       "                        <td id=\"T_dd1e175e_1fe0_11ec_baf8_00d861bee616row6_col0\" class=\"data row6 col0\" >1.7</td>\n",
       "                        <td id=\"T_dd1e175e_1fe0_11ec_baf8_00d861bee616row6_col1\" class=\"data row6 col1\" >0.2</td>\n",
       "                        <td id=\"T_dd1e175e_1fe0_11ec_baf8_00d861bee616row6_col2\" class=\"data row6 col2\" >0.8</td>\n",
       "                        <td id=\"T_dd1e175e_1fe0_11ec_baf8_00d861bee616row6_col3\" class=\"data row6 col3\" >0.1</td>\n",
       "                        <td id=\"T_dd1e175e_1fe0_11ec_baf8_00d861bee616row6_col4\" class=\"data row6 col4\" >0.6</td>\n",
       "                        <td id=\"T_dd1e175e_1fe0_11ec_baf8_00d861bee616row6_col5\" class=\"data row6 col5\" >1.1</td>\n",
       "                        <td id=\"T_dd1e175e_1fe0_11ec_baf8_00d861bee616row6_col6\" class=\"data row6 col6\" >94.9</td>\n",
       "                        <td id=\"T_dd1e175e_1fe0_11ec_baf8_00d861bee616row6_col7\" class=\"data row6 col7\" >0.0</td>\n",
       "                        <td id=\"T_dd1e175e_1fe0_11ec_baf8_00d861bee616row6_col8\" class=\"data row6 col8\" >0.5</td>\n",
       "                        <td id=\"T_dd1e175e_1fe0_11ec_baf8_00d861bee616row6_col9\" class=\"data row6 col9\" >0.0</td>\n",
       "            </tr>\n",
       "            <tr>\n",
       "                        <th id=\"T_dd1e175e_1fe0_11ec_baf8_00d861bee616level0_row7\" class=\"row_heading level0 row7\" >7</th>\n",
       "                        <td id=\"T_dd1e175e_1fe0_11ec_baf8_00d861bee616row7_col0\" class=\"data row7 col0\" >0.2</td>\n",
       "                        <td id=\"T_dd1e175e_1fe0_11ec_baf8_00d861bee616row7_col1\" class=\"data row7 col1\" >0.9</td>\n",
       "                        <td id=\"T_dd1e175e_1fe0_11ec_baf8_00d861bee616row7_col2\" class=\"data row7 col2\" >1.5</td>\n",
       "                        <td id=\"T_dd1e175e_1fe0_11ec_baf8_00d861bee616row7_col3\" class=\"data row7 col3\" >0.8</td>\n",
       "                        <td id=\"T_dd1e175e_1fe0_11ec_baf8_00d861bee616row7_col4\" class=\"data row7 col4\" >0.4</td>\n",
       "                        <td id=\"T_dd1e175e_1fe0_11ec_baf8_00d861bee616row7_col5\" class=\"data row7 col5\" >0.3</td>\n",
       "                        <td id=\"T_dd1e175e_1fe0_11ec_baf8_00d861bee616row7_col6\" class=\"data row7 col6\" >0.1</td>\n",
       "                        <td id=\"T_dd1e175e_1fe0_11ec_baf8_00d861bee616row7_col7\" class=\"data row7 col7\" >93.4</td>\n",
       "                        <td id=\"T_dd1e175e_1fe0_11ec_baf8_00d861bee616row7_col8\" class=\"data row7 col8\" >0.7</td>\n",
       "                        <td id=\"T_dd1e175e_1fe0_11ec_baf8_00d861bee616row7_col9\" class=\"data row7 col9\" >1.8</td>\n",
       "            </tr>\n",
       "            <tr>\n",
       "                        <th id=\"T_dd1e175e_1fe0_11ec_baf8_00d861bee616level0_row8\" class=\"row_heading level0 row8\" >8</th>\n",
       "                        <td id=\"T_dd1e175e_1fe0_11ec_baf8_00d861bee616row8_col0\" class=\"data row8 col0\" >0.7</td>\n",
       "                        <td id=\"T_dd1e175e_1fe0_11ec_baf8_00d861bee616row8_col1\" class=\"data row8 col1\" >0.5</td>\n",
       "                        <td id=\"T_dd1e175e_1fe0_11ec_baf8_00d861bee616row8_col2\" class=\"data row8 col2\" >1.4</td>\n",
       "                        <td id=\"T_dd1e175e_1fe0_11ec_baf8_00d861bee616row8_col3\" class=\"data row8 col3\" >2.3</td>\n",
       "                        <td id=\"T_dd1e175e_1fe0_11ec_baf8_00d861bee616row8_col4\" class=\"data row8 col4\" >0.8</td>\n",
       "                        <td id=\"T_dd1e175e_1fe0_11ec_baf8_00d861bee616row8_col5\" class=\"data row8 col5\" >1.5</td>\n",
       "                        <td id=\"T_dd1e175e_1fe0_11ec_baf8_00d861bee616row8_col6\" class=\"data row8 col6\" >0.5</td>\n",
       "                        <td id=\"T_dd1e175e_1fe0_11ec_baf8_00d861bee616row8_col7\" class=\"data row8 col7\" >1.3</td>\n",
       "                        <td id=\"T_dd1e175e_1fe0_11ec_baf8_00d861bee616row8_col8\" class=\"data row8 col8\" >90.1</td>\n",
       "                        <td id=\"T_dd1e175e_1fe0_11ec_baf8_00d861bee616row8_col9\" class=\"data row8 col9\" >0.7</td>\n",
       "            </tr>\n",
       "            <tr>\n",
       "                        <th id=\"T_dd1e175e_1fe0_11ec_baf8_00d861bee616level0_row9\" class=\"row_heading level0 row9\" >9</th>\n",
       "                        <td id=\"T_dd1e175e_1fe0_11ec_baf8_00d861bee616row9_col0\" class=\"data row9 col0\" >0.4</td>\n",
       "                        <td id=\"T_dd1e175e_1fe0_11ec_baf8_00d861bee616row9_col1\" class=\"data row9 col1\" >0.7</td>\n",
       "                        <td id=\"T_dd1e175e_1fe0_11ec_baf8_00d861bee616row9_col2\" class=\"data row9 col2\" >0.6</td>\n",
       "                        <td id=\"T_dd1e175e_1fe0_11ec_baf8_00d861bee616row9_col3\" class=\"data row9 col3\" >0.9</td>\n",
       "                        <td id=\"T_dd1e175e_1fe0_11ec_baf8_00d861bee616row9_col4\" class=\"data row9 col4\" >2.2</td>\n",
       "                        <td id=\"T_dd1e175e_1fe0_11ec_baf8_00d861bee616row9_col5\" class=\"data row9 col5\" >0.9</td>\n",
       "                        <td id=\"T_dd1e175e_1fe0_11ec_baf8_00d861bee616row9_col6\" class=\"data row9 col6\" >0.1</td>\n",
       "                        <td id=\"T_dd1e175e_1fe0_11ec_baf8_00d861bee616row9_col7\" class=\"data row9 col7\" >2.0</td>\n",
       "                        <td id=\"T_dd1e175e_1fe0_11ec_baf8_00d861bee616row9_col8\" class=\"data row9 col8\" >0.8</td>\n",
       "                        <td id=\"T_dd1e175e_1fe0_11ec_baf8_00d861bee616row9_col9\" class=\"data row9 col9\" >91.5</td>\n",
       "            </tr>\n",
       "    </tbody></table>"
      ],
      "text/plain": [
       "<pandas.io.formats.style.Styler at 0x1ec11735700>"
      ]
     },
     "metadata": {},
     "output_type": "display_data"
    },
    {
     "data": {
      "image/png": "[encoded data removed]",
      "text/plain": [
       "<Figure size 432x288 with 1 Axes>"
      ]
     },
     "metadata": {
      "needs_background": "light"
     },
     "output_type": "display_data"
    },
    {
     "data": {
      "image/png": "[encoded data removed]",
      "text/plain": [
       "<Figure size 432x288 with 1 Axes>"
      ]
     },
     "metadata": {
      "needs_background": "light"
     },
     "output_type": "display_data"
    },
    {
     "data": {
      "image/png": "[encoded data removed]",
      "text/plain": [
       "<Figure size 432x288 with 1 Axes>"
      ]
     },
     "metadata": {
      "needs_background": "light"
     },
     "output_type": "display_data"
    }
   ],
   "source": [
    "print('Best Cases')\n",
    "print_nn(nnet_2_sgd, 'sgd', rho, True, Xtrain, Ttrain, Xval, Tval, Xtest, Ttest)     \n",
    "print_nn(nnet_0_adam, 'adam', rho, True, Xtrain, Ttrain, Xval, Tval, Xtest, Ttest)\n",
    "print_nn(nnet_0_scg, 'scg', rho, True, Xtrain, Ttrain, Xval, Tval, Xtest, Ttest)"
   ]
  },
  {
   "cell_type": "markdown",
   "metadata": {},
   "source": [
    "# Discussion:\n",
    "The training, validation and test accuracy for my the setups with the best validation results for each of the three methods are listed above. I also included plots of data likelihood versus epochs, and confusion matrices, for the best results for each method.</br>\n",
    "I constructed my experiments to test to test each method (sgd, adam, scg) using the same structure, learning rate, and number of epochs for a given experiment cell. I varied these 3 values across 4 total cells, testing 4 separate scenarios for each method for a total of 12 different scenarios tested. The printed results of these runs are available above the final validation output.</br>\n",
    "I began with n_epochs = 100, rho = 0.01, and a fairly simply structure of 1 hidden layer with 20 units. The results I attained were poor for sgd but very good for adam and scg. I decided to try something more complex n_epochs = 500, rho = 0.00 three hidden layers with 20, 20, and 10 layers respectively. The results here were even worse for sgd and adam with scg performing slightly less well based on the validation results. So I decided to go less complex. I used n_epochs = 50, rho = 0.05, zero hidden layers.The sgd performed significantly better on this run, adam was poor, and scg was similar to other runs. I then did a final run with increased complexity just for kicks. n_epochs = 750 rho = 0.025 and 4 hidden layers with 20, 15, 10, 5 units respectively. sgd was poor, adam was ok and scg was pretty good though not better then other attempts.</br>\n",
    "\n",
    "After reviewing the available data I utilized sgd from my third run, adam from my first and scg from my first. I calculated the test set error on these three. In each case the validation error was very similar to the test error. The highest performer was scg, with a test percent correct of 93.07, adam was a close second with 92.58 and sgd was third with 87.94. It seemed like the fairly simple single hidden layer strategy producded the best results. More of an argument for keeping strategies simple. "
   ]
  },
  {
   "cell_type": "markdown",
   "metadata": {
    "ExecuteTime": {
     "end_time": "2020-10-16T20:44:33.927450Z",
     "start_time": "2020-10-16T20:44:33.925092Z"
    }
   },
   "source": [
    "# Grading\n",
    "\n",
    "COMING SOON.  Download [A3grader.tar](https://www.cs.colostate.edu/~anderson/cs545/notebooks/A3grader.tar), extract `A3grader.py` before running the following cell."
   ]
  },
  {
   "cell_type": "code",
   "execution_count": null,
   "metadata": {
    "ExecuteTime": {
     "end_time": "2020-10-16T21:31:34.762274Z",
     "start_time": "2020-10-16T21:31:33.286016Z"
    }
   },
   "outputs": [],
   "source": [
    "%run -i A3grader.py"
   ]
  },
  {
   "cell_type": "markdown",
   "metadata": {
    "tags": []
   },
   "source": [
    "# Extra Credit\n",
    "\n",
    "Repeat the above experiments with a different data set.  Randonly partition your data into training, validaton and test parts if not already provided.  Write in markdown cells descriptions of the data and your results."
   ]
  },
  {
   "cell_type": "code",
   "execution_count": 57,
   "metadata": {},
   "outputs": [],
   "source": [
    "def partition(X, T, train_fraction, validate_fraction):\n",
    "    n_samples = X.shape[0]\n",
    "    rows = np.arange(n_samples)\n",
    "    np.random.shuffle(rows)\n",
    "    \n",
    "    n_train = round(n_samples * train_fraction)\n",
    "    n_validate = round(n_samples * validate_fraction)\n",
    "    \n",
    "    Xtrain = X[rows[:n_train], :]\n",
    "    Ttrain = T[rows[:n_train], :]\n",
    "    Xvalidate = X[rows[n_train:n_train + n_validate], :]\n",
    "    Tvalidate = T[rows[n_train:n_train + n_validate], :]\n",
    "    Xtest = X[rows[n_train + n_validate:], :]\n",
    "    Ttest = T[rows[n_train + n_validate:], :]\n",
    "    \n",
    "    return Xtrain, Ttrain, Xvalidate, Tvalidate, Xtest, Ttest"
   ]
  },
  {
   "cell_type": "code",
   "execution_count": 63,
   "metadata": {},
   "outputs": [
    {
     "name": "stdout",
     "output_type": "stream",
     "text": [
      "(4898, 11)\n",
      "(4898, 1)\n",
      "[0. 1. 2. 3. 4. 5. 6.]\n"
     ]
    }
   ],
   "source": [
    "import pandas\n",
    "wine_data = pandas.read_csv('winequality-white.csv', delimiter=';', usecols=range(12))\n",
    "wine_data = wine_data.dropna(axis=0)\n",
    "wine_data.shape\n",
    "T = wine_data.to_numpy()[:, -1].reshape(-1,1)\n",
    "X = wine_data.to_numpy()[:, 0:11]\n",
    "quality = [[3,0], [4,1], [5,2], [6,3], [7,4], [8,5], [9,6]]\n",
    "for val in T:\n",
    "    for q in quality:\n",
    "        if val[0] == q[0]:\n",
    "            val[0] = q[1]\n",
    "            break\n",
    "print(X.shape)\n",
    "print(T.shape)\n",
    "print(np.unique(T))\n",
    "Xtrain, Ttrain, Xval, Tval, Xtest, Ttest = partition(X,T, 0.8, 0.1)"
   ]
  },
  {
   "cell_type": "code",
   "execution_count": 67,
   "metadata": {},
   "outputs": [
    {
     "name": "stdout",
     "output_type": "stream",
     "text": [
      "method =  sgd \n",
      "network structure =  NeuralNetworkClassifier(11, [20], 7)\n",
      " Trained for 100 epochs.\n",
      " Final data likelihood 0.7873. \n",
      "learning rate =  0.01 \n",
      "\n",
      "['Train', 'Validate']\n",
      "[45.661051556916796, 45.51020408163266] \n",
      "\n",
      "method =  adam \n",
      "network structure =  NeuralNetworkClassifier(11, [20], 7)\n",
      " Trained for 100 epochs.\n",
      " Final data likelihood 0.8612. \n",
      "learning rate =  0.01 \n",
      "\n",
      "['Train', 'Validate']\n",
      "[55.97243491577335, 51.22448979591837] \n",
      "\n",
      "method =  scg \n",
      "network structure =  NeuralNetworkClassifier(11, [20], 7)\n",
      " Trained for 100 epochs.\n",
      " Final data likelihood 0.8766. \n",
      "\n",
      "['Train', 'Validate']\n",
      "[61.66411434405309, 54.69387755102041] \n",
      "\n"
     ]
    }
   ],
   "source": [
    "n_epochs = 100\n",
    "rho = 0.01\n",
    "structure = [20]\n",
    "\n",
    "wine_nnet_0_sgd = nn.NeuralNetworkClassifier(Xtrain.shape[1], structure, len(np.unique(T)))\n",
    "wine_nnet_0_sgd.train(Xtrain, Ttrain, n_epochs, method='sgd', learning_rate=rho, verbose=False)\n",
    "print_nn(wine_nnet_0_sgd, 'sgd', rho, False, Xtrain, Ttrain, Xval, Tval, Xtest, Ttest)\n",
    "    \n",
    "wine_nnet_0_adam = nn.NeuralNetworkClassifier(Xtrain.shape[1], structure, len(np.unique(T)))\n",
    "wine_nnet_0_adam.train(Xtrain, Ttrain, n_epochs, method='adam', learning_rate=rho, verbose=False)     \n",
    "print_nn(wine_nnet_0_adam, 'adam', rho, False, Xtrain, Ttrain, Xval, Tval, Xtest, Ttest)\n",
    "\n",
    "wine_nnet_0_scg = nn.NeuralNetworkClassifier(Xtrain.shape[1], structure, len(np.unique(T)))\n",
    "wine_nnet_0_scg.train(Xtrain, Ttrain, n_epochs, method='scg', learning_rate=rho, verbose=False)\n",
    "print_nn(wine_nnet_0_scg, 'scg', rho, False, Xtrain, Ttrain, Xval, Tval, Xtest, Ttest)"
   ]
  },
  {
   "cell_type": "code",
   "execution_count": 68,
   "metadata": {},
   "outputs": [
    {
     "name": "stdout",
     "output_type": "stream",
     "text": [
      "method =  sgd \n",
      "network structure =  NeuralNetworkClassifier(11, [20, 20, 10], 7)\n",
      " Trained for 500 epochs.\n",
      " Final data likelihood 0.7795. \n",
      "learning rate =  0.001 \n",
      "\n",
      "['Train', 'Validate']\n",
      "[39.86727922409393, 38.775510204081634] \n",
      "\n",
      "method =  adam \n",
      "network structure =  NeuralNetworkClassifier(11, [20, 20, 10], 7)\n",
      " Trained for 500 epochs.\n",
      " Final data likelihood 0.8519. \n",
      "learning rate =  0.001 \n",
      "\n",
      "['Train', 'Validate']\n",
      "[52.93517100561511, 48.97959183673469] \n",
      "\n",
      "method =  scg \n",
      "network structure =  NeuralNetworkClassifier(11, [20, 20, 10], 7)\n",
      " Trained for 500 epochs.\n",
      " Final data likelihood 0.9266. \n",
      "\n",
      "['Train', 'Validate']\n",
      "[80.04083716181725, 57.14285714285714] \n",
      "\n"
     ]
    }
   ],
   "source": [
    "n_epochs = 500\n",
    "rho = 0.001\n",
    "structure = [20, 20, 10]\n",
    "\n",
    "wine_nnet_1_sgd = nn.NeuralNetworkClassifier(Xtrain.shape[1], structure, len(np.unique(T)))\n",
    "wine_nnet_1_sgd.train(Xtrain, Ttrain, n_epochs, method='sgd', learning_rate=rho, verbose=False)\n",
    "print_nn(wine_nnet_1_sgd, 'sgd', rho, False, Xtrain, Ttrain, Xval, Tval, Xtest, Ttest)\n",
    "    \n",
    "wine_nnet_1_adam = nn.NeuralNetworkClassifier(Xtrain.shape[1], structure, len(np.unique(T)))\n",
    "wine_nnet_1_adam.train(Xtrain, Ttrain, n_epochs, method='adam', learning_rate=rho, verbose=False)     \n",
    "print_nn(wine_nnet_1_adam, 'adam', rho, False, Xtrain, Ttrain, Xval, Tval, Xtest, Ttest)\n",
    "\n",
    "wine_nnet_1_scg = nn.NeuralNetworkClassifier(Xtrain.shape[1], structure, len(np.unique(T)))\n",
    "wine_nnet_1_scg.train(Xtrain, Ttrain, n_epochs, method='scg', learning_rate=rho, verbose=False)\n",
    "print_nn(wine_nnet_1_scg, 'scg', rho, False, Xtrain, Ttrain, Xval, Tval, Xtest, Ttest)"
   ]
  },
  {
   "cell_type": "code",
   "execution_count": 69,
   "metadata": {},
   "outputs": [
    {
     "name": "stdout",
     "output_type": "stream",
     "text": [
      "method =  sgd \n",
      "network structure =  NeuralNetworkClassifier(11, [20], 7)\n",
      " Trained for 100 epochs.\n",
      " Final data likelihood 0.7873. \n",
      "learning rate =  0.05 \n",
      "\n",
      "['Train', 'Validate']\n",
      "[45.661051556916796, 45.51020408163266] \n",
      "\n",
      "method =  adam \n",
      "network structure =  NeuralNetworkClassifier(11, [20], 7)\n",
      " Trained for 100 epochs.\n",
      " Final data likelihood 0.8612. \n",
      "learning rate =  0.05 \n",
      "\n",
      "['Train', 'Validate']\n",
      "[55.97243491577335, 51.22448979591837] \n",
      "\n",
      "method =  scg \n",
      "network structure =  NeuralNetworkClassifier(11, [], 7)\n",
      " Trained for 50 epochs.\n",
      " Final data likelihood 0.857. \n",
      "\n",
      "['Train', 'Validate']\n",
      "[54.10923940786115, 51.22448979591837] \n",
      "\n"
     ]
    }
   ],
   "source": [
    "n_epochs = 50\n",
    "rho = 0.05\n",
    "structure = []\n",
    "\n",
    "wine_nnet_2_sgd = nn.NeuralNetworkClassifier(Xtrain.shape[1], structure, len(np.unique(T)))\n",
    "wine_nnet_2_sgd.train(Xtrain, Ttrain, n_epochs, method='sgd', learning_rate=rho, verbose=False)\n",
    "print_nn(wine_nnet_0_sgd, 'sgd', rho, False, Xtrain, Ttrain, Xval, Tval, Xtest, Ttest)\n",
    "    \n",
    "wine_nnet_2_adam = nn.NeuralNetworkClassifier(Xtrain.shape[1], structure, len(np.unique(T)))\n",
    "wine_nnet_2_adam.train(Xtrain, Ttrain, n_epochs, method='adam', learning_rate=rho, verbose=False)     \n",
    "print_nn(wine_nnet_0_adam, 'adam', rho, False, Xtrain, Ttrain, Xval, Tval, Xtest, Ttest)\n",
    "\n",
    "wine_nnet_2_scg = nn.NeuralNetworkClassifier(Xtrain.shape[1], structure, len(np.unique(T)))\n",
    "wine_nnet_2_scg.train(Xtrain, Ttrain, n_epochs, method='scg', learning_rate=rho, verbose=False)\n",
    "print_nn(wine_nnet_2_scg, 'scg', rho, False, Xtrain, Ttrain, Xval, Tval, Xtest, Ttest)"
   ]
  },
  {
   "cell_type": "code",
   "execution_count": 72,
   "metadata": {},
   "outputs": [
    {
     "name": "stdout",
     "output_type": "stream",
     "text": [
      "method =  sgd \n",
      "network structure =  NeuralNetworkClassifier(11, [20, 15, 10, 5], 7)\n",
      " Trained for 2000 epochs.\n",
      " Final data likelihood 0.849. \n",
      "learning rate =  0.025 \n",
      "\n",
      "['Train', 'Validate']\n",
      "[52.0163348647269, 49.183673469387756] \n",
      "\n",
      "method =  adam \n",
      "network structure =  NeuralNetworkClassifier(11, [20, 15, 10, 5], 7)\n",
      " Trained for 2000 epochs.\n",
      " Final data likelihood 0.9042. \n",
      "learning rate =  0.025 \n",
      "\n",
      "['Train', 'Validate']\n",
      "[76.95252679938744, 58.16326530612245] \n",
      "\n",
      "method =  scg \n",
      "network structure =  NeuralNetworkClassifier(11, [20, 15, 10, 5], 7)\n",
      " Trained for 2000 epochs.\n",
      " Final data likelihood 0.928. \n",
      "\n",
      "['Train', 'Validate']\n",
      "[80.32159264931087, 56.12244897959183] \n",
      "\n"
     ]
    }
   ],
   "source": [
    "n_epochs = 2000\n",
    "rho = 0.025\n",
    "structure = [20, 15, 10, 5 ]\n",
    "\n",
    "wine_nnet_3_sgd = nn.NeuralNetworkClassifier(Xtrain.shape[1], structure, len(np.unique(T)))\n",
    "wine_nnet_3_sgd.train(Xtrain, Ttrain, n_epochs, method='sgd', learning_rate=rho, verbose=False)\n",
    "print_nn(wine_nnet_3_sgd, 'sgd', rho, False, Xtrain, Ttrain, Xval, Tval, Xtest, Ttest)\n",
    "    \n",
    "wine_nnet_3_adam = nn.NeuralNetworkClassifier(Xtrain.shape[1], structure, len(np.unique(T)))\n",
    "wine_nnet_3_adam.train(Xtrain, Ttrain, n_epochs, method='adam', learning_rate=rho, verbose=False)     \n",
    "print_nn(wine_nnet_3_adam, 'adam', rho, False, Xtrain, Ttrain, Xval, Tval, Xtest, Ttest)\n",
    "\n",
    "wine_nnet_3_scg = nn.NeuralNetworkClassifier(Xtrain.shape[1], structure, len(np.unique(T)))\n",
    "wine_nnet_3_scg.train(Xtrain, Ttrain, n_epochs, method='scg', learning_rate=rho, verbose=False)\n",
    "print_nn(wine_nnet_3_scg, 'scg', rho, False, Xtrain, Ttrain, Xval, Tval, Xtest, Ttest)"
   ]
  },
  {
   "cell_type": "code",
   "execution_count": 73,
   "metadata": {},
   "outputs": [
    {
     "name": "stdout",
     "output_type": "stream",
     "text": [
      "Best Cases\n",
      "method =  sgd \n",
      "network structure =  NeuralNetworkClassifier(11, [20, 15, 10, 5], 7)\n",
      " Trained for 2000 epochs.\n",
      " Final data likelihood 0.849. \n",
      "learning rate =  0.025 \n",
      "\n",
      "['Train', 'Validate']\n",
      "[52.0163348647269, 49.183673469387756] \n",
      "\n",
      "['Test']\n",
      "[55.306122448979586] \n",
      "\n",
      "Percent Correct\n"
     ]
    },
    {
     "data": {
      "text/html": [
       "<style  type=\"text/css\" >\n",
       "#T_4dbe37ba_1ff3_11ec_8f33_00d861bee616row0_col0,#T_4dbe37ba_1ff3_11ec_8f33_00d861bee616row0_col1,#T_4dbe37ba_1ff3_11ec_8f33_00d861bee616row0_col4,#T_4dbe37ba_1ff3_11ec_8f33_00d861bee616row0_col5,#T_4dbe37ba_1ff3_11ec_8f33_00d861bee616row0_col6,#T_4dbe37ba_1ff3_11ec_8f33_00d861bee616row1_col0,#T_4dbe37ba_1ff3_11ec_8f33_00d861bee616row1_col1,#T_4dbe37ba_1ff3_11ec_8f33_00d861bee616row1_col4,#T_4dbe37ba_1ff3_11ec_8f33_00d861bee616row1_col5,#T_4dbe37ba_1ff3_11ec_8f33_00d861bee616row1_col6,#T_4dbe37ba_1ff3_11ec_8f33_00d861bee616row2_col0,#T_4dbe37ba_1ff3_11ec_8f33_00d861bee616row2_col1,#T_4dbe37ba_1ff3_11ec_8f33_00d861bee616row2_col4,#T_4dbe37ba_1ff3_11ec_8f33_00d861bee616row2_col5,#T_4dbe37ba_1ff3_11ec_8f33_00d861bee616row2_col6,#T_4dbe37ba_1ff3_11ec_8f33_00d861bee616row3_col0,#T_4dbe37ba_1ff3_11ec_8f33_00d861bee616row3_col1,#T_4dbe37ba_1ff3_11ec_8f33_00d861bee616row3_col5,#T_4dbe37ba_1ff3_11ec_8f33_00d861bee616row3_col6,#T_4dbe37ba_1ff3_11ec_8f33_00d861bee616row4_col0,#T_4dbe37ba_1ff3_11ec_8f33_00d861bee616row4_col1,#T_4dbe37ba_1ff3_11ec_8f33_00d861bee616row4_col2,#T_4dbe37ba_1ff3_11ec_8f33_00d861bee616row4_col5,#T_4dbe37ba_1ff3_11ec_8f33_00d861bee616row4_col6,#T_4dbe37ba_1ff3_11ec_8f33_00d861bee616row5_col0,#T_4dbe37ba_1ff3_11ec_8f33_00d861bee616row5_col1,#T_4dbe37ba_1ff3_11ec_8f33_00d861bee616row5_col5,#T_4dbe37ba_1ff3_11ec_8f33_00d861bee616row5_col6,#T_4dbe37ba_1ff3_11ec_8f33_00d861bee616row6_col0,#T_4dbe37ba_1ff3_11ec_8f33_00d861bee616row6_col1,#T_4dbe37ba_1ff3_11ec_8f33_00d861bee616row6_col3,#T_4dbe37ba_1ff3_11ec_8f33_00d861bee616row6_col4,#T_4dbe37ba_1ff3_11ec_8f33_00d861bee616row6_col5,#T_4dbe37ba_1ff3_11ec_8f33_00d861bee616row6_col6{\n",
       "            background-color:  #f7fbff;\n",
       "            color:  #000000;\n",
       "        }#T_4dbe37ba_1ff3_11ec_8f33_00d861bee616row0_col2,#T_4dbe37ba_1ff3_11ec_8f33_00d861bee616row3_col2{\n",
       "            background-color:  #c7dcef;\n",
       "            color:  #000000;\n",
       "        }#T_4dbe37ba_1ff3_11ec_8f33_00d861bee616row0_col3,#T_4dbe37ba_1ff3_11ec_8f33_00d861bee616row5_col4,#T_4dbe37ba_1ff3_11ec_8f33_00d861bee616row6_col2{\n",
       "            background-color:  #08306b;\n",
       "            color:  #f1f1f1;\n",
       "        }#T_4dbe37ba_1ff3_11ec_8f33_00d861bee616row1_col2{\n",
       "            background-color:  #4292c6;\n",
       "            color:  #000000;\n",
       "        }#T_4dbe37ba_1ff3_11ec_8f33_00d861bee616row1_col3{\n",
       "            background-color:  #6aaed6;\n",
       "            color:  #000000;\n",
       "        }#T_4dbe37ba_1ff3_11ec_8f33_00d861bee616row2_col2{\n",
       "            background-color:  #2e7ebc;\n",
       "            color:  #000000;\n",
       "        }#T_4dbe37ba_1ff3_11ec_8f33_00d861bee616row2_col3{\n",
       "            background-color:  #95c5df;\n",
       "            color:  #000000;\n",
       "        }#T_4dbe37ba_1ff3_11ec_8f33_00d861bee616row3_col3{\n",
       "            background-color:  #084387;\n",
       "            color:  #f1f1f1;\n",
       "        }#T_4dbe37ba_1ff3_11ec_8f33_00d861bee616row3_col4{\n",
       "            background-color:  #d5e5f4;\n",
       "            color:  #000000;\n",
       "        }#T_4dbe37ba_1ff3_11ec_8f33_00d861bee616row4_col3{\n",
       "            background-color:  #083776;\n",
       "            color:  #f1f1f1;\n",
       "        }#T_4dbe37ba_1ff3_11ec_8f33_00d861bee616row4_col4{\n",
       "            background-color:  #0a549e;\n",
       "            color:  #f1f1f1;\n",
       "        }#T_4dbe37ba_1ff3_11ec_8f33_00d861bee616row5_col2{\n",
       "            background-color:  #bdd7ec;\n",
       "            color:  #000000;\n",
       "        }#T_4dbe37ba_1ff3_11ec_8f33_00d861bee616row5_col3{\n",
       "            background-color:  #5ca4d0;\n",
       "            color:  #000000;\n",
       "        }</style><table id=\"T_4dbe37ba_1ff3_11ec_8f33_00d861bee616\" ><thead>    <tr>        <th class=\"blank level0\" ></th>        <th class=\"col_heading level0 col0\" >0.0</th>        <th class=\"col_heading level0 col1\" >1.0</th>        <th class=\"col_heading level0 col2\" >2.0</th>        <th class=\"col_heading level0 col3\" >3.0</th>        <th class=\"col_heading level0 col4\" >4.0</th>        <th class=\"col_heading level0 col5\" >5.0</th>        <th class=\"col_heading level0 col6\" >6.0</th>    </tr></thead><tbody>\n",
       "                <tr>\n",
       "                        <th id=\"T_4dbe37ba_1ff3_11ec_8f33_00d861bee616level0_row0\" class=\"row_heading level0 row0\" >0.0</th>\n",
       "                        <td id=\"T_4dbe37ba_1ff3_11ec_8f33_00d861bee616row0_col0\" class=\"data row0 col0\" >0.0</td>\n",
       "                        <td id=\"T_4dbe37ba_1ff3_11ec_8f33_00d861bee616row0_col1\" class=\"data row0 col1\" >0.0</td>\n",
       "                        <td id=\"T_4dbe37ba_1ff3_11ec_8f33_00d861bee616row0_col2\" class=\"data row0 col2\" >33.3</td>\n",
       "                        <td id=\"T_4dbe37ba_1ff3_11ec_8f33_00d861bee616row0_col3\" class=\"data row0 col3\" >66.7</td>\n",
       "                        <td id=\"T_4dbe37ba_1ff3_11ec_8f33_00d861bee616row0_col4\" class=\"data row0 col4\" >0.0</td>\n",
       "                        <td id=\"T_4dbe37ba_1ff3_11ec_8f33_00d861bee616row0_col5\" class=\"data row0 col5\" >0.0</td>\n",
       "                        <td id=\"T_4dbe37ba_1ff3_11ec_8f33_00d861bee616row0_col6\" class=\"data row0 col6\" >0.0</td>\n",
       "            </tr>\n",
       "            <tr>\n",
       "                        <th id=\"T_4dbe37ba_1ff3_11ec_8f33_00d861bee616level0_row1\" class=\"row_heading level0 row1\" >1.0</th>\n",
       "                        <td id=\"T_4dbe37ba_1ff3_11ec_8f33_00d861bee616row1_col0\" class=\"data row1 col0\" >0.0</td>\n",
       "                        <td id=\"T_4dbe37ba_1ff3_11ec_8f33_00d861bee616row1_col1\" class=\"data row1 col1\" >0.0</td>\n",
       "                        <td id=\"T_4dbe37ba_1ff3_11ec_8f33_00d861bee616row1_col2\" class=\"data row1 col2\" >66.7</td>\n",
       "                        <td id=\"T_4dbe37ba_1ff3_11ec_8f33_00d861bee616row1_col3\" class=\"data row1 col3\" >33.3</td>\n",
       "                        <td id=\"T_4dbe37ba_1ff3_11ec_8f33_00d861bee616row1_col4\" class=\"data row1 col4\" >0.0</td>\n",
       "                        <td id=\"T_4dbe37ba_1ff3_11ec_8f33_00d861bee616row1_col5\" class=\"data row1 col5\" >0.0</td>\n",
       "                        <td id=\"T_4dbe37ba_1ff3_11ec_8f33_00d861bee616row1_col6\" class=\"data row1 col6\" >0.0</td>\n",
       "            </tr>\n",
       "            <tr>\n",
       "                        <th id=\"T_4dbe37ba_1ff3_11ec_8f33_00d861bee616level0_row2\" class=\"row_heading level0 row2\" >2.0</th>\n",
       "                        <td id=\"T_4dbe37ba_1ff3_11ec_8f33_00d861bee616row2_col0\" class=\"data row2 col0\" >0.0</td>\n",
       "                        <td id=\"T_4dbe37ba_1ff3_11ec_8f33_00d861bee616row2_col1\" class=\"data row2 col1\" >0.0</td>\n",
       "                        <td id=\"T_4dbe37ba_1ff3_11ec_8f33_00d861bee616row2_col2\" class=\"data row2 col2\" >73.5</td>\n",
       "                        <td id=\"T_4dbe37ba_1ff3_11ec_8f33_00d861bee616row2_col3\" class=\"data row2 col3\" >26.5</td>\n",
       "                        <td id=\"T_4dbe37ba_1ff3_11ec_8f33_00d861bee616row2_col4\" class=\"data row2 col4\" >0.0</td>\n",
       "                        <td id=\"T_4dbe37ba_1ff3_11ec_8f33_00d861bee616row2_col5\" class=\"data row2 col5\" >0.0</td>\n",
       "                        <td id=\"T_4dbe37ba_1ff3_11ec_8f33_00d861bee616row2_col6\" class=\"data row2 col6\" >0.0</td>\n",
       "            </tr>\n",
       "            <tr>\n",
       "                        <th id=\"T_4dbe37ba_1ff3_11ec_8f33_00d861bee616level0_row3\" class=\"row_heading level0 row3\" >3.0</th>\n",
       "                        <td id=\"T_4dbe37ba_1ff3_11ec_8f33_00d861bee616row3_col0\" class=\"data row3 col0\" >0.0</td>\n",
       "                        <td id=\"T_4dbe37ba_1ff3_11ec_8f33_00d861bee616row3_col1\" class=\"data row3 col1\" >0.0</td>\n",
       "                        <td id=\"T_4dbe37ba_1ff3_11ec_8f33_00d861bee616row3_col2\" class=\"data row3 col2\" >33.3</td>\n",
       "                        <td id=\"T_4dbe37ba_1ff3_11ec_8f33_00d861bee616row3_col3\" class=\"data row3 col3\" >61.9</td>\n",
       "                        <td id=\"T_4dbe37ba_1ff3_11ec_8f33_00d861bee616row3_col4\" class=\"data row3 col4\" >4.8</td>\n",
       "                        <td id=\"T_4dbe37ba_1ff3_11ec_8f33_00d861bee616row3_col5\" class=\"data row3 col5\" >0.0</td>\n",
       "                        <td id=\"T_4dbe37ba_1ff3_11ec_8f33_00d861bee616row3_col6\" class=\"data row3 col6\" >0.0</td>\n",
       "            </tr>\n",
       "            <tr>\n",
       "                        <th id=\"T_4dbe37ba_1ff3_11ec_8f33_00d861bee616level0_row4\" class=\"row_heading level0 row4\" >4.0</th>\n",
       "                        <td id=\"T_4dbe37ba_1ff3_11ec_8f33_00d861bee616row4_col0\" class=\"data row4 col0\" >0.0</td>\n",
       "                        <td id=\"T_4dbe37ba_1ff3_11ec_8f33_00d861bee616row4_col1\" class=\"data row4 col1\" >0.0</td>\n",
       "                        <td id=\"T_4dbe37ba_1ff3_11ec_8f33_00d861bee616row4_col2\" class=\"data row4 col2\" >11.8</td>\n",
       "                        <td id=\"T_4dbe37ba_1ff3_11ec_8f33_00d861bee616row4_col3\" class=\"data row4 col3\" >64.7</td>\n",
       "                        <td id=\"T_4dbe37ba_1ff3_11ec_8f33_00d861bee616row4_col4\" class=\"data row4 col4\" >23.5</td>\n",
       "                        <td id=\"T_4dbe37ba_1ff3_11ec_8f33_00d861bee616row4_col5\" class=\"data row4 col5\" >0.0</td>\n",
       "                        <td id=\"T_4dbe37ba_1ff3_11ec_8f33_00d861bee616row4_col6\" class=\"data row4 col6\" >0.0</td>\n",
       "            </tr>\n",
       "            <tr>\n",
       "                        <th id=\"T_4dbe37ba_1ff3_11ec_8f33_00d861bee616level0_row5\" class=\"row_heading level0 row5\" >5.0</th>\n",
       "                        <td id=\"T_4dbe37ba_1ff3_11ec_8f33_00d861bee616row5_col0\" class=\"data row5 col0\" >0.0</td>\n",
       "                        <td id=\"T_4dbe37ba_1ff3_11ec_8f33_00d861bee616row5_col1\" class=\"data row5 col1\" >0.0</td>\n",
       "                        <td id=\"T_4dbe37ba_1ff3_11ec_8f33_00d861bee616row5_col2\" class=\"data row5 col2\" >36.4</td>\n",
       "                        <td id=\"T_4dbe37ba_1ff3_11ec_8f33_00d861bee616row5_col3\" class=\"data row5 col3\" >36.4</td>\n",
       "                        <td id=\"T_4dbe37ba_1ff3_11ec_8f33_00d861bee616row5_col4\" class=\"data row5 col4\" >27.3</td>\n",
       "                        <td id=\"T_4dbe37ba_1ff3_11ec_8f33_00d861bee616row5_col5\" class=\"data row5 col5\" >0.0</td>\n",
       "                        <td id=\"T_4dbe37ba_1ff3_11ec_8f33_00d861bee616row5_col6\" class=\"data row5 col6\" >0.0</td>\n",
       "            </tr>\n",
       "            <tr>\n",
       "                        <th id=\"T_4dbe37ba_1ff3_11ec_8f33_00d861bee616level0_row6\" class=\"row_heading level0 row6\" >6.0</th>\n",
       "                        <td id=\"T_4dbe37ba_1ff3_11ec_8f33_00d861bee616row6_col0\" class=\"data row6 col0\" >0.0</td>\n",
       "                        <td id=\"T_4dbe37ba_1ff3_11ec_8f33_00d861bee616row6_col1\" class=\"data row6 col1\" >0.0</td>\n",
       "                        <td id=\"T_4dbe37ba_1ff3_11ec_8f33_00d861bee616row6_col2\" class=\"data row6 col2\" >100.0</td>\n",
       "                        <td id=\"T_4dbe37ba_1ff3_11ec_8f33_00d861bee616row6_col3\" class=\"data row6 col3\" >0.0</td>\n",
       "                        <td id=\"T_4dbe37ba_1ff3_11ec_8f33_00d861bee616row6_col4\" class=\"data row6 col4\" >0.0</td>\n",
       "                        <td id=\"T_4dbe37ba_1ff3_11ec_8f33_00d861bee616row6_col5\" class=\"data row6 col5\" >0.0</td>\n",
       "                        <td id=\"T_4dbe37ba_1ff3_11ec_8f33_00d861bee616row6_col6\" class=\"data row6 col6\" >0.0</td>\n",
       "            </tr>\n",
       "    </tbody></table>"
      ],
      "text/plain": [
       "<pandas.io.formats.style.Styler at 0x1ec128decd0>"
      ]
     },
     "metadata": {},
     "output_type": "display_data"
    },
    {
     "name": "stdout",
     "output_type": "stream",
     "text": [
      "method =  adam \n",
      "network structure =  NeuralNetworkClassifier(11, [20, 15, 10, 5], 7)\n",
      " Trained for 2000 epochs.\n",
      " Final data likelihood 0.9042. \n",
      "learning rate =  0.025 \n",
      "\n",
      "['Train', 'Validate']\n",
      "[76.95252679938744, 58.16326530612245] \n",
      "\n",
      "['Test']\n",
      "[57.75510204081633] \n",
      "\n",
      "Percent Correct\n"
     ]
    },
    {
     "data": {
      "text/html": [
       "<style  type=\"text/css\" >\n",
       "#T_4dd99c3a_1ff3_11ec_a2d8_00d861bee616row0_col0,#T_4dd99c3a_1ff3_11ec_a2d8_00d861bee616row0_col1,#T_4dd99c3a_1ff3_11ec_a2d8_00d861bee616row0_col4,#T_4dd99c3a_1ff3_11ec_a2d8_00d861bee616row0_col5,#T_4dd99c3a_1ff3_11ec_a2d8_00d861bee616row0_col6,#T_4dd99c3a_1ff3_11ec_a2d8_00d861bee616row1_col0,#T_4dd99c3a_1ff3_11ec_a2d8_00d861bee616row1_col4,#T_4dd99c3a_1ff3_11ec_a2d8_00d861bee616row1_col5,#T_4dd99c3a_1ff3_11ec_a2d8_00d861bee616row1_col6,#T_4dd99c3a_1ff3_11ec_a2d8_00d861bee616row2_col0,#T_4dd99c3a_1ff3_11ec_a2d8_00d861bee616row2_col5,#T_4dd99c3a_1ff3_11ec_a2d8_00d861bee616row2_col6,#T_4dd99c3a_1ff3_11ec_a2d8_00d861bee616row3_col0,#T_4dd99c3a_1ff3_11ec_a2d8_00d861bee616row3_col6,#T_4dd99c3a_1ff3_11ec_a2d8_00d861bee616row4_col0,#T_4dd99c3a_1ff3_11ec_a2d8_00d861bee616row4_col1,#T_4dd99c3a_1ff3_11ec_a2d8_00d861bee616row4_col6,#T_4dd99c3a_1ff3_11ec_a2d8_00d861bee616row5_col0,#T_4dd99c3a_1ff3_11ec_a2d8_00d861bee616row5_col1,#T_4dd99c3a_1ff3_11ec_a2d8_00d861bee616row5_col6,#T_4dd99c3a_1ff3_11ec_a2d8_00d861bee616row6_col0,#T_4dd99c3a_1ff3_11ec_a2d8_00d861bee616row6_col1,#T_4dd99c3a_1ff3_11ec_a2d8_00d861bee616row6_col2,#T_4dd99c3a_1ff3_11ec_a2d8_00d861bee616row6_col3,#T_4dd99c3a_1ff3_11ec_a2d8_00d861bee616row6_col5,#T_4dd99c3a_1ff3_11ec_a2d8_00d861bee616row6_col6{\n",
       "            background-color:  #f7fbff;\n",
       "            color:  #000000;\n",
       "        }#T_4dd99c3a_1ff3_11ec_a2d8_00d861bee616row0_col2{\n",
       "            background-color:  #08326e;\n",
       "            color:  #f1f1f1;\n",
       "        }#T_4dd99c3a_1ff3_11ec_a2d8_00d861bee616row0_col3{\n",
       "            background-color:  #63a8d3;\n",
       "            color:  #000000;\n",
       "        }#T_4dd99c3a_1ff3_11ec_a2d8_00d861bee616row1_col1,#T_4dd99c3a_1ff3_11ec_a2d8_00d861bee616row2_col2,#T_4dd99c3a_1ff3_11ec_a2d8_00d861bee616row5_col3,#T_4dd99c3a_1ff3_11ec_a2d8_00d861bee616row5_col5,#T_4dd99c3a_1ff3_11ec_a2d8_00d861bee616row6_col4{\n",
       "            background-color:  #08306b;\n",
       "            color:  #f1f1f1;\n",
       "        }#T_4dd99c3a_1ff3_11ec_a2d8_00d861bee616row1_col2{\n",
       "            background-color:  #0a539e;\n",
       "            color:  #f1f1f1;\n",
       "        }#T_4dd99c3a_1ff3_11ec_a2d8_00d861bee616row1_col3{\n",
       "            background-color:  #c2d9ee;\n",
       "            color:  #000000;\n",
       "        }#T_4dd99c3a_1ff3_11ec_a2d8_00d861bee616row2_col1{\n",
       "            background-color:  #e7f1fa;\n",
       "            color:  #000000;\n",
       "        }#T_4dd99c3a_1ff3_11ec_a2d8_00d861bee616row2_col3{\n",
       "            background-color:  #81badb;\n",
       "            color:  #000000;\n",
       "        }#T_4dd99c3a_1ff3_11ec_a2d8_00d861bee616row2_col4{\n",
       "            background-color:  #f3f8fe;\n",
       "            color:  #000000;\n",
       "        }#T_4dd99c3a_1ff3_11ec_a2d8_00d861bee616row3_col1{\n",
       "            background-color:  #f4f9fe;\n",
       "            color:  #000000;\n",
       "        }#T_4dd99c3a_1ff3_11ec_a2d8_00d861bee616row3_col2{\n",
       "            background-color:  #97c6df;\n",
       "            color:  #000000;\n",
       "        }#T_4dd99c3a_1ff3_11ec_a2d8_00d861bee616row3_col3{\n",
       "            background-color:  #08458a;\n",
       "            color:  #f1f1f1;\n",
       "        }#T_4dd99c3a_1ff3_11ec_a2d8_00d861bee616row3_col4{\n",
       "            background-color:  #dbe9f6;\n",
       "            color:  #000000;\n",
       "        }#T_4dd99c3a_1ff3_11ec_a2d8_00d861bee616row3_col5{\n",
       "            background-color:  #f2f8fd;\n",
       "            color:  #000000;\n",
       "        }#T_4dd99c3a_1ff3_11ec_a2d8_00d861bee616row4_col2{\n",
       "            background-color:  #edf4fc;\n",
       "            color:  #000000;\n",
       "        }#T_4dd99c3a_1ff3_11ec_a2d8_00d861bee616row4_col3{\n",
       "            background-color:  #3787c0;\n",
       "            color:  #000000;\n",
       "        }#T_4dd99c3a_1ff3_11ec_a2d8_00d861bee616row4_col4{\n",
       "            background-color:  #65aad4;\n",
       "            color:  #000000;\n",
       "        }#T_4dd99c3a_1ff3_11ec_a2d8_00d861bee616row4_col5{\n",
       "            background-color:  #ddeaf7;\n",
       "            color:  #000000;\n",
       "        }#T_4dd99c3a_1ff3_11ec_a2d8_00d861bee616row5_col2{\n",
       "            background-color:  #dceaf6;\n",
       "            color:  #000000;\n",
       "        }#T_4dd99c3a_1ff3_11ec_a2d8_00d861bee616row5_col4{\n",
       "            background-color:  #e5eff9;\n",
       "            color:  #000000;\n",
       "        }</style><table id=\"T_4dd99c3a_1ff3_11ec_a2d8_00d861bee616\" ><thead>    <tr>        <th class=\"blank level0\" ></th>        <th class=\"col_heading level0 col0\" >0.0</th>        <th class=\"col_heading level0 col1\" >1.0</th>        <th class=\"col_heading level0 col2\" >2.0</th>        <th class=\"col_heading level0 col3\" >3.0</th>        <th class=\"col_heading level0 col4\" >4.0</th>        <th class=\"col_heading level0 col5\" >5.0</th>        <th class=\"col_heading level0 col6\" >6.0</th>    </tr></thead><tbody>\n",
       "                <tr>\n",
       "                        <th id=\"T_4dd99c3a_1ff3_11ec_a2d8_00d861bee616level0_row0\" class=\"row_heading level0 row0\" >0.0</th>\n",
       "                        <td id=\"T_4dd99c3a_1ff3_11ec_a2d8_00d861bee616row0_col0\" class=\"data row0 col0\" >0.0</td>\n",
       "                        <td id=\"T_4dd99c3a_1ff3_11ec_a2d8_00d861bee616row0_col1\" class=\"data row0 col1\" >0.0</td>\n",
       "                        <td id=\"T_4dd99c3a_1ff3_11ec_a2d8_00d861bee616row0_col2\" class=\"data row0 col2\" >66.7</td>\n",
       "                        <td id=\"T_4dd99c3a_1ff3_11ec_a2d8_00d861bee616row0_col3\" class=\"data row0 col3\" >33.3</td>\n",
       "                        <td id=\"T_4dd99c3a_1ff3_11ec_a2d8_00d861bee616row0_col4\" class=\"data row0 col4\" >0.0</td>\n",
       "                        <td id=\"T_4dd99c3a_1ff3_11ec_a2d8_00d861bee616row0_col5\" class=\"data row0 col5\" >0.0</td>\n",
       "                        <td id=\"T_4dd99c3a_1ff3_11ec_a2d8_00d861bee616row0_col6\" class=\"data row0 col6\" >0.0</td>\n",
       "            </tr>\n",
       "            <tr>\n",
       "                        <th id=\"T_4dd99c3a_1ff3_11ec_a2d8_00d861bee616level0_row1\" class=\"row_heading level0 row1\" >1.0</th>\n",
       "                        <td id=\"T_4dd99c3a_1ff3_11ec_a2d8_00d861bee616row1_col0\" class=\"data row1 col0\" >0.0</td>\n",
       "                        <td id=\"T_4dd99c3a_1ff3_11ec_a2d8_00d861bee616row1_col1\" class=\"data row1 col1\" >25.0</td>\n",
       "                        <td id=\"T_4dd99c3a_1ff3_11ec_a2d8_00d861bee616row1_col2\" class=\"data row1 col2\" >58.3</td>\n",
       "                        <td id=\"T_4dd99c3a_1ff3_11ec_a2d8_00d861bee616row1_col3\" class=\"data row1 col3\" >16.7</td>\n",
       "                        <td id=\"T_4dd99c3a_1ff3_11ec_a2d8_00d861bee616row1_col4\" class=\"data row1 col4\" >0.0</td>\n",
       "                        <td id=\"T_4dd99c3a_1ff3_11ec_a2d8_00d861bee616row1_col5\" class=\"data row1 col5\" >0.0</td>\n",
       "                        <td id=\"T_4dd99c3a_1ff3_11ec_a2d8_00d861bee616row1_col6\" class=\"data row1 col6\" >0.0</td>\n",
       "            </tr>\n",
       "            <tr>\n",
       "                        <th id=\"T_4dd99c3a_1ff3_11ec_a2d8_00d861bee616level0_row2\" class=\"row_heading level0 row2\" >2.0</th>\n",
       "                        <td id=\"T_4dd99c3a_1ff3_11ec_a2d8_00d861bee616row2_col0\" class=\"data row2 col0\" >0.0</td>\n",
       "                        <td id=\"T_4dd99c3a_1ff3_11ec_a2d8_00d861bee616row2_col1\" class=\"data row2 col1\" >2.0</td>\n",
       "                        <td id=\"T_4dd99c3a_1ff3_11ec_a2d8_00d861bee616row2_col2\" class=\"data row2 col2\" >67.3</td>\n",
       "                        <td id=\"T_4dd99c3a_1ff3_11ec_a2d8_00d861bee616row2_col3\" class=\"data row2 col3\" >28.6</td>\n",
       "                        <td id=\"T_4dd99c3a_1ff3_11ec_a2d8_00d861bee616row2_col4\" class=\"data row2 col4\" >2.0</td>\n",
       "                        <td id=\"T_4dd99c3a_1ff3_11ec_a2d8_00d861bee616row2_col5\" class=\"data row2 col5\" >0.0</td>\n",
       "                        <td id=\"T_4dd99c3a_1ff3_11ec_a2d8_00d861bee616row2_col6\" class=\"data row2 col6\" >0.0</td>\n",
       "            </tr>\n",
       "            <tr>\n",
       "                        <th id=\"T_4dd99c3a_1ff3_11ec_a2d8_00d861bee616level0_row3\" class=\"row_heading level0 row3\" >3.0</th>\n",
       "                        <td id=\"T_4dd99c3a_1ff3_11ec_a2d8_00d861bee616row3_col0\" class=\"data row3 col0\" >0.0</td>\n",
       "                        <td id=\"T_4dd99c3a_1ff3_11ec_a2d8_00d861bee616row3_col1\" class=\"data row3 col1\" >0.4</td>\n",
       "                        <td id=\"T_4dd99c3a_1ff3_11ec_a2d8_00d861bee616row3_col2\" class=\"data row3 col2\" >26.4</td>\n",
       "                        <td id=\"T_4dd99c3a_1ff3_11ec_a2d8_00d861bee616row3_col3\" class=\"data row3 col3\" >58.4</td>\n",
       "                        <td id=\"T_4dd99c3a_1ff3_11ec_a2d8_00d861bee616row3_col4\" class=\"data row3 col4\" >14.3</td>\n",
       "                        <td id=\"T_4dd99c3a_1ff3_11ec_a2d8_00d861bee616row3_col5\" class=\"data row3 col5\" >0.4</td>\n",
       "                        <td id=\"T_4dd99c3a_1ff3_11ec_a2d8_00d861bee616row3_col6\" class=\"data row3 col6\" >0.0</td>\n",
       "            </tr>\n",
       "            <tr>\n",
       "                        <th id=\"T_4dd99c3a_1ff3_11ec_a2d8_00d861bee616level0_row4\" class=\"row_heading level0 row4\" >4.0</th>\n",
       "                        <td id=\"T_4dd99c3a_1ff3_11ec_a2d8_00d861bee616row4_col0\" class=\"data row4 col0\" >0.0</td>\n",
       "                        <td id=\"T_4dd99c3a_1ff3_11ec_a2d8_00d861bee616row4_col1\" class=\"data row4 col1\" >0.0</td>\n",
       "                        <td id=\"T_4dd99c3a_1ff3_11ec_a2d8_00d861bee616row4_col2\" class=\"data row4 col2\" >3.5</td>\n",
       "                        <td id=\"T_4dd99c3a_1ff3_11ec_a2d8_00d861bee616row4_col3\" class=\"data row4 col3\" >42.4</td>\n",
       "                        <td id=\"T_4dd99c3a_1ff3_11ec_a2d8_00d861bee616row4_col4\" class=\"data row4 col4\" >51.8</td>\n",
       "                        <td id=\"T_4dd99c3a_1ff3_11ec_a2d8_00d861bee616row4_col5\" class=\"data row4 col5\" >2.4</td>\n",
       "                        <td id=\"T_4dd99c3a_1ff3_11ec_a2d8_00d861bee616row4_col6\" class=\"data row4 col6\" >0.0</td>\n",
       "            </tr>\n",
       "            <tr>\n",
       "                        <th id=\"T_4dd99c3a_1ff3_11ec_a2d8_00d861bee616level0_row5\" class=\"row_heading level0 row5\" >5.0</th>\n",
       "                        <td id=\"T_4dd99c3a_1ff3_11ec_a2d8_00d861bee616row5_col0\" class=\"data row5 col0\" >0.0</td>\n",
       "                        <td id=\"T_4dd99c3a_1ff3_11ec_a2d8_00d861bee616row5_col1\" class=\"data row5 col1\" >0.0</td>\n",
       "                        <td id=\"T_4dd99c3a_1ff3_11ec_a2d8_00d861bee616row5_col2\" class=\"data row5 col2\" >9.1</td>\n",
       "                        <td id=\"T_4dd99c3a_1ff3_11ec_a2d8_00d861bee616row5_col3\" class=\"data row5 col3\" >63.6</td>\n",
       "                        <td id=\"T_4dd99c3a_1ff3_11ec_a2d8_00d861bee616row5_col4\" class=\"data row5 col4\" >9.1</td>\n",
       "                        <td id=\"T_4dd99c3a_1ff3_11ec_a2d8_00d861bee616row5_col5\" class=\"data row5 col5\" >18.2</td>\n",
       "                        <td id=\"T_4dd99c3a_1ff3_11ec_a2d8_00d861bee616row5_col6\" class=\"data row5 col6\" >0.0</td>\n",
       "            </tr>\n",
       "            <tr>\n",
       "                        <th id=\"T_4dd99c3a_1ff3_11ec_a2d8_00d861bee616level0_row6\" class=\"row_heading level0 row6\" >6.0</th>\n",
       "                        <td id=\"T_4dd99c3a_1ff3_11ec_a2d8_00d861bee616row6_col0\" class=\"data row6 col0\" >0.0</td>\n",
       "                        <td id=\"T_4dd99c3a_1ff3_11ec_a2d8_00d861bee616row6_col1\" class=\"data row6 col1\" >0.0</td>\n",
       "                        <td id=\"T_4dd99c3a_1ff3_11ec_a2d8_00d861bee616row6_col2\" class=\"data row6 col2\" >0.0</td>\n",
       "                        <td id=\"T_4dd99c3a_1ff3_11ec_a2d8_00d861bee616row6_col3\" class=\"data row6 col3\" >0.0</td>\n",
       "                        <td id=\"T_4dd99c3a_1ff3_11ec_a2d8_00d861bee616row6_col4\" class=\"data row6 col4\" >100.0</td>\n",
       "                        <td id=\"T_4dd99c3a_1ff3_11ec_a2d8_00d861bee616row6_col5\" class=\"data row6 col5\" >0.0</td>\n",
       "                        <td id=\"T_4dd99c3a_1ff3_11ec_a2d8_00d861bee616row6_col6\" class=\"data row6 col6\" >0.0</td>\n",
       "            </tr>\n",
       "    </tbody></table>"
      ],
      "text/plain": [
       "<pandas.io.formats.style.Styler at 0x1ec0de4eca0>"
      ]
     },
     "metadata": {},
     "output_type": "display_data"
    },
    {
     "name": "stdout",
     "output_type": "stream",
     "text": [
      "method =  scg \n",
      "network structure =  NeuralNetworkClassifier(11, [20, 20, 10], 7)\n",
      " Trained for 500 epochs.\n",
      " Final data likelihood 0.9266. \n",
      "\n",
      "['Train', 'Validate']\n",
      "[80.04083716181725, 57.14285714285714] \n",
      "\n",
      "['Test']\n",
      "[60.816326530612244] \n",
      "\n",
      "Percent Correct\n"
     ]
    },
    {
     "data": {
      "text/html": [
       "<style  type=\"text/css\" >\n",
       "#T_4dde7aeb_1ff3_11ec_914a_00d861bee616row0_col0,#T_4dde7aeb_1ff3_11ec_914a_00d861bee616row0_col1,#T_4dde7aeb_1ff3_11ec_914a_00d861bee616row0_col4,#T_4dde7aeb_1ff3_11ec_914a_00d861bee616row0_col5,#T_4dde7aeb_1ff3_11ec_914a_00d861bee616row0_col6,#T_4dde7aeb_1ff3_11ec_914a_00d861bee616row1_col0,#T_4dde7aeb_1ff3_11ec_914a_00d861bee616row1_col4,#T_4dde7aeb_1ff3_11ec_914a_00d861bee616row1_col5,#T_4dde7aeb_1ff3_11ec_914a_00d861bee616row1_col6,#T_4dde7aeb_1ff3_11ec_914a_00d861bee616row2_col0,#T_4dde7aeb_1ff3_11ec_914a_00d861bee616row2_col6,#T_4dde7aeb_1ff3_11ec_914a_00d861bee616row3_col0,#T_4dde7aeb_1ff3_11ec_914a_00d861bee616row3_col1,#T_4dde7aeb_1ff3_11ec_914a_00d861bee616row3_col6,#T_4dde7aeb_1ff3_11ec_914a_00d861bee616row4_col0,#T_4dde7aeb_1ff3_11ec_914a_00d861bee616row4_col6,#T_4dde7aeb_1ff3_11ec_914a_00d861bee616row5_col0,#T_4dde7aeb_1ff3_11ec_914a_00d861bee616row5_col1,#T_4dde7aeb_1ff3_11ec_914a_00d861bee616row5_col6,#T_4dde7aeb_1ff3_11ec_914a_00d861bee616row6_col0,#T_4dde7aeb_1ff3_11ec_914a_00d861bee616row6_col1,#T_4dde7aeb_1ff3_11ec_914a_00d861bee616row6_col2,#T_4dde7aeb_1ff3_11ec_914a_00d861bee616row6_col3,#T_4dde7aeb_1ff3_11ec_914a_00d861bee616row6_col4,#T_4dde7aeb_1ff3_11ec_914a_00d861bee616row6_col6{\n",
       "            background-color:  #f7fbff;\n",
       "            color:  #000000;\n",
       "        }#T_4dde7aeb_1ff3_11ec_914a_00d861bee616row0_col2,#T_4dde7aeb_1ff3_11ec_914a_00d861bee616row1_col1,#T_4dde7aeb_1ff3_11ec_914a_00d861bee616row3_col3,#T_4dde7aeb_1ff3_11ec_914a_00d861bee616row4_col4,#T_4dde7aeb_1ff3_11ec_914a_00d861bee616row6_col5{\n",
       "            background-color:  #08306b;\n",
       "            color:  #f1f1f1;\n",
       "        }#T_4dde7aeb_1ff3_11ec_914a_00d861bee616row0_col3{\n",
       "            background-color:  #63a8d3;\n",
       "            color:  #000000;\n",
       "        }#T_4dde7aeb_1ff3_11ec_914a_00d861bee616row1_col2{\n",
       "            background-color:  #08509b;\n",
       "            color:  #f1f1f1;\n",
       "        }#T_4dde7aeb_1ff3_11ec_914a_00d861bee616row1_col3{\n",
       "            background-color:  #ddeaf7;\n",
       "            color:  #000000;\n",
       "        }#T_4dde7aeb_1ff3_11ec_914a_00d861bee616row2_col1{\n",
       "            background-color:  #e3eef8;\n",
       "            color:  #000000;\n",
       "        }#T_4dde7aeb_1ff3_11ec_914a_00d861bee616row2_col2{\n",
       "            background-color:  #083a7a;\n",
       "            color:  #f1f1f1;\n",
       "        }#T_4dde7aeb_1ff3_11ec_914a_00d861bee616row2_col3{\n",
       "            background-color:  #81badb;\n",
       "            color:  #000000;\n",
       "        }#T_4dde7aeb_1ff3_11ec_914a_00d861bee616row2_col4,#T_4dde7aeb_1ff3_11ec_914a_00d861bee616row4_col1{\n",
       "            background-color:  #f0f6fd;\n",
       "            color:  #000000;\n",
       "        }#T_4dde7aeb_1ff3_11ec_914a_00d861bee616row2_col5,#T_4dde7aeb_1ff3_11ec_914a_00d861bee616row3_col5{\n",
       "            background-color:  #f3f8fe;\n",
       "            color:  #000000;\n",
       "        }#T_4dde7aeb_1ff3_11ec_914a_00d861bee616row3_col2{\n",
       "            background-color:  #a6cee4;\n",
       "            color:  #000000;\n",
       "        }#T_4dde7aeb_1ff3_11ec_914a_00d861bee616row3_col4{\n",
       "            background-color:  #d2e3f3;\n",
       "            color:  #000000;\n",
       "        }#T_4dde7aeb_1ff3_11ec_914a_00d861bee616row4_col2{\n",
       "            background-color:  #edf4fc;\n",
       "            color:  #000000;\n",
       "        }#T_4dde7aeb_1ff3_11ec_914a_00d861bee616row4_col3{\n",
       "            background-color:  #6caed6;\n",
       "            color:  #000000;\n",
       "        }#T_4dde7aeb_1ff3_11ec_914a_00d861bee616row4_col5{\n",
       "            background-color:  #ebf3fb;\n",
       "            color:  #000000;\n",
       "        }#T_4dde7aeb_1ff3_11ec_914a_00d861bee616row5_col2{\n",
       "            background-color:  #dceaf6;\n",
       "            color:  #000000;\n",
       "        }#T_4dde7aeb_1ff3_11ec_914a_00d861bee616row5_col3{\n",
       "            background-color:  #bad6eb;\n",
       "            color:  #000000;\n",
       "        }#T_4dde7aeb_1ff3_11ec_914a_00d861bee616row5_col4{\n",
       "            background-color:  #4090c5;\n",
       "            color:  #000000;\n",
       "        }#T_4dde7aeb_1ff3_11ec_914a_00d861bee616row5_col5{\n",
       "            background-color:  #a1cbe2;\n",
       "            color:  #000000;\n",
       "        }</style><table id=\"T_4dde7aeb_1ff3_11ec_914a_00d861bee616\" ><thead>    <tr>        <th class=\"blank level0\" ></th>        <th class=\"col_heading level0 col0\" >0.0</th>        <th class=\"col_heading level0 col1\" >1.0</th>        <th class=\"col_heading level0 col2\" >2.0</th>        <th class=\"col_heading level0 col3\" >3.0</th>        <th class=\"col_heading level0 col4\" >4.0</th>        <th class=\"col_heading level0 col5\" >5.0</th>        <th class=\"col_heading level0 col6\" >6.0</th>    </tr></thead><tbody>\n",
       "                <tr>\n",
       "                        <th id=\"T_4dde7aeb_1ff3_11ec_914a_00d861bee616level0_row0\" class=\"row_heading level0 row0\" >0.0</th>\n",
       "                        <td id=\"T_4dde7aeb_1ff3_11ec_914a_00d861bee616row0_col0\" class=\"data row0 col0\" >0.0</td>\n",
       "                        <td id=\"T_4dde7aeb_1ff3_11ec_914a_00d861bee616row0_col1\" class=\"data row0 col1\" >0.0</td>\n",
       "                        <td id=\"T_4dde7aeb_1ff3_11ec_914a_00d861bee616row0_col2\" class=\"data row0 col2\" >66.7</td>\n",
       "                        <td id=\"T_4dde7aeb_1ff3_11ec_914a_00d861bee616row0_col3\" class=\"data row0 col3\" >33.3</td>\n",
       "                        <td id=\"T_4dde7aeb_1ff3_11ec_914a_00d861bee616row0_col4\" class=\"data row0 col4\" >0.0</td>\n",
       "                        <td id=\"T_4dde7aeb_1ff3_11ec_914a_00d861bee616row0_col5\" class=\"data row0 col5\" >0.0</td>\n",
       "                        <td id=\"T_4dde7aeb_1ff3_11ec_914a_00d861bee616row0_col6\" class=\"data row0 col6\" >0.0</td>\n",
       "            </tr>\n",
       "            <tr>\n",
       "                        <th id=\"T_4dde7aeb_1ff3_11ec_914a_00d861bee616level0_row1\" class=\"row_heading level0 row1\" >1.0</th>\n",
       "                        <td id=\"T_4dde7aeb_1ff3_11ec_914a_00d861bee616row1_col0\" class=\"data row1 col0\" >0.0</td>\n",
       "                        <td id=\"T_4dde7aeb_1ff3_11ec_914a_00d861bee616row1_col1\" class=\"data row1 col1\" >33.3</td>\n",
       "                        <td id=\"T_4dde7aeb_1ff3_11ec_914a_00d861bee616row1_col2\" class=\"data row1 col2\" >58.3</td>\n",
       "                        <td id=\"T_4dde7aeb_1ff3_11ec_914a_00d861bee616row1_col3\" class=\"data row1 col3\" >8.3</td>\n",
       "                        <td id=\"T_4dde7aeb_1ff3_11ec_914a_00d861bee616row1_col4\" class=\"data row1 col4\" >0.0</td>\n",
       "                        <td id=\"T_4dde7aeb_1ff3_11ec_914a_00d861bee616row1_col5\" class=\"data row1 col5\" >0.0</td>\n",
       "                        <td id=\"T_4dde7aeb_1ff3_11ec_914a_00d861bee616row1_col6\" class=\"data row1 col6\" >0.0</td>\n",
       "            </tr>\n",
       "            <tr>\n",
       "                        <th id=\"T_4dde7aeb_1ff3_11ec_914a_00d861bee616level0_row2\" class=\"row_heading level0 row2\" >2.0</th>\n",
       "                        <td id=\"T_4dde7aeb_1ff3_11ec_914a_00d861bee616row2_col0\" class=\"data row2 col0\" >0.0</td>\n",
       "                        <td id=\"T_4dde7aeb_1ff3_11ec_914a_00d861bee616row2_col1\" class=\"data row2 col1\" >3.4</td>\n",
       "                        <td id=\"T_4dde7aeb_1ff3_11ec_914a_00d861bee616row2_col2\" class=\"data row2 col2\" >63.9</td>\n",
       "                        <td id=\"T_4dde7aeb_1ff3_11ec_914a_00d861bee616row2_col3\" class=\"data row2 col3\" >28.6</td>\n",
       "                        <td id=\"T_4dde7aeb_1ff3_11ec_914a_00d861bee616row2_col4\" class=\"data row2 col4\" >2.0</td>\n",
       "                        <td id=\"T_4dde7aeb_1ff3_11ec_914a_00d861bee616row2_col5\" class=\"data row2 col5\" >2.0</td>\n",
       "                        <td id=\"T_4dde7aeb_1ff3_11ec_914a_00d861bee616row2_col6\" class=\"data row2 col6\" >0.0</td>\n",
       "            </tr>\n",
       "            <tr>\n",
       "                        <th id=\"T_4dde7aeb_1ff3_11ec_914a_00d861bee616level0_row3\" class=\"row_heading level0 row3\" >3.0</th>\n",
       "                        <td id=\"T_4dde7aeb_1ff3_11ec_914a_00d861bee616row3_col0\" class=\"data row3 col0\" >0.0</td>\n",
       "                        <td id=\"T_4dde7aeb_1ff3_11ec_914a_00d861bee616row3_col1\" class=\"data row3 col1\" >0.0</td>\n",
       "                        <td id=\"T_4dde7aeb_1ff3_11ec_914a_00d861bee616row3_col2\" class=\"data row3 col2\" >23.4</td>\n",
       "                        <td id=\"T_4dde7aeb_1ff3_11ec_914a_00d861bee616row3_col3\" class=\"data row3 col3\" >63.6</td>\n",
       "                        <td id=\"T_4dde7aeb_1ff3_11ec_914a_00d861bee616row3_col4\" class=\"data row3 col4\" >10.8</td>\n",
       "                        <td id=\"T_4dde7aeb_1ff3_11ec_914a_00d861bee616row3_col5\" class=\"data row3 col5\" >2.2</td>\n",
       "                        <td id=\"T_4dde7aeb_1ff3_11ec_914a_00d861bee616row3_col6\" class=\"data row3 col6\" >0.0</td>\n",
       "            </tr>\n",
       "            <tr>\n",
       "                        <th id=\"T_4dde7aeb_1ff3_11ec_914a_00d861bee616level0_row4\" class=\"row_heading level0 row4\" >4.0</th>\n",
       "                        <td id=\"T_4dde7aeb_1ff3_11ec_914a_00d861bee616row4_col0\" class=\"data row4 col0\" >0.0</td>\n",
       "                        <td id=\"T_4dde7aeb_1ff3_11ec_914a_00d861bee616row4_col1\" class=\"data row4 col1\" >1.2</td>\n",
       "                        <td id=\"T_4dde7aeb_1ff3_11ec_914a_00d861bee616row4_col2\" class=\"data row4 col2\" >3.5</td>\n",
       "                        <td id=\"T_4dde7aeb_1ff3_11ec_914a_00d861bee616row4_col3\" class=\"data row4 col3\" >31.8</td>\n",
       "                        <td id=\"T_4dde7aeb_1ff3_11ec_914a_00d861bee616row4_col4\" class=\"data row4 col4\" >57.6</td>\n",
       "                        <td id=\"T_4dde7aeb_1ff3_11ec_914a_00d861bee616row4_col5\" class=\"data row4 col5\" >5.9</td>\n",
       "                        <td id=\"T_4dde7aeb_1ff3_11ec_914a_00d861bee616row4_col6\" class=\"data row4 col6\" >0.0</td>\n",
       "            </tr>\n",
       "            <tr>\n",
       "                        <th id=\"T_4dde7aeb_1ff3_11ec_914a_00d861bee616level0_row5\" class=\"row_heading level0 row5\" >5.0</th>\n",
       "                        <td id=\"T_4dde7aeb_1ff3_11ec_914a_00d861bee616row5_col0\" class=\"data row5 col0\" >0.0</td>\n",
       "                        <td id=\"T_4dde7aeb_1ff3_11ec_914a_00d861bee616row5_col1\" class=\"data row5 col1\" >0.0</td>\n",
       "                        <td id=\"T_4dde7aeb_1ff3_11ec_914a_00d861bee616row5_col2\" class=\"data row5 col2\" >9.1</td>\n",
       "                        <td id=\"T_4dde7aeb_1ff3_11ec_914a_00d861bee616row5_col3\" class=\"data row5 col3\" >18.2</td>\n",
       "                        <td id=\"T_4dde7aeb_1ff3_11ec_914a_00d861bee616row5_col4\" class=\"data row5 col4\" >36.4</td>\n",
       "                        <td id=\"T_4dde7aeb_1ff3_11ec_914a_00d861bee616row5_col5\" class=\"data row5 col5\" >36.4</td>\n",
       "                        <td id=\"T_4dde7aeb_1ff3_11ec_914a_00d861bee616row5_col6\" class=\"data row5 col6\" >0.0</td>\n",
       "            </tr>\n",
       "            <tr>\n",
       "                        <th id=\"T_4dde7aeb_1ff3_11ec_914a_00d861bee616level0_row6\" class=\"row_heading level0 row6\" >6.0</th>\n",
       "                        <td id=\"T_4dde7aeb_1ff3_11ec_914a_00d861bee616row6_col0\" class=\"data row6 col0\" >0.0</td>\n",
       "                        <td id=\"T_4dde7aeb_1ff3_11ec_914a_00d861bee616row6_col1\" class=\"data row6 col1\" >0.0</td>\n",
       "                        <td id=\"T_4dde7aeb_1ff3_11ec_914a_00d861bee616row6_col2\" class=\"data row6 col2\" >0.0</td>\n",
       "                        <td id=\"T_4dde7aeb_1ff3_11ec_914a_00d861bee616row6_col3\" class=\"data row6 col3\" >0.0</td>\n",
       "                        <td id=\"T_4dde7aeb_1ff3_11ec_914a_00d861bee616row6_col4\" class=\"data row6 col4\" >0.0</td>\n",
       "                        <td id=\"T_4dde7aeb_1ff3_11ec_914a_00d861bee616row6_col5\" class=\"data row6 col5\" >100.0</td>\n",
       "                        <td id=\"T_4dde7aeb_1ff3_11ec_914a_00d861bee616row6_col6\" class=\"data row6 col6\" >0.0</td>\n",
       "            </tr>\n",
       "    </tbody></table>"
      ],
      "text/plain": [
       "<pandas.io.formats.style.Styler at 0x1ec117a2b50>"
      ]
     },
     "metadata": {},
     "output_type": "display_data"
    },
    {
     "data": {
      "image/png": "[encoded data removed]",
      "text/plain": [
       "<Figure size 432x288 with 1 Axes>"
      ]
     },
     "metadata": {
      "needs_background": "light"
     },
     "output_type": "display_data"
    },
    {
     "data": {
      "image/png": "[encoded data removed]",
      "text/plain": [
       "<Figure size 432x288 with 1 Axes>"
      ]
     },
     "metadata": {
      "needs_background": "light"
     },
     "output_type": "display_data"
    },
    {
     "data": {
      "image/png": "[encoded data removed]",
      "text/plain": [
       "<Figure size 432x288 with 1 Axes>"
      ]
     },
     "metadata": {
      "needs_background": "light"
     },
     "output_type": "display_data"
    }
   ],
   "source": [
    "print('Best Cases')\n",
    "print_nn(wine_nnet_3_sgd, 'sgd', rho, True, Xtrain, Ttrain, Xval, Tval, Xtest, Ttest)     \n",
    "print_nn(wine_nnet_3_adam, 'adam', rho, True, Xtrain, Ttrain, Xval, Tval, Xtest, Ttest)\n",
    "print_nn(wine_nnet_1_scg, 'scg', rho, True, Xtrain, Ttrain, Xval, Tval, Xtest, Ttest)"
   ]
  },
  {
   "cell_type": "markdown",
   "metadata": {},
   "source": [
    "I chose the Wine Quality dataset. The same one I used for assignment one: http://archive.ics.uci.edu/ml/datasets/Wine+Quality\n",
    "\n",
    "I did so because it was setup for classification and because I recently visited the Finger Lakes in upstate New York, which is known for producing good wine. I had the option of either the red wine or white wine dataset within these. I chose white because the Finger Lakes are known for their Rieslings. I also wanted to see if a neural network with several inputs performed better then a single variable approach. <br>\n",
    "\n",
    "I started by importing the data and getting it cleaned up. I had to play around with it to get it into a shape amenable to training and testing. I separated this into training, validation and test data. I wanted to predict quality using the rest of the other variables. I had to convert the quality variable column into indicator variables so that I could get an accuracy reading on the output of my neural networks.<br>\n",
    "\n",
    "I ran it through the same training I did for the numbers dataset. The only difference was that in the final cell I did 2000 epochs. The results of the runs are above.\n",
    "The test percent correct were actually slightly better than validation for sgd and scg. All 3 were fairly close to their validation percent correct values. None did better than 60%/. However, a look at the confusion matrices showed that most predictions were usually mis-classifying directly to the right or left of the target. This data was for wine quality on a scale from 1 to 10, so essentially the network was producing mainly off by one errors. It was still well trained to be within one of the quality for a given wine. Which is pretty good. This would be a good argument for this particular problem being better served via a regression model (as I had done before with good results).  "
   ]
  },
  {
   "cell_type": "code",
   "execution_count": null,
   "metadata": {},
   "outputs": [],
   "source": []
  }
 ],
 "metadata": {
  "kernelspec": {
   "display_name": "ml_assignments",
   "language": "python",
   "name": "ml_assignments"
  },
  "language_info": {
   "codemirror_mode": {
    "name": "ipython",
    "version": 3
   },
   "file_extension": ".py",
   "mimetype": "text/x-python",
   "name": "python",
   "nbconvert_exporter": "python",
   "pygments_lexer": "ipython3",
   "version": "3.9.7"
  },
  "toc": {
   "base_numbering": 1,
   "nav_menu": {},
   "number_sections": false,
   "sideBar": true,
   "skip_h1_title": false,
   "title_cell": "Table of Contents",
   "title_sidebar": "Contents",
   "toc_cell": true,
   "toc_position": {},
   "toc_section_display": true,
   "toc_window_display": true
  }
 },
 "nbformat": 4,
 "nbformat_minor": 4
}
