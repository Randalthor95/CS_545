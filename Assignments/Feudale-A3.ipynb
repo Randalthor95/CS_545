{
 "cells": [
  {
   "cell_type": "markdown",
   "metadata": {
    "toc": true
   },
   "source": [
    "<h1>Table of Contents<span class=\"tocSkip\"></span></h1>\n",
    "<div class=\"toc\"><ul class=\"toc-item\"><li><span><a href=\"#Neural-Network-Classifier\" data-toc-modified-id=\"Neural-Network-Classifier-1\">Neural Network Classifier</a></span></li><li><span><a href=\"#Apply-NeuralNetworkClassifier-to-Handwritten-Digits\" data-toc-modified-id=\"Apply-NeuralNetworkClassifier-to-Handwritten-Digits-2\">Apply <code>NeuralNetworkClassifier</code> to Handwritten Digits</a></span></li><li><span><a href=\"#Experiments\" data-toc-modified-id=\"Experiments-3\">Experiments</a></span></li><li><span><a href=\"#Grading\" data-toc-modified-id=\"Grading-4\">Grading</a></span></li><li><span><a href=\"#Extra-Credit\" data-toc-modified-id=\"Extra-Credit-5\">Extra Credit</a></span></li></ul></div>"
   ]
  },
  {
   "cell_type": "markdown",
   "metadata": {},
   "source": [
    "# Neural Network Classifier\n",
    "\n",
    "You may start with your `NeuralNetwork` class from A2, or start with the [implementation defined here](https://www.cs.colostate.edu/~anderson/cs545/notebooks/A2solution.tar) in which all functions meant be called by other functions in this class start with an underscore character. Implement the subclass `NeuralNetworkClassifier` that extends `NeuralNetwork` as discussed in class.  Your `NeuralNetworkClassifier` implementation should rely on inheriting functions from `NeuralNetwork` as much as possible. \n",
    "\n",
    "Your `neuralnetworks.py` file (notice it is plural) will now contain two classes, `NeuralNetwork` and `NeuralNetworkClassifier`.\n",
    "\n",
    "In `NeuralNetworkClassifier` replace the `error_f` function with one called `_neg_log_likelihood_f` and pass it instead of `error_f` into the optimization functions."
   ]
  },
  {
   "cell_type": "markdown",
   "metadata": {},
   "source": [
    "Here are some example tests."
   ]
  },
  {
   "cell_type": "code",
   "execution_count": 1,
   "metadata": {
    "ExecuteTime": {
     "end_time": "2021-09-24T18:23:36.114569Z",
     "start_time": "2021-09-24T18:23:36.106951Z"
    }
   },
   "outputs": [],
   "source": [
    "%load_ext autoreload\n",
    "%autoreload 2"
   ]
  },
  {
   "cell_type": "code",
   "execution_count": 2,
   "metadata": {
    "ExecuteTime": {
     "end_time": "2021-09-24T18:25:40.384936Z",
     "start_time": "2021-09-24T18:25:40.310801Z"
    }
   },
   "outputs": [],
   "source": [
    "import numpy as np\n",
    "import neuralnetworks as nn\n",
    "import matplotlib.pyplot as plt\n",
    "%matplotlib notebook"
   ]
  },
  {
   "cell_type": "code",
   "execution_count": 3,
   "metadata": {
    "ExecuteTime": {
     "end_time": "2021-09-24T18:25:22.379902Z",
     "start_time": "2021-09-24T18:25:22.358849Z"
    }
   },
   "outputs": [
    {
     "data": {
      "text/plain": [
       "(array([[0, 0],\n",
       "        [1, 0],\n",
       "        [0, 1],\n",
       "        [1, 1]]),\n",
       " array([[0],\n",
       "        [1],\n",
       "        [1],\n",
       "        [0]]))"
      ]
     },
     "execution_count": 3,
     "metadata": {},
     "output_type": "execute_result"
    }
   ],
   "source": [
    "X = np.array([[0, 0], [1, 0], [0, 1], [1, 1]])\n",
    "T = np.array([[0], [1], [1], [0]])\n",
    "X, T"
   ]
  },
  {
   "cell_type": "code",
   "execution_count": 4,
   "metadata": {
    "ExecuteTime": {
     "end_time": "2021-09-24T18:25:22.769270Z",
     "start_time": "2021-09-24T18:25:22.746279Z"
    }
   },
   "outputs": [],
   "source": [
    "np.random.seed(111)\n",
    "nnet = nn.NeuralNetworkClassifier(2, [10], 2)"
   ]
  },
  {
   "cell_type": "code",
   "execution_count": 5,
   "metadata": {
    "ExecuteTime": {
     "end_time": "2021-09-24T18:25:23.267703Z",
     "start_time": "2021-09-24T18:25:23.245179Z"
    }
   },
   "outputs": [
    {
     "name": "stdout",
     "output_type": "stream",
     "text": [
      "NeuralNetworkClassifier(2, [10], 2)\n"
     ]
    }
   ],
   "source": [
    "print(nnet)"
   ]
  },
  {
   "cell_type": "code",
   "execution_count": 6,
   "metadata": {
    "ExecuteTime": {
     "end_time": "2021-09-24T18:25:23.656050Z",
     "start_time": "2021-09-24T18:25:23.632259Z"
    }
   },
   "outputs": [
    {
     "data": {
      "text/plain": [
       "[array([[0.35343662, 0.09761247, 0.25175879, 0.4441339 , 0.17050614,\n",
       "         0.08611927, 0.01297787, 0.24261672, 0.1378032 , 0.19494589],\n",
       "        [0.57198811, 0.13725143, 0.0468766 , 0.38659388, 0.35867477,\n",
       "         0.15834035, 0.26917306, 0.06833965, 0.04269942, 0.52006221],\n",
       "        [0.4583945 , 0.48530311, 0.47066025, 0.57212805, 0.3332892 ,\n",
       "         0.46982855, 0.24324799, 0.01584709, 0.26219591, 0.06081004]]),\n",
       " array([[0.24640112, 0.21037283],\n",
       "        [0.17043996, 0.08268264],\n",
       "        [0.30105116, 0.04162125],\n",
       "        [0.18555481, 0.14624395],\n",
       "        [0.12212025, 0.21945476],\n",
       "        [0.09733206, 0.12076903],\n",
       "        [0.09617199, 0.28559813],\n",
       "        [0.27700099, 0.24538331],\n",
       "        [0.01027463, 0.28443762],\n",
       "        [0.28656819, 0.24319635],\n",
       "        [0.14511079, 0.29148887]])]"
      ]
     },
     "execution_count": 6,
     "metadata": {},
     "output_type": "execute_result"
    }
   ],
   "source": [
    "nnet.Ws"
   ]
  },
  {
   "cell_type": "markdown",
   "metadata": {},
   "source": [
    "The `softmax` function can produce errors if the denominator is close to zero.  Here is an implentation you may use to avoid some of those errors.  This assumes you have the following import in your `neuralnetworks.py` file.\n",
    "\n",
    "`sys.float_info.epsilon` is also useful in your `_neg_log_likehood_f` function to avoid taking the `log` of zero."
   ]
  },
  {
   "cell_type": "code",
   "execution_count": 7,
   "metadata": {
    "ExecuteTime": {
     "end_time": "2021-09-24T18:25:24.837645Z",
     "start_time": "2021-09-24T18:25:24.829299Z"
    }
   },
   "outputs": [],
   "source": [
    "import sys  # for sys.float_info.epsilon "
   ]
  },
  {
   "cell_type": "code",
   "execution_count": 8,
   "metadata": {
    "ExecuteTime": {
     "end_time": "2021-09-24T18:25:25.274470Z",
     "start_time": "2021-09-24T18:25:25.249705Z"
    }
   },
   "outputs": [],
   "source": [
    "    def _softmax(self, Y):\n",
    "        '''Apply to final layer weighted sum outputs'''\n",
    "        # Trick to avoid overflow\n",
    "        maxY = Y.max()       \n",
    "        expY = np.exp(Y - maxY)\n",
    "        denom = expY.sum(1).reshape((-1, 1))\n",
    "        Y = expY / (denom + sys.float_info.epsilon)\n",
    "        return Y"
   ]
  },
  {
   "cell_type": "markdown",
   "metadata": {},
   "source": [
    "Replace the `error_f` function with `neg_log_likelihood`.  If you add some print statements in `_neg_log_likelihood` functions, you can compare your output to the following results."
   ]
  },
  {
   "cell_type": "code",
   "execution_count": 9,
   "metadata": {
    "ExecuteTime": {
     "end_time": "2021-09-24T18:25:26.072982Z",
     "start_time": "2021-09-24T18:25:26.056402Z"
    }
   },
   "outputs": [
    {
     "name": "stdout",
     "output_type": "stream",
     "text": [
      "sgd: Epoch 1 ObjectiveF=0.70718\n"
     ]
    },
    {
     "data": {
      "text/plain": [
       "NeuralNetworkClassifier(2, [10], 2)"
      ]
     },
     "execution_count": 9,
     "metadata": {},
     "output_type": "execute_result"
    }
   ],
   "source": [
    "nnet.train(X, T, n_epochs=1, method='sgd', learning_rate=0.01)"
   ]
  },
  {
   "cell_type": "code",
   "execution_count": 10,
   "metadata": {
    "ExecuteTime": {
     "end_time": "2021-09-24T18:25:26.839004Z",
     "start_time": "2021-09-24T18:25:26.830767Z"
    }
   },
   "outputs": [
    {
     "name": "stdout",
     "output_type": "stream",
     "text": [
      "NeuralNetworkClassifier(2, [10], 2)\n",
      " Trained for 1 epochs.\n",
      " Final data likelihood 0.7072.\n"
     ]
    }
   ],
   "source": [
    "print(nnet)"
   ]
  },
  {
   "cell_type": "markdown",
   "metadata": {},
   "source": [
    "Now if you comment out those print statements, you can run for more epochs without tons of output."
   ]
  },
  {
   "cell_type": "code",
   "execution_count": 11,
   "metadata": {
    "ExecuteTime": {
     "end_time": "2021-09-24T18:25:45.819326Z",
     "start_time": "2021-09-24T18:25:45.807629Z"
    }
   },
   "outputs": [],
   "source": [
    "np.random.seed(111)\n",
    "nnet = nn.NeuralNetworkClassifier(2, [10], 2)"
   ]
  },
  {
   "cell_type": "code",
   "execution_count": 12,
   "metadata": {
    "ExecuteTime": {
     "end_time": "2021-09-24T18:25:46.520206Z",
     "start_time": "2021-09-24T18:25:46.501689Z"
    }
   },
   "outputs": [
    {
     "name": "stdout",
     "output_type": "stream",
     "text": [
      "SCG: Epoch 10 ObjectiveF=0.70718\n",
      "SCG: Epoch 20 ObjectiveF=0.70718\n",
      "SCG: Epoch 30 ObjectiveF=0.70718\n",
      "SCG: Epoch 40 ObjectiveF=0.70718\n",
      "SCG: Epoch 50 ObjectiveF=0.70718\n",
      "SCG: Epoch 60 ObjectiveF=0.70718\n",
      "SCG: Epoch 70 ObjectiveF=0.70718\n",
      "SCG: Epoch 80 ObjectiveF=0.70718\n",
      "SCG: Epoch 90 ObjectiveF=0.70718\n",
      "SCG: Epoch 100 ObjectiveF=0.70718\n"
     ]
    },
    {
     "data": {
      "text/plain": [
       "NeuralNetworkClassifier(2, [10], 2)"
      ]
     },
     "execution_count": 12,
     "metadata": {},
     "output_type": "execute_result"
    }
   ],
   "source": [
    "nnet.train(X, T, 100, method='scg')"
   ]
  },
  {
   "cell_type": "code",
   "execution_count": null,
   "metadata": {
    "ExecuteTime": {
     "end_time": "2021-09-24T18:25:47.618829Z",
     "start_time": "2021-09-24T18:25:47.605349Z"
    }
   },
   "outputs": [],
   "source": [
    "nnet.use(X)"
   ]
  },
  {
   "cell_type": "code",
   "execution_count": null,
   "metadata": {
    "ExecuteTime": {
     "end_time": "2021-09-24T18:25:48.138607Z",
     "start_time": "2021-09-24T18:25:48.117505Z"
    }
   },
   "outputs": [],
   "source": [
    "def percent_correct(Y, T):\n",
    "    return np.mean(T == Y) * 100"
   ]
  },
  {
   "cell_type": "code",
   "execution_count": null,
   "metadata": {
    "ExecuteTime": {
     "end_time": "2021-09-24T18:25:48.913883Z",
     "start_time": "2021-09-24T18:25:48.904446Z"
    }
   },
   "outputs": [],
   "source": [
    "percent_correct(nnet.use(X)[0], T)"
   ]
  },
  {
   "cell_type": "markdown",
   "metadata": {},
   "source": [
    "Works!  The XOR problem was used early in the history of neural networks as a problem that cannot be solved with a linear model.  Let's try it.  It turns out our neural network code can do this if we use an empty list for the hidden unit structure!"
   ]
  },
  {
   "cell_type": "code",
   "execution_count": null,
   "metadata": {
    "ExecuteTime": {
     "end_time": "2021-09-24T18:25:49.930009Z",
     "start_time": "2021-09-24T18:25:49.919549Z"
    }
   },
   "outputs": [],
   "source": [
    "nnet = nn.NeuralNetworkClassifier(2, [], 2)\n",
    "nnet.train(X, T, 100, method='scg')"
   ]
  },
  {
   "cell_type": "code",
   "execution_count": null,
   "metadata": {
    "ExecuteTime": {
     "end_time": "2021-09-24T18:25:50.477779Z",
     "start_time": "2021-09-24T18:25:50.450527Z"
    }
   },
   "outputs": [],
   "source": [
    "nnet.use(X)"
   ]
  },
  {
   "cell_type": "code",
   "execution_count": null,
   "metadata": {
    "ExecuteTime": {
     "end_time": "2021-09-24T18:25:51.030958Z",
     "start_time": "2021-09-24T18:25:51.003631Z"
    }
   },
   "outputs": [],
   "source": [
    "percent_correct(nnet.use(X)[0], T)"
   ]
  },
  {
   "cell_type": "markdown",
   "metadata": {},
   "source": [
    "A second way to evaluate a classifier is to calculate a confusion matrix. This shows the percent accuracy for each class, and also shows which classes are predicted in error.\n",
    "\n",
    "Here is a function you can use to show a confusion matrix."
   ]
  },
  {
   "cell_type": "code",
   "execution_count": null,
   "metadata": {
    "ExecuteTime": {
     "end_time": "2021-09-24T18:25:53.392283Z",
     "start_time": "2021-09-24T18:25:53.383369Z"
    }
   },
   "outputs": [],
   "source": [
    "import pandas\n",
    "\n",
    "def confusion_matrix(Y_classes, T):\n",
    "    class_names = np.unique(T)\n",
    "    table = []\n",
    "    for true_class in class_names:\n",
    "        row = []\n",
    "        for Y_class in class_names:\n",
    "            row.append(100 * np.mean(Y_classes[T == true_class] == Y_class))\n",
    "        table.append(row)\n",
    "    conf_matrix = pandas.DataFrame(table, index=class_names, columns=class_names)\n",
    "    # cf.style.background_gradient(cmap='Blues').format(\"{:.1f} %\")\n",
    "    print('Percent Correct')\n",
    "    return conf_matrix.style.background_gradient(cmap='Blues').format(\"{:.1f}\")"
   ]
  },
  {
   "cell_type": "code",
   "execution_count": null,
   "metadata": {
    "ExecuteTime": {
     "end_time": "2021-09-24T18:25:54.376110Z",
     "start_time": "2021-09-24T18:25:54.361173Z"
    }
   },
   "outputs": [],
   "source": [
    "confusion_matrix(nnet.use(X)[0], T)"
   ]
  },
  {
   "cell_type": "markdown",
   "metadata": {},
   "source": [
    "# Apply `NeuralNetworkClassifier` to Handwritten Digits"
   ]
  },
  {
   "cell_type": "markdown",
   "metadata": {},
   "source": [
    "Apply your `NeuralNetworkClassifier` to the [MNIST digits dataset](http://deeplearning.net/tutorial/gettingstarted.html)."
   ]
  },
  {
   "cell_type": "code",
   "execution_count": null,
   "metadata": {
    "ExecuteTime": {
     "end_time": "2021-09-24T18:26:20.510347Z",
     "start_time": "2021-09-24T18:26:20.498151Z"
    }
   },
   "outputs": [],
   "source": [
    "import pickle\n",
    "import gzip"
   ]
  },
  {
   "cell_type": "code",
   "execution_count": null,
   "metadata": {
    "ExecuteTime": {
     "end_time": "2021-09-24T18:26:21.598636Z",
     "start_time": "2021-09-24T18:26:20.981257Z"
    }
   },
   "outputs": [],
   "source": [
    "with gzip.open('mnist.pkl.gz', 'rb') as f:\n",
    "    train_set, valid_set, test_set = pickle.load(f, encoding='latin1')\n",
    "\n",
    "Xtrain = train_set[0]\n",
    "Ttrain = train_set[1].reshape(-1, 1)\n",
    "\n",
    "Xval = valid_set[0]\n",
    "Tval = valid_set[1].reshape(-1, 1)\n",
    "\n",
    "Xtest = test_set[0]\n",
    "Ttest = test_set[1].reshape(-1, 1)\n",
    "\n",
    "print(Xtrain.shape, Ttrain.shape,  Xval.shape, Tval.shape,  Xtest.shape, Ttest.shape)"
   ]
  },
  {
   "cell_type": "code",
   "execution_count": null,
   "metadata": {
    "ExecuteTime": {
     "end_time": "2021-09-24T18:26:21.609303Z",
     "start_time": "2021-09-24T18:26:21.599676Z"
    }
   },
   "outputs": [],
   "source": [
    "28*28"
   ]
  },
  {
   "cell_type": "code",
   "execution_count": null,
   "metadata": {
    "ExecuteTime": {
     "end_time": "2021-09-24T18:26:22.187860Z",
     "start_time": "2021-09-24T18:26:22.162227Z"
    }
   },
   "outputs": [],
   "source": [
    "def draw_image(image, label):\n",
    "    plt.imshow(-image.reshape(28, 28), cmap='gray')\n",
    "    plt.xticks([])\n",
    "    plt.yticks([])\n",
    "    plt.axis('off')\n",
    "    plt.title(label)"
   ]
  },
  {
   "cell_type": "code",
   "execution_count": null,
   "metadata": {
    "ExecuteTime": {
     "end_time": "2021-09-24T18:26:24.129141Z",
     "start_time": "2021-09-24T18:26:22.682916Z"
    }
   },
   "outputs": [],
   "source": [
    "plt.figure(figsize=(7, 7))\n",
    "for i in range(100):\n",
    "    plt.subplot(10, 10, i+1)\n",
    "    draw_image(Xtrain[i], Ttrain[i,0])\n",
    "plt.tight_layout()"
   ]
  },
  {
   "cell_type": "code",
   "execution_count": null,
   "metadata": {
    "ExecuteTime": {
     "end_time": "2021-09-24T18:26:35.559448Z",
     "start_time": "2021-09-24T18:26:24.848046Z"
    }
   },
   "outputs": [],
   "source": [
    "nnet = nn.NeuralNetworkClassifier(784, [], 10)\n",
    "nnet.train(Xtrain, Ttrain, n_epochs=40, method='scg')"
   ]
  },
  {
   "cell_type": "code",
   "execution_count": null,
   "metadata": {
    "ExecuteTime": {
     "end_time": "2021-09-24T18:26:38.412114Z",
     "start_time": "2021-09-24T18:26:38.396704Z"
    }
   },
   "outputs": [],
   "source": [
    "print(nnet)"
   ]
  },
  {
   "cell_type": "code",
   "execution_count": null,
   "metadata": {
    "ExecuteTime": {
     "end_time": "2021-09-24T18:26:40.847453Z",
     "start_time": "2021-09-24T18:26:40.687447Z"
    }
   },
   "outputs": [],
   "source": [
    "[percent_correct(nnet.use(X)[0], T) for X, T in zip([Xtrain, Xval, Xtest], [Ttrain, Tval, Ttest])]"
   ]
  },
  {
   "cell_type": "code",
   "execution_count": null,
   "metadata": {
    "ExecuteTime": {
     "end_time": "2021-09-24T18:27:01.309178Z",
     "start_time": "2021-09-24T18:26:43.792019Z"
    }
   },
   "outputs": [],
   "source": [
    "nnet = nn.NeuralNetworkClassifier(784, [20], 10)\n",
    "nnet.train(Xtrain, Ttrain, n_epochs=40, method='scg')"
   ]
  },
  {
   "cell_type": "code",
   "execution_count": null,
   "metadata": {
    "ExecuteTime": {
     "end_time": "2021-09-24T18:27:01.528413Z",
     "start_time": "2021-09-24T18:27:01.310339Z"
    }
   },
   "outputs": [],
   "source": [
    "[percent_correct(nnet.use(X)[0], T) for X, T in zip([Xtrain, Xval, Xtest],\n",
    "                                                    [Ttrain, Tval, Ttest])]"
   ]
  },
  {
   "cell_type": "markdown",
   "metadata": {},
   "source": [
    "# Experiments\n",
    "\n",
    "For each method, try various hidden layer structures, learning rates, and numbers of epochs.  Use the validation percent accuracy to pick the best hidden layers, learning rates and numbers of epochs for each method (ignore learning rates for scg).  Report training, validation and test accuracy for your best validation results for each of the three methods.\n",
    "\n",
    "Include plots of data likelihood versus epochs, and confusion matrices, for best results for each method.\n",
    "\n",
    "Write at least 10 sentences about what you observe in the likelihood plots, the train, validation and test accuracies, and the confusion matrices."
   ]
  },
  {
   "cell_type": "markdown",
   "metadata": {
    "ExecuteTime": {
     "end_time": "2020-10-16T20:44:33.927450Z",
     "start_time": "2020-10-16T20:44:33.925092Z"
    }
   },
   "source": [
    "# Grading\n",
    "\n",
    "COMING SOON.  Download [A3grader.tar](https://www.cs.colostate.edu/~anderson/cs545/notebooks/A3grader.tar), extract `A3grader.py` before running the following cell."
   ]
  },
  {
   "cell_type": "code",
   "execution_count": null,
   "metadata": {
    "ExecuteTime": {
     "end_time": "2020-10-16T21:31:34.762274Z",
     "start_time": "2020-10-16T21:31:33.286016Z"
    }
   },
   "outputs": [],
   "source": [
    "%run -i A3grader.py"
   ]
  },
  {
   "cell_type": "markdown",
   "metadata": {},
   "source": [
    "# Extra Credit\n",
    "\n",
    "Repeat the above experiments with a different data set.  Randonly partition your data into training, validaton and test parts if not already provided.  Write in markdown cells descriptions of the data and your results."
   ]
  }
 ],
 "metadata": {
  "kernelspec": {
   "display_name": "ml_assignments",
   "language": "python",
   "name": "ml_assignments"
  },
  "language_info": {
   "codemirror_mode": {
    "name": "ipython",
    "version": 3
   },
   "file_extension": ".py",
   "mimetype": "text/x-python",
   "name": "python",
   "nbconvert_exporter": "python",
   "pygments_lexer": "ipython3",
   "version": "3.9.7"
  },
  "toc": {
   "base_numbering": 1,
   "nav_menu": {},
   "number_sections": false,
   "sideBar": true,
   "skip_h1_title": false,
   "title_cell": "Table of Contents",
   "title_sidebar": "Contents",
   "toc_cell": true,
   "toc_position": {},
   "toc_section_display": true,
   "toc_window_display": true
  }
 },
 "nbformat": 4,
 "nbformat_minor": 4
}
