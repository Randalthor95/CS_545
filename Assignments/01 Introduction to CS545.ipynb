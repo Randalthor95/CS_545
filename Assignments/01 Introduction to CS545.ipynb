{
 "cells": [
  {
   "cell_type": "markdown",
   "metadata": {
    "slideshow": {
     "slide_type": "slide"
    }
   },
   "source": [
    "# Welcome to CS545: Machine Learning\n",
    "\n",
    "## Instructors\n",
    "\n",
    "- [Chuck Anderson](http://www.cs.colostate.edu/~anderson) and [Dejan Markovikj](https://www.linkedin.com/in/markovikj)"
   ]
  },
  {
   "cell_type": "markdown",
   "metadata": {
    "slideshow": {
     "slide_type": "slide"
    }
   },
   "source": [
    "## Lectures\n",
    "- Tuesday and Thursday: 12:30 - 1:45, Eddy Building, Room 10.  See \"Overview\" web page.\n",
    "    - All students can watch recorded lecture videos through Echo360 in Canvas\n",
    "- Presentation and discussions of lecture notes and assignments and all other topics of interest to you!"
   ]
  },
  {
   "cell_type": "markdown",
   "metadata": {
    "slideshow": {
     "slide_type": "slide"
    }
   },
   "source": [
    "## Grading\n",
    "\n",
    "- 7 or 8 Assignments: combinations of python implementations and applications of machine learning algorithms with text, math and visualizations that explain the algorithms and results.\n",
    "- Check in solutions through Canvas as jupyter notebooks\n",
    "- No exams or quizzes!"
   ]
  },
  {
   "cell_type": "markdown",
   "metadata": {
    "slideshow": {
     "slide_type": "slide"
    }
   },
   "source": [
    "## Questions?\n",
    "- What is [python](https://www.python.org/)?  \n",
    "- What is a [jupyter notebook](https://jupyter.org/)? This [tutorial](https://www.youtube.com/watch?v=3jZYC9rGrNg) is helpful.\n",
    "- And what do you mean by [machine learning](https://mitsloan.mit.edu/ideas-made-to-matter/machine-learning-explained)?"
   ]
  },
  {
   "cell_type": "markdown",
   "metadata": {
    "slideshow": {
     "slide_type": "slide"
    }
   },
   "source": [
    "## Machine Learning\n",
    "\n",
    "Supervised Learning\n",
    "- Given samples of inputs and correct outputs, find a computational model that takes an input and produces approximately correct outputs, even for other inputs.\n",
    "- For example, predict stock prices, or classify a patient's symptoms into likely diagnoses."
   ]
  },
  {
   "cell_type": "markdown",
   "metadata": {
    "slideshow": {
     "slide_type": "slide"
    }
   },
   "source": [
    "## Machine Learning\n",
    "\n",
    "Unsupervised Learning\n",
    "- Given samples of input data, find similarities, dissimilarities, anomolies, trends, and low-dimensional representations of the data.\n",
    "- For example, identify network attacks, or a faulty sensor."
   ]
  },
  {
   "cell_type": "markdown",
   "metadata": {
    "slideshow": {
     "slide_type": "slide"
    }
   },
   "source": [
    "## Machine Learning\n",
    "\n",
    "Reinforcement Learning\n",
    "- Find sequences of decisions, or actions, that optimize some measure of success over time.\n",
    "- Requires trying many actions to see which ones produce good results.\n",
    "- For example, learn to take shortest paths, or learn to play chess."
   ]
  },
  {
   "cell_type": "markdown",
   "metadata": {
    "slideshow": {
     "slide_type": "slide"
    }
   },
   "source": [
    "## Machine Learning\n",
    "\n",
    "Algorithms we will focus on\n",
    "- Regression\n",
    "- Classification\n",
    "- Clustering\n",
    "- Q-Learning, Policy Gradients\n",
    "\n",
    "All using deep learning (artificial neural networks), implemented ourselves mostly using `numpy` and sometimes using public frameworks, such as `pytorch` and `tensorflow`"
   ]
  },
  {
   "cell_type": "markdown",
   "metadata": {
    "slideshow": {
     "slide_type": "slide"
    }
   },
   "source": [
    "## Python\n",
    "\n",
    "If you have no or just a little experience with python, it may be difficult for you to gain the necessary experience fast enough.\n",
    "\n",
    "1. True or False: Python code must be compiled before being run.\n",
    "2. True or False: Variables in python can be assigned values of any type.\n",
    "3. True or False: Python is to be avoided for big machine learning tasks because execution is so slow.\n",
    "4. True or False: Python is free and available on all platforms.\n",
    "5. True of False: Knowing python will not help you get a job.\n",
    "\n",
    "Easy to install on your own laptop.  The [Anaconda distribution](https://www.anaconda.com/products/individual) is recommended.  "
   ]
  },
  {
   "cell_type": "markdown",
   "metadata": {
    "slideshow": {
     "slide_type": "slide"
    }
   },
   "source": [
    "[Popularity of Python](http://pypl.github.io/PYPL.html) judged by accesses of tutorials on github.\n",
    "\n",
    "[Popularity of Python, and other languages, for Deep Learning](https://iglu.net/machine-learning-programming/)"
   ]
  },
  {
   "cell_type": "markdown",
   "metadata": {
    "slideshow": {
     "slide_type": "slide"
    }
   },
   "source": [
    "## Python Packages We Will Use\n",
    "\n",
    "    numpy\n",
    "    matplotlib\n",
    "    pandas\n",
    "    pytorch\n",
    "    keras  \n",
    "    \n",
    "and others"
   ]
  },
  {
   "cell_type": "code",
   "execution_count": null,
   "metadata": {
    "ExecuteTime": {
     "end_time": "2021-08-24T14:16:21.751401Z",
     "start_time": "2021-08-24T14:16:21.058914Z"
    },
    "slideshow": {
     "slide_type": "slide"
    }
   },
   "outputs": [],
   "source": [
    "import numpy as np\n",
    "import matplotlib.pyplot as plt\n",
    "# %matplotlib inline\n",
    "\n",
    "plt.plot(np.sin(0.1 * np.arange(100)));"
   ]
  },
  {
   "cell_type": "markdown",
   "metadata": {
    "slideshow": {
     "slide_type": "slide"
    }
   },
   "source": [
    "## jupyter notebook\n",
    "\n",
    "Finally, we have\n",
    "- literate programming\n",
    "- executable documents\n",
    "- reproducible results\n",
    "- super tutorials\n",
    "- excellent lab notebook for computer scientists\n",
    "- executable lecture notes!\n",
    "\n",
    "Github, and other services, can render them in browsers."
   ]
  },
  {
   "cell_type": "markdown",
   "metadata": {
    "slideshow": {
     "slide_type": "slide"
    }
   },
   "source": [
    "## Let's see what you know.\n",
    "\n",
    "How would you do these?\n",
    "\n",
    "1. Assign to variable `W` a 5 x 2 matrix (`numpy` array)  of random values between -0.1 and 0.1\n",
    "2. Assign to variable `X` a 10 x 5 matrix of random values between 0 and 10.\n",
    "3. Multiply two matrices, `X` and `W`.\n",
    "4. Take the transpose of `XW`.\n",
    "5. Multiply all elements of matrix `X` by 2 and subtract 1 from all elements."
   ]
  },
  {
   "cell_type": "code",
   "execution_count": null,
   "metadata": {
    "lines_to_next_cell": 2,
    "slideshow": {
     "slide_type": "slide"
    }
   },
   "outputs": [],
   "source": [
    "# 1. Assign to variable W a 5 x 2 matrix (numpy array) of random values between -0.1 and 0.1"
   ]
  },
  {
   "cell_type": "code",
   "execution_count": null,
   "metadata": {
    "lines_to_next_cell": 2,
    "slideshow": {
     "slide_type": "slide"
    }
   },
   "outputs": [],
   "source": [
    "# 2. Assign to variable X a 10 x 5 matrix of random values between 0 and 10."
   ]
  },
  {
   "cell_type": "code",
   "execution_count": null,
   "metadata": {
    "slideshow": {
     "slide_type": "slide"
    }
   },
   "outputs": [],
   "source": [
    "# 3. Multiply two matrices, X and W."
   ]
  },
  {
   "cell_type": "code",
   "execution_count": null,
   "metadata": {
    "slideshow": {
     "slide_type": "slide"
    }
   },
   "outputs": [],
   "source": [
    "# 4. Take the transpose of XW."
   ]
  },
  {
   "cell_type": "code",
   "execution_count": null,
   "metadata": {
    "slideshow": {
     "slide_type": "slide"
    }
   },
   "outputs": [],
   "source": [
    "# 5. Multiply all elements of matrix X by 2 and subtract 1 from all elements."
   ]
  },
  {
   "cell_type": "code",
   "execution_count": null,
   "metadata": {
    "slideshow": {
     "slide_type": "slide"
    }
   },
   "outputs": [],
   "source": [
    "# Iteratively make small adjustments to an initial matrix `W` to\n",
    "# make it converge on values in matrix `Z`."
   ]
  },
  {
   "cell_type": "code",
   "execution_count": null,
   "metadata": {
    "slideshow": {
     "slide_type": "slide"
    }
   },
   "outputs": [],
   "source": [
    "# Iteratively make small adjustments to an initial matrix `W` to\n",
    "# make it converge on values in matrix `Z`.\n",
    "\n",
    "Z = np.array([1,2,3])\n",
    "W = np.random.uniform(-10, 10, 3)\n",
    "for step in range(300):\n",
    "    W += 0.1 * (Z - W)\n",
    "    if step % 30 == 0:\n",
    "        print(f'{step=} {W=} {Z=}')"
   ]
  },
  {
   "cell_type": "markdown",
   "metadata": {
    "slideshow": {
     "slide_type": "slide"
    }
   },
   "source": [
    "# A Curious Story of High-Dimensional Spaces\n",
    "\n",
    "Here is a wild statement.  In a high-dimensional space, most of the points lie on the surface of the hypercube shell!\n",
    "\n",
    "Huh?  As discussed at [this stackexchange post](https://datascience.stackexchange.com/questions/27388/what-does-it-mean-when-we-say-most-of-the-points-in-a-hypercube-are-at-the-bound), consider the volume of the hypercube in $d$-dimensional space with each side of the hypercube being of length 1.\n",
    "\n",
    "$$ 1 \\cdot 1 \\cdot 1 \\cdot \\ldots \\cdot 1 = 1^d$$\n",
    "\n",
    "Nothing surprising here."
   ]
  },
  {
   "cell_type": "markdown",
   "metadata": {
    "slideshow": {
     "slide_type": "slide"
    }
   },
   "source": [
    "Now, let's look at the volume of the \"interior\" of this hypercube.  Let's define the interior as the space from 0.01 to 0.99 along each dimension. This would be\n",
    "\n",
    "$$ 0.98 \\cdot 0.98 \\cdot 0.98 \\ldots \\cdot 0.98 = 0.98^d$$\n",
    "\n",
    "So what?  Well, let's look at the results of these calculations.  First let's consider two dimensions."
   ]
  },
  {
   "cell_type": "code",
   "execution_count": null,
   "metadata": {
    "slideshow": {
     "slide_type": "-"
    }
   },
   "outputs": [],
   "source": [
    "0.98**2"
   ]
  },
  {
   "cell_type": "code",
   "execution_count": null,
   "metadata": {
    "slideshow": {
     "slide_type": "slide"
    }
   },
   "outputs": [],
   "source": [
    "d = 2\n",
    "print(f'Total volume {1**d}.  Interior volume {0.98**d}')"
   ]
  },
  {
   "cell_type": "markdown",
   "metadata": {
    "slideshow": {
     "slide_type": "slide"
    }
   },
   "source": [
    "How about 10 dimensions, or 50?"
   ]
  },
  {
   "cell_type": "code",
   "execution_count": null,
   "metadata": {
    "slideshow": {
     "slide_type": "slide"
    }
   },
   "outputs": [],
   "source": [
    "d = 10\n",
    "print(f'Total volume {1**d}.  Interior volume {0.98**d}')"
   ]
  },
  {
   "cell_type": "code",
   "execution_count": null,
   "metadata": {
    "slideshow": {
     "slide_type": "slide"
    }
   },
   "outputs": [],
   "source": [
    "d = 50\n",
    "print(f'Total volume {1**d}.  Interior volume {0.98**d}')"
   ]
  },
  {
   "cell_type": "markdown",
   "metadata": {
    "slideshow": {
     "slide_type": "slide"
    }
   },
   "source": [
    "Okay, this is getting tedious.  Let's automate this and calculate interior volume for a range of dimensions up to 100, and plot it. "
   ]
  },
  {
   "cell_type": "code",
   "execution_count": null,
   "metadata": {
    "ExecuteTime": {
     "end_time": "2021-08-24T14:18:15.716900Z",
     "start_time": "2021-08-24T14:18:15.470738Z"
    },
    "scrolled": false,
    "slideshow": {
     "slide_type": "slide"
    }
   },
   "outputs": [],
   "source": [
    "def interior_volume(d):\n",
    "    return (1 - 0.01 * 2) ** d\n",
    "\n",
    "dims = np.arange(1, 100, 1)\n",
    "plt.plot(dims, interior_volume(dims))\n",
    "plt.xlabel('dimensions')\n",
    "plt.ylabel('interior volume')\n",
    "plt.grid('on')"
   ]
  },
  {
   "cell_type": "markdown",
   "metadata": {
    "slideshow": {
     "slide_type": "slide"
    }
   },
   "source": [
    "Keep going, up to 1000 dimensions."
   ]
  },
  {
   "cell_type": "code",
   "execution_count": null,
   "metadata": {
    "ExecuteTime": {
     "end_time": "2021-08-24T14:18:21.659566Z",
     "start_time": "2021-08-24T14:18:21.392112Z"
    },
    "scrolled": false,
    "slideshow": {
     "slide_type": "slide"
    }
   },
   "outputs": [],
   "source": [
    "def interior_volume(d):\n",
    "    return 0.98 ** d\n",
    "\n",
    "dims = np.arange(1, 1000, 1)\n",
    "plt.plot(dims, interior_volume(dims))\n",
    "plt.xlabel('dimensions')\n",
    "plt.ylabel('interior volume')\n",
    "plt.grid('on')\n",
    "\n",
    "plt.text(500, 0.6, 'WHOA!', fontsize=40);"
   ]
  },
  {
   "cell_type": "code",
   "execution_count": null,
   "metadata": {
    "slideshow": {
     "slide_type": "slide"
    }
   },
   "outputs": [],
   "source": [
    "interior_volume(1000)"
   ]
  },
  {
   "cell_type": "markdown",
   "metadata": {
    "slideshow": {
     "slide_type": "slide"
    }
   },
   "source": [
    "Go back to definition of `interior_volume` and try a thinner shell."
   ]
  }
 ],
 "metadata": {
  "celltoolbar": "Slideshow",
  "jupytext": {
   "formats": "ipynb,py:light"
  },
  "kernelspec": {
   "display_name": "Python 3",
   "language": "python",
   "name": "python3"
  },
  "language_info": {
   "codemirror_mode": {
    "name": "ipython",
    "version": 3
   },
   "file_extension": ".py",
   "mimetype": "text/x-python",
   "name": "python",
   "nbconvert_exporter": "python",
   "pygments_lexer": "ipython3",
   "version": "3.8.10"
  },
  "toc": {
   "base_numbering": 1,
   "nav_menu": {},
   "number_sections": true,
   "sideBar": true,
   "skip_h1_title": false,
   "title_cell": "Table of Contents",
   "title_sidebar": "Contents",
   "toc_cell": false,
   "toc_position": {},
   "toc_section_display": true,
   "toc_window_display": false
  },
  "varInspector": {
   "cols": {
    "lenName": 16,
    "lenType": 16,
    "lenVar": 40
   },
   "kernels_config": {
    "python": {
     "delete_cmd_postfix": "",
     "delete_cmd_prefix": "del ",
     "library": "var_list.py",
     "varRefreshCmd": "print(var_dic_list())"
    },
    "r": {
     "delete_cmd_postfix": ") ",
     "delete_cmd_prefix": "rm(",
     "library": "var_list.r",
     "varRefreshCmd": "cat(var_dic_list()) "
    }
   },
   "types_to_exclude": [
    "module",
    "function",
    "builtin_function_or_method",
    "instance",
    "_Feature"
   ],
   "window_display": false
  }
 },
 "nbformat": 4,
 "nbformat_minor": 2
}
